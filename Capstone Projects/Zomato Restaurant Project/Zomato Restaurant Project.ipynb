{
 "cells": [
  {
   "cell_type": "markdown",
   "id": "814642dc",
   "metadata": {},
   "source": [
    "# Zomato Restaurant Project"
   ]
  },
  {
   "cell_type": "markdown",
   "id": "c0cfbcae",
   "metadata": {},
   "source": [
    "### Problem Statement:\n",
    "\n",
    "Zomato Data Analysis is one of the most useful analysis for foodies who want to taste the best\n",
    "cuisines of every part of the world which lies in their budget. This analysis is also for those who\n",
    "want to find the value for money restaurants in various parts of the country for the cuisines.\n",
    "Additionally, this analysis caters the needs of people who are striving to get the best cuisine of\n",
    "the country and which locality of that country serves that cuisines with maximum number of\n",
    "restaurants."
   ]
  },
  {
   "cell_type": "code",
   "execution_count": 1,
   "id": "c71152a3",
   "metadata": {},
   "outputs": [],
   "source": [
    "# Importing all Libraries\n",
    "import numpy as np\n",
    "import pandas as pd\n",
    "import matplotlib.pyplot as plt\n",
    "import seaborn as sns\n",
    "from sklearn.impute import SimpleImputer\n",
    "from sklearn.preprocessing import LabelEncoder, MinMaxScaler\n",
    "from sklearn.model_selection import train_test_split\n",
    "from sklearn.linear_model import LogisticRegression\n",
    "from sklearn.ensemble import RandomForestClassifier, GradientBoostingClassifier\n",
    "from sklearn.neighbors import KNeighborsClassifier\n",
    "from sklearn.metrics import accuracy_score, confusion_matrix, roc_curve, auc\n",
    "import warnings\n",
    "warnings.filterwarnings(\"ignore\")"
   ]
  },
  {
   "cell_type": "code",
   "execution_count": 2,
   "id": "afba6d2f",
   "metadata": {},
   "outputs": [],
   "source": [
    "data = pd.read_csv(\"Zomato Restaurant Project.csv\")"
   ]
  },
  {
   "cell_type": "code",
   "execution_count": 3,
   "id": "eb11a08f",
   "metadata": {},
   "outputs": [],
   "source": [
    "code = pd.read_excel('Country-Code.xlsx')"
   ]
  },
  {
   "cell_type": "code",
   "execution_count": 4,
   "id": "7dc9e611",
   "metadata": {},
   "outputs": [
    {
     "data": {
      "text/html": [
       "<div>\n",
       "<style scoped>\n",
       "    .dataframe tbody tr th:only-of-type {\n",
       "        vertical-align: middle;\n",
       "    }\n",
       "\n",
       "    .dataframe tbody tr th {\n",
       "        vertical-align: top;\n",
       "    }\n",
       "\n",
       "    .dataframe thead th {\n",
       "        text-align: right;\n",
       "    }\n",
       "</style>\n",
       "<table border=\"1\" class=\"dataframe\">\n",
       "  <thead>\n",
       "    <tr style=\"text-align: right;\">\n",
       "      <th></th>\n",
       "      <th>Country Code</th>\n",
       "      <th>Country</th>\n",
       "    </tr>\n",
       "  </thead>\n",
       "  <tbody>\n",
       "    <tr>\n",
       "      <th>0</th>\n",
       "      <td>1</td>\n",
       "      <td>India</td>\n",
       "    </tr>\n",
       "    <tr>\n",
       "      <th>1</th>\n",
       "      <td>14</td>\n",
       "      <td>Australia</td>\n",
       "    </tr>\n",
       "    <tr>\n",
       "      <th>2</th>\n",
       "      <td>30</td>\n",
       "      <td>Brazil</td>\n",
       "    </tr>\n",
       "    <tr>\n",
       "      <th>3</th>\n",
       "      <td>37</td>\n",
       "      <td>Canada</td>\n",
       "    </tr>\n",
       "    <tr>\n",
       "      <th>4</th>\n",
       "      <td>94</td>\n",
       "      <td>Indonesia</td>\n",
       "    </tr>\n",
       "    <tr>\n",
       "      <th>5</th>\n",
       "      <td>148</td>\n",
       "      <td>New Zealand</td>\n",
       "    </tr>\n",
       "    <tr>\n",
       "      <th>6</th>\n",
       "      <td>162</td>\n",
       "      <td>Phillipines</td>\n",
       "    </tr>\n",
       "    <tr>\n",
       "      <th>7</th>\n",
       "      <td>166</td>\n",
       "      <td>Qatar</td>\n",
       "    </tr>\n",
       "    <tr>\n",
       "      <th>8</th>\n",
       "      <td>184</td>\n",
       "      <td>Singapore</td>\n",
       "    </tr>\n",
       "    <tr>\n",
       "      <th>9</th>\n",
       "      <td>189</td>\n",
       "      <td>South Africa</td>\n",
       "    </tr>\n",
       "    <tr>\n",
       "      <th>10</th>\n",
       "      <td>191</td>\n",
       "      <td>Sri Lanka</td>\n",
       "    </tr>\n",
       "    <tr>\n",
       "      <th>11</th>\n",
       "      <td>208</td>\n",
       "      <td>Turkey</td>\n",
       "    </tr>\n",
       "    <tr>\n",
       "      <th>12</th>\n",
       "      <td>214</td>\n",
       "      <td>UAE</td>\n",
       "    </tr>\n",
       "    <tr>\n",
       "      <th>13</th>\n",
       "      <td>215</td>\n",
       "      <td>United Kingdom</td>\n",
       "    </tr>\n",
       "    <tr>\n",
       "      <th>14</th>\n",
       "      <td>216</td>\n",
       "      <td>United States</td>\n",
       "    </tr>\n",
       "  </tbody>\n",
       "</table>\n",
       "</div>"
      ],
      "text/plain": [
       "    Country Code         Country\n",
       "0              1           India\n",
       "1             14       Australia\n",
       "2             30          Brazil\n",
       "3             37          Canada\n",
       "4             94       Indonesia\n",
       "5            148     New Zealand\n",
       "6            162     Phillipines\n",
       "7            166           Qatar\n",
       "8            184       Singapore\n",
       "9            189    South Africa\n",
       "10           191       Sri Lanka\n",
       "11           208          Turkey\n",
       "12           214             UAE\n",
       "13           215  United Kingdom\n",
       "14           216   United States"
      ]
     },
     "execution_count": 4,
     "metadata": {},
     "output_type": "execute_result"
    }
   ],
   "source": [
    "code"
   ]
  },
  {
   "cell_type": "code",
   "execution_count": 5,
   "id": "fa33849f",
   "metadata": {},
   "outputs": [
    {
     "data": {
      "text/html": [
       "<div>\n",
       "<style scoped>\n",
       "    .dataframe tbody tr th:only-of-type {\n",
       "        vertical-align: middle;\n",
       "    }\n",
       "\n",
       "    .dataframe tbody tr th {\n",
       "        vertical-align: top;\n",
       "    }\n",
       "\n",
       "    .dataframe thead th {\n",
       "        text-align: right;\n",
       "    }\n",
       "</style>\n",
       "<table border=\"1\" class=\"dataframe\">\n",
       "  <thead>\n",
       "    <tr style=\"text-align: right;\">\n",
       "      <th></th>\n",
       "      <th>Restaurant ID</th>\n",
       "      <th>Restaurant Name</th>\n",
       "      <th>Country Code</th>\n",
       "      <th>City</th>\n",
       "      <th>Address</th>\n",
       "      <th>Locality</th>\n",
       "      <th>Locality Verbose</th>\n",
       "      <th>Longitude</th>\n",
       "      <th>Latitude</th>\n",
       "      <th>Cuisines</th>\n",
       "      <th>...</th>\n",
       "      <th>Currency</th>\n",
       "      <th>Has Table booking</th>\n",
       "      <th>Has Online delivery</th>\n",
       "      <th>Is delivering now</th>\n",
       "      <th>Switch to order menu</th>\n",
       "      <th>Price range</th>\n",
       "      <th>Aggregate rating</th>\n",
       "      <th>Rating color</th>\n",
       "      <th>Rating text</th>\n",
       "      <th>Votes</th>\n",
       "    </tr>\n",
       "  </thead>\n",
       "  <tbody>\n",
       "    <tr>\n",
       "      <th>0</th>\n",
       "      <td>6317637</td>\n",
       "      <td>Le Petit Souffle</td>\n",
       "      <td>162</td>\n",
       "      <td>Makati City</td>\n",
       "      <td>Third Floor, Century City Mall, Kalayaan Avenu...</td>\n",
       "      <td>Century City Mall, Poblacion, Makati City</td>\n",
       "      <td>Century City Mall, Poblacion, Makati City, Mak...</td>\n",
       "      <td>121.027535</td>\n",
       "      <td>14.565443</td>\n",
       "      <td>French, Japanese, Desserts</td>\n",
       "      <td>...</td>\n",
       "      <td>Botswana Pula(P)</td>\n",
       "      <td>Yes</td>\n",
       "      <td>No</td>\n",
       "      <td>No</td>\n",
       "      <td>No</td>\n",
       "      <td>3</td>\n",
       "      <td>4.8</td>\n",
       "      <td>Dark Green</td>\n",
       "      <td>Excellent</td>\n",
       "      <td>314</td>\n",
       "    </tr>\n",
       "    <tr>\n",
       "      <th>1</th>\n",
       "      <td>6304287</td>\n",
       "      <td>Izakaya Kikufuji</td>\n",
       "      <td>162</td>\n",
       "      <td>Makati City</td>\n",
       "      <td>Little Tokyo, 2277 Chino Roces Avenue, Legaspi...</td>\n",
       "      <td>Little Tokyo, Legaspi Village, Makati City</td>\n",
       "      <td>Little Tokyo, Legaspi Village, Makati City, Ma...</td>\n",
       "      <td>121.014101</td>\n",
       "      <td>14.553708</td>\n",
       "      <td>Japanese</td>\n",
       "      <td>...</td>\n",
       "      <td>Botswana Pula(P)</td>\n",
       "      <td>Yes</td>\n",
       "      <td>No</td>\n",
       "      <td>No</td>\n",
       "      <td>No</td>\n",
       "      <td>3</td>\n",
       "      <td>4.5</td>\n",
       "      <td>Dark Green</td>\n",
       "      <td>Excellent</td>\n",
       "      <td>591</td>\n",
       "    </tr>\n",
       "    <tr>\n",
       "      <th>2</th>\n",
       "      <td>6300002</td>\n",
       "      <td>Heat - Edsa Shangri-La</td>\n",
       "      <td>162</td>\n",
       "      <td>Mandaluyong City</td>\n",
       "      <td>Edsa Shangri-La, 1 Garden Way, Ortigas, Mandal...</td>\n",
       "      <td>Edsa Shangri-La, Ortigas, Mandaluyong City</td>\n",
       "      <td>Edsa Shangri-La, Ortigas, Mandaluyong City, Ma...</td>\n",
       "      <td>121.056831</td>\n",
       "      <td>14.581404</td>\n",
       "      <td>Seafood, Asian, Filipino, Indian</td>\n",
       "      <td>...</td>\n",
       "      <td>Botswana Pula(P)</td>\n",
       "      <td>Yes</td>\n",
       "      <td>No</td>\n",
       "      <td>No</td>\n",
       "      <td>No</td>\n",
       "      <td>4</td>\n",
       "      <td>4.4</td>\n",
       "      <td>Green</td>\n",
       "      <td>Very Good</td>\n",
       "      <td>270</td>\n",
       "    </tr>\n",
       "    <tr>\n",
       "      <th>3</th>\n",
       "      <td>6318506</td>\n",
       "      <td>Ooma</td>\n",
       "      <td>162</td>\n",
       "      <td>Mandaluyong City</td>\n",
       "      <td>Third Floor, Mega Fashion Hall, SM Megamall, O...</td>\n",
       "      <td>SM Megamall, Ortigas, Mandaluyong City</td>\n",
       "      <td>SM Megamall, Ortigas, Mandaluyong City, Mandal...</td>\n",
       "      <td>121.056475</td>\n",
       "      <td>14.585318</td>\n",
       "      <td>Japanese, Sushi</td>\n",
       "      <td>...</td>\n",
       "      <td>Botswana Pula(P)</td>\n",
       "      <td>No</td>\n",
       "      <td>No</td>\n",
       "      <td>No</td>\n",
       "      <td>No</td>\n",
       "      <td>4</td>\n",
       "      <td>4.9</td>\n",
       "      <td>Dark Green</td>\n",
       "      <td>Excellent</td>\n",
       "      <td>365</td>\n",
       "    </tr>\n",
       "    <tr>\n",
       "      <th>4</th>\n",
       "      <td>6314302</td>\n",
       "      <td>Sambo Kojin</td>\n",
       "      <td>162</td>\n",
       "      <td>Mandaluyong City</td>\n",
       "      <td>Third Floor, Mega Atrium, SM Megamall, Ortigas...</td>\n",
       "      <td>SM Megamall, Ortigas, Mandaluyong City</td>\n",
       "      <td>SM Megamall, Ortigas, Mandaluyong City, Mandal...</td>\n",
       "      <td>121.057508</td>\n",
       "      <td>14.584450</td>\n",
       "      <td>Japanese, Korean</td>\n",
       "      <td>...</td>\n",
       "      <td>Botswana Pula(P)</td>\n",
       "      <td>Yes</td>\n",
       "      <td>No</td>\n",
       "      <td>No</td>\n",
       "      <td>No</td>\n",
       "      <td>4</td>\n",
       "      <td>4.8</td>\n",
       "      <td>Dark Green</td>\n",
       "      <td>Excellent</td>\n",
       "      <td>229</td>\n",
       "    </tr>\n",
       "    <tr>\n",
       "      <th>...</th>\n",
       "      <td>...</td>\n",
       "      <td>...</td>\n",
       "      <td>...</td>\n",
       "      <td>...</td>\n",
       "      <td>...</td>\n",
       "      <td>...</td>\n",
       "      <td>...</td>\n",
       "      <td>...</td>\n",
       "      <td>...</td>\n",
       "      <td>...</td>\n",
       "      <td>...</td>\n",
       "      <td>...</td>\n",
       "      <td>...</td>\n",
       "      <td>...</td>\n",
       "      <td>...</td>\n",
       "      <td>...</td>\n",
       "      <td>...</td>\n",
       "      <td>...</td>\n",
       "      <td>...</td>\n",
       "      <td>...</td>\n",
       "      <td>...</td>\n",
       "    </tr>\n",
       "    <tr>\n",
       "      <th>9546</th>\n",
       "      <td>5915730</td>\n",
       "      <td>Naml۱ Gurme</td>\n",
       "      <td>208</td>\n",
       "      <td>stanbul</td>\n",
       "      <td>Kemanke   Karamustafa Pa  a Mahallesi, R۱ht۱m ...</td>\n",
       "      <td>Karak _y</td>\n",
       "      <td>Karak _y,   stanbul</td>\n",
       "      <td>28.977392</td>\n",
       "      <td>41.022793</td>\n",
       "      <td>Turkish</td>\n",
       "      <td>...</td>\n",
       "      <td>Turkish Lira(TL)</td>\n",
       "      <td>No</td>\n",
       "      <td>No</td>\n",
       "      <td>No</td>\n",
       "      <td>No</td>\n",
       "      <td>3</td>\n",
       "      <td>4.1</td>\n",
       "      <td>Green</td>\n",
       "      <td>Very Good</td>\n",
       "      <td>788</td>\n",
       "    </tr>\n",
       "    <tr>\n",
       "      <th>9547</th>\n",
       "      <td>5908749</td>\n",
       "      <td>Ceviz A  ac۱</td>\n",
       "      <td>208</td>\n",
       "      <td>stanbul</td>\n",
       "      <td>Ko  uyolu Mahallesi, Muhittin   st _nda   Cadd...</td>\n",
       "      <td>Ko  uyolu</td>\n",
       "      <td>Ko  uyolu,   stanbul</td>\n",
       "      <td>29.041297</td>\n",
       "      <td>41.009847</td>\n",
       "      <td>World Cuisine, Patisserie, Cafe</td>\n",
       "      <td>...</td>\n",
       "      <td>Turkish Lira(TL)</td>\n",
       "      <td>No</td>\n",
       "      <td>No</td>\n",
       "      <td>No</td>\n",
       "      <td>No</td>\n",
       "      <td>3</td>\n",
       "      <td>4.2</td>\n",
       "      <td>Green</td>\n",
       "      <td>Very Good</td>\n",
       "      <td>1034</td>\n",
       "    </tr>\n",
       "    <tr>\n",
       "      <th>9548</th>\n",
       "      <td>5915807</td>\n",
       "      <td>Huqqa</td>\n",
       "      <td>208</td>\n",
       "      <td>stanbul</td>\n",
       "      <td>Kuru _e  me Mahallesi, Muallim Naci Caddesi, N...</td>\n",
       "      <td>Kuru _e  me</td>\n",
       "      <td>Kuru _e  me,   stanbul</td>\n",
       "      <td>29.034640</td>\n",
       "      <td>41.055817</td>\n",
       "      <td>Italian, World Cuisine</td>\n",
       "      <td>...</td>\n",
       "      <td>Turkish Lira(TL)</td>\n",
       "      <td>No</td>\n",
       "      <td>No</td>\n",
       "      <td>No</td>\n",
       "      <td>No</td>\n",
       "      <td>4</td>\n",
       "      <td>3.7</td>\n",
       "      <td>Yellow</td>\n",
       "      <td>Good</td>\n",
       "      <td>661</td>\n",
       "    </tr>\n",
       "    <tr>\n",
       "      <th>9549</th>\n",
       "      <td>5916112</td>\n",
       "      <td>A   k Kahve</td>\n",
       "      <td>208</td>\n",
       "      <td>stanbul</td>\n",
       "      <td>Kuru _e  me Mahallesi, Muallim Naci Caddesi, N...</td>\n",
       "      <td>Kuru _e  me</td>\n",
       "      <td>Kuru _e  me,   stanbul</td>\n",
       "      <td>29.036019</td>\n",
       "      <td>41.057979</td>\n",
       "      <td>Restaurant Cafe</td>\n",
       "      <td>...</td>\n",
       "      <td>Turkish Lira(TL)</td>\n",
       "      <td>No</td>\n",
       "      <td>No</td>\n",
       "      <td>No</td>\n",
       "      <td>No</td>\n",
       "      <td>4</td>\n",
       "      <td>4.0</td>\n",
       "      <td>Green</td>\n",
       "      <td>Very Good</td>\n",
       "      <td>901</td>\n",
       "    </tr>\n",
       "    <tr>\n",
       "      <th>9550</th>\n",
       "      <td>5927402</td>\n",
       "      <td>Walter's Coffee Roastery</td>\n",
       "      <td>208</td>\n",
       "      <td>stanbul</td>\n",
       "      <td>Cafea  a Mahallesi, Bademalt۱ Sokak, No 21/B, ...</td>\n",
       "      <td>Moda</td>\n",
       "      <td>Moda,   stanbul</td>\n",
       "      <td>29.026016</td>\n",
       "      <td>40.984776</td>\n",
       "      <td>Cafe</td>\n",
       "      <td>...</td>\n",
       "      <td>Turkish Lira(TL)</td>\n",
       "      <td>No</td>\n",
       "      <td>No</td>\n",
       "      <td>No</td>\n",
       "      <td>No</td>\n",
       "      <td>2</td>\n",
       "      <td>4.0</td>\n",
       "      <td>Green</td>\n",
       "      <td>Very Good</td>\n",
       "      <td>591</td>\n",
       "    </tr>\n",
       "  </tbody>\n",
       "</table>\n",
       "<p>9551 rows × 21 columns</p>\n",
       "</div>"
      ],
      "text/plain": [
       "      Restaurant ID           Restaurant Name  Country Code              City  \\\n",
       "0           6317637          Le Petit Souffle           162       Makati City   \n",
       "1           6304287          Izakaya Kikufuji           162       Makati City   \n",
       "2           6300002    Heat - Edsa Shangri-La           162  Mandaluyong City   \n",
       "3           6318506                      Ooma           162  Mandaluyong City   \n",
       "4           6314302               Sambo Kojin           162  Mandaluyong City   \n",
       "...             ...                       ...           ...               ...   \n",
       "9546        5915730               Naml۱ Gurme           208           stanbul   \n",
       "9547        5908749              Ceviz A  ac۱           208           stanbul   \n",
       "9548        5915807                     Huqqa           208           stanbul   \n",
       "9549        5916112               A   k Kahve           208           stanbul   \n",
       "9550        5927402  Walter's Coffee Roastery           208           stanbul   \n",
       "\n",
       "                                                Address  \\\n",
       "0     Third Floor, Century City Mall, Kalayaan Avenu...   \n",
       "1     Little Tokyo, 2277 Chino Roces Avenue, Legaspi...   \n",
       "2     Edsa Shangri-La, 1 Garden Way, Ortigas, Mandal...   \n",
       "3     Third Floor, Mega Fashion Hall, SM Megamall, O...   \n",
       "4     Third Floor, Mega Atrium, SM Megamall, Ortigas...   \n",
       "...                                                 ...   \n",
       "9546  Kemanke   Karamustafa Pa  a Mahallesi, R۱ht۱m ...   \n",
       "9547  Ko  uyolu Mahallesi, Muhittin   st _nda   Cadd...   \n",
       "9548  Kuru _e  me Mahallesi, Muallim Naci Caddesi, N...   \n",
       "9549  Kuru _e  me Mahallesi, Muallim Naci Caddesi, N...   \n",
       "9550  Cafea  a Mahallesi, Bademalt۱ Sokak, No 21/B, ...   \n",
       "\n",
       "                                        Locality  \\\n",
       "0      Century City Mall, Poblacion, Makati City   \n",
       "1     Little Tokyo, Legaspi Village, Makati City   \n",
       "2     Edsa Shangri-La, Ortigas, Mandaluyong City   \n",
       "3         SM Megamall, Ortigas, Mandaluyong City   \n",
       "4         SM Megamall, Ortigas, Mandaluyong City   \n",
       "...                                          ...   \n",
       "9546                                    Karak _y   \n",
       "9547                                   Ko  uyolu   \n",
       "9548                                 Kuru _e  me   \n",
       "9549                                 Kuru _e  me   \n",
       "9550                                        Moda   \n",
       "\n",
       "                                       Locality Verbose   Longitude  \\\n",
       "0     Century City Mall, Poblacion, Makati City, Mak...  121.027535   \n",
       "1     Little Tokyo, Legaspi Village, Makati City, Ma...  121.014101   \n",
       "2     Edsa Shangri-La, Ortigas, Mandaluyong City, Ma...  121.056831   \n",
       "3     SM Megamall, Ortigas, Mandaluyong City, Mandal...  121.056475   \n",
       "4     SM Megamall, Ortigas, Mandaluyong City, Mandal...  121.057508   \n",
       "...                                                 ...         ...   \n",
       "9546                                Karak _y,   stanbul   28.977392   \n",
       "9547                               Ko  uyolu,   stanbul   29.041297   \n",
       "9548                             Kuru _e  me,   stanbul   29.034640   \n",
       "9549                             Kuru _e  me,   stanbul   29.036019   \n",
       "9550                                    Moda,   stanbul   29.026016   \n",
       "\n",
       "       Latitude                          Cuisines  ...          Currency  \\\n",
       "0     14.565443        French, Japanese, Desserts  ...  Botswana Pula(P)   \n",
       "1     14.553708                          Japanese  ...  Botswana Pula(P)   \n",
       "2     14.581404  Seafood, Asian, Filipino, Indian  ...  Botswana Pula(P)   \n",
       "3     14.585318                   Japanese, Sushi  ...  Botswana Pula(P)   \n",
       "4     14.584450                  Japanese, Korean  ...  Botswana Pula(P)   \n",
       "...         ...                               ...  ...               ...   \n",
       "9546  41.022793                           Turkish  ...  Turkish Lira(TL)   \n",
       "9547  41.009847   World Cuisine, Patisserie, Cafe  ...  Turkish Lira(TL)   \n",
       "9548  41.055817            Italian, World Cuisine  ...  Turkish Lira(TL)   \n",
       "9549  41.057979                   Restaurant Cafe  ...  Turkish Lira(TL)   \n",
       "9550  40.984776                              Cafe  ...  Turkish Lira(TL)   \n",
       "\n",
       "     Has Table booking Has Online delivery Is delivering now  \\\n",
       "0                  Yes                  No                No   \n",
       "1                  Yes                  No                No   \n",
       "2                  Yes                  No                No   \n",
       "3                   No                  No                No   \n",
       "4                  Yes                  No                No   \n",
       "...                ...                 ...               ...   \n",
       "9546                No                  No                No   \n",
       "9547                No                  No                No   \n",
       "9548                No                  No                No   \n",
       "9549                No                  No                No   \n",
       "9550                No                  No                No   \n",
       "\n",
       "     Switch to order menu Price range  Aggregate rating  Rating color  \\\n",
       "0                      No           3               4.8    Dark Green   \n",
       "1                      No           3               4.5    Dark Green   \n",
       "2                      No           4               4.4         Green   \n",
       "3                      No           4               4.9    Dark Green   \n",
       "4                      No           4               4.8    Dark Green   \n",
       "...                   ...         ...               ...           ...   \n",
       "9546                   No           3               4.1         Green   \n",
       "9547                   No           3               4.2         Green   \n",
       "9548                   No           4               3.7        Yellow   \n",
       "9549                   No           4               4.0         Green   \n",
       "9550                   No           2               4.0         Green   \n",
       "\n",
       "     Rating text Votes  \n",
       "0      Excellent   314  \n",
       "1      Excellent   591  \n",
       "2      Very Good   270  \n",
       "3      Excellent   365  \n",
       "4      Excellent   229  \n",
       "...          ...   ...  \n",
       "9546   Very Good   788  \n",
       "9547   Very Good  1034  \n",
       "9548        Good   661  \n",
       "9549   Very Good   901  \n",
       "9550   Very Good   591  \n",
       "\n",
       "[9551 rows x 21 columns]"
      ]
     },
     "execution_count": 5,
     "metadata": {},
     "output_type": "execute_result"
    }
   ],
   "source": [
    "data"
   ]
  },
  {
   "cell_type": "code",
   "execution_count": 6,
   "id": "222bec05",
   "metadata": {},
   "outputs": [
    {
     "data": {
      "text/html": [
       "<div>\n",
       "<style scoped>\n",
       "    .dataframe tbody tr th:only-of-type {\n",
       "        vertical-align: middle;\n",
       "    }\n",
       "\n",
       "    .dataframe tbody tr th {\n",
       "        vertical-align: top;\n",
       "    }\n",
       "\n",
       "    .dataframe thead th {\n",
       "        text-align: right;\n",
       "    }\n",
       "</style>\n",
       "<table border=\"1\" class=\"dataframe\">\n",
       "  <thead>\n",
       "    <tr style=\"text-align: right;\">\n",
       "      <th></th>\n",
       "      <th>Restaurant ID</th>\n",
       "      <th>Restaurant Name</th>\n",
       "      <th>Country Code</th>\n",
       "      <th>City</th>\n",
       "      <th>Address</th>\n",
       "      <th>Locality</th>\n",
       "      <th>Locality Verbose</th>\n",
       "      <th>Longitude</th>\n",
       "      <th>Latitude</th>\n",
       "      <th>Cuisines</th>\n",
       "      <th>...</th>\n",
       "      <th>Has Table booking</th>\n",
       "      <th>Has Online delivery</th>\n",
       "      <th>Is delivering now</th>\n",
       "      <th>Switch to order menu</th>\n",
       "      <th>Price range</th>\n",
       "      <th>Aggregate rating</th>\n",
       "      <th>Rating color</th>\n",
       "      <th>Rating text</th>\n",
       "      <th>Votes</th>\n",
       "      <th>Country</th>\n",
       "    </tr>\n",
       "  </thead>\n",
       "  <tbody>\n",
       "    <tr>\n",
       "      <th>0</th>\n",
       "      <td>6317637</td>\n",
       "      <td>Le Petit Souffle</td>\n",
       "      <td>162</td>\n",
       "      <td>Makati City</td>\n",
       "      <td>Third Floor, Century City Mall, Kalayaan Avenu...</td>\n",
       "      <td>Century City Mall, Poblacion, Makati City</td>\n",
       "      <td>Century City Mall, Poblacion, Makati City, Mak...</td>\n",
       "      <td>121.027535</td>\n",
       "      <td>14.565443</td>\n",
       "      <td>French, Japanese, Desserts</td>\n",
       "      <td>...</td>\n",
       "      <td>Yes</td>\n",
       "      <td>No</td>\n",
       "      <td>No</td>\n",
       "      <td>No</td>\n",
       "      <td>3</td>\n",
       "      <td>4.8</td>\n",
       "      <td>Dark Green</td>\n",
       "      <td>Excellent</td>\n",
       "      <td>314</td>\n",
       "      <td>Phillipines</td>\n",
       "    </tr>\n",
       "    <tr>\n",
       "      <th>1</th>\n",
       "      <td>6304287</td>\n",
       "      <td>Izakaya Kikufuji</td>\n",
       "      <td>162</td>\n",
       "      <td>Makati City</td>\n",
       "      <td>Little Tokyo, 2277 Chino Roces Avenue, Legaspi...</td>\n",
       "      <td>Little Tokyo, Legaspi Village, Makati City</td>\n",
       "      <td>Little Tokyo, Legaspi Village, Makati City, Ma...</td>\n",
       "      <td>121.014101</td>\n",
       "      <td>14.553708</td>\n",
       "      <td>Japanese</td>\n",
       "      <td>...</td>\n",
       "      <td>Yes</td>\n",
       "      <td>No</td>\n",
       "      <td>No</td>\n",
       "      <td>No</td>\n",
       "      <td>3</td>\n",
       "      <td>4.5</td>\n",
       "      <td>Dark Green</td>\n",
       "      <td>Excellent</td>\n",
       "      <td>591</td>\n",
       "      <td>Phillipines</td>\n",
       "    </tr>\n",
       "    <tr>\n",
       "      <th>2</th>\n",
       "      <td>6300002</td>\n",
       "      <td>Heat - Edsa Shangri-La</td>\n",
       "      <td>162</td>\n",
       "      <td>Mandaluyong City</td>\n",
       "      <td>Edsa Shangri-La, 1 Garden Way, Ortigas, Mandal...</td>\n",
       "      <td>Edsa Shangri-La, Ortigas, Mandaluyong City</td>\n",
       "      <td>Edsa Shangri-La, Ortigas, Mandaluyong City, Ma...</td>\n",
       "      <td>121.056831</td>\n",
       "      <td>14.581404</td>\n",
       "      <td>Seafood, Asian, Filipino, Indian</td>\n",
       "      <td>...</td>\n",
       "      <td>Yes</td>\n",
       "      <td>No</td>\n",
       "      <td>No</td>\n",
       "      <td>No</td>\n",
       "      <td>4</td>\n",
       "      <td>4.4</td>\n",
       "      <td>Green</td>\n",
       "      <td>Very Good</td>\n",
       "      <td>270</td>\n",
       "      <td>Phillipines</td>\n",
       "    </tr>\n",
       "    <tr>\n",
       "      <th>3</th>\n",
       "      <td>6318506</td>\n",
       "      <td>Ooma</td>\n",
       "      <td>162</td>\n",
       "      <td>Mandaluyong City</td>\n",
       "      <td>Third Floor, Mega Fashion Hall, SM Megamall, O...</td>\n",
       "      <td>SM Megamall, Ortigas, Mandaluyong City</td>\n",
       "      <td>SM Megamall, Ortigas, Mandaluyong City, Mandal...</td>\n",
       "      <td>121.056475</td>\n",
       "      <td>14.585318</td>\n",
       "      <td>Japanese, Sushi</td>\n",
       "      <td>...</td>\n",
       "      <td>No</td>\n",
       "      <td>No</td>\n",
       "      <td>No</td>\n",
       "      <td>No</td>\n",
       "      <td>4</td>\n",
       "      <td>4.9</td>\n",
       "      <td>Dark Green</td>\n",
       "      <td>Excellent</td>\n",
       "      <td>365</td>\n",
       "      <td>Phillipines</td>\n",
       "    </tr>\n",
       "    <tr>\n",
       "      <th>4</th>\n",
       "      <td>6314302</td>\n",
       "      <td>Sambo Kojin</td>\n",
       "      <td>162</td>\n",
       "      <td>Mandaluyong City</td>\n",
       "      <td>Third Floor, Mega Atrium, SM Megamall, Ortigas...</td>\n",
       "      <td>SM Megamall, Ortigas, Mandaluyong City</td>\n",
       "      <td>SM Megamall, Ortigas, Mandaluyong City, Mandal...</td>\n",
       "      <td>121.057508</td>\n",
       "      <td>14.584450</td>\n",
       "      <td>Japanese, Korean</td>\n",
       "      <td>...</td>\n",
       "      <td>Yes</td>\n",
       "      <td>No</td>\n",
       "      <td>No</td>\n",
       "      <td>No</td>\n",
       "      <td>4</td>\n",
       "      <td>4.8</td>\n",
       "      <td>Dark Green</td>\n",
       "      <td>Excellent</td>\n",
       "      <td>229</td>\n",
       "      <td>Phillipines</td>\n",
       "    </tr>\n",
       "    <tr>\n",
       "      <th>...</th>\n",
       "      <td>...</td>\n",
       "      <td>...</td>\n",
       "      <td>...</td>\n",
       "      <td>...</td>\n",
       "      <td>...</td>\n",
       "      <td>...</td>\n",
       "      <td>...</td>\n",
       "      <td>...</td>\n",
       "      <td>...</td>\n",
       "      <td>...</td>\n",
       "      <td>...</td>\n",
       "      <td>...</td>\n",
       "      <td>...</td>\n",
       "      <td>...</td>\n",
       "      <td>...</td>\n",
       "      <td>...</td>\n",
       "      <td>...</td>\n",
       "      <td>...</td>\n",
       "      <td>...</td>\n",
       "      <td>...</td>\n",
       "      <td>...</td>\n",
       "    </tr>\n",
       "    <tr>\n",
       "      <th>9546</th>\n",
       "      <td>5915730</td>\n",
       "      <td>Naml۱ Gurme</td>\n",
       "      <td>208</td>\n",
       "      <td>stanbul</td>\n",
       "      <td>Kemanke   Karamustafa Pa  a Mahallesi, R۱ht۱m ...</td>\n",
       "      <td>Karak _y</td>\n",
       "      <td>Karak _y,   stanbul</td>\n",
       "      <td>28.977392</td>\n",
       "      <td>41.022793</td>\n",
       "      <td>Turkish</td>\n",
       "      <td>...</td>\n",
       "      <td>No</td>\n",
       "      <td>No</td>\n",
       "      <td>No</td>\n",
       "      <td>No</td>\n",
       "      <td>3</td>\n",
       "      <td>4.1</td>\n",
       "      <td>Green</td>\n",
       "      <td>Very Good</td>\n",
       "      <td>788</td>\n",
       "      <td>Turkey</td>\n",
       "    </tr>\n",
       "    <tr>\n",
       "      <th>9547</th>\n",
       "      <td>5908749</td>\n",
       "      <td>Ceviz A  ac۱</td>\n",
       "      <td>208</td>\n",
       "      <td>stanbul</td>\n",
       "      <td>Ko  uyolu Mahallesi, Muhittin   st _nda   Cadd...</td>\n",
       "      <td>Ko  uyolu</td>\n",
       "      <td>Ko  uyolu,   stanbul</td>\n",
       "      <td>29.041297</td>\n",
       "      <td>41.009847</td>\n",
       "      <td>World Cuisine, Patisserie, Cafe</td>\n",
       "      <td>...</td>\n",
       "      <td>No</td>\n",
       "      <td>No</td>\n",
       "      <td>No</td>\n",
       "      <td>No</td>\n",
       "      <td>3</td>\n",
       "      <td>4.2</td>\n",
       "      <td>Green</td>\n",
       "      <td>Very Good</td>\n",
       "      <td>1034</td>\n",
       "      <td>Turkey</td>\n",
       "    </tr>\n",
       "    <tr>\n",
       "      <th>9548</th>\n",
       "      <td>5915807</td>\n",
       "      <td>Huqqa</td>\n",
       "      <td>208</td>\n",
       "      <td>stanbul</td>\n",
       "      <td>Kuru _e  me Mahallesi, Muallim Naci Caddesi, N...</td>\n",
       "      <td>Kuru _e  me</td>\n",
       "      <td>Kuru _e  me,   stanbul</td>\n",
       "      <td>29.034640</td>\n",
       "      <td>41.055817</td>\n",
       "      <td>Italian, World Cuisine</td>\n",
       "      <td>...</td>\n",
       "      <td>No</td>\n",
       "      <td>No</td>\n",
       "      <td>No</td>\n",
       "      <td>No</td>\n",
       "      <td>4</td>\n",
       "      <td>3.7</td>\n",
       "      <td>Yellow</td>\n",
       "      <td>Good</td>\n",
       "      <td>661</td>\n",
       "      <td>Turkey</td>\n",
       "    </tr>\n",
       "    <tr>\n",
       "      <th>9549</th>\n",
       "      <td>5916112</td>\n",
       "      <td>A   k Kahve</td>\n",
       "      <td>208</td>\n",
       "      <td>stanbul</td>\n",
       "      <td>Kuru _e  me Mahallesi, Muallim Naci Caddesi, N...</td>\n",
       "      <td>Kuru _e  me</td>\n",
       "      <td>Kuru _e  me,   stanbul</td>\n",
       "      <td>29.036019</td>\n",
       "      <td>41.057979</td>\n",
       "      <td>Restaurant Cafe</td>\n",
       "      <td>...</td>\n",
       "      <td>No</td>\n",
       "      <td>No</td>\n",
       "      <td>No</td>\n",
       "      <td>No</td>\n",
       "      <td>4</td>\n",
       "      <td>4.0</td>\n",
       "      <td>Green</td>\n",
       "      <td>Very Good</td>\n",
       "      <td>901</td>\n",
       "      <td>Turkey</td>\n",
       "    </tr>\n",
       "    <tr>\n",
       "      <th>9550</th>\n",
       "      <td>5927402</td>\n",
       "      <td>Walter's Coffee Roastery</td>\n",
       "      <td>208</td>\n",
       "      <td>stanbul</td>\n",
       "      <td>Cafea  a Mahallesi, Bademalt۱ Sokak, No 21/B, ...</td>\n",
       "      <td>Moda</td>\n",
       "      <td>Moda,   stanbul</td>\n",
       "      <td>29.026016</td>\n",
       "      <td>40.984776</td>\n",
       "      <td>Cafe</td>\n",
       "      <td>...</td>\n",
       "      <td>No</td>\n",
       "      <td>No</td>\n",
       "      <td>No</td>\n",
       "      <td>No</td>\n",
       "      <td>2</td>\n",
       "      <td>4.0</td>\n",
       "      <td>Green</td>\n",
       "      <td>Very Good</td>\n",
       "      <td>591</td>\n",
       "      <td>Turkey</td>\n",
       "    </tr>\n",
       "  </tbody>\n",
       "</table>\n",
       "<p>9551 rows × 22 columns</p>\n",
       "</div>"
      ],
      "text/plain": [
       "      Restaurant ID           Restaurant Name  Country Code              City  \\\n",
       "0           6317637          Le Petit Souffle           162       Makati City   \n",
       "1           6304287          Izakaya Kikufuji           162       Makati City   \n",
       "2           6300002    Heat - Edsa Shangri-La           162  Mandaluyong City   \n",
       "3           6318506                      Ooma           162  Mandaluyong City   \n",
       "4           6314302               Sambo Kojin           162  Mandaluyong City   \n",
       "...             ...                       ...           ...               ...   \n",
       "9546        5915730               Naml۱ Gurme           208           stanbul   \n",
       "9547        5908749              Ceviz A  ac۱           208           stanbul   \n",
       "9548        5915807                     Huqqa           208           stanbul   \n",
       "9549        5916112               A   k Kahve           208           stanbul   \n",
       "9550        5927402  Walter's Coffee Roastery           208           stanbul   \n",
       "\n",
       "                                                Address  \\\n",
       "0     Third Floor, Century City Mall, Kalayaan Avenu...   \n",
       "1     Little Tokyo, 2277 Chino Roces Avenue, Legaspi...   \n",
       "2     Edsa Shangri-La, 1 Garden Way, Ortigas, Mandal...   \n",
       "3     Third Floor, Mega Fashion Hall, SM Megamall, O...   \n",
       "4     Third Floor, Mega Atrium, SM Megamall, Ortigas...   \n",
       "...                                                 ...   \n",
       "9546  Kemanke   Karamustafa Pa  a Mahallesi, R۱ht۱m ...   \n",
       "9547  Ko  uyolu Mahallesi, Muhittin   st _nda   Cadd...   \n",
       "9548  Kuru _e  me Mahallesi, Muallim Naci Caddesi, N...   \n",
       "9549  Kuru _e  me Mahallesi, Muallim Naci Caddesi, N...   \n",
       "9550  Cafea  a Mahallesi, Bademalt۱ Sokak, No 21/B, ...   \n",
       "\n",
       "                                        Locality  \\\n",
       "0      Century City Mall, Poblacion, Makati City   \n",
       "1     Little Tokyo, Legaspi Village, Makati City   \n",
       "2     Edsa Shangri-La, Ortigas, Mandaluyong City   \n",
       "3         SM Megamall, Ortigas, Mandaluyong City   \n",
       "4         SM Megamall, Ortigas, Mandaluyong City   \n",
       "...                                          ...   \n",
       "9546                                    Karak _y   \n",
       "9547                                   Ko  uyolu   \n",
       "9548                                 Kuru _e  me   \n",
       "9549                                 Kuru _e  me   \n",
       "9550                                        Moda   \n",
       "\n",
       "                                       Locality Verbose   Longitude  \\\n",
       "0     Century City Mall, Poblacion, Makati City, Mak...  121.027535   \n",
       "1     Little Tokyo, Legaspi Village, Makati City, Ma...  121.014101   \n",
       "2     Edsa Shangri-La, Ortigas, Mandaluyong City, Ma...  121.056831   \n",
       "3     SM Megamall, Ortigas, Mandaluyong City, Mandal...  121.056475   \n",
       "4     SM Megamall, Ortigas, Mandaluyong City, Mandal...  121.057508   \n",
       "...                                                 ...         ...   \n",
       "9546                                Karak _y,   stanbul   28.977392   \n",
       "9547                               Ko  uyolu,   stanbul   29.041297   \n",
       "9548                             Kuru _e  me,   stanbul   29.034640   \n",
       "9549                             Kuru _e  me,   stanbul   29.036019   \n",
       "9550                                    Moda,   stanbul   29.026016   \n",
       "\n",
       "       Latitude                          Cuisines  ...  Has Table booking  \\\n",
       "0     14.565443        French, Japanese, Desserts  ...                Yes   \n",
       "1     14.553708                          Japanese  ...                Yes   \n",
       "2     14.581404  Seafood, Asian, Filipino, Indian  ...                Yes   \n",
       "3     14.585318                   Japanese, Sushi  ...                 No   \n",
       "4     14.584450                  Japanese, Korean  ...                Yes   \n",
       "...         ...                               ...  ...                ...   \n",
       "9546  41.022793                           Turkish  ...                 No   \n",
       "9547  41.009847   World Cuisine, Patisserie, Cafe  ...                 No   \n",
       "9548  41.055817            Italian, World Cuisine  ...                 No   \n",
       "9549  41.057979                   Restaurant Cafe  ...                 No   \n",
       "9550  40.984776                              Cafe  ...                 No   \n",
       "\n",
       "     Has Online delivery Is delivering now Switch to order menu Price range  \\\n",
       "0                     No                No                   No           3   \n",
       "1                     No                No                   No           3   \n",
       "2                     No                No                   No           4   \n",
       "3                     No                No                   No           4   \n",
       "4                     No                No                   No           4   \n",
       "...                  ...               ...                  ...         ...   \n",
       "9546                  No                No                   No           3   \n",
       "9547                  No                No                   No           3   \n",
       "9548                  No                No                   No           4   \n",
       "9549                  No                No                   No           4   \n",
       "9550                  No                No                   No           2   \n",
       "\n",
       "     Aggregate rating  Rating color  Rating text Votes      Country  \n",
       "0                 4.8    Dark Green    Excellent   314  Phillipines  \n",
       "1                 4.5    Dark Green    Excellent   591  Phillipines  \n",
       "2                 4.4         Green    Very Good   270  Phillipines  \n",
       "3                 4.9    Dark Green    Excellent   365  Phillipines  \n",
       "4                 4.8    Dark Green    Excellent   229  Phillipines  \n",
       "...               ...           ...          ...   ...          ...  \n",
       "9546              4.1         Green    Very Good   788       Turkey  \n",
       "9547              4.2         Green    Very Good  1034       Turkey  \n",
       "9548              3.7        Yellow         Good   661       Turkey  \n",
       "9549              4.0         Green    Very Good   901       Turkey  \n",
       "9550              4.0         Green    Very Good   591       Turkey  \n",
       "\n",
       "[9551 rows x 22 columns]"
      ]
     },
     "execution_count": 6,
     "metadata": {},
     "output_type": "execute_result"
    }
   ],
   "source": [
    "df = pd.merge(data,code,on = 'Country Code', how='left')\n",
    "df"
   ]
  },
  {
   "cell_type": "markdown",
   "id": "8e7de34e",
   "metadata": {},
   "source": [
    "Each restaurant in the dataset is uniquely identified by its Restaurant Id. Every Restaurant contains the\n",
    "following variables:\n",
    "    \n",
    "• Restaurant Id: Unique id of every restaurant across various cities of the world\n",
    "    \n",
    "• Restaurant Name: Name of the restaurant\n",
    "    \n",
    "• Country Code: Country in which restaurant is located\n",
    "    \n",
    "• City: City in which restaurant is located\n",
    "    \n",
    "• Address: Address of the restaurant\n",
    "    \n",
    "• Locality: Location in the city\n",
    "    \n",
    "• Locality Verbose: Detailed description of the locality\n",
    "    \n",
    "• Longitude: Longitude coordinate of the restaurant&#39;s location\n",
    "    \n",
    "• Latitude: Latitude coordinate of the restaurant&#39;s location\n",
    "    \n",
    "• Cuisines: Cuisines offered by the restaurant\n",
    "    \n",
    "• Average Cost for two: Cost for two people in different currencies\n",
    "    \n",
    "• Currency: Currency of the country\n",
    "    \n",
    "• Has Table booking: yes/no\n",
    "    \n",
    "• Has Online delivery: yes/ no\n",
    "    \n",
    "• Is delivering: yes/ no\n",
    "• Switch to order menu: yes/no\n",
    "    \n",
    "• Price range: range of price of food\n",
    "    \n",
    "• Aggregate Rating: Average rating out of 5\n",
    "    \n",
    "• Rating color: depending upon the average rating color\n",
    "    \n",
    "• Rating text: text on the basis of rating of rating\n",
    "    \n",
    "• Votes: Number of ratings casted by people\n"
   ]
  },
  {
   "cell_type": "code",
   "execution_count": 7,
   "id": "71d4fa6c",
   "metadata": {},
   "outputs": [
    {
     "data": {
      "text/plain": [
       "Restaurant ID           0\n",
       "Restaurant Name         0\n",
       "Country Code            0\n",
       "City                    0\n",
       "Address                 0\n",
       "Locality                0\n",
       "Locality Verbose        0\n",
       "Longitude               0\n",
       "Latitude                0\n",
       "Cuisines                9\n",
       "Average Cost for two    0\n",
       "Currency                0\n",
       "Has Table booking       0\n",
       "Has Online delivery     0\n",
       "Is delivering now       0\n",
       "Switch to order menu    0\n",
       "Price range             0\n",
       "Aggregate rating        0\n",
       "Rating color            0\n",
       "Rating text             0\n",
       "Votes                   0\n",
       "Country                 0\n",
       "dtype: int64"
      ]
     },
     "execution_count": 7,
     "metadata": {},
     "output_type": "execute_result"
    }
   ],
   "source": [
    "df.isnull().sum()"
   ]
  },
  {
   "cell_type": "markdown",
   "id": "98b7d37b",
   "metadata": {},
   "source": [
    "There is only one column which has some null values which we can process it easily later."
   ]
  },
  {
   "cell_type": "code",
   "execution_count": 8,
   "id": "6aa3fd30",
   "metadata": {},
   "outputs": [
    {
     "name": "stdout",
     "output_type": "stream",
     "text": [
      "<class 'pandas.core.frame.DataFrame'>\n",
      "Int64Index: 9551 entries, 0 to 9550\n",
      "Data columns (total 22 columns):\n",
      " #   Column                Non-Null Count  Dtype  \n",
      "---  ------                --------------  -----  \n",
      " 0   Restaurant ID         9551 non-null   int64  \n",
      " 1   Restaurant Name       9551 non-null   object \n",
      " 2   Country Code          9551 non-null   int64  \n",
      " 3   City                  9551 non-null   object \n",
      " 4   Address               9551 non-null   object \n",
      " 5   Locality              9551 non-null   object \n",
      " 6   Locality Verbose      9551 non-null   object \n",
      " 7   Longitude             9551 non-null   float64\n",
      " 8   Latitude              9551 non-null   float64\n",
      " 9   Cuisines              9542 non-null   object \n",
      " 10  Average Cost for two  9551 non-null   int64  \n",
      " 11  Currency              9551 non-null   object \n",
      " 12  Has Table booking     9551 non-null   object \n",
      " 13  Has Online delivery   9551 non-null   object \n",
      " 14  Is delivering now     9551 non-null   object \n",
      " 15  Switch to order menu  9551 non-null   object \n",
      " 16  Price range           9551 non-null   int64  \n",
      " 17  Aggregate rating      9551 non-null   float64\n",
      " 18  Rating color          9551 non-null   object \n",
      " 19  Rating text           9551 non-null   object \n",
      " 20  Votes                 9551 non-null   int64  \n",
      " 21  Country               9551 non-null   object \n",
      "dtypes: float64(3), int64(5), object(14)\n",
      "memory usage: 1.7+ MB\n"
     ]
    }
   ],
   "source": [
    "df.info()"
   ]
  },
  {
   "cell_type": "markdown",
   "id": "f8019348",
   "metadata": {},
   "source": [
    "There are many columns with Dtypes as \"Object\" , we will need Lable Encoder later to process this ."
   ]
  },
  {
   "cell_type": "markdown",
   "id": "852d3cd9",
   "metadata": {},
   "source": [
    "# EDA"
   ]
  },
  {
   "cell_type": "code",
   "execution_count": 9,
   "id": "36761613",
   "metadata": {},
   "outputs": [
    {
     "data": {
      "text/plain": [
       "Restaurant ID           9551\n",
       "Restaurant Name         7446\n",
       "Country Code              15\n",
       "City                     141\n",
       "Address                 8918\n",
       "Locality                1208\n",
       "Locality Verbose        1265\n",
       "Longitude               8120\n",
       "Latitude                8677\n",
       "Cuisines                1825\n",
       "Average Cost for two     140\n",
       "Currency                  12\n",
       "Has Table booking          2\n",
       "Has Online delivery        2\n",
       "Is delivering now          2\n",
       "Switch to order menu       1\n",
       "Price range                4\n",
       "Aggregate rating          33\n",
       "Rating color               6\n",
       "Rating text                6\n",
       "Votes                   1012\n",
       "Country                   15\n",
       "dtype: int64"
      ]
     },
     "execution_count": 9,
     "metadata": {},
     "output_type": "execute_result"
    }
   ],
   "source": [
    "df.nunique()"
   ]
  },
  {
   "cell_type": "markdown",
   "id": "268f17bd",
   "metadata": {},
   "source": [
    "We have a column with only one unique Value hence it will not be of any use in Model training.\n",
    "We also have a column with no use of us i.e. \"Restaurant ID\"\n",
    "\n",
    "So we will have to Drop this two columns later."
   ]
  },
  {
   "cell_type": "code",
   "execution_count": 10,
   "id": "cbebdbc4",
   "metadata": {},
   "outputs": [
    {
     "data": {
      "text/plain": [
       "<AxesSubplot:title={'center':'Ratings'}, xlabel='Rating text', ylabel='count'>"
      ]
     },
     "execution_count": 10,
     "metadata": {},
     "output_type": "execute_result"
    },
    {
     "data": {
      "image/png": "[encoded data removed]",
      "text/plain": [
       "<Figure size 864x432 with 1 Axes>"
      ]
     },
     "metadata": {
      "needs_background": "light"
     },
     "output_type": "display_data"
    }
   ],
   "source": [
    "plt.figure(figsize=(12,6))\n",
    "plt.xticks(rotation=75)\n",
    "plt.title('Ratings')\n",
    "sns.countplot(x='Rating text', data=df)"
   ]
  },
  {
   "cell_type": "markdown",
   "id": "a36ae9b9",
   "metadata": {},
   "source": [
    "As we can see most of the Ratings are \"Average\" and ratings such as \"Poor\" and \"Excellent\" are very low ."
   ]
  },
  {
   "cell_type": "code",
   "execution_count": 11,
   "id": "7d8ecfcf",
   "metadata": {},
   "outputs": [
    {
     "data": {
      "image/png": "[encoded data removed]",
      "text/plain": [
       "<Figure size 720x432 with 1 Axes>"
      ]
     },
     "metadata": {
      "needs_background": "light"
     },
     "output_type": "display_data"
    }
   ],
   "source": [
    "fig = plt.figure(figsize=(10,6))\n",
    "ax = df.groupby('Rating text').Currency.count().plot.bar(ylim=0)\n",
    "plt.show()"
   ]
  },
  {
   "cell_type": "code",
   "execution_count": 12,
   "id": "51b35393",
   "metadata": {},
   "outputs": [
    {
     "name": "stdout",
     "output_type": "stream",
     "text": [
      "[Text(0, 0, 'Excellent'), Text(1, 0, 'Very Good'), Text(2, 0, 'Good'), Text(3, 0, 'Average'), Text(4, 0, 'Not rated'), Text(5, 0, 'Poor')]\n"
     ]
    },
    {
     "data": {
      "image/png": "[encoded data removed]",
      "text/plain": [
       "<Figure size 432x288 with 1 Axes>"
      ]
     },
     "metadata": {
      "needs_background": "light"
     },
     "output_type": "display_data"
    }
   ],
   "source": [
    "#data.rates.nunique()\n",
    "chart=sns.countplot(x=df['Rating text'])\n",
    "print(chart.set_xticklabels(chart.get_xticklabels(), rotation=45))"
   ]
  },
  {
   "cell_type": "code",
   "execution_count": 13,
   "id": "c3f7c6b8",
   "metadata": {
    "scrolled": false
   },
   "outputs": [
    {
     "data": {
      "text/plain": [
       "<AxesSubplot:title={'center':'Price Range'}, xlabel='Price range', ylabel='count'>"
      ]
     },
     "execution_count": 13,
     "metadata": {},
     "output_type": "execute_result"
    },
    {
     "data": {
      "image/png": "[encoded data removed]",
      "text/plain": [
       "<Figure size 864x432 with 1 Axes>"
      ]
     },
     "metadata": {
      "needs_background": "light"
     },
     "output_type": "display_data"
    }
   ],
   "source": [
    "plt.figure(figsize=(12,6))\n",
    "plt.title('Price Range')\n",
    "sns.countplot(x='Price range', data=df)"
   ]
  },
  {
   "cell_type": "markdown",
   "id": "915cfc0f",
   "metadata": {},
   "source": [
    "Most of the Resturants have Price Range in \"1\" and price range of \"4\" is the Lowest in Resturents ."
   ]
  },
  {
   "cell_type": "code",
   "execution_count": 14,
   "id": "b7c855f6",
   "metadata": {},
   "outputs": [
    {
     "data": {
      "text/plain": [
       "0.0    2148\n",
       "3.2     522\n",
       "3.1     519\n",
       "3.4     498\n",
       "3.3     483\n",
       "3.5     480\n",
       "3.0     468\n",
       "3.6     458\n",
       "3.7     427\n",
       "3.8     400\n",
       "2.9     381\n",
       "3.9     335\n",
       "2.8     315\n",
       "4.1     274\n",
       "4.0     266\n",
       "2.7     250\n",
       "4.2     221\n",
       "2.6     191\n",
       "4.3     174\n",
       "4.4     144\n",
       "2.5     110\n",
       "4.5      95\n",
       "2.4      87\n",
       "4.6      78\n",
       "4.9      61\n",
       "2.3      47\n",
       "4.7      42\n",
       "2.2      27\n",
       "4.8      25\n",
       "2.1      15\n",
       "2.0       7\n",
       "1.9       2\n",
       "1.8       1\n",
       "Name: Aggregate rating, dtype: int64"
      ]
     },
     "execution_count": 14,
     "metadata": {},
     "output_type": "execute_result"
    }
   ],
   "source": [
    "df['Aggregate rating'].value_counts()"
   ]
  },
  {
   "cell_type": "code",
   "execution_count": 15,
   "id": "3b125d08",
   "metadata": {},
   "outputs": [
    {
     "data": {
      "image/png": "[encoded data removed]",
      "text/plain": [
       "<Figure size 864x432 with 1 Axes>"
      ]
     },
     "metadata": {},
     "output_type": "display_data"
    }
   ],
   "source": [
    "plt.figure(figsize=(12,6))\n",
    "plt.title('Online Delivery Distribution')\n",
    "plt.pie(df['Has Online delivery'].value_counts()/9551*100, labels=df['Has Online delivery'].value_counts().index, autopct='%1.1f%%', startangle=180);"
   ]
  },
  {
   "cell_type": "markdown",
   "id": "e8926179",
   "metadata": {},
   "source": [
    "Only 1/4th of the Resturents are providing with Online Delivery."
   ]
  },
  {
   "cell_type": "code",
   "execution_count": 16,
   "id": "9f4a80b8",
   "metadata": {},
   "outputs": [
    {
     "data": {
      "text/plain": [
       "New Delhi           5473\n",
       "Gurgaon             1118\n",
       "Noida               1080\n",
       "Faridabad            251\n",
       "Ghaziabad             25\n",
       "                    ... \n",
       "Panchkula              1\n",
       "Mc Millan              1\n",
       "Mayfield               1\n",
       "Macedon                1\n",
       "Vineland Station       1\n",
       "Name: City, Length: 141, dtype: int64"
      ]
     },
     "execution_count": 16,
     "metadata": {},
     "output_type": "execute_result"
    }
   ],
   "source": [
    "df['City'].value_counts()"
   ]
  },
  {
   "cell_type": "markdown",
   "id": "960b54ce",
   "metadata": {},
   "source": [
    "Data has most of it's source from New Delhi ."
   ]
  },
  {
   "cell_type": "code",
   "execution_count": 17,
   "id": "2e7de92d",
   "metadata": {},
   "outputs": [
    {
     "data": {
      "text/plain": [
       "Text(0.5, 1.0, 'Resturants Listing on Zomato')"
      ]
     },
     "execution_count": 17,
     "metadata": {},
     "output_type": "execute_result"
    },
    {
     "data": {
      "image/png": "[encoded data removed]",
      "text/plain": [
       "<Figure size 864x432 with 1 Axes>"
      ]
     },
     "metadata": {
      "needs_background": "light"
     },
     "output_type": "display_data"
    }
   ],
   "source": [
    "Delhi = df[(df.City == 'New Delhi')]\n",
    "plt.figure(figsize=(12,6))\n",
    "sns.barplot(x=Delhi.Locality.value_counts().head(10), y=Delhi.Locality.value_counts().head(10).index)\n",
    "\n",
    "plt.ylabel(None)\n",
    "plt.xlabel('Number of Resturants')\n",
    "plt.title('Resturants Listing on Zomato')"
   ]
  },
  {
   "cell_type": "markdown",
   "id": "4e74bbd1",
   "metadata": {},
   "source": [
    "Connaught place seems to have high no of resturatants registered with Zomato in Delhi . And Most of the Data is also Based on Delhi as well hence Connaught place has overall most Resturants in the the whole data."
   ]
  },
  {
   "cell_type": "code",
   "execution_count": 18,
   "id": "66c138f6",
   "metadata": {},
   "outputs": [
    {
     "data": {
      "text/plain": [
       "500       900\n",
       "300       897\n",
       "400       857\n",
       "200       687\n",
       "600       652\n",
       "         ... \n",
       "8000        1\n",
       "2350        1\n",
       "150000      1\n",
       "70000       1\n",
       "545         1\n",
       "Name: Average Cost for two, Length: 140, dtype: int64"
      ]
     },
     "execution_count": 18,
     "metadata": {},
     "output_type": "execute_result"
    }
   ],
   "source": [
    "df['Average Cost for two'].value_counts()"
   ]
  },
  {
   "cell_type": "code",
   "execution_count": 19,
   "id": "22f9ae6a",
   "metadata": {},
   "outputs": [
    {
     "data": {
      "text/plain": [
       "<AxesSubplot:xlabel='Rating text', ylabel='Average Cost for two'>"
      ]
     },
     "execution_count": 19,
     "metadata": {},
     "output_type": "execute_result"
    },
    {
     "data": {
      "image/png": "[encoded data removed]",
      "text/plain": [
       "<Figure size 1080x432 with 1 Axes>"
      ]
     },
     "metadata": {
      "needs_background": "light"
     },
     "output_type": "display_data"
    }
   ],
   "source": [
    "plt.figure(figsize=(15,6))\n",
    "sns.lineplot(x=df['Rating text'],y=df['Average Cost for two'])"
   ]
  },
  {
   "cell_type": "markdown",
   "id": "b1479072",
   "metadata": {},
   "source": [
    "Average Cost for Dinning for Resturants with High rating are more Costly as compared to Resturants with low Costs."
   ]
  },
  {
   "cell_type": "code",
   "execution_count": 20,
   "id": "d6aa2fca",
   "metadata": {},
   "outputs": [
    {
     "data": {
      "text/plain": [
       "<AxesSubplot:xlabel='Country', ylabel='Aggregate rating'>"
      ]
     },
     "execution_count": 20,
     "metadata": {},
     "output_type": "execute_result"
    },
    {
     "data": {
      "image/png": "[encoded data removed]",
      "text/plain": [
       "<Figure size 1080x432 with 1 Axes>"
      ]
     },
     "metadata": {
      "needs_background": "light"
     },
     "output_type": "display_data"
    }
   ],
   "source": [
    "plt.figure(figsize=(15,6))\n",
    "sns.lineplot(y=df['Aggregate rating'],x=df['Country'])"
   ]
  },
  {
   "cell_type": "markdown",
   "id": "a2c347dd",
   "metadata": {},
   "source": [
    "Average Rating for Resturants in India is Lowest than in any other Country. But Due to most of the Zomateo Restursnts being in India this might affect this graph."
   ]
  },
  {
   "cell_type": "code",
   "execution_count": 21,
   "id": "94e460b8",
   "metadata": {},
   "outputs": [
    {
     "data": {
      "text/plain": [
       "North Indian                                             936\n",
       "North Indian, Chinese                                    511\n",
       "Chinese                                                  354\n",
       "Fast Food                                                354\n",
       "North Indian, Mughlai                                    334\n",
       "                                                        ... \n",
       "Bengali, Fast Food                                         1\n",
       "North Indian, Rajasthani, Asian                            1\n",
       "Chinese, Thai, Malaysian, Indonesian                       1\n",
       "Bakery, Desserts, North Indian, Bengali, South Indian      1\n",
       "Italian, World Cuisine                                     1\n",
       "Name: Cuisines, Length: 1825, dtype: int64"
      ]
     },
     "execution_count": 21,
     "metadata": {},
     "output_type": "execute_result"
    }
   ],
   "source": [
    "df['Cuisines'].value_counts()"
   ]
  },
  {
   "cell_type": "markdown",
   "id": "105bfeee",
   "metadata": {},
   "source": [
    "As most of the Resturants are from New Delhi , we can also see that most of the Cuisines are North Indian."
   ]
  },
  {
   "cell_type": "code",
   "execution_count": 22,
   "id": "4dfd1574",
   "metadata": {},
   "outputs": [
    {
     "data": {
      "text/plain": [
       "<AxesSubplot:xlabel='Cuisines', ylabel='Aggregate rating'>"
      ]
     },
     "execution_count": 22,
     "metadata": {},
     "output_type": "execute_result"
    },
    {
     "data": {
      "image/png": "[encoded data removed]",
      "text/plain": [
       "<Figure size 1080x432 with 1 Axes>"
      ]
     },
     "metadata": {
      "needs_background": "light"
     },
     "output_type": "display_data"
    }
   ],
   "source": [
    "plt.figure(figsize=(15,6))\n",
    "sns.lineplot(y=df['Aggregate rating'],x=df['Cuisines'])"
   ]
  },
  {
   "cell_type": "code",
   "execution_count": 23,
   "id": "ece22a59",
   "metadata": {},
   "outputs": [
    {
     "data": {
      "text/plain": [
       "<bound method Series.count of 0             French, Japanese, Desserts\n",
       "1                               Japanese\n",
       "2       Seafood, Asian, Filipino, Indian\n",
       "3                        Japanese, Sushi\n",
       "4                       Japanese, Korean\n",
       "                      ...               \n",
       "9546                             Turkish\n",
       "9547     World Cuisine, Patisserie, Cafe\n",
       "9548              Italian, World Cuisine\n",
       "9549                     Restaurant Cafe\n",
       "9550                                Cafe\n",
       "Name: Cuisines, Length: 9551, dtype: object>"
      ]
     },
     "execution_count": 23,
     "metadata": {},
     "output_type": "execute_result"
    }
   ],
   "source": [
    "df.Cuisines.count"
   ]
  },
  {
   "cell_type": "markdown",
   "id": "4fc91f77",
   "metadata": {},
   "source": [
    "There are also most Cafe in Cuisines as we can see ."
   ]
  },
  {
   "cell_type": "code",
   "execution_count": 24,
   "id": "955d3d7b",
   "metadata": {},
   "outputs": [
    {
     "data": {
      "text/plain": [
       "Text(0.5, 1.0, 'Resturants Online Delivery')"
      ]
     },
     "execution_count": 24,
     "metadata": {},
     "output_type": "execute_result"
    },
    {
     "data": {
      "image/png": "[encoded data removed]",
      "text/plain": [
       "<Figure size 864x432 with 1 Axes>"
      ]
     },
     "metadata": {},
     "output_type": "display_data"
    }
   ],
   "source": [
    "top_locality = Delhi.Locality.value_counts().head(10)\n",
    "sns.set_theme(style=\"darkgrid\")\n",
    "plt.figure(figsize=(12,6))\n",
    "ax = sns.countplot(y= \"Locality\", hue=\"Has Online delivery\", data=Delhi[Delhi.Locality.isin(top_locality.index)])\n",
    "plt.title('Resturants Online Delivery')"
   ]
  },
  {
   "cell_type": "markdown",
   "id": "b49651be",
   "metadata": {},
   "source": [
    "There are most Resturants who does not provide Online Delivery in most of the places except in \"Malviya Nagar\""
   ]
  },
  {
   "cell_type": "code",
   "execution_count": 25,
   "id": "3ea1cd6e",
   "metadata": {},
   "outputs": [
    {
     "data": {
      "text/plain": [
       "Text(0.5, 1.0, 'Rating vs Cost of Two')"
      ]
     },
     "execution_count": 25,
     "metadata": {},
     "output_type": "execute_result"
    },
    {
     "data": {
      "image/png": "[encoded data removed]",
      "text/plain": [
       "<Figure size 864x432 with 1 Axes>"
      ]
     },
     "metadata": {},
     "output_type": "display_data"
    }
   ],
   "source": [
    "plt.figure(figsize=(12,6))\n",
    "sns.scatterplot(x=\"Average Cost for two\", y=\"Aggregate rating\", hue='Price range', data=Delhi)\n",
    "\n",
    "plt.xlabel(\"Average Cost for two\")\n",
    "plt.ylabel(\"Aggregate rating\")\n",
    "plt.title('Rating vs Cost of Two')"
   ]
  },
  {
   "cell_type": "markdown",
   "id": "a5521de8",
   "metadata": {},
   "source": [
    " As we can see Average Cost for Dinning for Resturants with High rating are more Costly as compared to Resturants with low Costs. Any Resturants with Price Range of \"4\" has Average Rating in Higher Brackets. And as the Cost Increases the Ratings also incereases as well ."
   ]
  },
  {
   "cell_type": "code",
   "execution_count": 26,
   "id": "25430abd",
   "metadata": {},
   "outputs": [
    {
     "data": {
      "text/plain": [
       "(9551, 22)"
      ]
     },
     "execution_count": 26,
     "metadata": {},
     "output_type": "execute_result"
    }
   ],
   "source": [
    "df.shape"
   ]
  },
  {
   "cell_type": "code",
   "execution_count": 27,
   "id": "340cd43d",
   "metadata": {
    "scrolled": true
   },
   "outputs": [
    {
     "data": {
      "text/html": [
       "<div>\n",
       "<style scoped>\n",
       "    .dataframe tbody tr th:only-of-type {\n",
       "        vertical-align: middle;\n",
       "    }\n",
       "\n",
       "    .dataframe tbody tr th {\n",
       "        vertical-align: top;\n",
       "    }\n",
       "\n",
       "    .dataframe thead th {\n",
       "        text-align: right;\n",
       "    }\n",
       "</style>\n",
       "<table border=\"1\" class=\"dataframe\">\n",
       "  <thead>\n",
       "    <tr style=\"text-align: right;\">\n",
       "      <th></th>\n",
       "      <th>count</th>\n",
       "      <th>mean</th>\n",
       "      <th>std</th>\n",
       "      <th>min</th>\n",
       "      <th>25%</th>\n",
       "      <th>50%</th>\n",
       "      <th>75%</th>\n",
       "      <th>max</th>\n",
       "    </tr>\n",
       "  </thead>\n",
       "  <tbody>\n",
       "    <tr>\n",
       "      <th>Restaurant ID</th>\n",
       "      <td>9551.0</td>\n",
       "      <td>9.051128e+06</td>\n",
       "      <td>8.791521e+06</td>\n",
       "      <td>53.000000</td>\n",
       "      <td>301962.500000</td>\n",
       "      <td>6.004089e+06</td>\n",
       "      <td>1.835229e+07</td>\n",
       "      <td>1.850065e+07</td>\n",
       "    </tr>\n",
       "    <tr>\n",
       "      <th>Country Code</th>\n",
       "      <td>9551.0</td>\n",
       "      <td>1.836562e+01</td>\n",
       "      <td>5.675055e+01</td>\n",
       "      <td>1.000000</td>\n",
       "      <td>1.000000</td>\n",
       "      <td>1.000000e+00</td>\n",
       "      <td>1.000000e+00</td>\n",
       "      <td>2.160000e+02</td>\n",
       "    </tr>\n",
       "    <tr>\n",
       "      <th>Longitude</th>\n",
       "      <td>9551.0</td>\n",
       "      <td>6.412657e+01</td>\n",
       "      <td>4.146706e+01</td>\n",
       "      <td>-157.948486</td>\n",
       "      <td>77.081343</td>\n",
       "      <td>7.719196e+01</td>\n",
       "      <td>7.728201e+01</td>\n",
       "      <td>1.748321e+02</td>\n",
       "    </tr>\n",
       "    <tr>\n",
       "      <th>Latitude</th>\n",
       "      <td>9551.0</td>\n",
       "      <td>2.585438e+01</td>\n",
       "      <td>1.100794e+01</td>\n",
       "      <td>-41.330428</td>\n",
       "      <td>28.478713</td>\n",
       "      <td>2.857047e+01</td>\n",
       "      <td>2.864276e+01</td>\n",
       "      <td>5.597698e+01</td>\n",
       "    </tr>\n",
       "    <tr>\n",
       "      <th>Average Cost for two</th>\n",
       "      <td>9551.0</td>\n",
       "      <td>1.199211e+03</td>\n",
       "      <td>1.612118e+04</td>\n",
       "      <td>0.000000</td>\n",
       "      <td>250.000000</td>\n",
       "      <td>4.000000e+02</td>\n",
       "      <td>7.000000e+02</td>\n",
       "      <td>8.000000e+05</td>\n",
       "    </tr>\n",
       "    <tr>\n",
       "      <th>Price range</th>\n",
       "      <td>9551.0</td>\n",
       "      <td>1.804837e+00</td>\n",
       "      <td>9.056088e-01</td>\n",
       "      <td>1.000000</td>\n",
       "      <td>1.000000</td>\n",
       "      <td>2.000000e+00</td>\n",
       "      <td>2.000000e+00</td>\n",
       "      <td>4.000000e+00</td>\n",
       "    </tr>\n",
       "    <tr>\n",
       "      <th>Aggregate rating</th>\n",
       "      <td>9551.0</td>\n",
       "      <td>2.666370e+00</td>\n",
       "      <td>1.516378e+00</td>\n",
       "      <td>0.000000</td>\n",
       "      <td>2.500000</td>\n",
       "      <td>3.200000e+00</td>\n",
       "      <td>3.700000e+00</td>\n",
       "      <td>4.900000e+00</td>\n",
       "    </tr>\n",
       "    <tr>\n",
       "      <th>Votes</th>\n",
       "      <td>9551.0</td>\n",
       "      <td>1.569097e+02</td>\n",
       "      <td>4.301691e+02</td>\n",
       "      <td>0.000000</td>\n",
       "      <td>5.000000</td>\n",
       "      <td>3.100000e+01</td>\n",
       "      <td>1.310000e+02</td>\n",
       "      <td>1.093400e+04</td>\n",
       "    </tr>\n",
       "  </tbody>\n",
       "</table>\n",
       "</div>"
      ],
      "text/plain": [
       "                       count          mean           std         min  \\\n",
       "Restaurant ID         9551.0  9.051128e+06  8.791521e+06   53.000000   \n",
       "Country Code          9551.0  1.836562e+01  5.675055e+01    1.000000   \n",
       "Longitude             9551.0  6.412657e+01  4.146706e+01 -157.948486   \n",
       "Latitude              9551.0  2.585438e+01  1.100794e+01  -41.330428   \n",
       "Average Cost for two  9551.0  1.199211e+03  1.612118e+04    0.000000   \n",
       "Price range           9551.0  1.804837e+00  9.056088e-01    1.000000   \n",
       "Aggregate rating      9551.0  2.666370e+00  1.516378e+00    0.000000   \n",
       "Votes                 9551.0  1.569097e+02  4.301691e+02    0.000000   \n",
       "\n",
       "                                25%           50%           75%           max  \n",
       "Restaurant ID         301962.500000  6.004089e+06  1.835229e+07  1.850065e+07  \n",
       "Country Code               1.000000  1.000000e+00  1.000000e+00  2.160000e+02  \n",
       "Longitude                 77.081343  7.719196e+01  7.728201e+01  1.748321e+02  \n",
       "Latitude                  28.478713  2.857047e+01  2.864276e+01  5.597698e+01  \n",
       "Average Cost for two     250.000000  4.000000e+02  7.000000e+02  8.000000e+05  \n",
       "Price range                1.000000  2.000000e+00  2.000000e+00  4.000000e+00  \n",
       "Aggregate rating           2.500000  3.200000e+00  3.700000e+00  4.900000e+00  \n",
       "Votes                      5.000000  3.100000e+01  1.310000e+02  1.093400e+04  "
      ]
     },
     "execution_count": 27,
     "metadata": {},
     "output_type": "execute_result"
    }
   ],
   "source": [
    "df.describe().T"
   ]
  },
  {
   "cell_type": "markdown",
   "id": "30a1a779",
   "metadata": {},
   "source": [
    "# Data Preprocessing"
   ]
  },
  {
   "cell_type": "code",
   "execution_count": 28,
   "id": "14d8596f",
   "metadata": {},
   "outputs": [],
   "source": [
    "from sklearn.preprocessing import LabelEncoder, OneHotEncoder\n",
    "from sklearn.preprocessing import MinMaxScaler\n",
    "\n",
    "le=LabelEncoder"
   ]
  },
  {
   "cell_type": "code",
   "execution_count": 29,
   "id": "34913ddc",
   "metadata": {},
   "outputs": [
    {
     "data": {
      "text/plain": [
       "Restaurant ID           9551\n",
       "Restaurant Name         7446\n",
       "Country Code              15\n",
       "City                     141\n",
       "Address                 8918\n",
       "Locality                1208\n",
       "Locality Verbose        1265\n",
       "Longitude               8120\n",
       "Latitude                8677\n",
       "Cuisines                1825\n",
       "Average Cost for two     140\n",
       "Currency                  12\n",
       "Has Table booking          2\n",
       "Has Online delivery        2\n",
       "Is delivering now          2\n",
       "Switch to order menu       1\n",
       "Price range                4\n",
       "Aggregate rating          33\n",
       "Rating color               6\n",
       "Rating text                6\n",
       "Votes                   1012\n",
       "Country                   15\n",
       "dtype: int64"
      ]
     },
     "execution_count": 29,
     "metadata": {},
     "output_type": "execute_result"
    }
   ],
   "source": [
    "df.nunique()"
   ]
  },
  {
   "cell_type": "markdown",
   "id": "ea1de3cd",
   "metadata": {},
   "source": [
    "There are many columns with Yes/No columns so Data Processing is needed here also on many other columns amoung them."
   ]
  },
  {
   "cell_type": "markdown",
   "id": "0d8c954a",
   "metadata": {},
   "source": [
    "              "
   ]
  },
  {
   "cell_type": "markdown",
   "id": "c325a6fc",
   "metadata": {},
   "source": [
    "                "
   ]
  },
  {
   "cell_type": "markdown",
   "id": "e0a7a05a",
   "metadata": {},
   "source": [
    "There is one column with some NaN values and lets replace NaNs with the mode of the column where it is located using mode() on \"Cuisines\" column "
   ]
  },
  {
   "cell_type": "code",
   "execution_count": 34,
   "id": "4f0c9d29",
   "metadata": {},
   "outputs": [
    {
     "data": {
      "text/plain": [
       "North Indian                                             945\n",
       "North Indian, Chinese                                    511\n",
       "Chinese                                                  354\n",
       "Fast Food                                                354\n",
       "North Indian, Mughlai                                    334\n",
       "                                                        ... \n",
       "Bengali, Fast Food                                         1\n",
       "North Indian, Rajasthani, Asian                            1\n",
       "Chinese, Thai, Malaysian, Indonesian                       1\n",
       "Bakery, Desserts, North Indian, Bengali, South Indian      1\n",
       "Italian, World Cuisine                                     1\n",
       "Name: Cuisines, Length: 1825, dtype: int64"
      ]
     },
     "execution_count": 34,
     "metadata": {},
     "output_type": "execute_result"
    }
   ],
   "source": [
    "df['Cuisines'].value_counts()"
   ]
  },
  {
   "cell_type": "code",
   "execution_count": 31,
   "id": "c23afa7c",
   "metadata": {},
   "outputs": [],
   "source": [
    "df['Cuisines'].fillna(df['Cuisines'].mode()[0], inplace=True)"
   ]
  },
  {
   "cell_type": "markdown",
   "id": "6958be8d",
   "metadata": {},
   "source": [
    "                  "
   ]
  },
  {
   "cell_type": "markdown",
   "id": "1d9d64ac",
   "metadata": {},
   "source": [
    "                  "
   ]
  },
  {
   "cell_type": "markdown",
   "id": "8a7e65e5",
   "metadata": {},
   "source": [
    "Replacing the Columns with Yes\\No options to Binary i.e. 0/1 ."
   ]
  },
  {
   "cell_type": "code",
   "execution_count": 32,
   "id": "f4e642f2",
   "metadata": {},
   "outputs": [],
   "source": [
    "df['Has Online delivery'].replace({'No': 0, 'Yes': 1}, inplace = True)\n",
    "df['Has Table booking'].replace({'No': 0, 'Yes': 1}, inplace = True)\n",
    "df['Is delivering now'].replace({'No': 0, 'Yes': 1}, inplace = True)"
   ]
  },
  {
   "cell_type": "code",
   "execution_count": 33,
   "id": "f3f11195",
   "metadata": {},
   "outputs": [
    {
     "name": "stdout",
     "output_type": "stream",
     "text": [
      "<class 'pandas.core.frame.DataFrame'>\n",
      "Int64Index: 9551 entries, 0 to 9550\n",
      "Data columns (total 22 columns):\n",
      " #   Column                Non-Null Count  Dtype  \n",
      "---  ------                --------------  -----  \n",
      " 0   Restaurant ID         9551 non-null   int64  \n",
      " 1   Restaurant Name       9551 non-null   object \n",
      " 2   Country Code          9551 non-null   int64  \n",
      " 3   City                  9551 non-null   object \n",
      " 4   Address               9551 non-null   object \n",
      " 5   Locality              9551 non-null   object \n",
      " 6   Locality Verbose      9551 non-null   object \n",
      " 7   Longitude             9551 non-null   float64\n",
      " 8   Latitude              9551 non-null   float64\n",
      " 9   Cuisines              9551 non-null   object \n",
      " 10  Average Cost for two  9551 non-null   int64  \n",
      " 11  Currency              9551 non-null   object \n",
      " 12  Has Table booking     9551 non-null   int64  \n",
      " 13  Has Online delivery   9551 non-null   int64  \n",
      " 14  Is delivering now     9551 non-null   int64  \n",
      " 15  Switch to order menu  9551 non-null   object \n",
      " 16  Price range           9551 non-null   int64  \n",
      " 17  Aggregate rating      9551 non-null   float64\n",
      " 18  Rating color          9551 non-null   object \n",
      " 19  Rating text           9551 non-null   object \n",
      " 20  Votes                 9551 non-null   int64  \n",
      " 21  Country               9551 non-null   object \n",
      "dtypes: float64(3), int64(8), object(11)\n",
      "memory usage: 1.9+ MB\n"
     ]
    }
   ],
   "source": [
    "df.info()"
   ]
  },
  {
   "cell_type": "code",
   "execution_count": 35,
   "id": "2c02feda",
   "metadata": {},
   "outputs": [
    {
     "data": {
      "text/plain": [
       "Restaurant ID           9551\n",
       "Restaurant Name         7446\n",
       "Country Code              15\n",
       "City                     141\n",
       "Address                 8918\n",
       "Locality                1208\n",
       "Locality Verbose        1265\n",
       "Longitude               8120\n",
       "Latitude                8677\n",
       "Cuisines                1825\n",
       "Average Cost for two     140\n",
       "Currency                  12\n",
       "Has Table booking          2\n",
       "Has Online delivery        2\n",
       "Is delivering now          2\n",
       "Switch to order menu       1\n",
       "Price range                4\n",
       "Aggregate rating          33\n",
       "Rating color               6\n",
       "Rating text                6\n",
       "Votes                   1012\n",
       "Country                   15\n",
       "dtype: int64"
      ]
     },
     "execution_count": 35,
     "metadata": {},
     "output_type": "execute_result"
    }
   ],
   "source": [
    "df.nunique()"
   ]
  },
  {
   "cell_type": "markdown",
   "id": "622e77d1",
   "metadata": {},
   "source": [
    "Categorical features need to be converted to numbers so that they can be included in calculations done by a machine learning model. The categorical variables in our data set are not ordinal (i.e. there is no order in them)"
   ]
  },
  {
   "cell_type": "code",
   "execution_count": 36,
   "id": "f0dbe3ad",
   "metadata": {},
   "outputs": [],
   "source": [
    "from sklearn import preprocessing\n",
    "le = preprocessing.LabelEncoder()"
   ]
  },
  {
   "cell_type": "markdown",
   "id": "b4116ddc",
   "metadata": {},
   "source": [
    "We have to Lable Encode \"Currency\" , \"Locality\" , \"Cuisines\" , \"Country\" , \"City\" columns as it is very much required in our data ."
   ]
  },
  {
   "cell_type": "code",
   "execution_count": 37,
   "id": "1f6d4826",
   "metadata": {},
   "outputs": [],
   "source": [
    "df['Currency'] = le.fit_transform(df['Currency'])"
   ]
  },
  {
   "cell_type": "code",
   "execution_count": 38,
   "id": "cd218806",
   "metadata": {},
   "outputs": [],
   "source": [
    "df['Locality'] = le.fit_transform(df['Locality'])"
   ]
  },
  {
   "cell_type": "code",
   "execution_count": 39,
   "id": "9b68adb2",
   "metadata": {},
   "outputs": [],
   "source": [
    "df['Cuisines'] = le.fit_transform(df['Cuisines'])"
   ]
  },
  {
   "cell_type": "code",
   "execution_count": 40,
   "id": "3914ecb4",
   "metadata": {},
   "outputs": [],
   "source": [
    "df['Country'] = le.fit_transform(df['Country'])"
   ]
  },
  {
   "cell_type": "code",
   "execution_count": 41,
   "id": "5b635cbd",
   "metadata": {},
   "outputs": [],
   "source": [
    "df['City'] = le.fit_transform(df['City'])"
   ]
  },
  {
   "cell_type": "markdown",
   "id": "67a6b159",
   "metadata": {},
   "source": [
    "We have to Drop some Columns which are not required that are \"Restaurant ID\" , 'Restaurant Name','Address','Locality Verbose','Longitude','Latitude','Switch to order menu','Rating color','Rating text' ."
   ]
  },
  {
   "cell_type": "code",
   "execution_count": 42,
   "id": "66ecb921",
   "metadata": {},
   "outputs": [],
   "source": [
    "df=df.drop(['Restaurant ID','Restaurant Name','Address','Locality Verbose','Longitude','Latitude','Switch to order menu','Rating color','Rating text'], axis=1)"
   ]
  },
  {
   "cell_type": "code",
   "execution_count": 43,
   "id": "13cb2a39",
   "metadata": {},
   "outputs": [
    {
     "data": {
      "text/html": [
       "<div>\n",
       "<style scoped>\n",
       "    .dataframe tbody tr th:only-of-type {\n",
       "        vertical-align: middle;\n",
       "    }\n",
       "\n",
       "    .dataframe tbody tr th {\n",
       "        vertical-align: top;\n",
       "    }\n",
       "\n",
       "    .dataframe thead th {\n",
       "        text-align: right;\n",
       "    }\n",
       "</style>\n",
       "<table border=\"1\" class=\"dataframe\">\n",
       "  <thead>\n",
       "    <tr style=\"text-align: right;\">\n",
       "      <th></th>\n",
       "      <th>Country Code</th>\n",
       "      <th>City</th>\n",
       "      <th>Locality</th>\n",
       "      <th>Cuisines</th>\n",
       "      <th>Average Cost for two</th>\n",
       "      <th>Currency</th>\n",
       "      <th>Has Table booking</th>\n",
       "      <th>Has Online delivery</th>\n",
       "      <th>Is delivering now</th>\n",
       "      <th>Price range</th>\n",
       "      <th>Aggregate rating</th>\n",
       "      <th>Votes</th>\n",
       "      <th>Country</th>\n",
       "    </tr>\n",
       "  </thead>\n",
       "  <tbody>\n",
       "    <tr>\n",
       "      <th>0</th>\n",
       "      <td>162</td>\n",
       "      <td>74</td>\n",
       "      <td>175</td>\n",
       "      <td>920</td>\n",
       "      <td>1100</td>\n",
       "      <td>0</td>\n",
       "      <td>1</td>\n",
       "      <td>0</td>\n",
       "      <td>0</td>\n",
       "      <td>3</td>\n",
       "      <td>4.8</td>\n",
       "      <td>314</td>\n",
       "      <td>6</td>\n",
       "    </tr>\n",
       "    <tr>\n",
       "      <th>1</th>\n",
       "      <td>162</td>\n",
       "      <td>74</td>\n",
       "      <td>597</td>\n",
       "      <td>1111</td>\n",
       "      <td>1200</td>\n",
       "      <td>0</td>\n",
       "      <td>1</td>\n",
       "      <td>0</td>\n",
       "      <td>0</td>\n",
       "      <td>3</td>\n",
       "      <td>4.5</td>\n",
       "      <td>591</td>\n",
       "      <td>6</td>\n",
       "    </tr>\n",
       "    <tr>\n",
       "      <th>2</th>\n",
       "      <td>162</td>\n",
       "      <td>76</td>\n",
       "      <td>312</td>\n",
       "      <td>1671</td>\n",
       "      <td>4000</td>\n",
       "      <td>0</td>\n",
       "      <td>1</td>\n",
       "      <td>0</td>\n",
       "      <td>0</td>\n",
       "      <td>4</td>\n",
       "      <td>4.4</td>\n",
       "      <td>270</td>\n",
       "      <td>6</td>\n",
       "    </tr>\n",
       "    <tr>\n",
       "      <th>3</th>\n",
       "      <td>162</td>\n",
       "      <td>76</td>\n",
       "      <td>866</td>\n",
       "      <td>1126</td>\n",
       "      <td>1500</td>\n",
       "      <td>0</td>\n",
       "      <td>0</td>\n",
       "      <td>0</td>\n",
       "      <td>0</td>\n",
       "      <td>4</td>\n",
       "      <td>4.9</td>\n",
       "      <td>365</td>\n",
       "      <td>6</td>\n",
       "    </tr>\n",
       "    <tr>\n",
       "      <th>4</th>\n",
       "      <td>162</td>\n",
       "      <td>76</td>\n",
       "      <td>866</td>\n",
       "      <td>1122</td>\n",
       "      <td>1500</td>\n",
       "      <td>0</td>\n",
       "      <td>1</td>\n",
       "      <td>0</td>\n",
       "      <td>0</td>\n",
       "      <td>4</td>\n",
       "      <td>4.8</td>\n",
       "      <td>229</td>\n",
       "      <td>6</td>\n",
       "    </tr>\n",
       "    <tr>\n",
       "      <th>...</th>\n",
       "      <td>...</td>\n",
       "      <td>...</td>\n",
       "      <td>...</td>\n",
       "      <td>...</td>\n",
       "      <td>...</td>\n",
       "      <td>...</td>\n",
       "      <td>...</td>\n",
       "      <td>...</td>\n",
       "      <td>...</td>\n",
       "      <td>...</td>\n",
       "      <td>...</td>\n",
       "      <td>...</td>\n",
       "      <td>...</td>\n",
       "    </tr>\n",
       "    <tr>\n",
       "      <th>9546</th>\n",
       "      <td>208</td>\n",
       "      <td>0</td>\n",
       "      <td>522</td>\n",
       "      <td>1813</td>\n",
       "      <td>80</td>\n",
       "      <td>11</td>\n",
       "      <td>0</td>\n",
       "      <td>0</td>\n",
       "      <td>0</td>\n",
       "      <td>3</td>\n",
       "      <td>4.1</td>\n",
       "      <td>788</td>\n",
       "      <td>11</td>\n",
       "    </tr>\n",
       "    <tr>\n",
       "      <th>9547</th>\n",
       "      <td>208</td>\n",
       "      <td>0</td>\n",
       "      <td>547</td>\n",
       "      <td>1824</td>\n",
       "      <td>105</td>\n",
       "      <td>11</td>\n",
       "      <td>0</td>\n",
       "      <td>0</td>\n",
       "      <td>0</td>\n",
       "      <td>3</td>\n",
       "      <td>4.2</td>\n",
       "      <td>1034</td>\n",
       "      <td>11</td>\n",
       "    </tr>\n",
       "    <tr>\n",
       "      <th>9548</th>\n",
       "      <td>208</td>\n",
       "      <td>0</td>\n",
       "      <td>559</td>\n",
       "      <td>1110</td>\n",
       "      <td>170</td>\n",
       "      <td>11</td>\n",
       "      <td>0</td>\n",
       "      <td>0</td>\n",
       "      <td>0</td>\n",
       "      <td>4</td>\n",
       "      <td>3.7</td>\n",
       "      <td>661</td>\n",
       "      <td>11</td>\n",
       "    </tr>\n",
       "    <tr>\n",
       "      <th>9549</th>\n",
       "      <td>208</td>\n",
       "      <td>0</td>\n",
       "      <td>559</td>\n",
       "      <td>1657</td>\n",
       "      <td>120</td>\n",
       "      <td>11</td>\n",
       "      <td>0</td>\n",
       "      <td>0</td>\n",
       "      <td>0</td>\n",
       "      <td>4</td>\n",
       "      <td>4.0</td>\n",
       "      <td>901</td>\n",
       "      <td>11</td>\n",
       "    </tr>\n",
       "    <tr>\n",
       "      <th>9550</th>\n",
       "      <td>208</td>\n",
       "      <td>0</td>\n",
       "      <td>674</td>\n",
       "      <td>331</td>\n",
       "      <td>55</td>\n",
       "      <td>11</td>\n",
       "      <td>0</td>\n",
       "      <td>0</td>\n",
       "      <td>0</td>\n",
       "      <td>2</td>\n",
       "      <td>4.0</td>\n",
       "      <td>591</td>\n",
       "      <td>11</td>\n",
       "    </tr>\n",
       "  </tbody>\n",
       "</table>\n",
       "<p>9551 rows × 13 columns</p>\n",
       "</div>"
      ],
      "text/plain": [
       "      Country Code  City  Locality  Cuisines  Average Cost for two  Currency  \\\n",
       "0              162    74       175       920                  1100         0   \n",
       "1              162    74       597      1111                  1200         0   \n",
       "2              162    76       312      1671                  4000         0   \n",
       "3              162    76       866      1126                  1500         0   \n",
       "4              162    76       866      1122                  1500         0   \n",
       "...            ...   ...       ...       ...                   ...       ...   \n",
       "9546           208     0       522      1813                    80        11   \n",
       "9547           208     0       547      1824                   105        11   \n",
       "9548           208     0       559      1110                   170        11   \n",
       "9549           208     0       559      1657                   120        11   \n",
       "9550           208     0       674       331                    55        11   \n",
       "\n",
       "      Has Table booking  Has Online delivery  Is delivering now  Price range  \\\n",
       "0                     1                    0                  0            3   \n",
       "1                     1                    0                  0            3   \n",
       "2                     1                    0                  0            4   \n",
       "3                     0                    0                  0            4   \n",
       "4                     1                    0                  0            4   \n",
       "...                 ...                  ...                ...          ...   \n",
       "9546                  0                    0                  0            3   \n",
       "9547                  0                    0                  0            3   \n",
       "9548                  0                    0                  0            4   \n",
       "9549                  0                    0                  0            4   \n",
       "9550                  0                    0                  0            2   \n",
       "\n",
       "      Aggregate rating  Votes  Country  \n",
       "0                  4.8    314        6  \n",
       "1                  4.5    591        6  \n",
       "2                  4.4    270        6  \n",
       "3                  4.9    365        6  \n",
       "4                  4.8    229        6  \n",
       "...                ...    ...      ...  \n",
       "9546               4.1    788       11  \n",
       "9547               4.2   1034       11  \n",
       "9548               3.7    661       11  \n",
       "9549               4.0    901       11  \n",
       "9550               4.0    591       11  \n",
       "\n",
       "[9551 rows x 13 columns]"
      ]
     },
     "execution_count": 43,
     "metadata": {},
     "output_type": "execute_result"
    }
   ],
   "source": [
    "df"
   ]
  },
  {
   "cell_type": "code",
   "execution_count": 44,
   "id": "9c14a763",
   "metadata": {},
   "outputs": [
    {
     "data": {
      "text/plain": [
       "<AxesSubplot:>"
      ]
     },
     "execution_count": 44,
     "metadata": {},
     "output_type": "execute_result"
    },
    {
     "data": {
      "image/png": "[encoded data removed]",
      "text/plain": [
       "<Figure size 1080x576 with 2 Axes>"
      ]
     },
     "metadata": {},
     "output_type": "display_data"
    }
   ],
   "source": [
    "#Get Correlation between different variables\n",
    "corr = df.corr(method='kendall')\n",
    "plt.figure(figsize=(15,8))\n",
    "sns.heatmap(corr, annot=True)"
   ]
  },
  {
   "cell_type": "code",
   "execution_count": 45,
   "id": "8451f46f",
   "metadata": {},
   "outputs": [
    {
     "data": {
      "text/plain": [
       "Country Code             3.043965\n",
       "City                    -1.243427\n",
       "Locality                -0.255567\n",
       "Cuisines                -0.307440\n",
       "Average Cost for two    35.477915\n",
       "Currency                 2.858093\n",
       "Has Table booking        2.321100\n",
       "Has Online delivery      1.114620\n",
       "Is delivering now       16.673412\n",
       "Price range              0.889618\n",
       "Aggregate rating        -0.954130\n",
       "Votes                    8.807637\n",
       "Country                  3.312721\n",
       "dtype: float64"
      ]
     },
     "execution_count": 45,
     "metadata": {},
     "output_type": "execute_result"
    }
   ],
   "source": [
    "df.skew()"
   ]
  },
  {
   "cell_type": "markdown",
   "id": "ac35f907",
   "metadata": {},
   "source": [
    "             "
   ]
  },
  {
   "cell_type": "markdown",
   "id": "299a88ca",
   "metadata": {},
   "source": [
    "# Predicting Dataset with respect to \"Price Range\""
   ]
  },
  {
   "cell_type": "code",
   "execution_count": 46,
   "id": "df6c722b",
   "metadata": {},
   "outputs": [],
   "source": [
    "X=df.drop(['Price range'],axis=1)\n",
    "y=df['Price range']"
   ]
  },
  {
   "cell_type": "code",
   "execution_count": 47,
   "id": "e7fcada5",
   "metadata": {},
   "outputs": [],
   "source": [
    "x=X"
   ]
  },
  {
   "cell_type": "code",
   "execution_count": 48,
   "id": "882cd580",
   "metadata": {},
   "outputs": [
    {
     "data": {
      "text/plain": [
       "7590    1\n",
       "2907    1\n",
       "5473    1\n",
       "8056    2\n",
       "8161    2\n",
       "Name: Price range, dtype: int64"
      ]
     },
     "execution_count": 48,
     "metadata": {},
     "output_type": "execute_result"
    }
   ],
   "source": [
    "#Getting Test and Training Set\n",
    "x_train,x_test,y_train,y_test=train_test_split(X,y,test_size=0.2,random_state=7)\n",
    "x_train.head()\n",
    "y_train.head()"
   ]
  },
  {
   "cell_type": "code",
   "execution_count": 49,
   "id": "b3af2ae0",
   "metadata": {},
   "outputs": [],
   "source": [
    "from sklearn.metrics import r2_score,mean_absolute_error,mean_squared_error\n",
    "from sklearn.linear_model import LogisticRegression,Lasso,LinearRegression\n",
    "from sklearn.neighbors import KNeighborsRegressor\n",
    "from sklearn.svm import SVR\n",
    "from sklearn.tree import DecisionTreeRegressor\n",
    "from sklearn.ensemble import AdaBoostRegressor,GradientBoostingRegressor\n",
    "from sklearn.preprocessing import LabelEncoder,StandardScaler\n",
    "from sklearn.model_selection import train_test_split,GridSearchCV\n",
    "from sklearn.decomposition import PCA\n",
    "from scipy.stats import zscore\n",
    "from sklearn.model_selection import cross_val_score"
   ]
  },
  {
   "cell_type": "markdown",
   "id": "5dbaef95",
   "metadata": {},
   "source": [
    "## Linear Regression Model"
   ]
  },
  {
   "cell_type": "code",
   "execution_count": 50,
   "id": "14d9fd13",
   "metadata": {
    "scrolled": true
   },
   "outputs": [],
   "source": [
    "#Prepare a Linear Regression Model\n",
    "reg=LinearRegression()\n",
    "reg.fit(x_train,y_train)\n",
    "y_pred=reg.predict(x_test)"
   ]
  },
  {
   "cell_type": "code",
   "execution_count": 51,
   "id": "a005376a",
   "metadata": {},
   "outputs": [
    {
     "data": {
      "text/plain": [
       "0.4614890102264335"
      ]
     },
     "execution_count": 51,
     "metadata": {},
     "output_type": "execute_result"
    }
   ],
   "source": [
    "from sklearn.metrics import r2_score\n",
    "r2_score(y_test,y_pred)"
   ]
  },
  {
   "cell_type": "markdown",
   "id": "1907ed8c",
   "metadata": {},
   "source": [
    "Linear Regression has only R^2 Score of only 46.15%"
   ]
  },
  {
   "cell_type": "markdown",
   "id": "d18f7417",
   "metadata": {},
   "source": [
    "               "
   ]
  },
  {
   "cell_type": "markdown",
   "id": "f61bcd48",
   "metadata": {},
   "source": [
    "## Decision Tree Regression"
   ]
  },
  {
   "cell_type": "code",
   "execution_count": 52,
   "id": "19e95583",
   "metadata": {},
   "outputs": [
    {
     "data": {
      "text/plain": [
       "0.9783943600931122"
      ]
     },
     "execution_count": 52,
     "metadata": {},
     "output_type": "execute_result"
    }
   ],
   "source": [
    "#Prepairng a Decision Tree Regression\n",
    "from sklearn.tree import DecisionTreeRegressor\n",
    "x_train,x_test,y_train,y_test=train_test_split(x,y,test_size=.1,random_state=105)\n",
    "DTree=DecisionTreeRegressor(min_samples_leaf=.0001)\n",
    "DTree.fit(x_train,y_train)\n",
    "y_predict=DTree.predict(x_test)\n",
    "from sklearn.metrics import r2_score\n",
    "r2_score(y_test,y_predict)"
   ]
  },
  {
   "cell_type": "code",
   "execution_count": 53,
   "id": "a4af7f7c",
   "metadata": {},
   "outputs": [
    {
     "data": {
      "image/png": "[encoded data removed]",
      "text/plain": [
       "<Figure size 432x288 with 1 Axes>"
      ]
     },
     "metadata": {},
     "output_type": "display_data"
    }
   ],
   "source": [
    "# Plot the results\n",
    "plt.figure()\n",
    "plt.plot(y_test, y_predict, color=\"cornflowerblue\", label=\"max_depth=2\", linewidth=2)\n",
    "plt.xlabel(\"data\")\n",
    "plt.ylabel(\"target\")\n",
    "plt.title(\"Decision Tree Regression\")\n",
    "plt.legend()\n",
    "plt.show()"
   ]
  },
  {
   "cell_type": "markdown",
   "id": "90c4588f",
   "metadata": {},
   "source": [
    "Decision Tree Regression has R^2 score of 97.84%"
   ]
  },
  {
   "cell_type": "markdown",
   "id": "d317507c",
   "metadata": {},
   "source": [
    "          "
   ]
  },
  {
   "cell_type": "markdown",
   "id": "b7f62b66",
   "metadata": {},
   "source": [
    "## Random Forest Regression"
   ]
  },
  {
   "cell_type": "code",
   "execution_count": 54,
   "id": "1c8f9533",
   "metadata": {},
   "outputs": [
    {
     "data": {
      "text/plain": [
       "0.9797790884313045"
      ]
     },
     "execution_count": 54,
     "metadata": {},
     "output_type": "execute_result"
    }
   ],
   "source": [
    "#Preparing Random Forest REgression\n",
    "from sklearn.ensemble import RandomForestRegressor\n",
    "RForest=RandomForestRegressor(n_estimators=500,random_state=329,min_samples_leaf=.0001)\n",
    "RForest.fit(x_train,y_train)\n",
    "y_predict=RForest.predict(x_test)\n",
    "from sklearn.metrics import r2_score\n",
    "r2_score(y_test,y_predict)"
   ]
  },
  {
   "cell_type": "markdown",
   "id": "51cd8d7b",
   "metadata": {},
   "source": [
    "Random Forest Regression has R^2 score of 97.977 % ."
   ]
  },
  {
   "cell_type": "markdown",
   "id": "1357703c",
   "metadata": {},
   "source": [
    "         "
   ]
  },
  {
   "cell_type": "markdown",
   "id": "e3b5e007",
   "metadata": {},
   "source": [
    "## Extra Tree Regression"
   ]
  },
  {
   "cell_type": "code",
   "execution_count": 55,
   "id": "04708c57",
   "metadata": {},
   "outputs": [
    {
     "data": {
      "text/plain": [
       "0.9767211939203229"
      ]
     },
     "execution_count": 55,
     "metadata": {},
     "output_type": "execute_result"
    }
   ],
   "source": [
    "#Preparing Extra Tree Regression\n",
    "from sklearn.ensemble import  ExtraTreesRegressor\n",
    "ETree=ExtraTreesRegressor(n_estimators = 100)\n",
    "ETree.fit(x_train,y_train)\n",
    "y_predict=ETree.predict(x_test)\n",
    "from sklearn.metrics import r2_score\n",
    "r2_score(y_test,y_predict)"
   ]
  },
  {
   "cell_type": "markdown",
   "id": "d0098887",
   "metadata": {},
   "source": [
    "Extra Tree Regression has R^2 score of 97.672 %."
   ]
  },
  {
   "cell_type": "markdown",
   "id": "35da1e80",
   "metadata": {},
   "source": [
    "               "
   ]
  },
  {
   "cell_type": "markdown",
   "id": "4ced8635",
   "metadata": {},
   "source": [
    "### Predicting the Dataset with Target set as \"Price Range\" with Random Forest Regression has R^2 score of 97.977 %  as highest amongst other Model Predictions."
   ]
  },
  {
   "cell_type": "markdown",
   "id": "7b2c811e",
   "metadata": {},
   "source": [
    "           "
   ]
  },
  {
   "cell_type": "markdown",
   "id": "45987f93",
   "metadata": {},
   "source": [
    "            "
   ]
  },
  {
   "cell_type": "markdown",
   "id": "8e0e418f",
   "metadata": {},
   "source": [
    "# Predicting Dataset with respect to \"Average Cost for two\""
   ]
  },
  {
   "cell_type": "code",
   "execution_count": 56,
   "id": "3bfc68e6",
   "metadata": {},
   "outputs": [],
   "source": [
    "X=df.drop(['Average Cost for two','Is delivering now'],axis=1)\n",
    "y=df['Average Cost for two']"
   ]
  },
  {
   "cell_type": "code",
   "execution_count": 57,
   "id": "5e078ad3",
   "metadata": {},
   "outputs": [],
   "source": [
    "x=X"
   ]
  },
  {
   "cell_type": "code",
   "execution_count": 58,
   "id": "8b97bcc4",
   "metadata": {},
   "outputs": [],
   "source": [
    "#Standardize the value of x so that mean will 0 and SD will become 1 , and make the data as normal distributed\n",
    "sc = StandardScaler()\n",
    "sc.fit_transform(x)\n",
    "x = pd.DataFrame(x,columns=x.columns)"
   ]
  },
  {
   "cell_type": "code",
   "execution_count": 59,
   "id": "8876ea35",
   "metadata": {
    "scrolled": false
   },
   "outputs": [
    {
     "name": "stdout",
     "output_type": "stream",
     "text": [
      "R2 score correspond to random state  0 is 0.4443418374704481\n",
      "R2 score correspond to random state  0 is -0.050884973846035964\n",
      "R2 score correspond to random state  0 is 0.46425445816665856\n",
      "R2 score correspond to random state  0 is 0.03512891915527383\n",
      "R2 score correspond to random state  0 is 0.507447236739643\n",
      "R2 score correspond to random state  1 is 0.675952520225483\n",
      "R2 score correspond to random state  1 is -0.0625481997657622\n",
      "R2 score correspond to random state  1 is 0.3576929476489349\n",
      "R2 score correspond to random state  1 is 0.0305763471865228\n",
      "R2 score correspond to random state  1 is 0.5781820949197155\n",
      "R2 score correspond to random state  2 is 0.8453284086477797\n",
      "R2 score correspond to random state  2 is -2.14623914029069\n",
      "R2 score correspond to random state  2 is -5.549695740868673\n",
      "R2 score correspond to random state  2 is -0.13913707264837205\n",
      "R2 score correspond to random state  2 is 0.39618649094492486\n",
      "R2 score correspond to random state  3 is 0.6085540439409427\n",
      "R2 score correspond to random state  3 is -2.0027998546361827\n",
      "R2 score correspond to random state  3 is -0.879671310898549\n",
      "R2 score correspond to random state  3 is -0.03816782640908856\n",
      "R2 score correspond to random state  3 is 0.707786442995896\n",
      "R2 score correspond to random state  4 is 0.47720946535236\n",
      "R2 score correspond to random state  4 is -0.03669558053009747\n",
      "R2 score correspond to random state  4 is 0.4730082364695348\n",
      "R2 score correspond to random state  4 is 0.03426270234275475\n",
      "R2 score correspond to random state  4 is 0.5026302880798437\n",
      "R2 score correspond to random state  5 is 0.4690171375312995\n",
      "R2 score correspond to random state  5 is -0.13954390816382056\n",
      "R2 score correspond to random state  5 is 0.12828458751029537\n",
      "R2 score correspond to random state  5 is 0.029334832903939678\n",
      "R2 score correspond to random state  5 is 0.4570332598036082\n",
      "R2 score correspond to random state  6 is 0.46563301780941535\n",
      "R2 score correspond to random state  6 is -0.07038080247601242\n",
      "R2 score correspond to random state  6 is 0.48536542546623107\n",
      "R2 score correspond to random state  6 is 0.031751314112634654\n",
      "R2 score correspond to random state  6 is 0.4645357288107973\n",
      "R2 score correspond to random state  7 is 0.30702576533464454\n",
      "R2 score correspond to random state  7 is -0.12055050344210705\n",
      "R2 score correspond to random state  7 is -0.18751120991411785\n",
      "R2 score correspond to random state  7 is 0.046343820829041205\n",
      "R2 score correspond to random state  7 is 0.6248679860750245\n",
      "R2 score correspond to random state  8 is -0.30092829655617037\n",
      "R2 score correspond to random state  8 is -0.7261254488652766\n",
      "R2 score correspond to random state  8 is 0.29608306466687095\n",
      "R2 score correspond to random state  8 is 0.05319140626628727\n",
      "R2 score correspond to random state  8 is 0.6316076227492395\n",
      "R2 score correspond to random state  9 is 0.35138702307423564\n",
      "R2 score correspond to random state  9 is -0.11563689615587269\n",
      "R2 score correspond to random state  9 is 0.5058304622402792\n",
      "R2 score correspond to random state  9 is 0.04887786730199206\n",
      "R2 score correspond to random state  9 is 0.5628204602073499\n",
      "R2 score correspond to random state  10 is -0.6958010519025535\n",
      "R2 score correspond to random state  10 is -0.3141597664676101\n",
      "R2 score correspond to random state  10 is -0.7868432258141129\n",
      "R2 score correspond to random state  10 is 0.05200268569535449\n",
      "R2 score correspond to random state  10 is 0.49828013847620967\n",
      "R2 score correspond to random state  11 is 0.5528563176966361\n",
      "R2 score correspond to random state  11 is -0.10916040544734962\n",
      "R2 score correspond to random state  11 is 0.5367101400347312\n",
      "R2 score correspond to random state  11 is 0.0374062715605713\n",
      "R2 score correspond to random state  11 is 0.5872590983683088\n",
      "R2 score correspond to random state  12 is 0.11865741165045729\n",
      "R2 score correspond to random state  12 is -0.18464460903199997\n",
      "R2 score correspond to random state  12 is 0.6024192342260075\n",
      "R2 score correspond to random state  12 is 0.04395828470311547\n",
      "R2 score correspond to random state  12 is 0.4994137125682605\n",
      "R2 score correspond to random state  13 is -0.8665529699594705\n",
      "R2 score correspond to random state  13 is -0.19716612093778796\n",
      "R2 score correspond to random state  13 is -0.6930372890931293\n",
      "R2 score correspond to random state  13 is 0.051430291869865696\n",
      "R2 score correspond to random state  13 is -0.9805059126890077\n",
      "R2 score correspond to random state  14 is -4.582649757716733\n",
      "R2 score correspond to random state  14 is -2.288031562150621\n",
      "R2 score correspond to random state  14 is 0.061724139276975176\n",
      "R2 score correspond to random state  14 is -0.059567381152763055\n",
      "R2 score correspond to random state  14 is -0.05097700475485123\n",
      "R2 score correspond to random state  15 is 0.05705468335663688\n",
      "R2 score correspond to random state  15 is -0.3221176653497768\n",
      "R2 score correspond to random state  15 is 0.7093951732692962\n",
      "R2 score correspond to random state  15 is 0.050406896256690925\n",
      "R2 score correspond to random state  15 is 0.4428903582863445\n",
      "R2 score correspond to random state  16 is 0.7006423356992468\n",
      "R2 score correspond to random state  16 is -6.093921588523988\n",
      "R2 score correspond to random state  16 is -0.3981279885067528\n",
      "R2 score correspond to random state  16 is -0.6918081179232205\n",
      "R2 score correspond to random state  16 is -0.27755094931964197\n",
      "R2 score correspond to random state  17 is 0.09092781732232691\n",
      "R2 score correspond to random state  17 is -0.09533273719198454\n",
      "R2 score correspond to random state  17 is 0.5302029160984902\n",
      "R2 score correspond to random state  17 is 0.039942513455269224\n",
      "R2 score correspond to random state  17 is 0.3910561689459453\n",
      "R2 score correspond to random state  18 is 0.1877730196627072\n",
      "R2 score correspond to random state  18 is -0.46945491463131117\n",
      "R2 score correspond to random state  18 is -0.15566893020301875\n",
      "R2 score correspond to random state  18 is 0.05517540394798359\n",
      "R2 score correspond to random state  18 is 0.40588538430132304\n",
      "R2 score correspond to random state  19 is -1.613478624237504\n",
      "R2 score correspond to random state  19 is -0.2548106505862602\n",
      "R2 score correspond to random state  19 is 0.6429887365138596\n",
      "R2 score correspond to random state  19 is 0.04606151208578535\n",
      "R2 score correspond to random state  19 is 0.7332296861105814\n",
      "R2 score correspond to random state  20 is 0.5403486420329084\n",
      "R2 score correspond to random state  20 is -1.6224393401396973\n",
      "R2 score correspond to random state  20 is -0.8274611031383834\n",
      "R2 score correspond to random state  20 is -0.09135500686588327\n",
      "R2 score correspond to random state  20 is -1.5540339247547852\n",
      "R2 score correspond to random state  21 is 0.5590893348813974\n",
      "R2 score correspond to random state  21 is -0.6505268567332654\n",
      "R2 score correspond to random state  21 is 0.6684511917045477\n",
      "R2 score correspond to random state  21 is -0.0032407433043459832\n",
      "R2 score correspond to random state  21 is 0.7074087868247878\n",
      "R2 score correspond to random state  22 is 0.491050573718283\n",
      "R2 score correspond to random state  22 is -0.18035558797819307\n",
      "R2 score correspond to random state  22 is -0.11441202837087161\n",
      "R2 score correspond to random state  22 is 0.03651757387707277\n",
      "R2 score correspond to random state  22 is 0.4359815134214017\n",
      "R2 score correspond to random state  23 is 0.5070357759686505\n",
      "R2 score correspond to random state  23 is -0.14154282866950263\n",
      "R2 score correspond to random state  23 is 0.35880799509596206\n",
      "R2 score correspond to random state  23 is -0.01056065546064211\n",
      "R2 score correspond to random state  23 is 0.4140926401546907\n",
      "R2 score correspond to random state  24 is 0.20761918816142744\n",
      "R2 score correspond to random state  24 is -0.109186866142301\n",
      "R2 score correspond to random state  24 is 0.5378211441224666\n",
      "R2 score correspond to random state  24 is 0.04030448770700923\n",
      "R2 score correspond to random state  24 is 0.49335326928688705\n",
      "R2 score correspond to random state  25 is 0.689865250555671\n",
      "R2 score correspond to random state  25 is -0.7225800329450804\n",
      "R2 score correspond to random state  25 is 0.716634172179605\n",
      "R2 score correspond to random state  25 is 0.02237720415637745\n",
      "R2 score correspond to random state  25 is 0.7429500300053811\n",
      "R2 score correspond to random state  26 is 0.7448119880302072\n",
      "R2 score correspond to random state  26 is -0.3707982510708203\n"
     ]
    },
    {
     "name": "stdout",
     "output_type": "stream",
     "text": [
      "R2 score correspond to random state  26 is 0.3874211306879276\n",
      "R2 score correspond to random state  26 is 0.04988556016075252\n",
      "R2 score correspond to random state  26 is -0.0419563071829514\n",
      "R2 score correspond to random state  27 is 0.3858119617304723\n",
      "R2 score correspond to random state  27 is -0.1639859269470001\n",
      "R2 score correspond to random state  27 is 0.5410167345725381\n",
      "R2 score correspond to random state  27 is 0.03542178912642746\n",
      "R2 score correspond to random state  27 is 0.3513116805452978\n",
      "R2 score correspond to random state  28 is -0.6192555882034159\n",
      "R2 score correspond to random state  28 is -0.45593037303277995\n",
      "R2 score correspond to random state  28 is 0.29276376283423544\n",
      "R2 score correspond to random state  28 is 0.05627290748839464\n",
      "R2 score correspond to random state  28 is 0.6118861223991086\n",
      "R2 score correspond to random state  29 is 0.07876864140594575\n",
      "R2 score correspond to random state  29 is -0.7118359442083755\n",
      "R2 score correspond to random state  29 is 0.6892954696254427\n",
      "R2 score correspond to random state  29 is 0.05088447069569657\n",
      "R2 score correspond to random state  29 is 0.3248238645707059\n",
      "R2 score correspond to random state  30 is 0.7232044074809354\n",
      "R2 score correspond to random state  30 is -0.4579929253803734\n",
      "R2 score correspond to random state  30 is -0.36980184652414905\n",
      "R2 score correspond to random state  30 is 0.023453277393298944\n",
      "R2 score correspond to random state  30 is 0.4711981480795149\n",
      "R2 score correspond to random state  31 is 0.6181955487852306\n",
      "R2 score correspond to random state  31 is -0.8781995219264644\n",
      "R2 score correspond to random state  31 is -1.3648849616175656\n",
      "R2 score correspond to random state  31 is 0.009771356845699741\n",
      "R2 score correspond to random state  31 is 0.8024730442954318\n",
      "R2 score correspond to random state  32 is 0.5481956870499938\n",
      "R2 score correspond to random state  32 is -0.01022258404408527\n",
      "R2 score correspond to random state  32 is 0.5071208179927524\n",
      "R2 score correspond to random state  32 is 0.031486960275068476\n",
      "R2 score correspond to random state  32 is 0.507186041197504\n",
      "R2 score correspond to random state  33 is 0.4409399149013403\n",
      "R2 score correspond to random state  33 is -2.4058431702745957\n",
      "R2 score correspond to random state  33 is 0.2955013256807332\n",
      "R2 score correspond to random state  33 is -0.1462560655387819\n",
      "R2 score correspond to random state  33 is 0.7892423171361156\n",
      "R2 score correspond to random state  34 is 0.7233991325964744\n",
      "R2 score correspond to random state  34 is -0.7808161417685042\n",
      "R2 score correspond to random state  34 is -1.003458805502865\n",
      "R2 score correspond to random state  34 is 0.05222237247933581\n",
      "R2 score correspond to random state  34 is 0.22549551980710392\n",
      "R2 score correspond to random state  35 is 0.5154604933007052\n",
      "R2 score correspond to random state  35 is -0.6326034194776227\n",
      "R2 score correspond to random state  35 is -0.17706537428981917\n",
      "R2 score correspond to random state  35 is -0.0019084700246791986\n",
      "R2 score correspond to random state  35 is 0.7285064984245128\n",
      "R2 score correspond to random state  36 is 0.666418177069958\n",
      "R2 score correspond to random state  36 is -1.0810403374690933\n",
      "R2 score correspond to random state  36 is -0.49060009234631496\n",
      "R2 score correspond to random state  36 is 0.07468429674035759\n",
      "R2 score correspond to random state  36 is 0.02680648194703361\n",
      "R2 score correspond to random state  37 is -0.7244911337378277\n",
      "R2 score correspond to random state  37 is -0.677201022844766\n",
      "R2 score correspond to random state  37 is -0.4145915588018809\n",
      "R2 score correspond to random state  37 is 0.07107823977381389\n",
      "R2 score correspond to random state  37 is 0.6130083992016907\n",
      "R2 score correspond to random state  38 is -1.88546989173041\n",
      "R2 score correspond to random state  38 is -0.5582399051599747\n",
      "R2 score correspond to random state  38 is -0.0200341318254198\n",
      "R2 score correspond to random state  38 is 0.0578876774930045\n",
      "R2 score correspond to random state  38 is -2.5566579619831478\n",
      "R2 score correspond to random state  39 is 0.8180307791032716\n",
      "R2 score correspond to random state  39 is -0.5782257371424273\n",
      "R2 score correspond to random state  39 is -3.3398618285840547\n",
      "R2 score correspond to random state  39 is 0.031866497043707365\n",
      "R2 score correspond to random state  39 is 0.5317563922505424\n",
      "R2 score correspond to random state  40 is 0.05821871705903081\n",
      "R2 score correspond to random state  40 is -0.167107037477491\n",
      "R2 score correspond to random state  40 is 0.5398573653946739\n",
      "R2 score correspond to random state  40 is 0.029597911723647785\n",
      "R2 score correspond to random state  40 is 0.39849489872871635\n",
      "R2 score correspond to random state  41 is -1.2318165821894196\n",
      "R2 score correspond to random state  41 is -1.0683413873280174\n",
      "R2 score correspond to random state  41 is -0.8025261157776764\n",
      "R2 score correspond to random state  41 is 0.022402117918707942\n",
      "R2 score correspond to random state  41 is 0.03999826106404658\n",
      "R2 score correspond to random state  42 is 0.11906962287053835\n",
      "R2 score correspond to random state  42 is -0.17897111030888335\n",
      "R2 score correspond to random state  42 is 0.5631198938808979\n",
      "R2 score correspond to random state  42 is 0.04045660072613977\n",
      "R2 score correspond to random state  42 is 0.4736644123633488\n",
      "R2 score correspond to random state  43 is 0.48887208655331205\n",
      "R2 score correspond to random state  43 is -0.01509529954270672\n",
      "R2 score correspond to random state  43 is 0.4758990748063904\n",
      "R2 score correspond to random state  43 is 0.027939732138192896\n",
      "R2 score correspond to random state  43 is 0.5250793437271104\n",
      "R2 score correspond to random state  44 is 0.24774634282739705\n",
      "R2 score correspond to random state  44 is -0.46343604049456455\n",
      "R2 score correspond to random state  44 is 0.21333499303464176\n",
      "R2 score correspond to random state  44 is 0.030229531158939893\n",
      "R2 score correspond to random state  44 is 0.6927907430339588\n",
      "R2 score correspond to random state  45 is -2.929360222121611\n",
      "R2 score correspond to random state  45 is -0.7925604181659676\n",
      "R2 score correspond to random state  45 is 0.12463023663335104\n",
      "R2 score correspond to random state  45 is 0.005778876887737372\n",
      "R2 score correspond to random state  45 is 0.7050765909189823\n",
      "R2 score correspond to random state  46 is 0.48420347612228687\n",
      "R2 score correspond to random state  46 is -0.06823534526176367\n",
      "R2 score correspond to random state  46 is 0.463002952393053\n",
      "R2 score correspond to random state  46 is 0.0318100616239233\n",
      "R2 score correspond to random state  46 is 0.42888173713802447\n",
      "R2 score correspond to random state  47 is 0.4690341034859651\n",
      "R2 score correspond to random state  47 is -0.040942107758495716\n",
      "R2 score correspond to random state  47 is 0.5067777263398352\n",
      "R2 score correspond to random state  47 is 0.032195974008459416\n",
      "R2 score correspond to random state  47 is 0.5087167002616537\n",
      "R2 score correspond to random state  48 is 0.43074224684186124\n",
      "R2 score correspond to random state  48 is -0.14257470982826703\n",
      "R2 score correspond to random state  48 is 0.40929106120988423\n",
      "R2 score correspond to random state  48 is 0.028236444191228727\n",
      "R2 score correspond to random state  48 is 0.4886260242907785\n",
      "R2 score correspond to random state  49 is -0.2233696355407524\n",
      "R2 score correspond to random state  49 is -0.14660274458421174\n",
      "R2 score correspond to random state  49 is 0.4866638584206038\n",
      "R2 score correspond to random state  49 is 0.028750526882134086\n",
      "R2 score correspond to random state  49 is 0.25325004422345543\n",
      "R2 score correspond to random state  50 is 0.7193879787516622\n",
      "R2 score correspond to random state  50 is -0.5587108237068585\n",
      "R2 score correspond to random state  50 is 0.7317308022245446\n",
      "R2 score correspond to random state  50 is 0.0387932737839769\n",
      "R2 score correspond to random state  50 is 0.6346401452788539\n",
      "R2 score correspond to random state  51 is 0.457277159984966\n",
      "R2 score correspond to random state  51 is -0.21637787896085459\n",
      "R2 score correspond to random state  51 is 0.3802384878923082\n",
      "R2 score correspond to random state  51 is 0.009997385107095358\n",
      "R2 score correspond to random state  51 is 0.40295531938489293\n",
      "R2 score correspond to random state  52 is -4.262462760425853\n",
      "R2 score correspond to random state  52 is -1.2792104095395076\n",
      "R2 score correspond to random state  52 is -0.9795323445058128\n",
      "R2 score correspond to random state  52 is 0.05725416376954706\n"
     ]
    },
    {
     "name": "stdout",
     "output_type": "stream",
     "text": [
      "R2 score correspond to random state  52 is -0.5495310870394774\n",
      "R2 score correspond to random state  53 is 0.6301445027907642\n",
      "R2 score correspond to random state  53 is -0.1791120166663107\n",
      "R2 score correspond to random state  53 is 0.4717005876302256\n",
      "R2 score correspond to random state  53 is 0.0301288332931251\n",
      "R2 score correspond to random state  53 is 0.5107153349235583\n",
      "R2 score correspond to random state  54 is 0.18280518388563138\n",
      "R2 score correspond to random state  54 is -0.2239664058408537\n",
      "R2 score correspond to random state  54 is 0.3729534528498717\n",
      "R2 score correspond to random state  54 is 0.03916073900303263\n",
      "R2 score correspond to random state  54 is 0.354660353637819\n",
      "R2 score correspond to random state  55 is 0.6343286889187618\n",
      "R2 score correspond to random state  55 is -0.2664858761240325\n",
      "R2 score correspond to random state  55 is 0.4685936016266645\n",
      "R2 score correspond to random state  55 is 0.024371436510851385\n",
      "R2 score correspond to random state  55 is 0.47188614835032605\n",
      "R2 score correspond to random state  56 is 0.5052723874403575\n",
      "R2 score correspond to random state  56 is -0.5734473986925133\n",
      "R2 score correspond to random state  56 is 0.19726051713389658\n",
      "R2 score correspond to random state  56 is 0.05065121165703135\n",
      "R2 score correspond to random state  56 is 0.6329903446592889\n",
      "R2 score correspond to random state  57 is 0.5254569733428477\n",
      "R2 score correspond to random state  57 is -0.5334269845642987\n",
      "R2 score correspond to random state  57 is 0.4558936008879777\n",
      "R2 score correspond to random state  57 is 0.022854353610047395\n",
      "R2 score correspond to random state  57 is 0.6068491898275312\n",
      "R2 score correspond to random state  58 is 0.6612365433445737\n",
      "R2 score correspond to random state  58 is -0.6852057940258975\n",
      "R2 score correspond to random state  58 is -0.6175307003157491\n",
      "R2 score correspond to random state  58 is 0.06642536969906598\n",
      "R2 score correspond to random state  58 is 0.2181441716893444\n",
      "R2 score correspond to random state  59 is 0.5347948781503515\n",
      "R2 score correspond to random state  59 is -0.6473312273004646\n",
      "R2 score correspond to random state  59 is -0.24270501746643958\n",
      "R2 score correspond to random state  59 is 0.036047611326036066\n",
      "R2 score correspond to random state  59 is 0.8766372805669719\n",
      "R2 score correspond to random state  60 is 0.5633911654026273\n",
      "R2 score correspond to random state  60 is -0.13581544097755005\n",
      "R2 score correspond to random state  60 is 0.5489176422879859\n",
      "R2 score correspond to random state  60 is 0.039656074336361424\n",
      "R2 score correspond to random state  60 is 0.5471613526459101\n",
      "R2 score correspond to random state  61 is 0.41720230076536624\n",
      "R2 score correspond to random state  61 is -0.18185497049279897\n",
      "R2 score correspond to random state  61 is 0.3984606683619769\n",
      "R2 score correspond to random state  61 is 0.020056839963252582\n",
      "R2 score correspond to random state  61 is 0.4479383981285757\n",
      "R2 score correspond to random state  62 is 0.6295366093100039\n",
      "R2 score correspond to random state  62 is -0.13046544905658486\n",
      "R2 score correspond to random state  62 is 0.6065790373680342\n",
      "R2 score correspond to random state  62 is 0.032133983949257594\n",
      "R2 score correspond to random state  62 is 0.5341861608132579\n",
      "R2 score correspond to random state  63 is 0.5747801567688081\n",
      "R2 score correspond to random state  63 is -0.14785920042625245\n",
      "R2 score correspond to random state  63 is 0.22218692984404909\n",
      "R2 score correspond to random state  63 is 0.026743699693009826\n",
      "R2 score correspond to random state  63 is 0.5226253127185891\n",
      "R2 score correspond to random state  64 is 0.4966450117190716\n",
      "R2 score correspond to random state  64 is -0.2366253543109491\n",
      "R2 score correspond to random state  64 is 0.5236157464382827\n",
      "R2 score correspond to random state  64 is 0.03890137944782823\n",
      "R2 score correspond to random state  64 is 0.5343309760863239\n",
      "R2 score correspond to random state  65 is 0.5416346034098014\n",
      "R2 score correspond to random state  65 is -0.07773867877637852\n",
      "R2 score correspond to random state  65 is 0.5241729396718582\n",
      "R2 score correspond to random state  65 is 0.04066606875595802\n",
      "R2 score correspond to random state  65 is 0.5057012289495469\n",
      "R2 score correspond to random state  66 is 0.5058346936922977\n",
      "R2 score correspond to random state  66 is -0.33699704411482645\n",
      "R2 score correspond to random state  66 is 0.4259292018221644\n",
      "R2 score correspond to random state  66 is 0.042920511004308604\n",
      "R2 score correspond to random state  66 is 0.7223750351353428\n",
      "R2 score correspond to random state  67 is 0.7109821458003656\n",
      "R2 score correspond to random state  67 is -0.8098692076806311\n",
      "R2 score correspond to random state  67 is 0.7804887548500415\n",
      "R2 score correspond to random state  67 is 0.028859373478589356\n",
      "R2 score correspond to random state  67 is 0.798432910490658\n",
      "R2 score correspond to random state  68 is 0.6804775556702233\n",
      "R2 score correspond to random state  68 is -0.3318290468636791\n",
      "R2 score correspond to random state  68 is 0.5032388491283415\n",
      "R2 score correspond to random state  68 is 0.0302283458279774\n",
      "R2 score correspond to random state  68 is 0.5296675779397453\n",
      "R2 score correspond to random state  69 is 0.3121361852643777\n",
      "R2 score correspond to random state  69 is -0.11605693135731099\n",
      "R2 score correspond to random state  69 is 0.4874578869326218\n",
      "R2 score correspond to random state  69 is 0.03808541119242326\n",
      "R2 score correspond to random state  69 is 0.5523086722556627\n",
      "R2 score correspond to random state  70 is 0.10185189261105909\n",
      "R2 score correspond to random state  70 is -0.15362423746311094\n",
      "R2 score correspond to random state  70 is 0.5902378973689008\n",
      "R2 score correspond to random state  70 is 0.04466279022875552\n",
      "R2 score correspond to random state  70 is 0.40260696543317576\n",
      "R2 score correspond to random state  71 is 0.6718427852469708\n",
      "R2 score correspond to random state  71 is -0.21565549093867942\n",
      "R2 score correspond to random state  71 is 0.5867278523319399\n",
      "R2 score correspond to random state  71 is 0.029305610218455347\n",
      "R2 score correspond to random state  71 is 0.5003217147315312\n",
      "R2 score correspond to random state  72 is 0.30549498647772233\n",
      "R2 score correspond to random state  72 is -0.2704529872837864\n",
      "R2 score correspond to random state  72 is 0.6448891566035002\n",
      "R2 score correspond to random state  72 is 0.06259496447693336\n",
      "R2 score correspond to random state  72 is 0.7925993378658808\n",
      "R2 score correspond to random state  73 is 0.7993157965522473\n",
      "R2 score correspond to random state  73 is -0.7397050006229557\n",
      "R2 score correspond to random state  73 is -3.163407072713862\n",
      "R2 score correspond to random state  73 is -0.014117709769921882\n",
      "R2 score correspond to random state  73 is 0.6771171256207571\n",
      "R2 score correspond to random state  74 is 0.8228876504800657\n",
      "R2 score correspond to random state  74 is -1.386822957433853\n",
      "R2 score correspond to random state  74 is -1.710792223368777\n",
      "R2 score correspond to random state  74 is -0.03057634040638657\n",
      "R2 score correspond to random state  74 is -0.49853924075220535\n",
      "R2 score correspond to random state  75 is -0.12684537708072607\n",
      "R2 score correspond to random state  75 is -0.4380926060036616\n",
      "R2 score correspond to random state  75 is 0.6821970454639767\n",
      "R2 score correspond to random state  75 is 0.04432786885292839\n",
      "R2 score correspond to random state  75 is 0.6800656589740437\n",
      "R2 score correspond to random state  76 is 0.5178773438625529\n",
      "R2 score correspond to random state  76 is -0.08169793646996615\n",
      "R2 score correspond to random state  76 is 0.46907532081456427\n",
      "R2 score correspond to random state  76 is 0.0392626713706018\n",
      "R2 score correspond to random state  76 is 0.5470612037460626\n",
      "R2 score correspond to random state  77 is 0.45803287547899885\n",
      "R2 score correspond to random state  77 is -0.056410769235738734\n",
      "R2 score correspond to random state  77 is 0.4268010496754686\n",
      "R2 score correspond to random state  77 is 0.03408769356714869\n",
      "R2 score correspond to random state  77 is 0.4572395462982559\n",
      "R2 score correspond to random state  78 is 0.602460334380653\n",
      "R2 score correspond to random state  78 is -0.44979450314348823\n",
      "R2 score correspond to random state  78 is 0.40600450516954667\n",
      "R2 score correspond to random state  78 is 0.03757870943717945\n",
      "R2 score correspond to random state  78 is 0.700636379378258\n",
      "R2 score correspond to random state  79 is 0.7879923825477841\n",
      "R2 score correspond to random state  79 is -0.5667239457735704\n"
     ]
    },
    {
     "name": "stdout",
     "output_type": "stream",
     "text": [
      "R2 score correspond to random state  79 is 0.7236282896658421\n",
      "R2 score correspond to random state  79 is 0.04198514407399789\n",
      "R2 score correspond to random state  79 is 0.7378033065568235\n",
      "R2 score correspond to random state  80 is -0.04999897775898332\n",
      "R2 score correspond to random state  80 is -0.1403363780028939\n",
      "R2 score correspond to random state  80 is 0.5772069653618035\n",
      "R2 score correspond to random state  80 is 0.025501468976934616\n",
      "R2 score correspond to random state  80 is 0.48203271185285124\n",
      "R2 score correspond to random state  81 is -0.3469704082164611\n",
      "R2 score correspond to random state  81 is -0.81988164108761\n",
      "R2 score correspond to random state  81 is 0.44172511794723657\n",
      "R2 score correspond to random state  81 is 0.01696544138429068\n",
      "R2 score correspond to random state  81 is 0.5630437728478002\n",
      "R2 score correspond to random state  82 is -1.4515467851700796\n",
      "R2 score correspond to random state  82 is -0.6377966692256183\n",
      "R2 score correspond to random state  82 is 0.6330343573305972\n",
      "R2 score correspond to random state  82 is 0.05999353446249167\n",
      "R2 score correspond to random state  82 is -0.11499454452434787\n",
      "R2 score correspond to random state  83 is 0.4609020757515788\n",
      "R2 score correspond to random state  83 is -0.1898646147710985\n",
      "R2 score correspond to random state  83 is 0.37944361825105855\n",
      "R2 score correspond to random state  83 is 0.006330285526799928\n",
      "R2 score correspond to random state  83 is 0.48978254342791905\n",
      "R2 score correspond to random state  84 is 0.37333195428292465\n",
      "R2 score correspond to random state  84 is -0.27686482436691784\n",
      "R2 score correspond to random state  84 is 0.608819680756203\n",
      "R2 score correspond to random state  84 is 0.0440700297698301\n",
      "R2 score correspond to random state  84 is 0.5571621481424924\n",
      "R2 score correspond to random state  85 is -1.0807820466047855\n",
      "R2 score correspond to random state  85 is -0.5154104198402474\n",
      "R2 score correspond to random state  85 is -0.4426508030258016\n",
      "R2 score correspond to random state  85 is 0.07873821844788809\n",
      "R2 score correspond to random state  85 is -0.29697821277863046\n",
      "R2 score correspond to random state  86 is -1.237538051531808\n",
      "R2 score correspond to random state  86 is -0.3948591306693443\n",
      "R2 score correspond to random state  86 is -2.6853836207720083\n",
      "R2 score correspond to random state  86 is 0.06529622463965479\n",
      "R2 score correspond to random state  86 is -1.2657336627540405\n",
      "R2 score correspond to random state  87 is 0.9504527854956886\n",
      "R2 score correspond to random state  87 is -2.456723626907157\n",
      "R2 score correspond to random state  87 is 0.04534014758669236\n",
      "R2 score correspond to random state  87 is -0.25380408665861576\n",
      "R2 score correspond to random state  87 is 0.5451024956464557\n",
      "R2 score correspond to random state  88 is 0.5118269243701918\n",
      "R2 score correspond to random state  88 is -0.21274579826981665\n",
      "R2 score correspond to random state  88 is 0.287286451275935\n",
      "R2 score correspond to random state  88 is 0.0326807201220628\n",
      "R2 score correspond to random state  88 is 0.44492386048798327\n",
      "R2 score correspond to random state  89 is 0.7338236986919233\n",
      "R2 score correspond to random state  89 is -0.8865707740310902\n",
      "R2 score correspond to random state  89 is -0.3350567582007604\n",
      "R2 score correspond to random state  89 is -0.02397623024192086\n",
      "R2 score correspond to random state  89 is 0.680961010318861\n",
      "R2 score correspond to random state  90 is -0.1841580426315308\n",
      "R2 score correspond to random state  90 is -0.1906970198464215\n",
      "R2 score correspond to random state  90 is 0.5260630901636871\n",
      "R2 score correspond to random state  90 is 0.029227995009771912\n",
      "R2 score correspond to random state  90 is 0.35952125427736814\n",
      "R2 score correspond to random state  91 is 0.6739022791313847\n",
      "R2 score correspond to random state  91 is -0.22819512957350496\n",
      "R2 score correspond to random state  91 is 0.36630530724246424\n",
      "R2 score correspond to random state  91 is 0.041340350777003154\n",
      "R2 score correspond to random state  91 is 0.5894367728933076\n",
      "R2 score correspond to random state  92 is -1.9644217192734659\n",
      "R2 score correspond to random state  92 is -0.6033312331352108\n",
      "R2 score correspond to random state  92 is 0.41940885071335865\n",
      "R2 score correspond to random state  92 is 0.007015031909179403\n",
      "R2 score correspond to random state  92 is 0.283026122930396\n",
      "R2 score correspond to random state  93 is 0.45151181711566346\n",
      "R2 score correspond to random state  93 is -0.14843833209817658\n",
      "R2 score correspond to random state  93 is 0.5089951703599772\n",
      "R2 score correspond to random state  93 is 0.04195777481746954\n",
      "R2 score correspond to random state  93 is 0.4540367569140348\n",
      "R2 score correspond to random state  94 is -0.354859276607862\n",
      "R2 score correspond to random state  94 is -0.6359248146370471\n",
      "R2 score correspond to random state  94 is 0.18486330306440657\n",
      "R2 score correspond to random state  94 is 0.046291043658792885\n",
      "R2 score correspond to random state  94 is 0.20380460322991667\n",
      "R2 score correspond to random state  95 is -0.6736152855932465\n",
      "R2 score correspond to random state  95 is -0.36386576724461084\n",
      "R2 score correspond to random state  95 is 0.631755526874733\n",
      "R2 score correspond to random state  95 is 0.06848684955494488\n",
      "R2 score correspond to random state  95 is -0.27435244296922523\n",
      "R2 score correspond to random state  96 is 0.43905579587248644\n",
      "R2 score correspond to random state  96 is -0.2956578048393703\n",
      "R2 score correspond to random state  96 is 0.38647611255408054\n",
      "R2 score correspond to random state  96 is 0.010977016426782837\n",
      "R2 score correspond to random state  96 is 0.4089620201872953\n",
      "R2 score correspond to random state  97 is -2.415815638416095\n",
      "R2 score correspond to random state  97 is -0.4231817869037313\n",
      "R2 score correspond to random state  97 is -0.18613666861616318\n",
      "R2 score correspond to random state  97 is 0.06940820121076907\n",
      "R2 score correspond to random state  97 is 0.36459901082029855\n",
      "R2 score correspond to random state  98 is 0.5276118592903476\n",
      "R2 score correspond to random state  98 is -0.3401874534278353\n",
      "R2 score correspond to random state  98 is 0.6244865981124019\n",
      "R2 score correspond to random state  98 is 0.012722251250207206\n",
      "R2 score correspond to random state  98 is 0.49065197874155464\n",
      "R2 score correspond to random state  99 is 0.4172137229507168\n",
      "R2 score correspond to random state  99 is -0.030043183202777657\n",
      "R2 score correspond to random state  99 is 0.4439209799394893\n",
      "R2 score correspond to random state  99 is 0.03323624459671792\n",
      "R2 score correspond to random state  99 is 0.45567149303146004\n",
      "R2 score correspond to random state  100 is -0.4152492005483597\n",
      "R2 score correspond to random state  100 is -0.44692454444903174\n",
      "R2 score correspond to random state  100 is 0.47017627772828685\n",
      "R2 score correspond to random state  100 is 0.06911863280662223\n",
      "R2 score correspond to random state  100 is 0.11025682661773817\n",
      "R2 score correspond to random state  101 is 0.5187155851451226\n",
      "R2 score correspond to random state  101 is -0.0160418572703378\n",
      "R2 score correspond to random state  101 is 0.49562511233413054\n",
      "R2 score correspond to random state  101 is 0.03153337697168668\n",
      "R2 score correspond to random state  101 is 0.5513536055247702\n",
      "R2 score correspond to random state  102 is 0.4730123325282146\n",
      "R2 score correspond to random state  102 is -1.0663278634667495\n",
      "R2 score correspond to random state  102 is -0.7432741509623968\n",
      "R2 score correspond to random state  102 is 0.022911235001268793\n",
      "R2 score correspond to random state  102 is 0.766878287303679\n",
      "R2 score correspond to random state  103 is -0.6467904237541431\n",
      "R2 score correspond to random state  103 is -1.0897842733969432\n",
      "R2 score correspond to random state  103 is 0.6332460781377978\n",
      "R2 score correspond to random state  103 is 0.006829864222378634\n",
      "R2 score correspond to random state  103 is 0.2895211615873654\n",
      "R2 score correspond to random state  104 is -3.3716581827147065\n",
      "R2 score correspond to random state  104 is -0.6873977939897495\n",
      "R2 score correspond to random state  104 is -1.5706859103629336\n",
      "R2 score correspond to random state  104 is 0.03989233154381011\n",
      "R2 score correspond to random state  104 is -2.005361757832706\n",
      "R2 score correspond to random state  105 is -0.33116445584456944\n",
      "R2 score correspond to random state  105 is -0.08148746379455707\n"
     ]
    },
    {
     "name": "stdout",
     "output_type": "stream",
     "text": [
      "R2 score correspond to random state  105 is 0.6315652792474865\n",
      "R2 score correspond to random state  105 is 0.04266376647180814\n",
      "R2 score correspond to random state  105 is 0.4695331693742789\n",
      "R2 score correspond to random state  106 is 0.6273162759826667\n",
      "R2 score correspond to random state  106 is -0.19551892396829218\n",
      "R2 score correspond to random state  106 is 0.44469592099405064\n",
      "R2 score correspond to random state  106 is 0.04314821514249689\n",
      "R2 score correspond to random state  106 is 0.5203787426702214\n",
      "R2 score correspond to random state  107 is 0.438879453254854\n",
      "R2 score correspond to random state  107 is -0.17025294028731253\n",
      "R2 score correspond to random state  107 is 0.525576109386356\n",
      "R2 score correspond to random state  107 is 0.030358272890480764\n",
      "R2 score correspond to random state  107 is 0.507599862862834\n",
      "R2 score correspond to random state  108 is 0.7882016896237994\n",
      "R2 score correspond to random state  108 is -2.0711767140985917\n",
      "R2 score correspond to random state  108 is -1.7421866725633501\n",
      "R2 score correspond to random state  108 is -0.2085074231178592\n",
      "R2 score correspond to random state  108 is 0.36357295764581654\n",
      "R2 score correspond to random state  109 is -0.3206310186630861\n",
      "R2 score correspond to random state  109 is -0.043997749707944234\n",
      "R2 score correspond to random state  109 is 0.5314506737864915\n",
      "R2 score correspond to random state  109 is 0.04390195460987023\n",
      "R2 score correspond to random state  109 is 0.363810112494371\n",
      "R2 score correspond to random state  110 is -0.46236982818882266\n",
      "R2 score correspond to random state  110 is -0.3205824438056446\n",
      "R2 score correspond to random state  110 is 0.6945860142813799\n",
      "R2 score correspond to random state  110 is 0.05958659911890607\n",
      "R2 score correspond to random state  110 is 0.4462473690843721\n",
      "R2 score correspond to random state  111 is 0.4362361692583685\n",
      "R2 score correspond to random state  111 is -0.01021792514158193\n",
      "R2 score correspond to random state  111 is 0.4336784086328096\n",
      "R2 score correspond to random state  111 is 0.028452949825419682\n",
      "R2 score correspond to random state  111 is 0.4842225933788299\n",
      "R2 score correspond to random state  112 is 0.26473184621449264\n",
      "R2 score correspond to random state  112 is -0.05241217775458584\n",
      "R2 score correspond to random state  112 is 0.4045205818470179\n",
      "R2 score correspond to random state  112 is 0.03538499830038466\n",
      "R2 score correspond to random state  112 is 0.39956911353001123\n",
      "R2 score correspond to random state  113 is 0.36478035535837205\n",
      "R2 score correspond to random state  113 is -0.08085328541889036\n",
      "R2 score correspond to random state  113 is 0.38480240727552195\n",
      "R2 score correspond to random state  113 is 0.03399744271745275\n",
      "R2 score correspond to random state  113 is 0.3711406255577937\n",
      "R2 score correspond to random state  114 is 0.5763553527881327\n",
      "R2 score correspond to random state  114 is -0.10053166455050944\n",
      "R2 score correspond to random state  114 is 0.5720062778475254\n",
      "R2 score correspond to random state  114 is 0.04090374305125055\n",
      "R2 score correspond to random state  114 is 0.545460857237152\n",
      "R2 score correspond to random state  115 is 0.4164163951872646\n",
      "R2 score correspond to random state  115 is -0.2723485794949969\n",
      "R2 score correspond to random state  115 is 0.4585565139581479\n",
      "R2 score correspond to random state  115 is 0.024064871301925805\n",
      "R2 score correspond to random state  115 is 0.4887077840671621\n",
      "R2 score correspond to random state  116 is 0.6099382649159051\n",
      "R2 score correspond to random state  116 is -0.08070077098211503\n",
      "R2 score correspond to random state  116 is 0.5561316629349666\n",
      "R2 score correspond to random state  116 is 0.047032363964791934\n",
      "R2 score correspond to random state  116 is 0.5658808890704992\n",
      "R2 score correspond to random state  117 is 0.44165209551745654\n",
      "R2 score correspond to random state  117 is -0.3162258558194837\n",
      "R2 score correspond to random state  117 is -0.13526686841218138\n",
      "R2 score correspond to random state  117 is 0.04312161735253084\n",
      "R2 score correspond to random state  117 is 0.5143661512071851\n",
      "R2 score correspond to random state  118 is 0.36796870878953003\n",
      "R2 score correspond to random state  118 is -0.1130948417654225\n",
      "R2 score correspond to random state  118 is 0.522482325086392\n",
      "R2 score correspond to random state  118 is 0.0385828421803861\n",
      "R2 score correspond to random state  118 is 0.4981194875785512\n",
      "R2 score correspond to random state  119 is 0.3624630397056172\n",
      "R2 score correspond to random state  119 is -0.20382101258881002\n",
      "R2 score correspond to random state  119 is 0.31578392760498164\n",
      "R2 score correspond to random state  119 is 0.02961783710395982\n",
      "R2 score correspond to random state  119 is 0.472754631285624\n",
      "R2 score correspond to random state  120 is 0.7908027832545562\n",
      "R2 score correspond to random state  120 is -1.4577790534186517\n",
      "R2 score correspond to random state  120 is -3.5613236168663205\n",
      "R2 score correspond to random state  120 is -0.09546787932691903\n",
      "R2 score correspond to random state  120 is 0.6134024197274817\n",
      "R2 score correspond to random state  121 is 0.45419466410392906\n",
      "R2 score correspond to random state  121 is -0.17703130178900084\n",
      "R2 score correspond to random state  121 is -0.23459074977822758\n",
      "R2 score correspond to random state  121 is 0.0424092993023355\n",
      "R2 score correspond to random state  121 is 0.5008588676103695\n",
      "R2 score correspond to random state  122 is 0.41193301554863093\n",
      "R2 score correspond to random state  122 is -0.23016867143255082\n",
      "R2 score correspond to random state  122 is -0.7954497333778339\n",
      "R2 score correspond to random state  122 is 0.03866063271866094\n",
      "R2 score correspond to random state  122 is 0.3042424517065999\n",
      "R2 score correspond to random state  123 is 0.478554897204007\n",
      "R2 score correspond to random state  123 is -0.21081570694949803\n",
      "R2 score correspond to random state  123 is -0.7329787009100155\n",
      "R2 score correspond to random state  123 is 0.042753797358786705\n",
      "R2 score correspond to random state  123 is 0.549736307887692\n",
      "R2 score correspond to random state  124 is 0.359442594571756\n",
      "R2 score correspond to random state  124 is -0.8457937995180849\n",
      "R2 score correspond to random state  124 is 0.5540390461074698\n",
      "R2 score correspond to random state  124 is 0.03044732683062501\n",
      "R2 score correspond to random state  124 is 0.39411823559064985\n",
      "R2 score correspond to random state  125 is 0.2148829878873847\n",
      "R2 score correspond to random state  125 is -0.3389734848644128\n",
      "R2 score correspond to random state  125 is 0.5050146996329834\n",
      "R2 score correspond to random state  125 is 0.05013956889369542\n",
      "R2 score correspond to random state  125 is 0.36501611199249495\n",
      "R2 score correspond to random state  126 is 0.7086141629860395\n",
      "R2 score correspond to random state  126 is -0.2622369218958589\n",
      "R2 score correspond to random state  126 is -0.7874230421188528\n",
      "R2 score correspond to random state  126 is 0.0567666478922757\n",
      "R2 score correspond to random state  126 is 0.6175308652168574\n",
      "R2 score correspond to random state  127 is 0.42288735361542684\n",
      "R2 score correspond to random state  127 is -0.17838115341777283\n",
      "R2 score correspond to random state  127 is 0.4974755840588836\n",
      "R2 score correspond to random state  127 is 0.022225033667117478\n",
      "R2 score correspond to random state  127 is 0.5570034844768715\n",
      "R2 score correspond to random state  128 is -0.06741373863121836\n",
      "R2 score correspond to random state  128 is -0.2086974857418642\n",
      "R2 score correspond to random state  128 is 0.23580375515523178\n",
      "R2 score correspond to random state  128 is 0.0346950679689747\n",
      "R2 score correspond to random state  128 is 0.452512202940037\n",
      "R2 score correspond to random state  129 is -0.2543161829556799\n",
      "R2 score correspond to random state  129 is -0.6631966608977424\n",
      "R2 score correspond to random state  129 is -1.1153391576390401\n",
      "R2 score correspond to random state  129 is 0.030158379441140304\n",
      "R2 score correspond to random state  129 is -0.2181789114916306\n",
      "R2 score correspond to random state  130 is -1.8394824967418733\n",
      "R2 score correspond to random state  130 is -1.5001486091044156\n",
      "R2 score correspond to random state  130 is -1.5421638758801905\n",
      "R2 score correspond to random state  130 is -0.08396922530857998\n",
      "R2 score correspond to random state  130 is -1.0999294105161361\n",
      "R2 score correspond to random state  131 is 0.8710436317980883\n",
      "R2 score correspond to random state  131 is -1.493095571841737\n"
     ]
    },
    {
     "name": "stdout",
     "output_type": "stream",
     "text": [
      "R2 score correspond to random state  131 is -0.38334307451627025\n",
      "R2 score correspond to random state  131 is -0.014541271333328831\n",
      "R2 score correspond to random state  131 is 0.8522713335736043\n",
      "R2 score correspond to random state  132 is 0.28969895518583455\n",
      "R2 score correspond to random state  132 is -0.34294198564214073\n",
      "R2 score correspond to random state  132 is 0.5474566582225885\n",
      "R2 score correspond to random state  132 is 0.03845225283515885\n",
      "R2 score correspond to random state  132 is 0.43747787473509747\n",
      "R2 score correspond to random state  133 is 0.3076954362178703\n",
      "R2 score correspond to random state  133 is -0.19748591200734644\n",
      "R2 score correspond to random state  133 is 0.3478816582912915\n",
      "R2 score correspond to random state  133 is 0.02147940253599101\n",
      "R2 score correspond to random state  133 is 0.4368869770993611\n",
      "R2 score correspond to random state  134 is 0.6477464977389201\n",
      "R2 score correspond to random state  134 is -1.5474756110355754\n",
      "R2 score correspond to random state  134 is -1.9765152299455213\n",
      "R2 score correspond to random state  134 is -0.010859442791244733\n",
      "R2 score correspond to random state  134 is 0.24764518179007822\n",
      "R2 score correspond to random state  135 is 0.659986344095787\n",
      "R2 score correspond to random state  135 is -0.3474704703275535\n",
      "R2 score correspond to random state  135 is 0.4690067866623855\n",
      "R2 score correspond to random state  135 is 0.028213349201470117\n",
      "R2 score correspond to random state  135 is 0.5087890505262305\n",
      "R2 score correspond to random state  136 is 0.5564174333567322\n",
      "R2 score correspond to random state  136 is -0.5821188983734262\n",
      "R2 score correspond to random state  136 is -0.2501455169831952\n",
      "R2 score correspond to random state  136 is 0.061743374280448404\n",
      "R2 score correspond to random state  136 is 0.43357290363233614\n",
      "R2 score correspond to random state  137 is -0.3611341444841678\n",
      "R2 score correspond to random state  137 is -0.33124668849264194\n",
      "R2 score correspond to random state  137 is 0.4558283064381452\n",
      "R2 score correspond to random state  137 is 0.054577752333814566\n",
      "R2 score correspond to random state  137 is -0.17362225531110798\n",
      "R2 score correspond to random state  138 is 0.7688476879655964\n",
      "R2 score correspond to random state  138 is -0.41580583385078906\n",
      "R2 score correspond to random state  138 is -0.5515654086201369\n",
      "R2 score correspond to random state  138 is 0.017208672992261476\n",
      "R2 score correspond to random state  138 is 0.7560095667481248\n",
      "R2 score correspond to random state  139 is 0.6650677917326735\n",
      "R2 score correspond to random state  139 is -0.3099258641589655\n",
      "R2 score correspond to random state  139 is -0.15144851577386387\n",
      "R2 score correspond to random state  139 is 0.0536661088039706\n",
      "R2 score correspond to random state  139 is 0.6088087270918561\n",
      "R2 score correspond to random state  140 is 0.7434575780068183\n",
      "R2 score correspond to random state  140 is -0.7680090782592557\n",
      "R2 score correspond to random state  140 is 0.7128695095239947\n",
      "R2 score correspond to random state  140 is 0.038352962940484625\n",
      "R2 score correspond to random state  140 is 0.7019692978300875\n",
      "R2 score correspond to random state  141 is 0.5295867701665233\n",
      "R2 score correspond to random state  141 is -0.1663524333676012\n",
      "R2 score correspond to random state  141 is 0.5169161798933605\n",
      "R2 score correspond to random state  141 is 0.03674998264015372\n",
      "R2 score correspond to random state  141 is 0.5384184034488698\n",
      "R2 score correspond to random state  142 is 0.5936100029811319\n",
      "R2 score correspond to random state  142 is -1.7393265311327664\n",
      "R2 score correspond to random state  142 is -0.15575063418778856\n",
      "R2 score correspond to random state  142 is -0.06908519524236345\n",
      "R2 score correspond to random state  142 is 0.6234497365525216\n",
      "R2 score correspond to random state  143 is 0.16715256569193948\n",
      "R2 score correspond to random state  143 is -0.2401015778427611\n",
      "R2 score correspond to random state  143 is 0.5474174122073658\n",
      "R2 score correspond to random state  143 is 0.04089310831064086\n",
      "R2 score correspond to random state  143 is 0.5637509031772574\n",
      "R2 score correspond to random state  144 is 0.4329650623863701\n",
      "R2 score correspond to random state  144 is -0.33733085094882487\n",
      "R2 score correspond to random state  144 is 0.3476640708440246\n",
      "R2 score correspond to random state  144 is 0.014292629717520988\n",
      "R2 score correspond to random state  144 is 0.4557199137972877\n",
      "R2 score correspond to random state  145 is 0.3416969628430463\n",
      "R2 score correspond to random state  145 is -0.05202658177826747\n",
      "R2 score correspond to random state  145 is 0.5215188796989679\n",
      "R2 score correspond to random state  145 is 0.04326888838139842\n",
      "R2 score correspond to random state  145 is 0.5743667109938646\n",
      "R2 score correspond to random state  146 is 0.5780013961203893\n",
      "R2 score correspond to random state  146 is -0.16823619890446206\n",
      "R2 score correspond to random state  146 is -0.2736268570406293\n",
      "R2 score correspond to random state  146 is 0.016456717313324876\n",
      "R2 score correspond to random state  146 is 0.4166978023462494\n",
      "R2 score correspond to random state  147 is 0.4762239192793898\n",
      "R2 score correspond to random state  147 is -0.11233264696118495\n",
      "R2 score correspond to random state  147 is 0.4945733270624557\n",
      "R2 score correspond to random state  147 is 0.041389163487322245\n",
      "R2 score correspond to random state  147 is 0.4794714674919379\n",
      "R2 score correspond to random state  148 is 0.5398556941411631\n",
      "R2 score correspond to random state  148 is -0.2510199306877836\n",
      "R2 score correspond to random state  148 is 0.5077320852698304\n",
      "R2 score correspond to random state  148 is 0.02760158631623766\n",
      "R2 score correspond to random state  148 is 0.4468548233613513\n",
      "R2 score correspond to random state  149 is 0.28362605263484486\n",
      "R2 score correspond to random state  149 is -0.10081831828556354\n",
      "R2 score correspond to random state  149 is 0.5584428840954341\n",
      "R2 score correspond to random state  149 is 0.03827915788921166\n",
      "R2 score correspond to random state  149 is 0.384074211231361\n",
      "R2 score correspond to random state  150 is 0.6366987982877316\n",
      "R2 score correspond to random state  150 is -0.2731681565088253\n",
      "R2 score correspond to random state  150 is 0.3332757545979408\n",
      "R2 score correspond to random state  150 is 0.040718628337678364\n",
      "R2 score correspond to random state  150 is 0.7136033881493534\n",
      "R2 score correspond to random state  151 is 0.32268422982497125\n",
      "R2 score correspond to random state  151 is -0.09430995435396117\n",
      "R2 score correspond to random state  151 is 0.5981747884777091\n",
      "R2 score correspond to random state  151 is 0.035241226689465055\n",
      "R2 score correspond to random state  151 is 0.47895376760305663\n",
      "R2 score correspond to random state  152 is -9.035637741757409\n",
      "R2 score correspond to random state  152 is -6.735223391291179\n",
      "R2 score correspond to random state  152 is -11.310025836252102\n",
      "R2 score correspond to random state  152 is -1.2716423040845157\n",
      "R2 score correspond to random state  152 is -5.826989700911647\n",
      "R2 score correspond to random state  153 is 0.49185717663373996\n",
      "R2 score correspond to random state  153 is -0.04174100794404456\n",
      "R2 score correspond to random state  153 is 0.466640771976748\n",
      "R2 score correspond to random state  153 is 0.03514359467271089\n",
      "R2 score correspond to random state  153 is 0.4868578107634718\n",
      "R2 score correspond to random state  154 is 0.6336052075330099\n",
      "R2 score correspond to random state  154 is -6.912078037100383\n",
      "R2 score correspond to random state  154 is -2.0063854583611427\n",
      "R2 score correspond to random state  154 is -0.9452759811241518\n",
      "R2 score correspond to random state  154 is -0.33540968293902584\n",
      "R2 score correspond to random state  155 is 0.6418612025583735\n",
      "R2 score correspond to random state  155 is -0.021774656771173406\n",
      "R2 score correspond to random state  155 is 0.5941821510995937\n",
      "R2 score correspond to random state  155 is 0.03243794160254709\n",
      "R2 score correspond to random state  155 is 0.5472780195399307\n",
      "R2 score correspond to random state  156 is 0.6399889959350534\n",
      "R2 score correspond to random state  156 is -0.8060214395510892\n",
      "R2 score correspond to random state  156 is 0.30731423531043733\n",
      "R2 score correspond to random state  156 is 0.040220277687417094\n",
      "R2 score correspond to random state  156 is 0.6896424422700382\n",
      "R2 score correspond to random state  157 is -3.535527268113575\n",
      "R2 score correspond to random state  157 is -0.42753732663262634\n"
     ]
    },
    {
     "name": "stdout",
     "output_type": "stream",
     "text": [
      "R2 score correspond to random state  157 is -1.4972497301996976\n",
      "R2 score correspond to random state  157 is 0.03937214226022867\n",
      "R2 score correspond to random state  157 is -0.2684490898936953\n",
      "R2 score correspond to random state  158 is 0.3473637403271199\n",
      "R2 score correspond to random state  158 is -0.19186186394960902\n",
      "R2 score correspond to random state  158 is -1.2905736111514834\n",
      "R2 score correspond to random state  158 is 0.03579340009761045\n",
      "R2 score correspond to random state  158 is 0.432702978699548\n",
      "R2 score correspond to random state  159 is -1.2889278945428542\n",
      "R2 score correspond to random state  159 is -0.5026039441499197\n",
      "R2 score correspond to random state  159 is -0.21785427399727975\n",
      "R2 score correspond to random state  159 is 0.07361379130647616\n",
      "R2 score correspond to random state  159 is 0.16554102864976128\n",
      "R2 score correspond to random state  160 is 0.45668031224505623\n",
      "R2 score correspond to random state  160 is -0.19862398431836925\n",
      "R2 score correspond to random state  160 is -1.315463509815809\n",
      "R2 score correspond to random state  160 is 0.01630905355773482\n",
      "R2 score correspond to random state  160 is 0.3641225062556448\n",
      "R2 score correspond to random state  161 is 0.4477924832411704\n",
      "R2 score correspond to random state  161 is -1.083844053368951\n",
      "R2 score correspond to random state  161 is 0.43792007710796144\n",
      "R2 score correspond to random state  161 is -0.0027129888628345533\n",
      "R2 score correspond to random state  161 is 0.5510774076990828\n",
      "R2 score correspond to random state  162 is 0.2787679594216902\n",
      "R2 score correspond to random state  162 is -0.0788800769027822\n",
      "R2 score correspond to random state  162 is 0.4287771049541099\n",
      "R2 score correspond to random state  162 is 0.03569905276334473\n",
      "R2 score correspond to random state  162 is 0.5365593253814989\n",
      "R2 score correspond to random state  163 is 0.4935532784681592\n",
      "R2 score correspond to random state  163 is -0.21762865804485654\n",
      "R2 score correspond to random state  163 is 0.3746060223094009\n",
      "R2 score correspond to random state  163 is 0.0009413778500386716\n",
      "R2 score correspond to random state  163 is 0.5321541307911557\n",
      "R2 score correspond to random state  164 is 0.5213497500952382\n",
      "R2 score correspond to random state  164 is -0.19809347511798392\n",
      "R2 score correspond to random state  164 is 0.5103985409008757\n",
      "R2 score correspond to random state  164 is 0.04220752322956434\n",
      "R2 score correspond to random state  164 is 0.5315433564593084\n",
      "R2 score correspond to random state  165 is 0.10937430516942204\n",
      "R2 score correspond to random state  165 is -0.12808310753612506\n",
      "R2 score correspond to random state  165 is 0.3278946867588979\n",
      "R2 score correspond to random state  165 is 0.03412665221127442\n",
      "R2 score correspond to random state  165 is 0.31071054085134664\n",
      "R2 score correspond to random state  166 is 0.64439385562633\n",
      "R2 score correspond to random state  166 is -0.1011546578709579\n",
      "R2 score correspond to random state  166 is 0.3526156732959629\n",
      "R2 score correspond to random state  166 is 0.041856176378878285\n",
      "R2 score correspond to random state  166 is 0.6148440377229283\n",
      "R2 score correspond to random state  167 is 0.6160425323834255\n",
      "R2 score correspond to random state  167 is -0.37275247247066856\n",
      "R2 score correspond to random state  167 is 0.4122617366789363\n",
      "R2 score correspond to random state  167 is -0.008595647751465707\n",
      "R2 score correspond to random state  167 is 0.3498245529786098\n",
      "R2 score correspond to random state  168 is 0.20100354506785612\n",
      "R2 score correspond to random state  168 is -0.13847910297927468\n",
      "R2 score correspond to random state  168 is 0.4040072122928937\n",
      "R2 score correspond to random state  168 is 0.03787923199575716\n",
      "R2 score correspond to random state  168 is 0.43930274657898494\n",
      "R2 score correspond to random state  169 is 0.366590447075948\n",
      "R2 score correspond to random state  169 is -0.04574116447190213\n",
      "R2 score correspond to random state  169 is 0.44002146669434683\n",
      "R2 score correspond to random state  169 is 0.03464092016645204\n",
      "R2 score correspond to random state  169 is 0.47821458955152674\n",
      "R2 score correspond to random state  170 is 0.5514367657606487\n",
      "R2 score correspond to random state  170 is -0.061747611229473254\n",
      "R2 score correspond to random state  170 is 0.6114518289449058\n",
      "R2 score correspond to random state  170 is 0.0411904507990164\n",
      "R2 score correspond to random state  170 is 0.5862180586868269\n",
      "R2 score correspond to random state  171 is 0.47615599725652846\n",
      "R2 score correspond to random state  171 is -0.1351739806995902\n",
      "R2 score correspond to random state  171 is 0.5235788769633773\n",
      "R2 score correspond to random state  171 is 0.044579226577040054\n",
      "R2 score correspond to random state  171 is 0.5322628323033698\n",
      "R2 score correspond to random state  172 is 0.34716633693376375\n",
      "R2 score correspond to random state  172 is -0.03660133988606207\n",
      "R2 score correspond to random state  172 is 0.4072691956969364\n",
      "R2 score correspond to random state  172 is 0.03474372092938549\n",
      "R2 score correspond to random state  172 is 0.30386179473819164\n",
      "R2 score correspond to random state  173 is 0.6711710578801101\n",
      "R2 score correspond to random state  173 is -1.9927254003025192\n",
      "R2 score correspond to random state  173 is -0.6496430182834645\n",
      "R2 score correspond to random state  173 is -0.033909694982058314\n",
      "R2 score correspond to random state  173 is 0.02567094210112375\n",
      "R2 score correspond to random state  174 is -2.190292026249997\n",
      "R2 score correspond to random state  174 is -0.2715951572091886\n",
      "R2 score correspond to random state  174 is 0.5267957720623286\n",
      "R2 score correspond to random state  174 is 0.07949252244609617\n",
      "R2 score correspond to random state  174 is -0.586491905107307\n",
      "R2 score correspond to random state  175 is 0.8884155308630024\n",
      "R2 score correspond to random state  175 is -1.1371290077874678\n",
      "R2 score correspond to random state  175 is 0.5333185453644058\n",
      "R2 score correspond to random state  175 is -0.01231233428855405\n",
      "R2 score correspond to random state  175 is -0.8955727970429022\n",
      "R2 score correspond to random state  176 is 0.5934650058610944\n",
      "R2 score correspond to random state  176 is -0.2748606486988434\n",
      "R2 score correspond to random state  176 is 0.20501452334912895\n",
      "R2 score correspond to random state  176 is 0.039883415893997465\n",
      "R2 score correspond to random state  176 is 0.561651952898292\n",
      "R2 score correspond to random state  177 is 0.3710995631394697\n",
      "R2 score correspond to random state  177 is -0.03678541269053759\n",
      "R2 score correspond to random state  177 is 0.4084092693828749\n",
      "R2 score correspond to random state  177 is 0.03400195995617927\n",
      "R2 score correspond to random state  177 is 0.43848985817540376\n",
      "R2 score correspond to random state  178 is 0.62182501752439\n",
      "R2 score correspond to random state  178 is -0.7555009068035525\n",
      "R2 score correspond to random state  178 is -0.1727297350825181\n",
      "R2 score correspond to random state  178 is 0.05711584832261096\n",
      "R2 score correspond to random state  178 is 0.33320828305280914\n",
      "R2 score correspond to random state  179 is 0.4125378290291294\n",
      "R2 score correspond to random state  179 is -0.056939005071939386\n",
      "R2 score correspond to random state  179 is 0.46478597344964734\n",
      "R2 score correspond to random state  179 is 0.03501029022352131\n",
      "R2 score correspond to random state  179 is 0.5132655214344202\n",
      "R2 score correspond to random state  180 is 0.618369369569157\n",
      "R2 score correspond to random state  180 is -0.0660707550129982\n",
      "R2 score correspond to random state  180 is 0.5402799471036981\n",
      "R2 score correspond to random state  180 is 0.0406145733203046\n",
      "R2 score correspond to random state  180 is 0.5735118987988356\n",
      "R2 score correspond to random state  181 is -1.0752971511982832\n",
      "R2 score correspond to random state  181 is -0.9696873991058574\n",
      "R2 score correspond to random state  181 is 0.13658527264247844\n",
      "R2 score correspond to random state  181 is -0.07930081551128265\n",
      "R2 score correspond to random state  181 is 0.5781343547077948\n",
      "R2 score correspond to random state  182 is 0.749417509339502\n",
      "R2 score correspond to random state  182 is -0.16666366829787327\n",
      "R2 score correspond to random state  182 is 0.3749653357557923\n",
      "R2 score correspond to random state  182 is 0.04350628020808611\n",
      "R2 score correspond to random state  182 is 0.5891101909175623\n",
      "R2 score correspond to random state  183 is 0.8332667460608084\n",
      "R2 score correspond to random state  183 is -0.4546936072695429\n"
     ]
    },
    {
     "name": "stdout",
     "output_type": "stream",
     "text": [
      "R2 score correspond to random state  183 is 0.7113372945977867\n",
      "R2 score correspond to random state  183 is 0.06526510917993289\n",
      "R2 score correspond to random state  183 is 0.7632687339195112\n",
      "R2 score correspond to random state  184 is -0.6786468598674793\n",
      "R2 score correspond to random state  184 is -0.11065782526408574\n",
      "R2 score correspond to random state  184 is 0.3834870552237012\n",
      "R2 score correspond to random state  184 is 0.04414650128173825\n",
      "R2 score correspond to random state  184 is -0.39613602169964546\n",
      "R2 score correspond to random state  185 is 0.31888961726448584\n",
      "R2 score correspond to random state  185 is -0.203596079131122\n",
      "R2 score correspond to random state  185 is 0.3753741935699001\n",
      "R2 score correspond to random state  185 is 0.04745326041548825\n",
      "R2 score correspond to random state  185 is 0.5440681886833239\n",
      "R2 score correspond to random state  186 is 0.7663158306043495\n",
      "R2 score correspond to random state  186 is -1.0286745932979353\n",
      "R2 score correspond to random state  186 is 0.3878446435686933\n",
      "R2 score correspond to random state  186 is 0.017222807690477904\n",
      "R2 score correspond to random state  186 is 0.7509586523785736\n",
      "R2 score correspond to random state  187 is 0.5087722361891649\n",
      "R2 score correspond to random state  187 is -0.04893704647832409\n",
      "R2 score correspond to random state  187 is 0.5235682894598213\n",
      "R2 score correspond to random state  187 is 0.03363815794665481\n",
      "R2 score correspond to random state  187 is 0.4663302579820363\n",
      "R2 score correspond to random state  188 is -4.161235673716285\n",
      "R2 score correspond to random state  188 is -0.2581610671139125\n",
      "R2 score correspond to random state  188 is -2.399874269357364\n",
      "R2 score correspond to random state  188 is 0.08573971204625752\n",
      "R2 score correspond to random state  188 is -2.717403852366026\n",
      "R2 score correspond to random state  189 is 0.5053065476993599\n",
      "R2 score correspond to random state  189 is -0.09775304640326721\n",
      "R2 score correspond to random state  189 is 0.5479148522008361\n",
      "R2 score correspond to random state  189 is 0.049630804810470885\n",
      "R2 score correspond to random state  189 is 0.5888374496046244\n",
      "R2 score correspond to random state  190 is -1.2514602701186748\n",
      "R2 score correspond to random state  190 is -0.8663568962694639\n",
      "R2 score correspond to random state  190 is -0.9378345340070093\n",
      "R2 score correspond to random state  190 is -0.031425164554121476\n",
      "R2 score correspond to random state  190 is 0.45094583664400634\n",
      "R2 score correspond to random state  191 is 0.5550902134967843\n",
      "R2 score correspond to random state  191 is -0.09342647641546953\n",
      "R2 score correspond to random state  191 is 0.42508029869290553\n",
      "R2 score correspond to random state  191 is 0.04206170579495139\n",
      "R2 score correspond to random state  191 is 0.5984197691213922\n",
      "R2 score correspond to random state  192 is 0.6193886783886046\n",
      "R2 score correspond to random state  192 is -0.6807682053549395\n",
      "R2 score correspond to random state  192 is 0.32588472003486924\n",
      "R2 score correspond to random state  192 is -0.0049372959456952525\n",
      "R2 score correspond to random state  192 is 0.6198060373237891\n",
      "R2 score correspond to random state  193 is -1.4291333643135022\n",
      "R2 score correspond to random state  193 is -0.46866557490886485\n",
      "R2 score correspond to random state  193 is -0.3243973497094621\n",
      "R2 score correspond to random state  193 is -0.026326557200890388\n",
      "R2 score correspond to random state  193 is 0.717972172492394\n",
      "R2 score correspond to random state  194 is -0.3902160508762733\n",
      "R2 score correspond to random state  194 is -0.13729816108102622\n",
      "R2 score correspond to random state  194 is 0.3232156416402857\n",
      "R2 score correspond to random state  194 is 0.04349768236351559\n",
      "R2 score correspond to random state  194 is -0.9161853990354576\n",
      "R2 score correspond to random state  195 is 0.7903619797486813\n",
      "R2 score correspond to random state  195 is -1.2484270828861743\n",
      "R2 score correspond to random state  195 is -0.38491198807401195\n",
      "R2 score correspond to random state  195 is 0.025990729361495046\n",
      "R2 score correspond to random state  195 is 0.4817169979511585\n",
      "R2 score correspond to random state  196 is -0.43023045247268077\n",
      "R2 score correspond to random state  196 is -0.22057926063467304\n",
      "R2 score correspond to random state  196 is 0.5394708532716365\n",
      "R2 score correspond to random state  196 is 0.04449914516169973\n",
      "R2 score correspond to random state  196 is 0.3958067947828189\n",
      "R2 score correspond to random state  197 is 0.5064116246478704\n",
      "R2 score correspond to random state  197 is -0.15279147202202736\n",
      "R2 score correspond to random state  197 is 0.5408805657644391\n",
      "R2 score correspond to random state  197 is 0.04216413703839361\n",
      "R2 score correspond to random state  197 is 0.5344671383568216\n",
      "R2 score correspond to random state  198 is -1.2981371269074509\n",
      "R2 score correspond to random state  198 is -0.16336985973010454\n",
      "R2 score correspond to random state  198 is 0.515968932606952\n",
      "R2 score correspond to random state  198 is 0.04027144328177068\n",
      "R2 score correspond to random state  198 is 0.5032588682114941\n",
      "R2 score correspond to random state  199 is 0.5644100690413173\n",
      "R2 score correspond to random state  199 is -0.05994625704199685\n",
      "R2 score correspond to random state  199 is 0.5138866876361458\n",
      "R2 score correspond to random state  199 is 0.03606050173674602\n",
      "R2 score correspond to random state  199 is 0.5319143124150931\n",
      "\n",
      "\n",
      "\n",
      "\n",
      "max R2 score correspond to random state  87 is 0.9504527854956886 and model is DecisionTreeRegressor()\n"
     ]
    }
   ],
   "source": [
    "#Now by using multiple Algorithms we are calculating the best Algo which suit best for our data set \n",
    "\n",
    "model = [DecisionTreeRegressor(),KNeighborsRegressor(),AdaBoostRegressor(),LinearRegression(),GradientBoostingRegressor()]\n",
    "max_r2_score = 0\n",
    "for r_state in range(0,200):\n",
    "    train_x,test_x,train_y,test_y = train_test_split(x,y,random_state = r_state,test_size = 0.33)\n",
    "    for i in model:\n",
    "        i.fit(train_x,train_y)\n",
    "        pre = i.predict(test_x)\n",
    "        r2_sc = r2_score(test_y,pre)\n",
    "        print(\"R2 score correspond to random state \" ,r_state ,\"is\", r2_sc)\n",
    "        if r2_sc> max_r2_score:\n",
    "            max_r2_score=r2_sc\n",
    "            final_state = r_state\n",
    "            final_model = i\n",
    "            \n",
    "print()\n",
    "print()\n",
    "print()\n",
    "print()\n",
    "print(\"max R2 score correspond to random state \" ,final_state , \"is\" , max_r2_score ,\"and model is\",final_model)"
   ]
  },
  {
   "cell_type": "code",
   "execution_count": 60,
   "id": "e8a17454",
   "metadata": {},
   "outputs": [],
   "source": [
    "from sklearn import datasets\n",
    "from sklearn.preprocessing import StandardScaler\n",
    "from sklearn.model_selection import train_test_split\n",
    "from sklearn.pipeline import make_pipeline\n",
    "from sklearn.ensemble import GradientBoostingRegressor\n",
    "from sklearn.decomposition import PCA\n",
    "from sklearn.metrics import mean_squared_error"
   ]
  },
  {
   "cell_type": "code",
   "execution_count": 61,
   "id": "5f35ecb0",
   "metadata": {},
   "outputs": [],
   "source": [
    "# Create Training and Test Split\n",
    "X_train, X_test, y_train, y_test = train_test_split(x, y, random_state=131, test_size=0.2)"
   ]
  },
  {
   "cell_type": "code",
   "execution_count": 62,
   "id": "3cd77f03",
   "metadata": {},
   "outputs": [],
   "source": [
    "# Standardize the dataset\n",
    "sc = StandardScaler()\n",
    "X_train_std = sc.fit_transform(X_train)\n",
    "X_test_std = sc.transform(X_test)"
   ]
  },
  {
   "cell_type": "markdown",
   "id": "e676999e",
   "metadata": {},
   "source": [
    "## Gradient Boosting Regressor"
   ]
  },
  {
   "cell_type": "code",
   "execution_count": 63,
   "id": "00d4ea38",
   "metadata": {},
   "outputs": [],
   "source": [
    "# Hyperparameters for GradientBoostingRegressor\n",
    "gbr_params = {'n_estimators': 1000,\n",
    "          'max_depth': 3,\n",
    "          'min_samples_split': 5,\n",
    "          'learning_rate': 0.01,\n",
    "          'loss': 'ls'}"
   ]
  },
  {
   "cell_type": "code",
   "execution_count": 64,
   "id": "032ba6e6",
   "metadata": {},
   "outputs": [
    {
     "data": {
      "text/plain": [
       "GradientBoostingRegressor(learning_rate=0.01, min_samples_split=5,\n",
       "                          n_estimators=1000)"
      ]
     },
     "execution_count": 64,
     "metadata": {},
     "output_type": "execute_result"
    }
   ],
   "source": [
    "# Create an instance of gradient boosting regressor\n",
    "gbr = GradientBoostingRegressor(**gbr_params)\n",
    "\n",
    "# Fit the model\n",
    "gbr.fit(X_train_std, y_train)"
   ]
  },
  {
   "cell_type": "code",
   "execution_count": 65,
   "id": "687f0178",
   "metadata": {},
   "outputs": [
    {
     "name": "stdout",
     "output_type": "stream",
     "text": [
      "Model Accuracy: 0.913\n",
      "The mean squared error (MSE) on test set: 9244834.3915\n"
     ]
    }
   ],
   "source": [
    "# Print Coefficient of determination R^2\n",
    "\n",
    "print(\"Model Accuracy: %.3f\" % gbr.score(X_test_std, y_test))\n",
    "\n",
    "# Create the mean squared error\n",
    "\n",
    "mse = mean_squared_error(y_test, gbr.predict(X_test_std))\n",
    "print(\"The mean squared error (MSE) on test set: {:.4f}\".format(mse))"
   ]
  },
  {
   "cell_type": "code",
   "execution_count": 66,
   "id": "57a0577b",
   "metadata": {},
   "outputs": [
    {
     "data": {
      "image/png": "[encoded data removed]",
      "text/plain": [
       "<Figure size 576x576 with 1 Axes>"
      ]
     },
     "metadata": {},
     "output_type": "display_data"
    }
   ],
   "source": [
    "test_score = np.zeros((gbr_params['n_estimators'],), dtype=np.float64)\n",
    "for i, y_pred in enumerate(gbr.staged_predict(X_test_std)):\n",
    "    test_score[i] = gbr.loss_(y_test , y_pred)\n",
    "\n",
    "fig = plt.figure(figsize=(8, 8))\n",
    "plt.subplot(1, 1, 1)\n",
    "plt.title('Deviance')\n",
    "plt.plot(np.arange(gbr_params['n_estimators']) + 1, gbr.train_score_, 'b-',label='Training Set Deviance')\n",
    "plt.plot(np.arange(gbr_params['n_estimators']) + 1, test_score, 'r-',label='Test Set Deviance')\n",
    "plt.legend(loc='upper right')\n",
    "plt.xlabel('Boosting Iterations')\n",
    "plt.ylabel('Deviance')\n",
    "fig.tight_layout()\n",
    "plt.show()"
   ]
  },
  {
   "cell_type": "markdown",
   "id": "4b6d7f4b",
   "metadata": {},
   "source": [
    "## Decision Tree Regressor"
   ]
  },
  {
   "cell_type": "code",
   "execution_count": 67,
   "id": "826b396c",
   "metadata": {},
   "outputs": [
    {
     "data": {
      "text/plain": [
       "0.9745484237183686"
      ]
     },
     "execution_count": 67,
     "metadata": {},
     "output_type": "execute_result"
    }
   ],
   "source": [
    "model = DecisionTreeRegressor(random_state=44)\n",
    "model.fit(X_train_std, y_train)\n",
    "predictions = model.predict(X_test_std)\n",
    "r2_score(y_test,predictions)"
   ]
  },
  {
   "cell_type": "code",
   "execution_count": 68,
   "id": "5ac21e4f",
   "metadata": {},
   "outputs": [
    {
     "name": "stdout",
     "output_type": "stream",
     "text": [
      "Model Accuracy: 0.975\n",
      "The mean squared error (MSE) on test set: 2690988.8353\n"
     ]
    }
   ],
   "source": [
    "# Print Coefficient of determination R^2\n",
    "\n",
    "print(\"Model Accuracy: %.3f\" % model.score(X_test_std, y_test))\n",
    "\n",
    "# Create the mean squared error\n",
    "\n",
    "mse = mean_squared_error(y_test, model.predict(X_test_std))\n",
    "print(\"The mean squared error (MSE) on test set: {:.4f}\".format(mse))"
   ]
  },
  {
   "cell_type": "markdown",
   "id": "92f596e1",
   "metadata": {},
   "source": [
    "## Random Forest Regression"
   ]
  },
  {
   "cell_type": "code",
   "execution_count": 72,
   "id": "7127d2ac",
   "metadata": {},
   "outputs": [
    {
     "data": {
      "text/plain": [
       "0.8265112058994744"
      ]
     },
     "execution_count": 72,
     "metadata": {},
     "output_type": "execute_result"
    }
   ],
   "source": [
    "#Preparing Random Forest REgression\n",
    "from sklearn.ensemble import RandomForestRegressor\n",
    "RForest=RandomForestRegressor(n_estimators=500,random_state=131,min_samples_leaf=.0001)\n",
    "RForest.fit(X_train_std,y_train)\n",
    "y_predict=RForest.predict(X_test_std)\n",
    "from sklearn.metrics import r2_score\n",
    "r2_score(y_test,y_predict)"
   ]
  },
  {
   "cell_type": "code",
   "execution_count": 73,
   "id": "60c655ae",
   "metadata": {},
   "outputs": [
    {
     "name": "stdout",
     "output_type": "stream",
     "text": [
      "Model Accuracy: 0.827\n",
      "The mean squared error (MSE) on test set: 18342927.0870\n"
     ]
    }
   ],
   "source": [
    "# Print Coefficient of determination R^2\n",
    "\n",
    "print(\"Model Accuracy: %.3f\" % RForest.score(X_test_std, y_test))\n",
    "\n",
    "# Create the mean squared error\n",
    "\n",
    "mse = mean_squared_error(y_test, RForest.predict(X_test_std))\n",
    "print(\"The mean squared error (MSE) on test set: {:.4f}\".format(mse))"
   ]
  },
  {
   "cell_type": "code",
   "execution_count": null,
   "id": "7cc49906",
   "metadata": {},
   "outputs": [],
   "source": []
  },
  {
   "cell_type": "markdown",
   "id": "43dd10be",
   "metadata": {},
   "source": [
    "## Extra Tree Regression"
   ]
  },
  {
   "cell_type": "code",
   "execution_count": 74,
   "id": "40b85eb0",
   "metadata": {},
   "outputs": [
    {
     "data": {
      "text/plain": [
       "0.809837281322184"
      ]
     },
     "execution_count": 74,
     "metadata": {},
     "output_type": "execute_result"
    }
   ],
   "source": [
    "#Preparing Extra Tree Regression\n",
    "from sklearn.ensemble import  ExtraTreesRegressor\n",
    "ETree=ExtraTreesRegressor(n_estimators = 100)\n",
    "ETree.fit(X_train_std,y_train)\n",
    "y_predict=ETree.predict(X_test_std)\n",
    "from sklearn.metrics import r2_score\n",
    "r2_score(y_test,y_predict)"
   ]
  },
  {
   "cell_type": "code",
   "execution_count": 75,
   "id": "a0c4cd42",
   "metadata": {},
   "outputs": [
    {
     "name": "stdout",
     "output_type": "stream",
     "text": [
      "Model Accuracy: 0.810\n",
      "The mean squared error (MSE) on test set: 20105856.9889\n"
     ]
    }
   ],
   "source": [
    "# Print Coefficient of determination R^2\n",
    "\n",
    "print(\"Model Accuracy: %.3f\" % ETree.score(X_test_std, y_test))\n",
    "\n",
    "# Create the mean squared error\n",
    "\n",
    "mse = mean_squared_error(y_test, ETree.predict(X_test_std))\n",
    "print(\"The mean squared error (MSE) on test set: {:.4f}\".format(mse))"
   ]
  },
  {
   "cell_type": "markdown",
   "id": "49f43ba8",
   "metadata": {},
   "source": [
    "           "
   ]
  },
  {
   "cell_type": "markdown",
   "id": "670de5c4",
   "metadata": {},
   "source": [
    "### Predicting the Dataset with Target set as \" Average Cost for two\" with Decision Tree Regressor has R^2 score of 97.57 % as highest amongst other Model Predictions."
   ]
  },
  {
   "cell_type": "markdown",
   "id": "e4551a79",
   "metadata": {},
   "source": [
    "             "
   ]
  },
  {
   "cell_type": "markdown",
   "id": "129230af",
   "metadata": {},
   "source": [
    "          "
   ]
  },
  {
   "cell_type": "markdown",
   "id": "3378876b",
   "metadata": {},
   "source": [
    "# Conclusion"
   ]
  },
  {
   "cell_type": "markdown",
   "id": "8b16cead",
   "metadata": {},
   "source": [
    "          "
   ]
  },
  {
   "cell_type": "markdown",
   "id": "9af09470",
   "metadata": {},
   "source": [
    "#### Predicting the Dataset with Target set as \"Price Range\" with Random Forest Regression has R^2 score of 97.977 % as highest amongst other Model Predictions."
   ]
  },
  {
   "cell_type": "markdown",
   "id": "dbb02cdf",
   "metadata": {},
   "source": [
    "      "
   ]
  },
  {
   "cell_type": "markdown",
   "id": "45fa2bb4",
   "metadata": {},
   "source": [
    "#### Predicting the Dataset with Target set as \" Average Cost for two\" with Decision Tree Regressor has R^2 score of 97.57 % as highest amongst other Model Predictions."
   ]
  }
 ],
 "metadata": {
  "kernelspec": {
   "display_name": "Python 3 (ipykernel)",
   "language": "python",
   "name": "python3"
  },
  "language_info": {
   "codemirror_mode": {
    "name": "ipython",
    "version": 3
   },
   "file_extension": ".py",
   "mimetype": "text/x-python",
   "name": "python",
   "nbconvert_exporter": "python",
   "pygments_lexer": "ipython3",
   "version": "3.9.7"
  }
 },
 "nbformat": 4,
 "nbformat_minor": 5
}
