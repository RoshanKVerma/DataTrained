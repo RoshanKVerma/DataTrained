{
 "cells": [
  {
   "cell_type": "markdown",
   "id": "9e514c08",
   "metadata": {},
   "source": [
    "# Global Power Plant Project"
   ]
  },
  {
   "cell_type": "markdown",
   "id": "b8701923",
   "metadata": {},
   "source": [
    "# Problem Statement:\n",
    "\n",
    "\n",
    "The Global Power Plant Database is a comprehensive, open source database of power plants around the world. It centralizes power plant data to make it easier to navigate, compare and draw insights for one’s own analysis. The database covers approximately 35,000 power plants from 167 countries and includes thermal plants (e.g. coal, gas, oil, nuclear, biomass, waste, geothermal) and renewables (e.g. hydro, wind, solar). Each power plant is geolocated and entries contain information on plant capacity, generation, ownership, and fuel type. It will be continuously updated as data becomes available."
   ]
  },
  {
   "cell_type": "markdown",
   "id": "22d36289",
   "metadata": {},
   "source": [
    "Key attributes of the database\n",
    "The database includes the following indicators:\n",
    "\n",
    "`country` (text): 3 character country code corresponding to the ISO 3166-1 alpha-3 specification [5]\n",
    "\n",
    "`country_long` (text): longer form of the country designation\n",
    "\n",
    "`name` (text): name or title of the power plant, generally in Romanized form\n",
    "\n",
    "`gppd_idnr` (text): 10 or 12 character identifier for the power plant\n",
    "\n",
    "`capacity_mw` (number): electrical generating capacity in megawatts\n",
    "\n",
    "`latitude` (number): geolocation in decimal degrees; WGS84 (EPSG:4326)\n",
    "\n",
    "`longitude` (number): geolocation in decimal degrees; WGS84 (EPSG:4326)\n",
    "\n",
    "`primary_fuel` (text): energy source used in primary electricity generation or export\n",
    "\n",
    "`other_fuel1` (text): energy source used in electricity generation or export\n",
    "\n",
    "`other_fuel2` (text): energy source used in electricity generation or export\n",
    "\n",
    "`other_fuel3` (text): energy source used in electricity generation or export\n",
    "\n",
    "`commissioning_year` (number): year of plant operation, weighted by unit-capacity when data is available\n",
    "\n",
    "`owner` (text): majority shareholder of the power plant, generally in Romanized form\n",
    "\n",
    "`source` (text): entity reporting the data; could be an organization, report, or document, generally in Romanized form\n",
    "\n",
    "`url` (text): web document corresponding to the `source` field\n",
    "\n",
    "`geolocation_source` (text): attribution for geolocation information\n",
    "\n",
    "`wepp_id` (text): a reference to a unique plant identifier in the widely-used PLATTS-WEPP database.\n",
    "\n",
    "`year_of_capacity_data` (number): year the capacity information was reported\n",
    "\n",
    "`generation_gwh_2013` (number): electricity generation in gigawatt-hours reported for the year 2013\n",
    "\n",
    "`generation_gwh_2014` (number): electricity generation in gigawatt-hours reported for the year 2014\n",
    "\n",
    "`generation_gwh_2015` (number): electricity generation in gigawatt-hours reported for the year 2015\n",
    "\n",
    "`generation_gwh_2016` (number): electricity generation in gigawatt-hours reported for the year 2016\n",
    "\n",
    "`generation_gwh_2017` (number): electricity generation in gigawatt-hours reported for the year 2017\n",
    "\n",
    "`generation_gwh_2018` (number): electricity generation in gigawatt-hours reported for the year 2018\n",
    "\n",
    "`generation_gwh_2019` (number): electricity generation in gigawatt-hours reported for the year 2019\n",
    "\n",
    "`generation_data_source` (text): attribution for the reported generation information\n",
    "\n",
    "`estimated_generation_gwh_2013` (number): estimated electricity generation in gigawatt-hours for the year 2013\n",
    "\n",
    "`estimated_generation_gwh_2014` (number): estimated electricity generation in gigawatt-hours for the year 2014 \n",
    "\n",
    "`estimated_generation_gwh_2015` (number): estimated electricity generation in gigawatt-hours for the year 2015 \n",
    "\n",
    "`estimated_generation_gwh_2016` (number): estimated electricity generation in gigawatt-hours for the year 2016 \n",
    "\n",
    "`estimated_generation_gwh_2017` (number): estimated electricity generation in gigawatt-hours for the year 2017 \n",
    "\n",
    "'estimated_generation_note_2013` (text): label of the model/method used to estimate generation for the year 2013\n",
    "\n",
    "`estimated_generation_note_2014` (text): label of the model/method used to estimate generation for the year 2014 \n",
    "\n",
    "`estimated_generation_note_2015` (text): label of the model/method used to estimate generation for the year 2015\n",
    "\n",
    "`estimated_generation_note_2016` (text): label of the model/method used to estimate generation for the year 2016\n",
    "\n",
    "`estimated_generation_note_2017` (text): label of the model/method used to estimate generation for the year 2017 \n"
   ]
  },
  {
   "cell_type": "markdown",
   "id": "d89d5814",
   "metadata": {},
   "source": [
    "                                  "
   ]
  },
  {
   "cell_type": "code",
   "execution_count": 1,
   "id": "9f6a4087",
   "metadata": {},
   "outputs": [],
   "source": [
    "#import all libraries\n",
    "import pandas as pd\n",
    "import numpy as np\n",
    "import matplotlib.pyplot as plt\n",
    "import seaborn as sns\n",
    "import warnings\n",
    "warnings.filterwarnings('ignore')\n",
    "\n",
    "# Import label encoder\n",
    "from sklearn import preprocessing\n",
    "  \n",
    "# label_encoder object knows how to understand word labels.\n",
    "le = preprocessing.LabelEncoder()"
   ]
  },
  {
   "cell_type": "code",
   "execution_count": 2,
   "id": "6d636ba0",
   "metadata": {},
   "outputs": [
    {
     "data": {
      "text/html": [
       "<div>\n",
       "<style scoped>\n",
       "    .dataframe tbody tr th:only-of-type {\n",
       "        vertical-align: middle;\n",
       "    }\n",
       "\n",
       "    .dataframe tbody tr th {\n",
       "        vertical-align: top;\n",
       "    }\n",
       "\n",
       "    .dataframe thead th {\n",
       "        text-align: right;\n",
       "    }\n",
       "</style>\n",
       "<table border=\"1\" class=\"dataframe\">\n",
       "  <thead>\n",
       "    <tr style=\"text-align: right;\">\n",
       "      <th></th>\n",
       "      <th>country</th>\n",
       "      <th>country_long</th>\n",
       "      <th>name</th>\n",
       "      <th>gppd_idnr</th>\n",
       "      <th>capacity_mw</th>\n",
       "      <th>latitude</th>\n",
       "      <th>longitude</th>\n",
       "      <th>primary_fuel</th>\n",
       "      <th>other_fuel1</th>\n",
       "      <th>other_fuel2</th>\n",
       "      <th>...</th>\n",
       "      <th>year_of_capacity_data</th>\n",
       "      <th>generation_gwh_2013</th>\n",
       "      <th>generation_gwh_2014</th>\n",
       "      <th>generation_gwh_2015</th>\n",
       "      <th>generation_gwh_2016</th>\n",
       "      <th>generation_gwh_2017</th>\n",
       "      <th>generation_gwh_2018</th>\n",
       "      <th>generation_gwh_2019</th>\n",
       "      <th>generation_data_source</th>\n",
       "      <th>estimated_generation_gwh</th>\n",
       "    </tr>\n",
       "  </thead>\n",
       "  <tbody>\n",
       "    <tr>\n",
       "      <th>0</th>\n",
       "      <td>IND</td>\n",
       "      <td>India</td>\n",
       "      <td>ACME Solar Tower</td>\n",
       "      <td>WRI1020239</td>\n",
       "      <td>2.5</td>\n",
       "      <td>28.1839</td>\n",
       "      <td>73.2407</td>\n",
       "      <td>Solar</td>\n",
       "      <td>NaN</td>\n",
       "      <td>NaN</td>\n",
       "      <td>...</td>\n",
       "      <td>NaN</td>\n",
       "      <td>NaN</td>\n",
       "      <td>NaN</td>\n",
       "      <td>NaN</td>\n",
       "      <td>NaN</td>\n",
       "      <td>NaN</td>\n",
       "      <td>NaN</td>\n",
       "      <td>NaN</td>\n",
       "      <td>NaN</td>\n",
       "      <td>NaN</td>\n",
       "    </tr>\n",
       "    <tr>\n",
       "      <th>1</th>\n",
       "      <td>IND</td>\n",
       "      <td>India</td>\n",
       "      <td>ADITYA CEMENT WORKS</td>\n",
       "      <td>WRI1019881</td>\n",
       "      <td>98.0</td>\n",
       "      <td>24.7663</td>\n",
       "      <td>74.6090</td>\n",
       "      <td>Coal</td>\n",
       "      <td>NaN</td>\n",
       "      <td>NaN</td>\n",
       "      <td>...</td>\n",
       "      <td>NaN</td>\n",
       "      <td>NaN</td>\n",
       "      <td>NaN</td>\n",
       "      <td>NaN</td>\n",
       "      <td>NaN</td>\n",
       "      <td>NaN</td>\n",
       "      <td>NaN</td>\n",
       "      <td>NaN</td>\n",
       "      <td>NaN</td>\n",
       "      <td>NaN</td>\n",
       "    </tr>\n",
       "    <tr>\n",
       "      <th>2</th>\n",
       "      <td>IND</td>\n",
       "      <td>India</td>\n",
       "      <td>AES Saurashtra Windfarms</td>\n",
       "      <td>WRI1026669</td>\n",
       "      <td>39.2</td>\n",
       "      <td>21.9038</td>\n",
       "      <td>69.3732</td>\n",
       "      <td>Wind</td>\n",
       "      <td>NaN</td>\n",
       "      <td>NaN</td>\n",
       "      <td>...</td>\n",
       "      <td>NaN</td>\n",
       "      <td>NaN</td>\n",
       "      <td>NaN</td>\n",
       "      <td>NaN</td>\n",
       "      <td>NaN</td>\n",
       "      <td>NaN</td>\n",
       "      <td>NaN</td>\n",
       "      <td>NaN</td>\n",
       "      <td>NaN</td>\n",
       "      <td>NaN</td>\n",
       "    </tr>\n",
       "    <tr>\n",
       "      <th>3</th>\n",
       "      <td>IND</td>\n",
       "      <td>India</td>\n",
       "      <td>AGARTALA GT</td>\n",
       "      <td>IND0000001</td>\n",
       "      <td>135.0</td>\n",
       "      <td>23.8712</td>\n",
       "      <td>91.3602</td>\n",
       "      <td>Gas</td>\n",
       "      <td>NaN</td>\n",
       "      <td>NaN</td>\n",
       "      <td>...</td>\n",
       "      <td>2019.0</td>\n",
       "      <td>NaN</td>\n",
       "      <td>617.789264</td>\n",
       "      <td>843.747000</td>\n",
       "      <td>886.004428</td>\n",
       "      <td>663.774500</td>\n",
       "      <td>626.239128</td>\n",
       "      <td>NaN</td>\n",
       "      <td>Central Electricity Authority</td>\n",
       "      <td>NaN</td>\n",
       "    </tr>\n",
       "    <tr>\n",
       "      <th>4</th>\n",
       "      <td>IND</td>\n",
       "      <td>India</td>\n",
       "      <td>AKALTARA TPP</td>\n",
       "      <td>IND0000002</td>\n",
       "      <td>1800.0</td>\n",
       "      <td>21.9603</td>\n",
       "      <td>82.4091</td>\n",
       "      <td>Coal</td>\n",
       "      <td>Oil</td>\n",
       "      <td>NaN</td>\n",
       "      <td>...</td>\n",
       "      <td>2019.0</td>\n",
       "      <td>NaN</td>\n",
       "      <td>3035.550000</td>\n",
       "      <td>5916.370000</td>\n",
       "      <td>6243.000000</td>\n",
       "      <td>5385.579736</td>\n",
       "      <td>7279.000000</td>\n",
       "      <td>NaN</td>\n",
       "      <td>Central Electricity Authority</td>\n",
       "      <td>NaN</td>\n",
       "    </tr>\n",
       "    <tr>\n",
       "      <th>...</th>\n",
       "      <td>...</td>\n",
       "      <td>...</td>\n",
       "      <td>...</td>\n",
       "      <td>...</td>\n",
       "      <td>...</td>\n",
       "      <td>...</td>\n",
       "      <td>...</td>\n",
       "      <td>...</td>\n",
       "      <td>...</td>\n",
       "      <td>...</td>\n",
       "      <td>...</td>\n",
       "      <td>...</td>\n",
       "      <td>...</td>\n",
       "      <td>...</td>\n",
       "      <td>...</td>\n",
       "      <td>...</td>\n",
       "      <td>...</td>\n",
       "      <td>...</td>\n",
       "      <td>...</td>\n",
       "      <td>...</td>\n",
       "      <td>...</td>\n",
       "    </tr>\n",
       "    <tr>\n",
       "      <th>902</th>\n",
       "      <td>IND</td>\n",
       "      <td>India</td>\n",
       "      <td>YERMARUS TPP</td>\n",
       "      <td>IND0000513</td>\n",
       "      <td>1600.0</td>\n",
       "      <td>16.2949</td>\n",
       "      <td>77.3568</td>\n",
       "      <td>Coal</td>\n",
       "      <td>Oil</td>\n",
       "      <td>NaN</td>\n",
       "      <td>...</td>\n",
       "      <td>2019.0</td>\n",
       "      <td>NaN</td>\n",
       "      <td>NaN</td>\n",
       "      <td>0.994875</td>\n",
       "      <td>233.596650</td>\n",
       "      <td>865.400000</td>\n",
       "      <td>686.500000</td>\n",
       "      <td>NaN</td>\n",
       "      <td>Central Electricity Authority</td>\n",
       "      <td>NaN</td>\n",
       "    </tr>\n",
       "    <tr>\n",
       "      <th>903</th>\n",
       "      <td>IND</td>\n",
       "      <td>India</td>\n",
       "      <td>Yelesandra Solar Power Plant</td>\n",
       "      <td>WRI1026222</td>\n",
       "      <td>3.0</td>\n",
       "      <td>12.8932</td>\n",
       "      <td>78.1654</td>\n",
       "      <td>Solar</td>\n",
       "      <td>NaN</td>\n",
       "      <td>NaN</td>\n",
       "      <td>...</td>\n",
       "      <td>NaN</td>\n",
       "      <td>NaN</td>\n",
       "      <td>NaN</td>\n",
       "      <td>NaN</td>\n",
       "      <td>NaN</td>\n",
       "      <td>NaN</td>\n",
       "      <td>NaN</td>\n",
       "      <td>NaN</td>\n",
       "      <td>NaN</td>\n",
       "      <td>NaN</td>\n",
       "    </tr>\n",
       "    <tr>\n",
       "      <th>904</th>\n",
       "      <td>IND</td>\n",
       "      <td>India</td>\n",
       "      <td>Yelisirur wind power project</td>\n",
       "      <td>WRI1026776</td>\n",
       "      <td>25.5</td>\n",
       "      <td>15.2758</td>\n",
       "      <td>75.5811</td>\n",
       "      <td>Wind</td>\n",
       "      <td>NaN</td>\n",
       "      <td>NaN</td>\n",
       "      <td>...</td>\n",
       "      <td>NaN</td>\n",
       "      <td>NaN</td>\n",
       "      <td>NaN</td>\n",
       "      <td>NaN</td>\n",
       "      <td>NaN</td>\n",
       "      <td>NaN</td>\n",
       "      <td>NaN</td>\n",
       "      <td>NaN</td>\n",
       "      <td>NaN</td>\n",
       "      <td>NaN</td>\n",
       "    </tr>\n",
       "    <tr>\n",
       "      <th>905</th>\n",
       "      <td>IND</td>\n",
       "      <td>India</td>\n",
       "      <td>ZAWAR MINES</td>\n",
       "      <td>WRI1019901</td>\n",
       "      <td>80.0</td>\n",
       "      <td>24.3500</td>\n",
       "      <td>73.7477</td>\n",
       "      <td>Coal</td>\n",
       "      <td>NaN</td>\n",
       "      <td>NaN</td>\n",
       "      <td>...</td>\n",
       "      <td>NaN</td>\n",
       "      <td>NaN</td>\n",
       "      <td>NaN</td>\n",
       "      <td>NaN</td>\n",
       "      <td>NaN</td>\n",
       "      <td>NaN</td>\n",
       "      <td>NaN</td>\n",
       "      <td>NaN</td>\n",
       "      <td>NaN</td>\n",
       "      <td>NaN</td>\n",
       "    </tr>\n",
       "    <tr>\n",
       "      <th>906</th>\n",
       "      <td>IND</td>\n",
       "      <td>India</td>\n",
       "      <td>iEnergy Theni Wind Farm</td>\n",
       "      <td>WRI1026761</td>\n",
       "      <td>16.5</td>\n",
       "      <td>9.9344</td>\n",
       "      <td>77.4768</td>\n",
       "      <td>Wind</td>\n",
       "      <td>NaN</td>\n",
       "      <td>NaN</td>\n",
       "      <td>...</td>\n",
       "      <td>NaN</td>\n",
       "      <td>NaN</td>\n",
       "      <td>NaN</td>\n",
       "      <td>NaN</td>\n",
       "      <td>NaN</td>\n",
       "      <td>NaN</td>\n",
       "      <td>NaN</td>\n",
       "      <td>NaN</td>\n",
       "      <td>NaN</td>\n",
       "      <td>NaN</td>\n",
       "    </tr>\n",
       "  </tbody>\n",
       "</table>\n",
       "<p>907 rows × 27 columns</p>\n",
       "</div>"
      ],
      "text/plain": [
       "    country country_long                          name   gppd_idnr  \\\n",
       "0       IND        India              ACME Solar Tower  WRI1020239   \n",
       "1       IND        India           ADITYA CEMENT WORKS  WRI1019881   \n",
       "2       IND        India      AES Saurashtra Windfarms  WRI1026669   \n",
       "3       IND        India                   AGARTALA GT  IND0000001   \n",
       "4       IND        India                  AKALTARA TPP  IND0000002   \n",
       "..      ...          ...                           ...         ...   \n",
       "902     IND        India                  YERMARUS TPP  IND0000513   \n",
       "903     IND        India  Yelesandra Solar Power Plant  WRI1026222   \n",
       "904     IND        India  Yelisirur wind power project  WRI1026776   \n",
       "905     IND        India                   ZAWAR MINES  WRI1019901   \n",
       "906     IND        India       iEnergy Theni Wind Farm  WRI1026761   \n",
       "\n",
       "     capacity_mw  latitude  longitude primary_fuel other_fuel1 other_fuel2  \\\n",
       "0            2.5   28.1839    73.2407        Solar         NaN         NaN   \n",
       "1           98.0   24.7663    74.6090         Coal         NaN         NaN   \n",
       "2           39.2   21.9038    69.3732         Wind         NaN         NaN   \n",
       "3          135.0   23.8712    91.3602          Gas         NaN         NaN   \n",
       "4         1800.0   21.9603    82.4091         Coal         Oil         NaN   \n",
       "..           ...       ...        ...          ...         ...         ...   \n",
       "902       1600.0   16.2949    77.3568         Coal         Oil         NaN   \n",
       "903          3.0   12.8932    78.1654        Solar         NaN         NaN   \n",
       "904         25.5   15.2758    75.5811         Wind         NaN         NaN   \n",
       "905         80.0   24.3500    73.7477         Coal         NaN         NaN   \n",
       "906         16.5    9.9344    77.4768         Wind         NaN         NaN   \n",
       "\n",
       "     ...  year_of_capacity_data  generation_gwh_2013 generation_gwh_2014  \\\n",
       "0    ...                    NaN                  NaN                 NaN   \n",
       "1    ...                    NaN                  NaN                 NaN   \n",
       "2    ...                    NaN                  NaN                 NaN   \n",
       "3    ...                 2019.0                  NaN          617.789264   \n",
       "4    ...                 2019.0                  NaN         3035.550000   \n",
       "..   ...                    ...                  ...                 ...   \n",
       "902  ...                 2019.0                  NaN                 NaN   \n",
       "903  ...                    NaN                  NaN                 NaN   \n",
       "904  ...                    NaN                  NaN                 NaN   \n",
       "905  ...                    NaN                  NaN                 NaN   \n",
       "906  ...                    NaN                  NaN                 NaN   \n",
       "\n",
       "    generation_gwh_2015 generation_gwh_2016 generation_gwh_2017  \\\n",
       "0                   NaN                 NaN                 NaN   \n",
       "1                   NaN                 NaN                 NaN   \n",
       "2                   NaN                 NaN                 NaN   \n",
       "3            843.747000          886.004428          663.774500   \n",
       "4           5916.370000         6243.000000         5385.579736   \n",
       "..                  ...                 ...                 ...   \n",
       "902            0.994875          233.596650          865.400000   \n",
       "903                 NaN                 NaN                 NaN   \n",
       "904                 NaN                 NaN                 NaN   \n",
       "905                 NaN                 NaN                 NaN   \n",
       "906                 NaN                 NaN                 NaN   \n",
       "\n",
       "     generation_gwh_2018  generation_gwh_2019         generation_data_source  \\\n",
       "0                    NaN                  NaN                            NaN   \n",
       "1                    NaN                  NaN                            NaN   \n",
       "2                    NaN                  NaN                            NaN   \n",
       "3             626.239128                  NaN  Central Electricity Authority   \n",
       "4            7279.000000                  NaN  Central Electricity Authority   \n",
       "..                   ...                  ...                            ...   \n",
       "902           686.500000                  NaN  Central Electricity Authority   \n",
       "903                  NaN                  NaN                            NaN   \n",
       "904                  NaN                  NaN                            NaN   \n",
       "905                  NaN                  NaN                            NaN   \n",
       "906                  NaN                  NaN                            NaN   \n",
       "\n",
       "     estimated_generation_gwh  \n",
       "0                         NaN  \n",
       "1                         NaN  \n",
       "2                         NaN  \n",
       "3                         NaN  \n",
       "4                         NaN  \n",
       "..                        ...  \n",
       "902                       NaN  \n",
       "903                       NaN  \n",
       "904                       NaN  \n",
       "905                       NaN  \n",
       "906                       NaN  \n",
       "\n",
       "[907 rows x 27 columns]"
      ]
     },
     "execution_count": 2,
     "metadata": {},
     "output_type": "execute_result"
    }
   ],
   "source": [
    "df=pd.read_csv('Global Power Plant Project.csv')\n",
    "df"
   ]
  },
  {
   "cell_type": "code",
   "execution_count": 3,
   "id": "d3bad609",
   "metadata": {},
   "outputs": [
    {
     "data": {
      "text/html": [
       "<div>\n",
       "<style scoped>\n",
       "    .dataframe tbody tr th:only-of-type {\n",
       "        vertical-align: middle;\n",
       "    }\n",
       "\n",
       "    .dataframe tbody tr th {\n",
       "        vertical-align: top;\n",
       "    }\n",
       "\n",
       "    .dataframe thead th {\n",
       "        text-align: right;\n",
       "    }\n",
       "</style>\n",
       "<table border=\"1\" class=\"dataframe\">\n",
       "  <thead>\n",
       "    <tr style=\"text-align: right;\">\n",
       "      <th></th>\n",
       "      <th>country</th>\n",
       "      <th>country_long</th>\n",
       "      <th>name</th>\n",
       "      <th>gppd_idnr</th>\n",
       "      <th>capacity_mw</th>\n",
       "      <th>latitude</th>\n",
       "      <th>longitude</th>\n",
       "      <th>primary_fuel</th>\n",
       "      <th>other_fuel1</th>\n",
       "      <th>other_fuel2</th>\n",
       "      <th>...</th>\n",
       "      <th>year_of_capacity_data</th>\n",
       "      <th>generation_gwh_2013</th>\n",
       "      <th>generation_gwh_2014</th>\n",
       "      <th>generation_gwh_2015</th>\n",
       "      <th>generation_gwh_2016</th>\n",
       "      <th>generation_gwh_2017</th>\n",
       "      <th>generation_gwh_2018</th>\n",
       "      <th>generation_gwh_2019</th>\n",
       "      <th>generation_data_source</th>\n",
       "      <th>estimated_generation_gwh</th>\n",
       "    </tr>\n",
       "  </thead>\n",
       "  <tbody>\n",
       "    <tr>\n",
       "      <th>0</th>\n",
       "      <td>IND</td>\n",
       "      <td>India</td>\n",
       "      <td>ACME Solar Tower</td>\n",
       "      <td>WRI1020239</td>\n",
       "      <td>2.5</td>\n",
       "      <td>28.1839</td>\n",
       "      <td>73.2407</td>\n",
       "      <td>Solar</td>\n",
       "      <td>NaN</td>\n",
       "      <td>NaN</td>\n",
       "      <td>...</td>\n",
       "      <td>NaN</td>\n",
       "      <td>NaN</td>\n",
       "      <td>NaN</td>\n",
       "      <td>NaN</td>\n",
       "      <td>NaN</td>\n",
       "      <td>NaN</td>\n",
       "      <td>NaN</td>\n",
       "      <td>NaN</td>\n",
       "      <td>NaN</td>\n",
       "      <td>NaN</td>\n",
       "    </tr>\n",
       "    <tr>\n",
       "      <th>1</th>\n",
       "      <td>IND</td>\n",
       "      <td>India</td>\n",
       "      <td>ADITYA CEMENT WORKS</td>\n",
       "      <td>WRI1019881</td>\n",
       "      <td>98.0</td>\n",
       "      <td>24.7663</td>\n",
       "      <td>74.6090</td>\n",
       "      <td>Coal</td>\n",
       "      <td>NaN</td>\n",
       "      <td>NaN</td>\n",
       "      <td>...</td>\n",
       "      <td>NaN</td>\n",
       "      <td>NaN</td>\n",
       "      <td>NaN</td>\n",
       "      <td>NaN</td>\n",
       "      <td>NaN</td>\n",
       "      <td>NaN</td>\n",
       "      <td>NaN</td>\n",
       "      <td>NaN</td>\n",
       "      <td>NaN</td>\n",
       "      <td>NaN</td>\n",
       "    </tr>\n",
       "    <tr>\n",
       "      <th>2</th>\n",
       "      <td>IND</td>\n",
       "      <td>India</td>\n",
       "      <td>AES Saurashtra Windfarms</td>\n",
       "      <td>WRI1026669</td>\n",
       "      <td>39.2</td>\n",
       "      <td>21.9038</td>\n",
       "      <td>69.3732</td>\n",
       "      <td>Wind</td>\n",
       "      <td>NaN</td>\n",
       "      <td>NaN</td>\n",
       "      <td>...</td>\n",
       "      <td>NaN</td>\n",
       "      <td>NaN</td>\n",
       "      <td>NaN</td>\n",
       "      <td>NaN</td>\n",
       "      <td>NaN</td>\n",
       "      <td>NaN</td>\n",
       "      <td>NaN</td>\n",
       "      <td>NaN</td>\n",
       "      <td>NaN</td>\n",
       "      <td>NaN</td>\n",
       "    </tr>\n",
       "    <tr>\n",
       "      <th>3</th>\n",
       "      <td>IND</td>\n",
       "      <td>India</td>\n",
       "      <td>AGARTALA GT</td>\n",
       "      <td>IND0000001</td>\n",
       "      <td>135.0</td>\n",
       "      <td>23.8712</td>\n",
       "      <td>91.3602</td>\n",
       "      <td>Gas</td>\n",
       "      <td>NaN</td>\n",
       "      <td>NaN</td>\n",
       "      <td>...</td>\n",
       "      <td>2019.0</td>\n",
       "      <td>NaN</td>\n",
       "      <td>617.789264</td>\n",
       "      <td>843.747</td>\n",
       "      <td>886.004428</td>\n",
       "      <td>663.774500</td>\n",
       "      <td>626.239128</td>\n",
       "      <td>NaN</td>\n",
       "      <td>Central Electricity Authority</td>\n",
       "      <td>NaN</td>\n",
       "    </tr>\n",
       "    <tr>\n",
       "      <th>4</th>\n",
       "      <td>IND</td>\n",
       "      <td>India</td>\n",
       "      <td>AKALTARA TPP</td>\n",
       "      <td>IND0000002</td>\n",
       "      <td>1800.0</td>\n",
       "      <td>21.9603</td>\n",
       "      <td>82.4091</td>\n",
       "      <td>Coal</td>\n",
       "      <td>Oil</td>\n",
       "      <td>NaN</td>\n",
       "      <td>...</td>\n",
       "      <td>2019.0</td>\n",
       "      <td>NaN</td>\n",
       "      <td>3035.550000</td>\n",
       "      <td>5916.370</td>\n",
       "      <td>6243.000000</td>\n",
       "      <td>5385.579736</td>\n",
       "      <td>7279.000000</td>\n",
       "      <td>NaN</td>\n",
       "      <td>Central Electricity Authority</td>\n",
       "      <td>NaN</td>\n",
       "    </tr>\n",
       "  </tbody>\n",
       "</table>\n",
       "<p>5 rows × 27 columns</p>\n",
       "</div>"
      ],
      "text/plain": [
       "  country country_long                      name   gppd_idnr  capacity_mw  \\\n",
       "0     IND        India          ACME Solar Tower  WRI1020239          2.5   \n",
       "1     IND        India       ADITYA CEMENT WORKS  WRI1019881         98.0   \n",
       "2     IND        India  AES Saurashtra Windfarms  WRI1026669         39.2   \n",
       "3     IND        India               AGARTALA GT  IND0000001        135.0   \n",
       "4     IND        India              AKALTARA TPP  IND0000002       1800.0   \n",
       "\n",
       "   latitude  longitude primary_fuel other_fuel1 other_fuel2  ...  \\\n",
       "0   28.1839    73.2407        Solar         NaN         NaN  ...   \n",
       "1   24.7663    74.6090         Coal         NaN         NaN  ...   \n",
       "2   21.9038    69.3732         Wind         NaN         NaN  ...   \n",
       "3   23.8712    91.3602          Gas         NaN         NaN  ...   \n",
       "4   21.9603    82.4091         Coal         Oil         NaN  ...   \n",
       "\n",
       "   year_of_capacity_data  generation_gwh_2013 generation_gwh_2014  \\\n",
       "0                    NaN                  NaN                 NaN   \n",
       "1                    NaN                  NaN                 NaN   \n",
       "2                    NaN                  NaN                 NaN   \n",
       "3                 2019.0                  NaN          617.789264   \n",
       "4                 2019.0                  NaN         3035.550000   \n",
       "\n",
       "  generation_gwh_2015 generation_gwh_2016 generation_gwh_2017  \\\n",
       "0                 NaN                 NaN                 NaN   \n",
       "1                 NaN                 NaN                 NaN   \n",
       "2                 NaN                 NaN                 NaN   \n",
       "3             843.747          886.004428          663.774500   \n",
       "4            5916.370         6243.000000         5385.579736   \n",
       "\n",
       "   generation_gwh_2018  generation_gwh_2019         generation_data_source  \\\n",
       "0                  NaN                  NaN                            NaN   \n",
       "1                  NaN                  NaN                            NaN   \n",
       "2                  NaN                  NaN                            NaN   \n",
       "3           626.239128                  NaN  Central Electricity Authority   \n",
       "4          7279.000000                  NaN  Central Electricity Authority   \n",
       "\n",
       "   estimated_generation_gwh  \n",
       "0                       NaN  \n",
       "1                       NaN  \n",
       "2                       NaN  \n",
       "3                       NaN  \n",
       "4                       NaN  \n",
       "\n",
       "[5 rows x 27 columns]"
      ]
     },
     "execution_count": 3,
     "metadata": {},
     "output_type": "execute_result"
    }
   ],
   "source": [
    "df.head()"
   ]
  },
  {
   "cell_type": "code",
   "execution_count": 4,
   "id": "631326ca",
   "metadata": {},
   "outputs": [
    {
     "data": {
      "text/plain": [
       "Index(['country', 'country_long', 'name', 'gppd_idnr', 'capacity_mw',\n",
       "       'latitude', 'longitude', 'primary_fuel', 'other_fuel1', 'other_fuel2',\n",
       "       'other_fuel3', 'commissioning_year', 'owner', 'source', 'url',\n",
       "       'geolocation_source', 'wepp_id', 'year_of_capacity_data',\n",
       "       'generation_gwh_2013', 'generation_gwh_2014', 'generation_gwh_2015',\n",
       "       'generation_gwh_2016', 'generation_gwh_2017', 'generation_gwh_2018',\n",
       "       'generation_gwh_2019', 'generation_data_source',\n",
       "       'estimated_generation_gwh'],\n",
       "      dtype='object')"
      ]
     },
     "execution_count": 4,
     "metadata": {},
     "output_type": "execute_result"
    }
   ],
   "source": [
    "df.columns"
   ]
  },
  {
   "cell_type": "code",
   "execution_count": 5,
   "id": "2f4ac3ef",
   "metadata": {},
   "outputs": [
    {
     "data": {
      "text/plain": [
       "country                       1\n",
       "country_long                  1\n",
       "name                        907\n",
       "gppd_idnr                   907\n",
       "capacity_mw                 361\n",
       "latitude                    836\n",
       "longitude                   827\n",
       "primary_fuel                  8\n",
       "other_fuel1                   3\n",
       "other_fuel2                   1\n",
       "other_fuel3                   0\n",
       "commissioning_year           73\n",
       "owner                       280\n",
       "source                      191\n",
       "url                         304\n",
       "geolocation_source            3\n",
       "wepp_id                       0\n",
       "year_of_capacity_data         1\n",
       "generation_gwh_2013           0\n",
       "generation_gwh_2014         371\n",
       "generation_gwh_2015         396\n",
       "generation_gwh_2016         403\n",
       "generation_gwh_2017         408\n",
       "generation_gwh_2018         410\n",
       "generation_gwh_2019           0\n",
       "generation_data_source        1\n",
       "estimated_generation_gwh      0\n",
       "dtype: int64"
      ]
     },
     "execution_count": 5,
     "metadata": {},
     "output_type": "execute_result"
    }
   ],
   "source": [
    "df.nunique()"
   ]
  },
  {
   "cell_type": "code",
   "execution_count": 6,
   "id": "59351c8f",
   "metadata": {
    "scrolled": false
   },
   "outputs": [
    {
     "data": {
      "text/plain": [
       "country                       0\n",
       "country_long                  0\n",
       "name                          0\n",
       "gppd_idnr                     0\n",
       "capacity_mw                   0\n",
       "latitude                     46\n",
       "longitude                    46\n",
       "primary_fuel                  0\n",
       "other_fuel1                 709\n",
       "other_fuel2                 906\n",
       "other_fuel3                 907\n",
       "commissioning_year          380\n",
       "owner                       565\n",
       "source                        0\n",
       "url                           0\n",
       "geolocation_source           19\n",
       "wepp_id                     907\n",
       "year_of_capacity_data       388\n",
       "generation_gwh_2013         907\n",
       "generation_gwh_2014         509\n",
       "generation_gwh_2015         485\n",
       "generation_gwh_2016         473\n",
       "generation_gwh_2017         467\n",
       "generation_gwh_2018         459\n",
       "generation_gwh_2019         907\n",
       "generation_data_source      458\n",
       "estimated_generation_gwh    907\n",
       "dtype: int64"
      ]
     },
     "execution_count": 6,
     "metadata": {},
     "output_type": "execute_result"
    }
   ],
   "source": [
    "df.isnull().sum()"
   ]
  },
  {
   "cell_type": "markdown",
   "id": "7985d880",
   "metadata": {},
   "source": [
    "There are many Columns with null values , so we have to process those values with respect to columns accordingly ."
   ]
  },
  {
   "cell_type": "markdown",
   "id": "52d90a48",
   "metadata": {},
   "source": [
    "The columns which does not provide any influence in Dataset and should be dropped:-"
   ]
  },
  {
   "cell_type": "markdown",
   "id": "f716a62f",
   "metadata": {},
   "source": [
    "Other_fuel1 ,\n",
    "Other_fuel2 ,\n",
    "Other_fuel3 ,\n",
    "wepp_id ,\n",
    "generation_gwh_2013 ,\n",
    "generation_gwh_2014 ,\n",
    "generation_gwh_2015 ,\n",
    "generation_gwh_2016 ,\n",
    "generation_gwh_2017 ,\n",
    "generation_gwh_2018 ,\n",
    "generation_gwh_2019 ,\n",
    "estimated_generation_gwh ,\n",
    "generation_data_source ,"
   ]
  },
  {
   "cell_type": "markdown",
   "id": "728e7ff0",
   "metadata": {},
   "source": [
    "                                  "
   ]
  },
  {
   "cell_type": "code",
   "execution_count": 7,
   "id": "26d37d3e",
   "metadata": {},
   "outputs": [
    {
     "name": "stdout",
     "output_type": "stream",
     "text": [
      "<class 'pandas.core.frame.DataFrame'>\n",
      "RangeIndex: 907 entries, 0 to 906\n",
      "Data columns (total 27 columns):\n",
      " #   Column                    Non-Null Count  Dtype  \n",
      "---  ------                    --------------  -----  \n",
      " 0   country                   907 non-null    object \n",
      " 1   country_long              907 non-null    object \n",
      " 2   name                      907 non-null    object \n",
      " 3   gppd_idnr                 907 non-null    object \n",
      " 4   capacity_mw               907 non-null    float64\n",
      " 5   latitude                  861 non-null    float64\n",
      " 6   longitude                 861 non-null    float64\n",
      " 7   primary_fuel              907 non-null    object \n",
      " 8   other_fuel1               198 non-null    object \n",
      " 9   other_fuel2               1 non-null      object \n",
      " 10  other_fuel3               0 non-null      float64\n",
      " 11  commissioning_year        527 non-null    float64\n",
      " 12  owner                     342 non-null    object \n",
      " 13  source                    907 non-null    object \n",
      " 14  url                       907 non-null    object \n",
      " 15  geolocation_source        888 non-null    object \n",
      " 16  wepp_id                   0 non-null      float64\n",
      " 17  year_of_capacity_data     519 non-null    float64\n",
      " 18  generation_gwh_2013       0 non-null      float64\n",
      " 19  generation_gwh_2014       398 non-null    float64\n",
      " 20  generation_gwh_2015       422 non-null    float64\n",
      " 21  generation_gwh_2016       434 non-null    float64\n",
      " 22  generation_gwh_2017       440 non-null    float64\n",
      " 23  generation_gwh_2018       448 non-null    float64\n",
      " 24  generation_gwh_2019       0 non-null      float64\n",
      " 25  generation_data_source    449 non-null    object \n",
      " 26  estimated_generation_gwh  0 non-null      float64\n",
      "dtypes: float64(15), object(12)\n",
      "memory usage: 191.4+ KB\n"
     ]
    }
   ],
   "source": [
    "df.info()"
   ]
  },
  {
   "cell_type": "code",
   "execution_count": 8,
   "id": "58f7721a",
   "metadata": {},
   "outputs": [],
   "source": [
    "df['geolocation_source'] = df['geolocation_source'].fillna(df['geolocation_source'].dropna().mode().values[0])\n",
    "df['latitude'] = df['latitude'].fillna(df['latitude'].dropna().mode().values[0])\n",
    "df['longitude'] = df['longitude'].fillna(df['longitude'].dropna().mode().values[0])"
   ]
  },
  {
   "cell_type": "code",
   "execution_count": 9,
   "id": "09f09d09",
   "metadata": {},
   "outputs": [],
   "source": [
    "df['commissioning_year'] = df['commissioning_year'].fillna(df['commissioning_year'].dropna().mode().values[0])\n",
    "df['year_of_capacity_data'] = df['year_of_capacity_data'].fillna(df['year_of_capacity_data'].dropna().mode().values[0])"
   ]
  },
  {
   "cell_type": "code",
   "execution_count": 10,
   "id": "b29d2aa4",
   "metadata": {
    "scrolled": false
   },
   "outputs": [
    {
     "data": {
      "text/plain": [
       "country                       0\n",
       "country_long                  0\n",
       "name                          0\n",
       "gppd_idnr                     0\n",
       "capacity_mw                   0\n",
       "latitude                      0\n",
       "longitude                     0\n",
       "primary_fuel                  0\n",
       "other_fuel1                 709\n",
       "other_fuel2                 906\n",
       "other_fuel3                 907\n",
       "commissioning_year            0\n",
       "owner                       565\n",
       "source                        0\n",
       "url                           0\n",
       "geolocation_source            0\n",
       "wepp_id                     907\n",
       "year_of_capacity_data         0\n",
       "generation_gwh_2013         907\n",
       "generation_gwh_2014         509\n",
       "generation_gwh_2015         485\n",
       "generation_gwh_2016         473\n",
       "generation_gwh_2017         467\n",
       "generation_gwh_2018         459\n",
       "generation_gwh_2019         907\n",
       "generation_data_source      458\n",
       "estimated_generation_gwh    907\n",
       "dtype: int64"
      ]
     },
     "execution_count": 10,
     "metadata": {},
     "output_type": "execute_result"
    }
   ],
   "source": [
    "df.isnull().sum()"
   ]
  },
  {
   "cell_type": "markdown",
   "id": "5faf1d3c",
   "metadata": {},
   "source": [
    "# EDA"
   ]
  },
  {
   "cell_type": "code",
   "execution_count": 11,
   "id": "1eef65bd",
   "metadata": {},
   "outputs": [
    {
     "name": "stdout",
     "output_type": "stream",
     "text": [
      "Unique values :  ['Solar' 'Coal' 'Wind' 'Gas' 'Hydro' 'Biomass' 'Oil' 'Nuclear']\n",
      "Unique values counts : \n",
      " Coal       258\n",
      "Hydro      251\n",
      "Solar      127\n",
      "Wind       123\n",
      "Gas         69\n",
      "Biomass     50\n",
      "Oil         20\n",
      "Nuclear      9\n",
      "Name: primary_fuel, dtype: int64\n"
     ]
    }
   ],
   "source": [
    "# TODO : To get unique values and value_counts on primary_fuel\n",
    "print(\"Unique values : \", df['primary_fuel'].unique())\n",
    "print(\"Unique values counts : \\n\", df['primary_fuel'].value_counts())"
   ]
  },
  {
   "cell_type": "code",
   "execution_count": 12,
   "id": "df593d40",
   "metadata": {},
   "outputs": [
    {
     "data": {
      "text/plain": [
       "<AxesSubplot:xlabel='primary_fuel', ylabel='count'>"
      ]
     },
     "execution_count": 12,
     "metadata": {},
     "output_type": "execute_result"
    },
    {
     "data": {
      "image/png": "[encoded data removed]",
      "text/plain": [
       "<Figure size 432x288 with 1 Axes>"
      ]
     },
     "metadata": {
      "needs_background": "light"
     },
     "output_type": "display_data"
    }
   ],
   "source": [
    "# Let's plot the Unique value counts\n",
    "sns.countplot(x = 'primary_fuel', data = df)"
   ]
  },
  {
   "cell_type": "code",
   "execution_count": 13,
   "id": "4c3dcf84",
   "metadata": {},
   "outputs": [
    {
     "data": {
      "text/plain": [
       "<AxesSubplot:ylabel='primary_fuel'>"
      ]
     },
     "execution_count": 13,
     "metadata": {},
     "output_type": "execute_result"
    },
    {
     "data": {
      "image/png": "[encoded data removed]",
      "text/plain": [
       "<Figure size 576x432 with 1 Axes>"
      ]
     },
     "metadata": {},
     "output_type": "display_data"
    }
   ],
   "source": [
    "plt.figure(figsize=(8,6))\n",
    "df['primary_fuel'].value_counts().plot.pie(autopct='%1.1f%%')"
   ]
  },
  {
   "cell_type": "markdown",
   "id": "06adf530",
   "metadata": {},
   "source": [
    "As we can see , there are very few \"Neuclear\" , \"Oil\" and \"Biomass\" as a primary fuel but on the other hand Power Plant based on \"Hydro\" and \"Coal\" as Primary Fuel are quite Large in number."
   ]
  },
  {
   "cell_type": "markdown",
   "id": "9e586bfe",
   "metadata": {},
   "source": [
    "                  "
   ]
  },
  {
   "cell_type": "code",
   "execution_count": 14,
   "id": "880f6ca5",
   "metadata": {
    "scrolled": false
   },
   "outputs": [
    {
     "name": "stdout",
     "output_type": "stream",
     "text": [
      "Unique values :  [2.50000e+00 9.80000e+01 3.92000e+01 1.35000e+02 1.80000e+03 2.50000e+02\n",
      " 6.00000e+01 1.92000e+02 2.90000e+02 2.10000e+02 1.35000e+03 1.34000e+02\n",
      " 1.20000e+03 1.69500e+01 9.00000e+00 2.63000e+03 4.19330e+02 6.00000e+02\n",
      " 1.00000e+01 1.70000e+01 2.40000e+01 6.52000e+02 4.60000e+01 5.00000e+01\n",
      " 1.00000e+00 1.65000e+01 1.13600e+02 1.98000e+01 1.32000e+01 5.00000e+00\n",
      " 7.05000e+02 2.80000e+01 4.50000e+02 1.80000e+02 1.05000e+03 5.10000e+02\n",
      " 6.75000e+01 3.00000e+02 3.35000e+02 1.20000e+01 3.15000e+02 3.00000e+01\n",
      " 2.00000e+01 4.20000e+01 7.20000e+02 9.00000e+01 1.32000e+03 1.20000e+02\n",
      " 6.60000e+01 2.70000e+02 2.28000e+01 1.50000e+01 2.52000e+01 1.80000e+01\n",
      " 1.70000e+03 2.60000e+01 4.10000e+01 1.37900e+03 3.40000e+01 1.60000e+01\n",
      " 5.00000e+02 8.00000e+01 7.50000e+01 1.21000e+03 9.90000e+01 6.96000e+01\n",
      " 6.00000e+00 7.50000e+02 4.00000e+01 1.65000e+02 7.00000e+01 8.15000e+01\n",
      " 1.12000e+01 3.63000e+01 1.70000e+00 2.48000e+01 5.04000e+01 1.50000e+02\n",
      " 9.87000e+01 3.00000e+00 4.20000e+00 5.40000e+02 2.31000e+02 3.50000e+01\n",
      " 2.34000e+02 6.30000e+02 2.92000e+03 3.60000e+01 3.75000e+00 3.28000e+01\n",
      " 2.32000e+03 2.40000e+02 1.44000e+02 4.40000e+01 1.10000e+02 2.21000e+02\n",
      " 2.10000e+01 6.60000e+02 1.82000e+03 8.29780e+02 1.00000e+02 1.60000e+03\n",
      " 2.50000e+01 9.90000e+02 3.37500e+01 5.10000e+01 2.80000e+02 3.30000e+02\n",
      " 5.95200e+02 2.20000e+01 9.60000e+01 1.55000e+01 1.29600e+01 6.76000e+01\n",
      " 3.90000e+02 1.28000e+01 1.00000e+03 1.25000e+02 2.00000e+00 3.75000e+01\n",
      " 2.82000e+01 2.25000e+01 5.15000e+02 6.88000e+01 2.10000e+03 4.31586e+02\n",
      " 4.25000e+00 3.10000e+02 3.90000e+01 8.00000e+02 1.05000e+01 2.25000e+02\n",
      " 6.48000e+02 1.15000e+02 7.76500e+01 4.68570e+02 2.31000e+01 3.20000e+01\n",
      " 9.20000e+02 2.05240e+02 7.68000e+02 5.50000e+01 2.56000e+01 7.50000e+00\n",
      " 1.80000e+00 2.55000e+01 1.56100e+02 3.51430e+02 1.89000e+01 3.47500e+02\n",
      " 3.44000e+01 2.73000e+01 8.88000e+01 6.05000e+02 4.90000e+01 4.20000e+02\n",
      " 7.80000e+02 3.50000e+02 1.50000e+03 1.00800e+02 1.08000e+03 6.35000e+01\n",
      " 5.45000e+01 1.55000e+02 4.45674e+02 1.39200e+02 4.27500e+02 9.18000e+01\n",
      " 2.96000e+01 3.30000e+01 1.02500e+01 4.00000e+02 2.34000e+03 8.80000e+02\n",
      " 1.10000e+03 4.40000e+02 8.55000e+02 4.00000e+00 3.25000e+01 1.19800e+02\n",
      " 2.18400e+01 1.95000e+02 2.91000e+02 6.45000e+02 7.20000e+01 4.14000e+01\n",
      " 1.26000e+03 1.75000e+01 4.45000e+02 1.45800e+03 2.00000e+02 2.40000e+03\n",
      " 2.60000e+03 8.90000e+02 1.34000e+03 1.24000e+03 1.07880e+02 1.95600e+03\n",
      " 5.55000e+02 2.00000e+03 1.01000e+02 7.56000e+01 5.20000e+00 2.08000e+01\n",
      " 5.62500e+01 2.11955e+02 1.98000e+03 1.26000e+02 3.15000e+01 1.05000e+02\n",
      " 4.60000e+02 9.70000e+00 3.68000e+01 2.10000e+00 2.40000e+00 1.14750e+02\n",
      " 4.50000e+00 1.40000e+02 3.14000e+01 6.32000e+01 1.86000e+02 3.94000e+02\n",
      " 1.66500e+02 3.88000e+02 4.50000e+01 3.06000e+01 8.40000e+02 2.46000e+02\n",
      " 9.30000e+00 7.89000e+01 2.07000e+02 3.12000e+01 4.62000e+03 4.00000e+03\n",
      " 2.83000e+01 6.10000e+02 1.46500e+01 6.60000e+00 5.25000e+01 8.15600e+02\n",
      " 4.55000e+01 6.50000e+01 1.61750e+02 1.16000e+01 1.22700e+01 1.47000e+03\n",
      " 3.32000e+01 2.76500e+01 6.25000e+00 3.76000e+01 5.80000e+00 7.20000e+00\n",
      " 1.09400e+03 5.20000e+02 1.02000e+02 3.30500e+02 6.55000e+02 7.26600e+02\n",
      " 1.75000e+02 1.14000e+03 1.17000e+03 2.04000e+01 2.20000e+02 1.60000e+02\n",
      " 1.61000e+02 7.02860e+02 3.96000e+02 1.37120e+03 9.00000e+02 5.92000e+01\n",
      " 6.56000e+01 3.52000e+01 2.18000e+01 1.48500e+01 9.90000e+00 1.52000e+01\n",
      " 1.90000e+01 1.72000e+02 1.87000e+01 4.80000e+00 1.72000e+03 1.37000e+03\n",
      " 3.85000e+01 1.40000e+03 1.10000e+01 1.98000e+02 2.70500e+02 4.12020e+02\n",
      " 4.05000e+02 1.25000e+01 1.96708e+03 1.65000e+03 4.80000e+01 3.00000e+03\n",
      " 9.48000e+01 6.30000e+01 6.25000e+01 2.64000e+01 3.05000e+01 3.51000e+01\n",
      " 6.90000e+02 1.05700e+02 1.06000e+02 1.97000e+01 3.96000e+03 2.90000e+01\n",
      " 1.33000e+03 1.03500e+03 1.72000e+01 5.40000e+01 3.36000e+01 2.98000e+03\n",
      " 4.30000e+01 3.30000e+00 7.70000e+02 1.30000e+02 1.14750e+03 1.50000e+00\n",
      " 8.50000e+00 2.25000e+00 2.52000e+03 8.40000e+00 6.30000e+00 3.60000e+00\n",
      " 9.42000e+01 9.70000e+01 1.35000e+01 1.32000e+02 3.30000e+03 2.60000e+02\n",
      " 4.22000e+02 9.35000e+00 1.44000e+01 7.40000e+01 0.00000e+00 4.96000e+01\n",
      " 9.13500e+01 8.00000e+00 1.44000e+03 1.11000e+03 1.55000e+03 3.82500e+02\n",
      " 3.20000e+02 6.72000e+02 6.26000e+01 4.80000e+02 3.74571e+02 2.57000e+01\n",
      " 5.28000e+01 1.87200e+02 2.58000e+01 3.07500e+01 5.07000e+01 3.88500e+02\n",
      " 2.72300e+02 4.76000e+03 1.04000e+03 4.25000e+01 6.24000e+01 3.46500e+01\n",
      " 1.06600e+02]\n",
      "Unique values counts : \n",
      " 5.0       39\n",
      "10.0      22\n",
      "600.0     20\n",
      "15.0      20\n",
      "1200.0    19\n",
      "          ..\n",
      "291.0      1\n",
      "645.0      1\n",
      "41.4       1\n",
      "17.5       1\n",
      "106.6      1\n",
      "Name: capacity_mw, Length: 361, dtype: int64\n"
     ]
    }
   ],
   "source": [
    "# TODO : To get unique values and value_counts on capacity_mw\n",
    "print(\"Unique values : \", df['capacity_mw'].unique())\n",
    "print(\"Unique values counts : \\n\", df['capacity_mw'].value_counts())"
   ]
  },
  {
   "cell_type": "code",
   "execution_count": 15,
   "id": "d28fd3f2",
   "metadata": {},
   "outputs": [
    {
     "data": {
      "text/plain": [
       "<AxesSubplot:xlabel='capacity_mw', ylabel='Density'>"
      ]
     },
     "execution_count": 15,
     "metadata": {},
     "output_type": "execute_result"
    },
    {
     "data": {
      "image/png": "[encoded data removed]",
      "text/plain": [
       "<Figure size 1152x432 with 1 Axes>"
      ]
     },
     "metadata": {
      "needs_background": "light"
     },
     "output_type": "display_data"
    }
   ],
   "source": [
    "# Let's plot the Unique value counts\n",
    "plt.figure(figsize = (16, 6))\n",
    "sns.distplot(df['capacity_mw'], rug = True, bins = 100)"
   ]
  },
  {
   "cell_type": "markdown",
   "id": "c4203f71",
   "metadata": {},
   "source": [
    "# Electrical Generating Capacity(in MW) of various Primary Fuel "
   ]
  },
  {
   "cell_type": "code",
   "execution_count": 16,
   "id": "a25463c2",
   "metadata": {},
   "outputs": [
    {
     "data": {
      "text/plain": [
       "<AxesSubplot:xlabel='primary_fuel', ylabel='capacity_mw'>"
      ]
     },
     "execution_count": 16,
     "metadata": {},
     "output_type": "execute_result"
    },
    {
     "data": {
      "image/png": "[encoded data removed]",
      "text/plain": [
       "<Figure size 1080x576 with 1 Axes>"
      ]
     },
     "metadata": {
      "needs_background": "light"
     },
     "output_type": "display_data"
    }
   ],
   "source": [
    "plt.figure(figsize=(15,8))\n",
    "sns.lineplot(df['primary_fuel'],df['capacity_mw'])"
   ]
  },
  {
   "cell_type": "markdown",
   "id": "3bb034b5",
   "metadata": {},
   "source": [
    "As we can see the Output of Nuclear and Coal has Maximum Capacity of electrical generation , but the Electrical generation of Solar , Wind and Biomass is not very high."
   ]
  },
  {
   "cell_type": "markdown",
   "id": "798b19f7",
   "metadata": {},
   "source": [
    "                "
   ]
  },
  {
   "cell_type": "markdown",
   "id": "d8d5acc5",
   "metadata": {},
   "source": [
    "                      "
   ]
  },
  {
   "cell_type": "code",
   "execution_count": 17,
   "id": "daa68f54",
   "metadata": {},
   "outputs": [
    {
     "data": {
      "text/plain": [
       "array(['IND'], dtype=object)"
      ]
     },
     "execution_count": 17,
     "metadata": {},
     "output_type": "execute_result"
    }
   ],
   "source": [
    "df.country.unique()"
   ]
  },
  {
   "cell_type": "markdown",
   "id": "41ad8edb",
   "metadata": {},
   "source": [
    "There is only one Country name available in data"
   ]
  },
  {
   "cell_type": "markdown",
   "id": "67b465e0",
   "metadata": {},
   "source": [
    "           "
   ]
  },
  {
   "cell_type": "code",
   "execution_count": 18,
   "id": "6ea75c5e",
   "metadata": {
    "scrolled": false
   },
   "outputs": [
    {
     "data": {
      "text/plain": [
       "array(['ACME Solar Tower', 'ADITYA CEMENT WORKS',\n",
       "       'AES Saurashtra Windfarms', 'AGARTALA GT', 'AKALTARA TPP',\n",
       "       'AKRIMOTA LIG', 'ALIYAR', 'ALLAIN DUHANGAN', 'ALMATTI DAM',\n",
       "       'AMAR KANTAK', 'AMARAVATI TPP', 'ANANDPUR SAHIB ST-I&II',\n",
       "       'ANAPARA \"C\"', 'ANDHRA', 'ANOOPGARH ST I&II', 'ANPARA', 'ANTA GT',\n",
       "       'ANUPPUR', 'ANUPUR TPP', 'ARVINDNAGAR SUGAR', 'ASHOKNAGAR MILL',\n",
       "       'ATHANI SUGAR', 'AURAIYA GT', 'AVANTHA BHANDAR TPP',\n",
       "       'AWARPUR CEMENT PLANT', 'Abhijeet', 'Amarsar Solar Power Plant',\n",
       "       'Anabura Wind Farm', 'Ananthapur - Meil Solar Power Plant',\n",
       "       'Andrha Lake Wind Farm', 'Anikkadavu Wind Farm',\n",
       "       'Arasinagundi Wind Farm', 'Askandra - DREPL Solar Power Plant',\n",
       "       'Askandra - Electromech Maritech Solar Power Plant',\n",
       "       'Askandra - Finehope Solar Power Plant',\n",
       "       'Askandra - Khaya Solar Power Plant',\n",
       "       'Askandra - Newton Solar Power Plant',\n",
       "       'Askandra - Saidham Solar Power Plant',\n",
       "       'Askandra - Vasavi Solar Power Plant', 'BADARPUR', 'BAGALKOT ICP',\n",
       "       'BAGLIHAR HEP', 'BAGLIHAR HEP-II', 'BAIRA SIUL', 'BAKRESWAR',\n",
       "       'BALCO TPP', 'BALIMELA', 'BALLARPUR BILT POWER', 'BAMANIA CEMENT',\n",
       "       'BANDAKHAR TPP', 'BANDEL', 'BANER', 'BANSAGAR (I)',\n",
       "       'BANSAGAR (II)', 'BANSAGAR (III)', 'BANSAGAR (IV)',\n",
       "       'BANSWARA CEMENT', 'BARADARHA TPP', 'BARAMURA', 'BARAUNI', 'BARGI',\n",
       "       'BARH STPP II', 'BARKHERA TPP', 'BARSINGAR LIGNITE',\n",
       "       'BASIN BRIDGE GT', 'BASPA', 'BASSI', 'BCPL Wind Farm',\n",
       "       'BEL Chikhalhol Wind Farm', 'BELA NAGPUR', 'BELGAUM UGAR',\n",
       "       'BELLAD-BAGEWADI', 'BELLARY DG', 'BELLARY HOTHUR', 'BELLARY JANKI',\n",
       "       'BELLARY TPS', 'BHADRA', 'BHADRAVATI MILL', 'BHAKRA',\n",
       "       'BHANDARA STEEL MILL', 'BHANDARA VARAM', 'BHANDARDHARA',\n",
       "       'BHATGARH', 'BHATSA', 'BHAVNAGAR TPP', 'BHAWANI KATTALAI -II',\n",
       "       'BHAWANI KATTALAI -III', 'BHAWANI KATTALAI BARRAGE',\n",
       "       'BHIGWAN MILL', 'BHILAI TPP', 'BHIRA', 'BHIRA TAIL RACE',\n",
       "       'BHIVPURI', 'BHUSAWAL', 'BILIYAKALAN PLANT', 'BINA REFINERY',\n",
       "       'BINA TPP', 'BINANI CEMENT PLANT', 'BINJKOTE', 'BINWA',\n",
       "       'BIRSINGHPUR', \"BOKARO A ''EXP''\", 'BOKARO B', 'BONGAIGAON TPP',\n",
       "       'BP Brahmanvel Wind Farm', 'BRAMHAPURAM DG', 'BSES Kerala CCGT',\n",
       "       'BUDGE BUDGE', 'BUDHIL', 'BUTIBORI PLANT', 'BUTIBORI TPP -II',\n",
       "       'Bamani Solar Power Plant', 'Bamanwali Solar Power Plant',\n",
       "       'Bannari Amman Spinning Mills Wind Power Project',\n",
       "       'Bap - GIS 1-2 Solar Power Plant', 'Bap - GIS 3 Solar Power Plant',\n",
       "       'Bap - OPG Solar Power Plant',\n",
       "       'Bap - Punj Lloyd Solar Power Plant',\n",
       "       'Bapodar - Hiraco Solar Power Plant',\n",
       "       'Bapodar - MBEDL Solar Power Plant',\n",
       "       'Bavadi Barsingha - Giriraj Solar Power Plant',\n",
       "       'Bavadi Barsingha - LEPL Solar Power Plant', 'Belagau Wind Farm',\n",
       "       'Belagwi Wind Turbines', 'Belgaum Gadag Wind Farm',\n",
       "       'Belgaum Wind farm', 'Bera Wind Farm',\n",
       "       'Bhadrada Solar Power Plant', 'Bhat Khedi Wind Farm',\n",
       "       'Bhatkota Solar Power Plant', 'Bitta Solar Power Plant',\n",
       "       'Boha Solar Power Plant', 'Bonada Solar Power Plant',\n",
       "       'CHAKABURA TPP', 'CHAMERA II', 'CHAMERA-I', 'CHAMERA-III',\n",
       "       'CHANDA CEMENT WORKS', 'CHANDERIA CEMENT WORKS',\n",
       "       'CHANDERIA SMELTER', 'CHANDRAPUR GUPTA', 'CHANDRAPUR MANIKGHAR',\n",
       "       'CHANDRAPURA', 'CHANDRAPUR_Coal', 'CHANJU-I', 'CHEMBUKADAVU-II',\n",
       "       'CHENANI I to III', 'CHHABRA TPS', 'CHIBRO (YAMUNA)', 'CHILLA',\n",
       "       'CHUTAK', 'CHUZACHEN', 'CORE GREEN SUGAR',\n",
       "       'Chandrapur Solar Power Plant', 'Charanka Solar Power Plant',\n",
       "       'Chhadavada Wind Farm', 'Chingerbandh Solar Power Plant', 'D.P.L.',\n",
       "       'DADRI (NCTPP)', 'DADRI GT', 'DAE RAJASTHAN', 'DAHANU FRESNEL',\n",
       "       'DAMODARAM SANJEEVAIAH', 'DANAPUR BMM', 'DAUND SUGAR',\n",
       "       'DAVANGERE MILL', 'DEHAR', 'DERANG', 'DGEN MEGA CCCP', 'DHAKRANI',\n",
       "       'DHALIPUR', 'DHANU', 'DHARIWAL INF TPP', 'DHAULI GANGA', 'DHOLPUR',\n",
       "       'DHUVARAN CCPP', 'DIGHE WORKS', 'DIKCHU', 'DIMBE', 'DLF',\n",
       "       'DNYANESHWAR MILL', 'DOLVI ISPAT', 'DONKARAYI', 'DOYANG',\n",
       "       'DUDH GANGA', 'DUGGAVATHI MILL', 'DULHASTI', 'DURG SPONGE IRON',\n",
       "       'DURGAPUR', 'DURGAPUR STEEL TPS', 'Dadri Solar Power Plant',\n",
       "       'Dandeli Mill', 'Davangere Wind Farm', 'Deh Solar Power Plant',\n",
       "       'Devgarh Wind Farm', 'Dhabla Sondhya Solar Power Plant',\n",
       "       'Dhanera Solar Power Plant', 'Dhank - Aravali Solar Power Plant',\n",
       "       'Dhursar', 'Diwakar', 'Dugar Solar Power Plant', 'E.G. CANAL',\n",
       "       'ELDARI', 'EMCO Sonurle Wind Farm', 'ESSAR GT IMP.',\n",
       "       'Enercon Babarzar Wind Farm', 'Enercon Chitradurga Wind Farm',\n",
       "       'Enercon Sonoshi Wind Farm', 'Essel Mining Wind Farm',\n",
       "       'FARAKKA STPS', 'F_BAD CCGT',\n",
       "       'Frost International Palankottai Wind Farm', 'G.I.P.C.L. GT',\n",
       "       'GACL Kutch Wind Farm', 'GADARWARA', 'GADEPAN WORKS', 'GAJ',\n",
       "       'GAMA CCPP  Module - 1', 'GANDHAR GT', 'GANDHARBAL',\n",
       "       'GANDHI NAGAR', 'GANDHI SAGAR', 'GANGUWAL', 'GAUTAMI CCCP', 'GEPL',\n",
       "       'GFL Gudhepanchgani', 'GHANVI', 'GHAT PRABHA', 'GHATGHAR PSS',\n",
       "       'GHTP (LEH.MOH.)', 'GHUGUS LMEL', 'GIRI BATA', 'GIWPP Telagi',\n",
       "       'GMR WARORA TPP', 'GODAVARI GT', 'GOINDWAL SAHIB TPP',\n",
       "       'GRACE INDUSTRIES', 'GREL CCPP (RAJAMUNDRY)', 'GULBARGA CEMENT',\n",
       "       'GUMTI', 'Gadag Wind Farm', 'Gadna 1 Solar Power Plant',\n",
       "       'Gadna 2 Solar Power Plant', 'Gandhinagar Solar Power Plant',\n",
       "       'Garacharma Solar Power Plant', 'Godawari',\n",
       "       'Godelai Solar Power Plant', 'Gondri Solar Power Plant',\n",
       "       'Gorsar Wind Farm', 'Grewal Solar Power Plant', 'Gujurat Solar On',\n",
       "       'Gulabpura Solar Power Plant', 'Gwal Pahari Solar Power Plant',\n",
       "       'HALDIA', 'HAMPI', 'HAPURI MILL', 'HASDEOBANGO', 'HAVALGA SUGAR',\n",
       "       'HAZIRA CCCP', 'HAZIRA-GSECL', 'HINGOLI MILL', 'HIRAKUD I&II',\n",
       "       'HIRIYUR BIOMASS', 'HZL Gadag Wind Farm',\n",
       "       'HZL Nandurbar Maharashtra', 'HZL Palladum Wind Farm',\n",
       "       'HZL Parewar Wind Farm', 'HZL Samana Wind Farm', 'H_GANJ B',\n",
       "       'Hirewaddatti Wind Farm', 'Horti Solar Power Plant', 'I.B.VALLEY',\n",
       "       'I.P.GT', 'IDAMALAYAR', 'IDUKKI', 'IEPL  BELA TPP',\n",
       "       'IL&FS Kaladeh Wind Farm', 'IND BARATH TPP',\n",
       "       'INDIA POWER TPP(HALDIA  HIRANMAYE )', 'INDIRA SAGAR',\n",
       "       'INDRA GANDHI STPP', 'ITPCL TPP', 'Ingaleshwar Wind Farm',\n",
       "       'Isanpur Solar Power Plant', 'Itnal Solar Power Plant', 'J.SAGAR',\n",
       "       'JAISALMER GODAWARI', 'JALDHAKA I&II', 'JALLIPPA KAPURDI TPP',\n",
       "       'JAYKAYPURAM PLANT', 'JAYPEE BELA CEMENT', 'JAYPEE REWA CEMENT',\n",
       "       'JAYPEE SIDHI CEMENT', 'JEGURUPADU GT', 'JOG', 'JOJBERA',\n",
       "       'JORETHANG LOOP', 'JSW RATNAGIRI TPP',\n",
       "       'Jafrabad Solar Power Plant', 'Jamuria Solar Power Plant',\n",
       "       'Jangi Wind Farm', 'Jangi village wind farm', 'Jeloo Wind Farm',\n",
       "       'Jodiya Wind Farm', 'K.N. Ram Kaltek Wind Farm', 'KADAMPARI',\n",
       "       'KADANA', 'KADRA', 'KAHALGAON', 'KAIGA', 'KAKATIYA TPP', 'KAKKAD',\n",
       "       'KAKRAPARA', 'KALINADI', 'KALINADI SUPA', 'KALISINDH', 'KALLADA',\n",
       "       'KALLUR GRINDING', 'KAMAL SPONGE', 'KAMALANGA', 'KANHER',\n",
       "       'KARAD MILL', 'KARAIKAL', 'KARBI LANGPI', 'KARCHAM WANGTOO',\n",
       "       'KARGIL', 'KARUPPUR GT', 'KASAIPALLI', 'KASARGODE DG',\n",
       "       'KASHANG INTEGRATED', 'KASHIPUR CCPP', 'KASRAWAD FACTORY',\n",
       "       'KATGHORA TPP', 'KATHALGURI GT', 'KAWAI TPP', 'KAWAS GT',\n",
       "       'KAYAM KULAM GT', 'KCSF SANGUR', 'KHADAVASLA I&II',\n",
       "       'KHAMBERKHERA IPP', 'KHANDONG', 'KHARA', 'KHATIMA', 'KHODRI',\n",
       "       'KHOPOLI', 'KHOPOLI WORKS', 'KISHENGANGA', 'KM DODDI SUGAR',\n",
       "       'KODASALI', 'KODAYAR-I&II', 'KODERMA', 'KOJIKODE DG', 'KOLAGHAT',\n",
       "       'KOLDAM', 'KOLHAPUR HEMARUS', 'KOLHAPUR KAGAL', 'KOLHAPUR KUMBHI',\n",
       "       'KOLLEGAL SUGAR', 'KONASEEMA CCCP', 'KONDAPALLI GT', 'KOPILI',\n",
       "       'KOPPA SUGAR', 'KOPPAL HKMP', 'KORADI', 'KORBA STPS', 'KORBA-EAST',\n",
       "       'KORBA-WEST', 'KOSI', 'KOTA', 'KOTA COMPLEX', 'KOTESHWAR', 'KOTLA',\n",
       "       'KOVILKALAPPAL', 'KOYNA COMPLEX', 'KS Oils Chinnakuyili Wind Farm',\n",
       "       'KUDGI', 'KULHAL', 'KUNDAH I-V', 'KUNDANKULAM', 'KUNDARGI MILL',\n",
       "       'KUNDARKI TPP', 'KUTCH LIG.', 'KUTHUNGAL', 'KUTTALAM GT',\n",
       "       'KUTTIADI', 'KUTTIYADI Add ext', 'KVK Energy Solar Project',\n",
       "       'KYMORE', 'KYREDEMKULAI', 'K_GUDEM', 'K_GUDEM NEW', 'K_KHEDA II',\n",
       "       'Kaladonger Wind Farm', 'Kamuthi Solar Power Plant',\n",
       "       'Karmaria Solar Power Plant', 'Karur Textile Park Wind Farm',\n",
       "       'Kathauti 1 Solar Power Plant', 'Kathauti 2 Solar Power Plant',\n",
       "       'Katol - Citra Solar Power Plant',\n",
       "       'Katol - Sepset Solar Power Plant', 'Khadoda Solar Power Plant',\n",
       "       'Khandala Solar Power Plant',\n",
       "       'Khetusar - Northern Solar Power Plant',\n",
       "       'Khetusar - Suryauday Solar Power Plant',\n",
       "       'Khilchipur Solar Power Plant',\n",
       "       'Khirsara - Unity Solar Power Plant',\n",
       "       'Khirsara - Welspun Solar Power Plant', 'Khirwa Solar Power Plant',\n",
       "       'Khori Wind Farm', 'Kohinoor Wind Farm',\n",
       "       'Komal West Solar Power Plant', 'Kosa Wind Farm',\n",
       "       'Kottamangalam Wind Farm', 'Kottathara Village Wind Farm',\n",
       "       'Kudankulam', 'LAKHERI CEMENT PLANT', 'LAKWA GT', 'LALITPUR TPP',\n",
       "       'LARA', 'LARGI', 'LEIMAKHONG DG', 'LIGANAMAKKI', 'LIKIM RO',\n",
       "       'LITL Uthumalai', 'LNJP Bahla Basti Wind Farm', 'LODHIVALI',\n",
       "       'LOKMANGAL SUGAR ETHANOL', 'LOKTAK', 'LOWER JHELUM',\n",
       "       'LOWER JURALA', 'LOWER LAGYAP', 'LOWER METTUR', 'LOWER PERIYAR',\n",
       "       'LOWER SILERU', 'LTML Wind Energy Project in Tamil Nadu',\n",
       "       'LVS POWER DG', 'Lakhewali Solar Power Plant',\n",
       "       'Lakhmirwala Solar Power Plant', 'Lallian Kalan Solar Power Plant',\n",
       "       'Lalpur Wind Farm', 'Landewadi Wind Farm',\n",
       "       'Lathi Solar Power Plant', 'Liberty Oil Satara Wind Farm',\n",
       "       'M.A.P.P.', 'MACHKUND', 'MADHAVAMANTRI', 'MADHIKHEDA',\n",
       "       'MAHADEV PRASAD STPP', 'MAHAN TPP', 'MAHATMA GANDHI TPP',\n",
       "       'MAHATMA SUGAR', 'MAHI BAJAJ I&II', 'MAHUL REFINERY',\n",
       "       'MAIHAR CEMENT PLANT', 'MAITHON', 'MAITHON RB TPP', 'MALANA',\n",
       "       'MALLARPUR', 'MANERI BHALI', 'MANGALORE REFINERY', 'MANGAON CCPP',\n",
       "       'MANGLAM CEMENT', 'MANI DPH', 'MANIKDOH', 'MANIKGARH CEMENT',\n",
       "       'MANIYAR', 'MAQSOODPUR  IPP', 'MARATHA CEMENT PLANT', 'MARWA TPP',\n",
       "       'MATATILLA', 'MEJA STPP', 'MEJIA', 'MEJIA TPS EXT',\n",
       "       'MELAMARUTHUR (MUTHIARA)', 'METTUR', 'METTUR DAM',\n",
       "       'METTUR TPS EXT', 'MIHAN TPP', 'MOHAMAD PUR', 'MOHARA',\n",
       "       'MONARCHAK CCPP', 'MORDI PLANT', 'MOUDA STPS', 'MOYAGCHU', 'MOYAR',\n",
       "       'MRMPL Mudari Wind Farm', 'MSPL Wind Farm', 'MUDHOL CEMENT',\n",
       "       'MUKERIAN I -IV', 'MUL GRETA', 'MUMBAI BPCL', 'MUMBAI JINDAL',\n",
       "       'MUMBAI ONGC', 'MUNDRA TPP', 'MUNDRA UMPP', 'MUNIRABAD',\n",
       "       'MUNOLI DISTILLERY', 'MURBAD PLANT', 'MUZAFFARPUR', 'MYNTDU',\n",
       "       'Maloshi Wind Farm', 'Mandrup - Giriraj Solar Power Plant',\n",
       "       'Megha Solar Plant', 'Mirpur Kalan - Alianz Eco Solar Power Plant',\n",
       "       'Mirpur Kalan - Nexgen Solux Solar Power Plant',\n",
       "       'Mithapur Solar Power Plant', 'Mokal Wind Farm', 'Mokla Wind farm',\n",
       "       'Mulshi Solar Power Plant',\n",
       "       'Muradwala Dal Singh Solar Power Plant', 'N.A.P.S',\n",
       "       'NABI NAGAR TPP', 'NAGARJUNA SAGAR', 'NAGARJUNA SAGAR   TPD',\n",
       "       'NAGDA GRASIM', 'NAGOTHANE COMPLEX', 'NAGPUR GMT', 'NAGPUR MILL',\n",
       "       'NAGPUR SPONGE IRON', 'NAMRUP GT', 'NARASINGPUR', 'NARAYANPUR',\n",
       "       'NARIMANGLAM', 'NASIK', 'NASIK SINNAR', 'NASIK TPP  PH 1',\n",
       "       'NATHPA JHAKRI', 'NAWAPARA', 'NEPANAGAR MILL', 'NEW UMTRU',\n",
       "       'NEYVELI FST EXT', 'NEYVELI ST I', 'NEYVELI ST II',\n",
       "       'NEYVELI TPS EXP -II', 'NEYVELI TPS(Z)', 'NIGRI',\n",
       "       'NIMBAHERA JK CEMENT', 'NIMOO BAZGO', 'NIRGAJANI(Ganga Canal)',\n",
       "       'NITIN PLANT', 'NIWARI TPP', 'NIZAM SAGAR',\n",
       "       'NMDC Anehalu Wind Farm', 'NORTH CHENNAI',\n",
       "       'NORTH CHENNAI EXTENSION', 'NSL Wind Farm', 'NURANANG',\n",
       "       'N_SAGAR LBC', 'N_SAGAR RBC', 'Nagda Hills Wind Energy project',\n",
       "       'Nagercoli Wind Farm', 'Naini Solar Power Plant',\n",
       "       'Nallakonda Wind Farm', 'Nargund Wind Farm',\n",
       "       'Nokh - GGEL Solar Power Plant',\n",
       "       'Nokh - Precision Technik Solar Power Plant',\n",
       "       'Nokha Daiya Solar Power Plant', 'NuPower Tirunelveli Wind Farm',\n",
       "       'OBRA', 'OBRA-A', 'OMKARESHWAR', 'ONGC Jerat Wind Farm',\n",
       "       'ONGC Kutch Wind Farm', 'P.NALLUR CCGT', 'PAGUTHAN', 'PAINAMPURAM',\n",
       "       'PAITHON', 'PALATANA CCPP', 'PALLIVASAL', 'PAMPORE GT', 'PANCHET',\n",
       "       'PANIPAT', 'PANNIAR', 'PAPANASAM', 'PARAS', 'PARBATI-III',\n",
       "       'PARBHANI GANGAKHED', 'PARE', 'PARICHA', 'PARLI', 'PARSEN_S VALLE',\n",
       "       'PATALGANGA', 'PATHADI TPS PH -I', 'PATHRI', 'PAWANA',\n",
       "       'PEDDAPURAM CCGT(Samalkot)', 'PENCH', 'PENNA AHOBELAM', 'PERIYAR',\n",
       "       'PIPAVAV CCCP', 'POCHAMPAD', 'PONG', 'PORINGALKUTTU',\n",
       "       'PORINGALKUTTU L', 'PRAGATI CCCP -III', 'PRAGATI CCGT',\n",
       "       'PRIYADARSHNI JURALA', 'PRYAGRAJ (BARA) TPP', 'PULICHINTALA',\n",
       "       'PUNE MILL', 'PURULIA PSS', 'PYKARA', 'PYKARA ALIMATE',\n",
       "       'Panandhro Solar Power Plant', 'Patan Taluka Wind Farm',\n",
       "       'Patnaik Hatti Wind Farm', 'Patnaik Jamnagar Wind Farm',\n",
       "       'Patodi Solar Power Plant', 'Phagi Solar Power Plant',\n",
       "       'Pokhran FVE Solar Power Plant', 'Pokhran THE Solar Power Plant',\n",
       "       'Powerica Jangi Vandjiya', 'Powerica Kutch Wind Farm',\n",
       "       'Powerica Theni Wind Farm', 'Powerica Tirunelveli Wind Farm',\n",
       "       'Pratapgarh Solar Power Plant', 'Precious Solar Power Plant',\n",
       "       'Punjawa - Sikh Wala Solar Power Plant', 'R.A.P.S.', 'R.P.SAGAR',\n",
       "       'RABRIYAWAS CEMENT', 'RADHANAGRI', 'RAGHUNATHPUR TPP PH-I',\n",
       "       'RAICHUR', 'RAICHUR STEEL', 'RAIGARH TPP', 'RAIKHEDA',\n",
       "       'RAJASHREE CEMENT', 'RAJGHAT', 'RAJGHAT (MP)',\n",
       "       'RAJIV GANDHI  TPS HISAR', 'RAJPURA DARIBA MINE', 'RAJPURA TPP',\n",
       "       'RAMANAGARAM MILL', 'RAMGANGA', 'RAMGARH GT', 'RAMMAM', 'RAMPUR',\n",
       "       'RANGANADI', 'RANGIT-III', 'RANJANI MILL', 'RANJIT SAGAR',\n",
       "       'RAS CEMENT PLANT', 'RATIJA TPP', 'RATNAGIRI GAS', 'RAYAL SEEMA',\n",
       "       'RELIANCE ENERGY', 'RENGALI', 'RIHAND', 'RIHAND_Hydro',\n",
       "       'RITHALA CCCP', 'RMC MANGROL', 'ROKHIA GT', 'ROPAR',\n",
       "       'ROSA TPP PH - 1', 'RSMNL Wind Farm', 'R_GUNDEM - B',\n",
       "       'R_GUNDEM STPS', 'Rajgarh - NTPC Solar Power Plant',\n",
       "       'Rajgarh - Ujaas Solar Power Plant', 'Raksa Solar Power Plant',\n",
       "       'Ram Tirath Jaga Solar Power Plant',\n",
       "       'Ramagundam Solar Power Plant', 'Rapar Khokhara Solar Power Plant',\n",
       "       'Rasulpur Solar Power Plant', 'Ratedi Mondri Wind Farm',\n",
       "       'Ravra - IOC Solar Power Plant', 'Ravra - NWEPL Solar Power Plant',\n",
       "       'Ravra - SEI Solar Power Plant',\n",
       "       'Ravra - Welspun Solar Power Plant',\n",
       "       'Relaxo Footwear Kui Inda Wind Farm',\n",
       "       'Roaring 40s Wind Farms (Khandke) Private Limited - Phase II',\n",
       "       'Rojhani Solar Power Plant', 'Rucha Soya Wind Farm',\n",
       "       'Ruchi Soya Palsodi Wind Farm', 'S.SAROVAR CHPH', 'S.SAROVAR RBPH',\n",
       "       'SABARIGIRI', 'SAGARDIGHI TPP', 'SAHAKAR SHIROMANI', 'SAINJ',\n",
       "       'SALAL I & II', 'SALAYA TPP', 'SALORA', 'SAMALPATTI DG',\n",
       "       'SAMAYANALLUR DG', 'SAMEERWADI MILL', 'SANGLI KRANTI',\n",
       "       'SANGLI MIRAJ BIOMASS', 'SANGLI VASANTDADA', 'SANJAY BHABA',\n",
       "       'SANJAY GANDHI', 'SANKESHWAR MILL', 'SANTALDIH', 'SARKARPATHY',\n",
       "       'SASAN UMPP', 'SATNA CEMENT PLANT', 'SATPURA', 'SBT SUGAR',\n",
       "       'SEIONI TPP', 'SEMBCORP GAYATRI', 'SENGULAM', 'SERVALAR',\n",
       "       'SEWA-II', 'SEWA-III', 'SHAHPUR', 'SHANAN', 'SHARAVATHY',\n",
       "       'SHARAVATHY TAIL RACE (Gerusupa)', 'SHIMSAPURA', 'SHIROL MILL',\n",
       "       'SHIRPUR', 'SHIVAPURA', 'SHOLAYAR', 'SHOLAYAR I&II',\n",
       "       'SHREE MEGA POWER', 'SHRI MALAPRABHA', 'SHRI SHANKAR',\n",
       "       'SHRIRAM RAYONS PLANT', 'SIIL Jaibhim Wind Farm', 'SIKKA REP.',\n",
       "       'SIMHADRI', 'SIMHAPURI TPP', 'SINGARENI TPP', 'SINGRAULI STPS',\n",
       "       'SINGUR', 'SIPAT STPS', 'SITAPURAM POWER LIMITED', 'SIVASAMUNDRUM',\n",
       "       'SOLAPUR STPP', 'SONAI MILL', 'SONE EAST CANAL', 'SONE WEST CANAL',\n",
       "       'SOUTHERN REPL.', 'SRINAGAR', 'SRISAILAM', 'SRISAILAM LBPH',\n",
       "       'STAKNA', 'STERLITE TPP', 'SUBERNREKHA I&II', 'SUGEN CCCP',\n",
       "       'SURAT GARH', 'SURAT LIG.', 'SURATGARH', 'SURULIYAR', 'SURYA',\n",
       "       'SVPL', 'SWASTIK KORBA', 'SWPPL Madhavakurichi',\n",
       "       'SWPPL Manurpalayam', 'SWPPL Vadakkupanavadali',\n",
       "       'Sadeipali - ASPL Solar Power Plant',\n",
       "       'Sadeipali - REHPL Solar Power Plant', 'Sai Sulphonates Wind Mill',\n",
       "       'Sakri 1A Solar Power Plant', 'Sakri 1B Solar Power Plant',\n",
       "       'Sangatpura Solar Power Plant', 'Satara Wind Farm',\n",
       "       'Shiloj Solar Power Plant', 'Shirsoli Solar Power Plant',\n",
       "       'Shivasamundra Solar Power Plant',\n",
       "       'Shivlakha - Backbone Solar Power Plant',\n",
       "       'Shivlakha - CPEC Solar Power Plant',\n",
       "       'Shivlakha - Konark Solar Power Plant', 'Shree Nashik Wind Farm',\n",
       "       'Shree Sangli Wind Farm', 'Shree Southern Wind Farm',\n",
       "       'Shri Singaji MALWA TPP', 'Singrauli Solar Power Plant',\n",
       "       'Sivaganga Solar Power Plant', 'Sivalaperi Wind Farm',\n",
       "       'Solitaire Solar Power Plant', 'Sonu Wind Farm',\n",
       "       'Sterling Agro Akal Wind Farm', 'Sterling Agro Mokla Wind Farm',\n",
       "       'Sterling Karnataka site', 'Sterling Madhya Pradesh site',\n",
       "       'Sumilon Shikarpur Wind Farm', 'Sumilon Vershamedi Wind Farm',\n",
       "       'Supe Solar Power Plant', 'Surajbari Creek Wind Farm', 'T.B. DAM',\n",
       "       'TADALI', 'TADALI SPONGE IRON', 'TAGO', 'TALCHER', 'TALCHER STPS',\n",
       "       'TALWANDI SABO', 'TAMNAR TPP', 'TANAKPUR', 'TANDA', 'TANIR BAVI',\n",
       "       'TARAPUR', 'TASHIDING', 'TAWA', 'TEESTA  I-III', 'TEESTA -V',\n",
       "       'TEESTA LOW DAM -IV', 'TEESTA LOW DAM-III', 'TEESTA-III',\n",
       "       'TEHRI ST -1', 'TENUGHAT', 'THAL WORKS', 'THAMMINAPATNAM TPP',\n",
       "       'THANE PLANT', 'THIROT', 'TILLARI', 'TILLAYA', 'TIRORA TPP',\n",
       "       'TITAGARH', 'TORANGALLU EXT', 'TORANGALLU IMP', 'TORR POWER SAB.',\n",
       "       'TROMBAY', 'TROMBAY GT', 'TROMBAY WORKS', 'TROMBAY_Coal',\n",
       "       'TROMBAY_Oil', 'TUIRIAL', 'TUNGABHADRA SUGAR', 'TUTICORIN',\n",
       "       'TUTICORIN JV', 'TUTICORIN- IND BARATH', 'TVS Kunnur Wind Farm',\n",
       "       'TVS Tirunelveli Wind Farm', 'TVS Virali Wind Farm',\n",
       "       'Tadas wind farm', 'Talcher Kaniha Solar Power Plant',\n",
       "       'Tamilnadu Wind Farm',\n",
       "       'Tata BP - Electronics City Solar Panel Plant',\n",
       "       'Tata Power Gadag Plains Wind Farm', 'Tata Wind Farm',\n",
       "       'Teona Pujarian Solar Power Plant', 'Theni Wind Farm',\n",
       "       'Thimmapuram Wind Farm', 'Tinwari - MB Solar Power Plant',\n",
       "       'Tiruppur', 'Tiruppur 2', 'Torrent Gujurat Wind Farm',\n",
       "       'U.B.D.C. ST.-I& II', 'U.ROGNICHU', 'UCHPINDA TPP', 'UDUPI TPP',\n",
       "       'UJJAINI', 'UKAI LBC', 'UKAI_Coal', 'UKAI_Hydro', 'UMIAM I II &IV',\n",
       "       'UMTRU (NEW)', 'UNCHAHAR', 'UNO SUGEN', 'UPL Dharapuram Wind Farm',\n",
       "       'UPPAR INDRAVATI', 'UPPER KOLAB', 'UPPER SILERU I&II',\n",
       "       'UPPER SINDH I& II', 'URAN GT', 'URAN ONGC', 'URI', 'URI -II',\n",
       "       'URUMI', 'UTRAN CCCP EXT', 'UTRAULA TPP', 'Udumalpet Wind Farm',\n",
       "       'VAIGAI DAM', 'VAITARNA', 'VALANTHARVI GT', 'VALLUR ntpc/ntecl',\n",
       "       'VALUTHUR GT', 'VARAHI', 'VARDHAM BUDNI', 'VARDHAM SATLAPUR',\n",
       "       'VASAVADATTA CEMENT', 'VEMAGIRI CCCP', 'VENUNAGAR SUGAR',\n",
       "       'VIJAIPUR WORKS', 'VIJAYWADA', 'VIJAYWADA TPP-IV', 'VIJESWARAM GT',\n",
       "       'VIKRAM CEMENT', 'VINDH_CHAL STPS', 'VIR', 'VISHNU PRAYAG',\n",
       "       'VIZAG TPP', 'VRL Wind Farm', 'Vaayu Ashti Wind Farm',\n",
       "       'Vankuswade Wind Farm', 'Vastan Solar Power Plant',\n",
       "       'WADI CEMENT PLANT', 'WANAKBORI',\n",
       "       'WARDHA WARORA(Sai Wardha Power)', 'WARDHA WORKS', 'WARNA',\n",
       "       'WY.CANAL A -D', 'Wadgam Solar Power Plant',\n",
       "       'Warora Solar Power Plant', 'Weizzmann Forex Idukki Wind Farm',\n",
       "       'Wind power project by Riddhi Siddhi Gluco Biols Limited (RSGBL)',\n",
       "       'Wind power project in Rajasthan', 'YAMUNANAGAR TPP',\n",
       "       'YASHWANTRAO MOHITE', 'YELHANKA (DG)', 'YERMARUS TPP',\n",
       "       'Yelesandra Solar Power Plant', 'Yelisirur wind power project',\n",
       "       'ZAWAR MINES', 'iEnergy Theni Wind Farm'], dtype=object)"
      ]
     },
     "execution_count": 18,
     "metadata": {},
     "output_type": "execute_result"
    }
   ],
   "source": [
    "df.name.unique()"
   ]
  },
  {
   "cell_type": "code",
   "execution_count": 19,
   "id": "ea2bda4d",
   "metadata": {
    "scrolled": false
   },
   "outputs": [
    {
     "data": {
      "text/plain": [
       "array(['WRI1020239', 'WRI1019881', 'WRI1026669', 'IND0000001',\n",
       "       'IND0000002', 'IND0000003', 'IND0000004', 'IND0000005',\n",
       "       'IND0000006', 'IND0000007', 'IND0000008', 'IND0000009',\n",
       "       'IND0000010', 'IND0000011', 'IND0000012', 'IND0000013',\n",
       "       'IND0000014', 'WRI1019996', 'IND0000015', 'WRI1019938',\n",
       "       'WRI1019939', 'WRI1019904', 'IND0000016', 'IND0000017',\n",
       "       'WRI1019940', 'WRI1020238', 'WRI1026104', 'WRI1026069',\n",
       "       'WRI1026105', 'WRI1026768', 'WRI1026347', 'WRI1026068',\n",
       "       'WRI1026106', 'WRI1026107', 'WRI1026108', 'WRI1026109',\n",
       "       'WRI1026110', 'WRI1026111', 'WRI1026112', 'IND0000019',\n",
       "       'WRI1019905', 'IND0000020', 'IND0000021', 'IND0000022',\n",
       "       'IND0000023', 'IND0000025', 'IND0000024', 'WRI1019941',\n",
       "       'WRI1019882', 'IND0000026', 'IND0000027', 'IND0000028',\n",
       "       'IND0000029', 'IND0000030', 'IND0000031', 'IND0000032',\n",
       "       'WRI1019883', 'IND0000033', 'IND0000034', 'IND0000035',\n",
       "       'IND0000036', 'IND0000037', 'IND0000038', 'IND0000039',\n",
       "       'IND0000040', 'IND0000041', 'IND0000042', 'WRI1026675',\n",
       "       'WRI1026664', 'WRI1019942', 'WRI1019906', 'WRI1019907',\n",
       "       'IND0000044', 'WRI1019908', 'WRI1019909', 'IND0000045',\n",
       "       'IND0000046', 'WRI1019910', 'IND0000047', 'WRI1019943',\n",
       "       'WRI1019944', 'IND0000048', 'IND0000049', 'IND0000050',\n",
       "       'IND0000514', 'IND0000052', 'IND0000053', 'IND0000051',\n",
       "       'WRI1019945', 'IND0000054', 'IND0000055', 'IND0000056',\n",
       "       'IND0000057', 'IND0000058', 'WRI1019884', 'WRI1019997',\n",
       "       'IND0000059', 'WRI1019885', 'IND0000527', 'IND0000060',\n",
       "       'IND0000061', 'IND0000063', 'IND0000064', 'IND0000066',\n",
       "       'WRI1026079', 'IND0000067', 'IND0000068', 'IND0000069',\n",
       "       'IND0000070', 'WRI1019946', 'IND0000071', 'WRI1026113',\n",
       "       'WRI1026114', 'WRI1026655', 'WRI1026115', 'WRI1026116',\n",
       "       'WRI1026117', 'WRI1026118', 'WRI1026119', 'WRI1026120',\n",
       "       'WRI1026121', 'WRI1026122', 'WRI1026090', 'WRI1026075',\n",
       "       'WRI1026073', 'WRI1026074', 'WRI1026083', 'WRI1026123',\n",
       "       'WRI1026088', 'WRI1026124', 'WRI1026125', 'WRI1026126',\n",
       "       'WRI1026127', 'IND0000072', 'IND0000073', 'IND0000074',\n",
       "       'IND0000075', 'WRI1019947', 'WRI1019886', 'WRI1019887',\n",
       "       'WRI1019948', 'WRI1019949', 'IND0000078', 'IND0000076',\n",
       "       'IND0000515', 'IND0000079', 'IND0000080', 'IND0000081',\n",
       "       'IND0000082', 'IND0000083', 'IND0000084', 'IND0000085',\n",
       "       'WRI1019911', 'WRI1026128', 'WRI1026129', 'WRI1026672',\n",
       "       'WRI1026130', 'IND0000087', 'IND0000088', 'IND0000089',\n",
       "       'IND0000086', 'WRI1019902', 'IND0000090', 'WRI1019912',\n",
       "       'WRI1019950', 'WRI1019914', 'IND0000091', 'IND0000092',\n",
       "       'IND0000093', 'IND0000094', 'IND0000095', 'IND0000096',\n",
       "       'IND0000097', 'IND0000098', 'IND0000099', 'IND0000101',\n",
       "       'WRI1019951', 'IND0000528', 'IND0000102', 'IND0000103',\n",
       "       'WRI1019952', 'WRI1019953', 'IND0000104', 'IND0000105',\n",
       "       'IND0000106', 'WRI1019915', 'IND0000107', 'WRI1019998',\n",
       "       'IND0000108', 'IND0000109', 'WRI1026131', 'WRI1019913',\n",
       "       'WRI1026100', 'WRI1026132', 'WRI1026089', 'WRI1026133',\n",
       "       'WRI1026134', 'WRI1026135', 'WRI1020240', 'WRI1020241',\n",
       "       'WRI1026136', 'IND0000110', 'IND0000111', 'WRI1026662',\n",
       "       'IND0000114', 'WRI1026670', 'WRI1026095', 'WRI1026667',\n",
       "       'WRI1026101', 'IND0000117', 'IND0000115', 'WRI1026653',\n",
       "       'IND0000118', 'WRI1026671', 'IND0000539', 'WRI1019888',\n",
       "       'IND0000119', 'IND0000516', 'IND0000120', 'IND0000121',\n",
       "       'IND0000122', 'IND0000123', 'IND0000124', 'IND0000125',\n",
       "       'IND0000126', 'WRI1026793', 'IND0000127', 'IND0000128',\n",
       "       'IND0000129', 'IND0000130', 'WRI1019955', 'IND0000132',\n",
       "       'WRI1026658', 'IND0000112', 'IND0000134', 'IND0000136',\n",
       "       'WRI1019956', 'IND0000137', 'WRI1019916', 'IND0000135',\n",
       "       'WRI1026072', 'WRI1026137', 'WRI1026138', 'WRI1026139',\n",
       "       'WRI1026140', 'WRI1020242', 'WRI1026141', 'WRI1026142',\n",
       "       'WRI1026081', 'WRI1026143', 'WRI1020243', 'WRI1026144',\n",
       "       'WRI1026145', 'IND0000139', 'IND0000140', 'WRI1019958',\n",
       "       'IND0000141', 'WRI1019917', 'IND0000142', 'IND0000143',\n",
       "       'WRI1019957', 'IND0000144', 'WRI1019918', 'WRI1026795',\n",
       "       'WRI1026080', 'WRI1026656', 'WRI1026094', 'WRI1026794',\n",
       "       'IND0000138', 'WRI1026071', 'WRI1026146', 'IND0000145',\n",
       "       'IND0000146', 'IND0000148', 'IND0000149', 'IND0000150',\n",
       "       'WRI1026766', 'IND0000153', 'IND0000529', 'IND0000151',\n",
       "       'IND0000154', 'IND0000152', 'WRI1026661', 'WRI1026147',\n",
       "       'WRI1026148', 'IND0000155', 'WRI1019903', 'IND0000156',\n",
       "       'IND0000157', 'WRI1019889', 'WRI1019999', 'WRI1020000',\n",
       "       'WRI1020001', 'IND0000158', 'IND0000159', 'IND0000160',\n",
       "       'IND0000161', 'IND0000162', 'WRI1026149', 'WRI1026150',\n",
       "       'WRI1026096', 'WRI1026777', 'WRI1026099', 'WRI1026082',\n",
       "       'WRI1026339', 'IND0000166', 'IND0000167', 'IND0000168',\n",
       "       'IND0000169', 'IND0000170', 'IND0000171', 'IND0000172',\n",
       "       'IND0000173', 'IND0000174', 'IND0000175', 'IND0000176',\n",
       "       'IND0000177', 'WRI1019919', 'WRI1020002', 'IND0000178',\n",
       "       'IND0000179', 'WRI1019959', 'IND0000180', 'IND0000181',\n",
       "       'IND0000182', 'IND0000183', 'IND0000184', 'IND0000185',\n",
       "       'IND0000186', 'IND0000517', 'IND0000518', 'WRI1020003',\n",
       "       'IND0000187', 'IND0000188', 'IND0000189', 'IND0000190',\n",
       "       'IND0000191', 'WRI1019920', 'IND0000192', 'IND0000193',\n",
       "       'IND0000194', 'IND0000195', 'IND0000196', 'IND0000197',\n",
       "       'IND0000198', 'WRI1019960', 'IND0000530', 'WRI1019921',\n",
       "       'IND0000199', 'IND0000200', 'IND0000201', 'IND0000202',\n",
       "       'IND0000203', 'IND0000204', 'WRI1019961', 'WRI1019962',\n",
       "       'WRI1019963', 'WRI1019922', 'IND0000205', 'IND0000206',\n",
       "       'IND0000207', 'WRI1019923', 'WRI1019924', 'IND0000208',\n",
       "       'IND0000209', 'IND0000210', 'IND0000211', 'IND0000212',\n",
       "       'IND0000213', 'WRI1019890', 'IND0000214', 'IND0000215',\n",
       "       'IND0000216', 'IND0000217', 'WRI1026340', 'IND0000519',\n",
       "       'IND0000218', 'IND0000219', 'IND0000220', 'WRI1019925',\n",
       "       'IND0000221', 'IND0000222', 'IND0000223', 'IND0000224',\n",
       "       'IND0000225', 'IND0000226', 'WRI1020244', 'WRI1020004',\n",
       "       'IND0000227', 'IND0000163', 'IND0000164', 'IND0000165',\n",
       "       'WRI1026341', 'WRI1026151', 'WRI1026152', 'WRI1026778',\n",
       "       'WRI1026153', 'WRI1026154', 'WRI1026155', 'WRI1026156',\n",
       "       'WRI1026157', 'WRI1026158', 'WRI1026159', 'WRI1026160',\n",
       "       'WRI1026161', 'WRI1026162', 'WRI1026163', 'WRI1026164',\n",
       "       'WRI1026668', 'WRI1026342', 'WRI1026165', 'WRI1026086',\n",
       "       'WRI1026067', 'WRI1026775', 'WRI1026848', 'WRI1019891',\n",
       "       'IND0000228', 'IND0000230', 'IND0000531', 'IND0000229',\n",
       "       'IND0000231', 'IND0000232', 'IND0000233', 'WRI1026343',\n",
       "       'WRI1026674', 'WRI1019964', 'WRI1019965', 'IND0000234',\n",
       "       'IND0000235', 'IND0000236', 'IND0000237', 'IND0000238',\n",
       "       'IND0000239', 'IND0000240', 'WRI1026344', 'IND0000241',\n",
       "       'WRI1026166', 'WRI1026167', 'WRI1026168', 'WRI1026345',\n",
       "       'WRI1026790', 'WRI1026169', 'WRI1026346', 'IND0000242',\n",
       "       'IND0000243', 'IND0000244', 'IND0000245', 'IND0000246',\n",
       "       'IND0000247', 'IND0000248', 'WRI1019966', 'IND0000249',\n",
       "       'WRI1019967', 'WRI1020005', 'IND0000250', 'IND0000252',\n",
       "       'IND0000253', 'IND0000254', 'IND0000255', 'WRI1019926',\n",
       "       'IND0000520', 'WRI1019892', 'IND0000256', 'IND0000257',\n",
       "       'WRI1019968', 'IND0000258', 'IND0000259', 'WRI1019969',\n",
       "       'IND0000260', 'IND0000261', 'IND0000532', 'IND0000262',\n",
       "       'IND0000263', 'IND0000264', 'IND0000265', 'IND0000266',\n",
       "       'IND0000267', 'IND0000268', 'IND0000270', 'IND0000271',\n",
       "       'IND0000272', 'WRI1019893', 'IND0000273', 'IND0000274',\n",
       "       'IND0000275', 'WRI1026348', 'WRI1026070', 'WRI1019927',\n",
       "       'IND0000276', 'WRI1019970', 'WRI1019971', 'WRI1020014',\n",
       "       'WRI1020015', 'IND0000278', 'IND0000279', 'IND0000280',\n",
       "       'WRI1019928', 'WRI1019972', 'IND0000281', 'IND0000282',\n",
       "       'WRI1026077', 'WRI1026170', 'WRI1020245', 'WRI1026171',\n",
       "       'WRI1026172', 'WRI1026173', 'WRI1026093', 'WRI1026092',\n",
       "       'WRI1026174', 'WRI1026175', 'IND0000283', 'IND0000287',\n",
       "       'IND0000286', 'IND0000521', 'WRI1020006', 'WRI1019973',\n",
       "       'WRI1019974', 'WRI1019975', 'WRI1019976', 'IND0000288',\n",
       "       'WRI1020007', 'IND0000289', 'IND0000291', 'IND0000292',\n",
       "       'WRI1019977', 'IND0000293', 'IND0000294', 'IND0000522',\n",
       "       'WRI1020008', 'IND0000533', 'IND0000297', 'IND0000298',\n",
       "       'IND0000299', 'IND0000300', 'IND0000301', 'IND0000302',\n",
       "       'WRI1019894', 'IND0000303', 'IND0000304', 'WRI1019895',\n",
       "       'IND0000305', 'IND0000306', 'WRI1026349', 'IND0000307',\n",
       "       'IND0000308', 'WRI1026676', 'IND0000309', 'IND0000284',\n",
       "       'IND0000285', 'WRI1026350', 'WRI1026064', 'WRI1026176',\n",
       "       'WRI1026351', 'WRI1026352', 'WRI1026177', 'WRI1026178',\n",
       "       'WRI1026179', 'WRI1026065', 'IND0000310', 'IND0000311',\n",
       "       'IND0000312', 'WRI1026091', 'WRI1026085', 'IND0000313',\n",
       "       'IND0000314', 'IND0000315', 'IND0000316', 'IND0000317',\n",
       "       'IND0000318', 'IND0000319', 'IND0000320', 'IND0000321',\n",
       "       'IND0000323', 'IND0000324', 'IND0000325', 'IND0000326',\n",
       "       'WRI1019954', 'IND0000540', 'IND0000327', 'IND0000328',\n",
       "       'IND0000329', 'WRI1020017', 'IND0000330', 'IND0000331',\n",
       "       'IND0000333', 'IND0000334', 'IND0000335', 'IND0000336',\n",
       "       'IND0000337', 'IND0000338', 'IND0000339', 'IND0000340',\n",
       "       'IND0000341', 'IND0000342', 'IND0000343', 'IND0000344',\n",
       "       'IND0000345', 'IND0000346', 'IND0000523', 'WRI1019978',\n",
       "       'IND0000347', 'IND0000348', 'IND0000349', 'WRI1026180',\n",
       "       'WRI1026663', 'WRI1026750', 'WRI1026751', 'WRI1026181',\n",
       "       'WRI1026182', 'WRI1026183', 'WRI1026184', 'WRI1026673',\n",
       "       'WRI1026788', 'WRI1026792', 'WRI1026791', 'WRI1026185',\n",
       "       'WRI1026186', 'WRI1026187', 'IND0000350', 'IND0000351',\n",
       "       'WRI1019896', 'IND0000354', 'IND0000355', 'IND0000356',\n",
       "       'WRI1019929', 'IND0000357', 'IND0000358', 'WRI1019930',\n",
       "       'IND0000359', 'IND0000360', 'IND0000361', 'WRI1019897',\n",
       "       'IND0000362', 'WRI1019931', 'IND0000363', 'IND0000364',\n",
       "       'IND0000365', 'IND0000366', 'IND0000367', 'IND0000368',\n",
       "       'WRI1019979', 'IND0000369', 'WRI1019898', 'IND0000370',\n",
       "       'IND0000371', 'IND0000372', 'IND0000373', 'IND0000374',\n",
       "       'IND0000375', 'IND0000376', 'IND0000377', 'IND0000378',\n",
       "       'IND0000379', 'IND0000380', 'IND0000381', 'WRI1026679',\n",
       "       'IND0000352', 'IND0000353', 'WRI1026188', 'WRI1026189',\n",
       "       'WRI1026190', 'WRI1026191', 'WRI1026192', 'WRI1026193',\n",
       "       'WRI1026194', 'WRI1026770', 'WRI1026195', 'WRI1026196',\n",
       "       'WRI1026197', 'WRI1026198', 'WRI1026752', 'WRI1026666',\n",
       "       'WRI1026199', 'WRI1026084', 'WRI1026678', 'IND0000382',\n",
       "       'IND0000383', 'IND0000384', 'IND0000385', 'WRI1019980',\n",
       "       'IND0000534', 'IND0000386', 'IND0000387', 'IND0000388',\n",
       "       'IND0000389', 'IND0000390', 'WRI1019932', 'WRI1019981',\n",
       "       'WRI1019982', 'WRI1019983', 'IND0000391', 'IND0000392',\n",
       "       'WRI1019933', 'IND0000393', 'IND0000394', 'IND0000395',\n",
       "       'WRI1020009', 'IND0000396', 'WRI1019984', 'IND0000397',\n",
       "       'IND0000524', 'IND0000398', 'IND0000399', 'IND0000400',\n",
       "       'IND0000401', 'IND0000402', 'IND0000403', 'IND0000404',\n",
       "       'IND0000405', 'IND0000406', 'WRI1019985', 'IND0000535',\n",
       "       'IND0000407', 'IND0000408', 'IND0000409', 'WRI1019899',\n",
       "       'WRI1019934', 'WRI1019986', 'WRI1019900', 'WRI1026789',\n",
       "       'IND0000411', 'IND0000412', 'IND0000413', 'IND0000414',\n",
       "       'IND0000415', 'IND0000416', 'IND0000417', 'IND0000525',\n",
       "       'IND0000418', 'IND0000536', 'WRI1019987', 'IND0000419',\n",
       "       'IND0000420', 'IND0000421', 'IND0000422', 'IND0000423',\n",
       "       'IND0000424', 'IND0000425', 'IND0000426', 'IND0000427',\n",
       "       'IND0000428', 'IND0000429', 'IND0000430', 'IND0000431',\n",
       "       'IND0000432', 'IND0000433', 'IND0000434', 'IND0000435',\n",
       "       'WRI1026771', 'WRI1026773', 'WRI1026772', 'WRI1026200',\n",
       "       'WRI1026201', 'WRI1026657', 'WRI1026202', 'WRI1026203',\n",
       "       'WRI1026204', 'WRI1026076', 'WRI1026205', 'WRI1026206',\n",
       "       'WRI1026207', 'WRI1026208', 'WRI1026209', 'WRI1026210',\n",
       "       'WRI1026786', 'WRI1026785', 'WRI1026784', 'IND0000410',\n",
       "       'WRI1026211', 'WRI1026212', 'WRI1026677', 'WRI1026213',\n",
       "       'WRI1026764', 'WRI1026754', 'WRI1026755', 'WRI1026756',\n",
       "       'WRI1026757', 'WRI1026762', 'WRI1026763', 'WRI1026214',\n",
       "       'WRI1026087', 'IND0000436', 'WRI1020016', 'WRI1019988',\n",
       "       'IND0000437', 'IND0000438', 'IND0000439', 'IND0000440',\n",
       "       'IND0000441', 'IND0000442', 'IND0000443', 'IND0000444',\n",
       "       'IND0000445', 'IND0000537', 'IND0000446', 'IND0000447',\n",
       "       'IND0000450', 'IND0000449', 'IND0000448', 'IND0000526',\n",
       "       'IND0000451', 'IND0000452', 'WRI1019989', 'IND0000453',\n",
       "       'WRI1019990', 'IND0000454', 'IND0000455', 'IND0000456',\n",
       "       'IND0000457', 'IND0000458', 'IND0000459', 'IND0000460',\n",
       "       'IND0000461', 'IND0000462', 'IND0000463', 'WRI1019991',\n",
       "       'IND0000464', 'IND0000465', 'IND0000538', 'WRI1019935',\n",
       "       'IND0000466', 'IND0000468', 'IND0000467', 'WRI1026758',\n",
       "       'WRI1026774', 'WRI1026767', 'WRI1026660', 'WRI1026215',\n",
       "       'WRI1026102', 'WRI1026216', 'WRI1026787', 'WRI1026078',\n",
       "       'WRI1026217', 'WRI1026654', 'WRI1026659', 'WRI1026218',\n",
       "       'WRI1026098', 'WRI1026097', 'WRI1026765', 'IND0000469',\n",
       "       'IND0000470', 'IND0000471', 'IND0000472', 'IND0000473',\n",
       "       'IND0000474', 'IND0000475', 'IND0000476', 'IND0000477',\n",
       "       'IND0000478', 'IND0000479', 'IND0000480', 'WRI1026759',\n",
       "       'IND0000481', 'IND0000482', 'IND0000483', 'IND0000484',\n",
       "       'IND0000485', 'WRI1019992', 'IND0000486', 'IND0000487',\n",
       "       'IND0000488', 'IND0000489', 'IND0000491', 'WRI1026066',\n",
       "       'IND0000492', 'IND0000493', 'IND0000494', 'IND0000495',\n",
       "       'IND0000496', 'IND0000497', 'WRI1020010', 'WRI1020011',\n",
       "       'WRI1019936', 'IND0000499', 'WRI1019993', 'WRI1020012',\n",
       "       'IND0000500', 'IND0000501', 'IND0000502', 'WRI1020013',\n",
       "       'IND0000503', 'IND0000504', 'IND0000505', 'IND0000506',\n",
       "       'WRI1026103', 'WRI1026665', 'WRI1026680', 'WRI1026219',\n",
       "       'WRI1019937', 'IND0000507', 'IND0000508', 'WRI1019994',\n",
       "       'IND0000509', 'IND0000510', 'WRI1026220', 'WRI1026221',\n",
       "       'WRI1026760', 'WRI1026753', 'WRI1026769', 'IND0000511',\n",
       "       'WRI1019995', 'IND0000512', 'IND0000513', 'WRI1026222',\n",
       "       'WRI1026776', 'WRI1019901', 'WRI1026761'], dtype=object)"
      ]
     },
     "execution_count": 19,
     "metadata": {},
     "output_type": "execute_result"
    }
   ],
   "source": [
    "df.gppd_idnr.unique()"
   ]
  },
  {
   "cell_type": "markdown",
   "id": "b80f2377",
   "metadata": {},
   "source": [
    "We do not need group identifier in our data"
   ]
  },
  {
   "cell_type": "markdown",
   "id": "40cef78c",
   "metadata": {},
   "source": [
    "             "
   ]
  },
  {
   "cell_type": "markdown",
   "id": "9b389934",
   "metadata": {},
   "source": [
    "Latitude"
   ]
  },
  {
   "cell_type": "code",
   "execution_count": 20,
   "id": "53c51165",
   "metadata": {
    "scrolled": false
   },
   "outputs": [
    {
     "data": {
      "text/plain": [
       "<AxesSubplot:xlabel='latitude', ylabel='Density'>"
      ]
     },
     "execution_count": 20,
     "metadata": {},
     "output_type": "execute_result"
    },
    {
     "data": {
      "image/png": "[encoded data removed]",
      "text/plain": [
       "<Figure size 1152x432 with 1 Axes>"
      ]
     },
     "metadata": {
      "needs_background": "light"
     },
     "output_type": "display_data"
    }
   ],
   "source": [
    "# Let's plot the Unique value counts\n",
    "plt.figure(figsize = (16, 6))\n",
    "sns.distplot(df['latitude'], rug = True, bins = 100)"
   ]
  },
  {
   "cell_type": "code",
   "execution_count": 21,
   "id": "1abdac2d",
   "metadata": {},
   "outputs": [
    {
     "data": {
      "text/plain": [
       "<AxesSubplot:xlabel='primary_fuel', ylabel='latitude'>"
      ]
     },
     "execution_count": 21,
     "metadata": {},
     "output_type": "execute_result"
    },
    {
     "data": {
      "image/png": "[encoded data removed]",
      "text/plain": [
       "<Figure size 1080x576 with 1 Axes>"
      ]
     },
     "metadata": {
      "needs_background": "light"
     },
     "output_type": "display_data"
    }
   ],
   "source": [
    "plt.figure(figsize=(15,8))\n",
    "sns.lineplot(df['primary_fuel'],df['latitude'])"
   ]
  },
  {
   "cell_type": "markdown",
   "id": "a5236568",
   "metadata": {},
   "source": [
    "                          "
   ]
  },
  {
   "cell_type": "markdown",
   "id": "63d17295",
   "metadata": {},
   "source": [
    "Longitude"
   ]
  },
  {
   "cell_type": "code",
   "execution_count": 22,
   "id": "02669054",
   "metadata": {},
   "outputs": [
    {
     "data": {
      "text/plain": [
       "<AxesSubplot:xlabel='longitude', ylabel='Density'>"
      ]
     },
     "execution_count": 22,
     "metadata": {},
     "output_type": "execute_result"
    },
    {
     "data": {
      "image/png": "[encoded data removed]",
      "text/plain": [
       "<Figure size 1152x432 with 1 Axes>"
      ]
     },
     "metadata": {
      "needs_background": "light"
     },
     "output_type": "display_data"
    }
   ],
   "source": [
    "# Let's plot the Unique value counts\n",
    "plt.figure(figsize = (16, 6))\n",
    "sns.distplot(df['longitude'], rug = True, bins = 100)"
   ]
  },
  {
   "cell_type": "code",
   "execution_count": 23,
   "id": "438e59cc",
   "metadata": {},
   "outputs": [
    {
     "data": {
      "text/plain": [
       "<AxesSubplot:xlabel='primary_fuel', ylabel='longitude'>"
      ]
     },
     "execution_count": 23,
     "metadata": {},
     "output_type": "execute_result"
    },
    {
     "data": {
      "image/png": "[encoded data removed]",
      "text/plain": [
       "<Figure size 1080x576 with 1 Axes>"
      ]
     },
     "metadata": {
      "needs_background": "light"
     },
     "output_type": "display_data"
    }
   ],
   "source": [
    "plt.figure(figsize=(15,8))\n",
    "sns.lineplot(df['primary_fuel'],df['longitude'])"
   ]
  },
  {
   "cell_type": "markdown",
   "id": "93528627",
   "metadata": {},
   "source": [
    "                      "
   ]
  },
  {
   "cell_type": "markdown",
   "id": "c96e867f",
   "metadata": {},
   "source": [
    "          "
   ]
  },
  {
   "cell_type": "markdown",
   "id": "351bc8f1",
   "metadata": {},
   "source": [
    "Commissioning_year"
   ]
  },
  {
   "cell_type": "code",
   "execution_count": 24,
   "id": "b0df010e",
   "metadata": {
    "scrolled": false
   },
   "outputs": [
    {
     "data": {
      "text/plain": [
       "<AxesSubplot:xlabel='primary_fuel', ylabel='commissioning_year'>"
      ]
     },
     "execution_count": 24,
     "metadata": {},
     "output_type": "execute_result"
    },
    {
     "data": {
      "image/png": "[encoded data removed]",
      "text/plain": [
       "<Figure size 1080x576 with 1 Axes>"
      ]
     },
     "metadata": {
      "needs_background": "light"
     },
     "output_type": "display_data"
    }
   ],
   "source": [
    "plt.figure(figsize=(15,8))\n",
    "sns.lineplot(df['primary_fuel'],df['commissioning_year'])"
   ]
  },
  {
   "cell_type": "code",
   "execution_count": 25,
   "id": "c8b1104e",
   "metadata": {},
   "outputs": [
    {
     "data": {
      "text/plain": [
       "<AxesSubplot:xlabel='commissioning_year', ylabel='capacity_mw'>"
      ]
     },
     "execution_count": 25,
     "metadata": {},
     "output_type": "execute_result"
    },
    {
     "data": {
      "image/png": "[encoded data removed]",
      "text/plain": [
       "<Figure size 1080x576 with 1 Axes>"
      ]
     },
     "metadata": {
      "needs_background": "light"
     },
     "output_type": "display_data"
    }
   ],
   "source": [
    "plt.figure(figsize=(15,8))\n",
    "sns.lineplot(df['commissioning_year'],df['capacity_mw'])"
   ]
  },
  {
   "cell_type": "markdown",
   "id": "962de2ab",
   "metadata": {},
   "source": [
    "                  "
   ]
  },
  {
   "cell_type": "markdown",
   "id": "32990914",
   "metadata": {},
   "source": [
    "               "
   ]
  },
  {
   "cell_type": "markdown",
   "id": "aba01acc",
   "metadata": {},
   "source": [
    "Geological Source"
   ]
  },
  {
   "cell_type": "code",
   "execution_count": 26,
   "id": "c30e2ce7",
   "metadata": {},
   "outputs": [
    {
     "name": "stdout",
     "output_type": "stream",
     "text": [
      "Unique values :  ['National Renewable Energy Laboratory' 'WRI' 'Industry About']\n",
      "Unique values counts : \n",
      " WRI                                     784\n",
      "Industry About                          119\n",
      "National Renewable Energy Laboratory      4\n",
      "Name: geolocation_source, dtype: int64\n"
     ]
    }
   ],
   "source": [
    "# TODO : To get unique values and value_counts on geolocation_source\n",
    "print(\"Unique values : \", df['geolocation_source'].unique())\n",
    "print(\"Unique values counts : \\n\", df['geolocation_source'].value_counts())"
   ]
  },
  {
   "cell_type": "code",
   "execution_count": 27,
   "id": "c0aaa2d2",
   "metadata": {},
   "outputs": [
    {
     "data": {
      "text/plain": [
       "<AxesSubplot:xlabel='geolocation_source', ylabel='count'>"
      ]
     },
     "execution_count": 27,
     "metadata": {},
     "output_type": "execute_result"
    },
    {
     "data": {
      "image/png": "[encoded data removed]",
      "text/plain": [
       "<Figure size 432x288 with 1 Axes>"
      ]
     },
     "metadata": {
      "needs_background": "light"
     },
     "output_type": "display_data"
    }
   ],
   "source": [
    "# Let's plot the Unique value counts\n",
    "sns.countplot(x = 'geolocation_source', data = df)"
   ]
  },
  {
   "cell_type": "code",
   "execution_count": 28,
   "id": "b2209b0d",
   "metadata": {},
   "outputs": [
    {
     "data": {
      "text/plain": [
       "<AxesSubplot:ylabel='geolocation_source'>"
      ]
     },
     "execution_count": 28,
     "metadata": {},
     "output_type": "execute_result"
    },
    {
     "data": {
      "image/png": "[encoded data removed]",
      "text/plain": [
       "<Figure size 576x432 with 1 Axes>"
      ]
     },
     "metadata": {},
     "output_type": "display_data"
    }
   ],
   "source": [
    "plt.figure(figsize=(8,6))\n",
    "df['geolocation_source'].value_counts().plot.pie(autopct='%1.1f%%')"
   ]
  },
  {
   "cell_type": "markdown",
   "id": "05da4f72",
   "metadata": {},
   "source": [
    "As we can see most of the Geological information is mostly from WRI , and least from National Renewable Energy Laboratory."
   ]
  },
  {
   "cell_type": "markdown",
   "id": "cee56a96",
   "metadata": {},
   "source": [
    "                        "
   ]
  },
  {
   "cell_type": "markdown",
   "id": "bce05c93",
   "metadata": {},
   "source": [
    "             "
   ]
  },
  {
   "cell_type": "code",
   "execution_count": 29,
   "id": "97e917ff",
   "metadata": {},
   "outputs": [
    {
     "data": {
      "text/plain": [
       "<AxesSubplot:xlabel='geolocation_source', ylabel='capacity_mw'>"
      ]
     },
     "execution_count": 29,
     "metadata": {},
     "output_type": "execute_result"
    },
    {
     "data": {
      "image/png": "[encoded data removed]",
      "text/plain": [
       "<Figure size 1080x576 with 1 Axes>"
      ]
     },
     "metadata": {
      "needs_background": "light"
     },
     "output_type": "display_data"
    }
   ],
   "source": [
    "plt.figure(figsize=(15,8))\n",
    "sns.lineplot(df['geolocation_source'],df['capacity_mw'])"
   ]
  },
  {
   "cell_type": "code",
   "execution_count": 30,
   "id": "66cd2059",
   "metadata": {},
   "outputs": [
    {
     "data": {
      "text/plain": [
       "<AxesSubplot:xlabel='primary_fuel', ylabel='geolocation_source'>"
      ]
     },
     "execution_count": 30,
     "metadata": {},
     "output_type": "execute_result"
    },
    {
     "data": {
      "image/png": "[encoded data removed]",
      "text/plain": [
       "<Figure size 1080x576 with 1 Axes>"
      ]
     },
     "metadata": {
      "needs_background": "light"
     },
     "output_type": "display_data"
    }
   ],
   "source": [
    "plt.figure(figsize=(15,8))\n",
    "sns.lineplot(df['primary_fuel'],df['geolocation_source'])"
   ]
  },
  {
   "cell_type": "markdown",
   "id": "4a5838dd",
   "metadata": {},
   "source": [
    "                   "
   ]
  },
  {
   "cell_type": "markdown",
   "id": "a02fef62",
   "metadata": {},
   "source": [
    "          "
   ]
  },
  {
   "cell_type": "code",
   "execution_count": 31,
   "id": "56a815b8",
   "metadata": {},
   "outputs": [
    {
     "data": {
      "text/plain": [
       "country                       0\n",
       "country_long                  0\n",
       "name                          0\n",
       "gppd_idnr                     0\n",
       "capacity_mw                   0\n",
       "latitude                      0\n",
       "longitude                     0\n",
       "primary_fuel                  0\n",
       "other_fuel1                 709\n",
       "other_fuel2                 906\n",
       "other_fuel3                 907\n",
       "commissioning_year            0\n",
       "owner                       565\n",
       "source                        0\n",
       "url                           0\n",
       "geolocation_source            0\n",
       "wepp_id                     907\n",
       "year_of_capacity_data         0\n",
       "generation_gwh_2013         907\n",
       "generation_gwh_2014         509\n",
       "generation_gwh_2015         485\n",
       "generation_gwh_2016         473\n",
       "generation_gwh_2017         467\n",
       "generation_gwh_2018         459\n",
       "generation_gwh_2019         907\n",
       "generation_data_source      458\n",
       "estimated_generation_gwh    907\n",
       "dtype: int64"
      ]
     },
     "execution_count": 31,
     "metadata": {},
     "output_type": "execute_result"
    }
   ],
   "source": [
    "df.isnull().sum()"
   ]
  },
  {
   "cell_type": "code",
   "execution_count": 32,
   "id": "ac598865",
   "metadata": {},
   "outputs": [
    {
     "data": {
      "text/plain": [
       "(907, 27)"
      ]
     },
     "execution_count": 32,
     "metadata": {},
     "output_type": "execute_result"
    }
   ],
   "source": [
    "df.shape"
   ]
  },
  {
   "cell_type": "code",
   "execution_count": 33,
   "id": "1c0b4e6d",
   "metadata": {},
   "outputs": [],
   "source": [
    "data=df[['capacity_mw','longitude','latitude','primary_fuel','commissioning_year','geolocation_source']]"
   ]
  },
  {
   "cell_type": "code",
   "execution_count": 34,
   "id": "327d232c",
   "metadata": {},
   "outputs": [
    {
     "data": {
      "text/html": [
       "<div>\n",
       "<style scoped>\n",
       "    .dataframe tbody tr th:only-of-type {\n",
       "        vertical-align: middle;\n",
       "    }\n",
       "\n",
       "    .dataframe tbody tr th {\n",
       "        vertical-align: top;\n",
       "    }\n",
       "\n",
       "    .dataframe thead th {\n",
       "        text-align: right;\n",
       "    }\n",
       "</style>\n",
       "<table border=\"1\" class=\"dataframe\">\n",
       "  <thead>\n",
       "    <tr style=\"text-align: right;\">\n",
       "      <th></th>\n",
       "      <th>capacity_mw</th>\n",
       "      <th>longitude</th>\n",
       "      <th>latitude</th>\n",
       "      <th>primary_fuel</th>\n",
       "      <th>commissioning_year</th>\n",
       "      <th>geolocation_source</th>\n",
       "    </tr>\n",
       "  </thead>\n",
       "  <tbody>\n",
       "    <tr>\n",
       "      <th>0</th>\n",
       "      <td>2.5</td>\n",
       "      <td>73.2407</td>\n",
       "      <td>28.1839</td>\n",
       "      <td>Solar</td>\n",
       "      <td>2011.0</td>\n",
       "      <td>National Renewable Energy Laboratory</td>\n",
       "    </tr>\n",
       "    <tr>\n",
       "      <th>1</th>\n",
       "      <td>98.0</td>\n",
       "      <td>74.6090</td>\n",
       "      <td>24.7663</td>\n",
       "      <td>Coal</td>\n",
       "      <td>2015.0</td>\n",
       "      <td>WRI</td>\n",
       "    </tr>\n",
       "    <tr>\n",
       "      <th>2</th>\n",
       "      <td>39.2</td>\n",
       "      <td>69.3732</td>\n",
       "      <td>21.9038</td>\n",
       "      <td>Wind</td>\n",
       "      <td>2015.0</td>\n",
       "      <td>WRI</td>\n",
       "    </tr>\n",
       "    <tr>\n",
       "      <th>3</th>\n",
       "      <td>135.0</td>\n",
       "      <td>91.3602</td>\n",
       "      <td>23.8712</td>\n",
       "      <td>Gas</td>\n",
       "      <td>2004.0</td>\n",
       "      <td>WRI</td>\n",
       "    </tr>\n",
       "    <tr>\n",
       "      <th>4</th>\n",
       "      <td>1800.0</td>\n",
       "      <td>82.4091</td>\n",
       "      <td>21.9603</td>\n",
       "      <td>Coal</td>\n",
       "      <td>2015.0</td>\n",
       "      <td>WRI</td>\n",
       "    </tr>\n",
       "    <tr>\n",
       "      <th>...</th>\n",
       "      <td>...</td>\n",
       "      <td>...</td>\n",
       "      <td>...</td>\n",
       "      <td>...</td>\n",
       "      <td>...</td>\n",
       "      <td>...</td>\n",
       "    </tr>\n",
       "    <tr>\n",
       "      <th>902</th>\n",
       "      <td>1600.0</td>\n",
       "      <td>77.3568</td>\n",
       "      <td>16.2949</td>\n",
       "      <td>Coal</td>\n",
       "      <td>2016.0</td>\n",
       "      <td>WRI</td>\n",
       "    </tr>\n",
       "    <tr>\n",
       "      <th>903</th>\n",
       "      <td>3.0</td>\n",
       "      <td>78.1654</td>\n",
       "      <td>12.8932</td>\n",
       "      <td>Solar</td>\n",
       "      <td>2015.0</td>\n",
       "      <td>Industry About</td>\n",
       "    </tr>\n",
       "    <tr>\n",
       "      <th>904</th>\n",
       "      <td>25.5</td>\n",
       "      <td>75.5811</td>\n",
       "      <td>15.2758</td>\n",
       "      <td>Wind</td>\n",
       "      <td>2015.0</td>\n",
       "      <td>WRI</td>\n",
       "    </tr>\n",
       "    <tr>\n",
       "      <th>905</th>\n",
       "      <td>80.0</td>\n",
       "      <td>73.7477</td>\n",
       "      <td>24.3500</td>\n",
       "      <td>Coal</td>\n",
       "      <td>2015.0</td>\n",
       "      <td>WRI</td>\n",
       "    </tr>\n",
       "    <tr>\n",
       "      <th>906</th>\n",
       "      <td>16.5</td>\n",
       "      <td>77.4768</td>\n",
       "      <td>9.9344</td>\n",
       "      <td>Wind</td>\n",
       "      <td>2015.0</td>\n",
       "      <td>WRI</td>\n",
       "    </tr>\n",
       "  </tbody>\n",
       "</table>\n",
       "<p>907 rows × 6 columns</p>\n",
       "</div>"
      ],
      "text/plain": [
       "     capacity_mw  longitude  latitude primary_fuel  commissioning_year  \\\n",
       "0            2.5    73.2407   28.1839        Solar              2011.0   \n",
       "1           98.0    74.6090   24.7663         Coal              2015.0   \n",
       "2           39.2    69.3732   21.9038         Wind              2015.0   \n",
       "3          135.0    91.3602   23.8712          Gas              2004.0   \n",
       "4         1800.0    82.4091   21.9603         Coal              2015.0   \n",
       "..           ...        ...       ...          ...                 ...   \n",
       "902       1600.0    77.3568   16.2949         Coal              2016.0   \n",
       "903          3.0    78.1654   12.8932        Solar              2015.0   \n",
       "904         25.5    75.5811   15.2758         Wind              2015.0   \n",
       "905         80.0    73.7477   24.3500         Coal              2015.0   \n",
       "906         16.5    77.4768    9.9344         Wind              2015.0   \n",
       "\n",
       "                       geolocation_source  \n",
       "0    National Renewable Energy Laboratory  \n",
       "1                                     WRI  \n",
       "2                                     WRI  \n",
       "3                                     WRI  \n",
       "4                                     WRI  \n",
       "..                                    ...  \n",
       "902                                   WRI  \n",
       "903                        Industry About  \n",
       "904                                   WRI  \n",
       "905                                   WRI  \n",
       "906                                   WRI  \n",
       "\n",
       "[907 rows x 6 columns]"
      ]
     },
     "execution_count": 34,
     "metadata": {},
     "output_type": "execute_result"
    }
   ],
   "source": [
    "data"
   ]
  },
  {
   "cell_type": "markdown",
   "id": "c3a4fa41",
   "metadata": {},
   "source": [
    "                      "
   ]
  },
  {
   "cell_type": "markdown",
   "id": "757c3a7a",
   "metadata": {},
   "source": [
    "                      "
   ]
  },
  {
   "cell_type": "markdown",
   "id": "e1188d1c",
   "metadata": {},
   "source": [
    "Lable Encoding the specific columns"
   ]
  },
  {
   "cell_type": "code",
   "execution_count": 35,
   "id": "0d69f33c",
   "metadata": {},
   "outputs": [
    {
     "data": {
      "text/plain": [
       "array([6, 1, 7, 2, 3, 0, 5, 4])"
      ]
     },
     "execution_count": 35,
     "metadata": {},
     "output_type": "execute_result"
    }
   ],
   "source": [
    "# Import label encoder\n",
    "from sklearn import preprocessing\n",
    "  \n",
    "# label_encoder object knows how to understand word labels.\n",
    "label_encoder = preprocessing.LabelEncoder()\n",
    "\n",
    "\n",
    "# Encode labels in column 'species'.\n",
    "data['primary_fuel']= label_encoder.fit_transform(data['primary_fuel'])\n",
    "\n",
    "\n",
    "data['primary_fuel'].unique()  "
   ]
  },
  {
   "cell_type": "code",
   "execution_count": 36,
   "id": "7351c0f3",
   "metadata": {},
   "outputs": [
    {
     "data": {
      "text/plain": [
       "array([1, 2, 0])"
      ]
     },
     "execution_count": 36,
     "metadata": {},
     "output_type": "execute_result"
    }
   ],
   "source": [
    "# Import label encoder\n",
    "from sklearn import preprocessing\n",
    "  \n",
    "# label_encoder object knows how to understand word labels.\n",
    "label_encoder = preprocessing.LabelEncoder()\n",
    "\n",
    "\n",
    "# Encode labels in column 'species'.\n",
    "data['geolocation_source']= label_encoder.fit_transform(data['geolocation_source'])\n",
    "\n",
    "\n",
    "data['geolocation_source'].unique()  "
   ]
  },
  {
   "cell_type": "markdown",
   "id": "3b67ad6d",
   "metadata": {},
   "source": [
    "              "
   ]
  },
  {
   "cell_type": "markdown",
   "id": "dafd99cf",
   "metadata": {},
   "source": [
    "                 "
   ]
  },
  {
   "cell_type": "code",
   "execution_count": 37,
   "id": "7ddff3e4",
   "metadata": {},
   "outputs": [
    {
     "data": {
      "text/html": [
       "<div>\n",
       "<style scoped>\n",
       "    .dataframe tbody tr th:only-of-type {\n",
       "        vertical-align: middle;\n",
       "    }\n",
       "\n",
       "    .dataframe tbody tr th {\n",
       "        vertical-align: top;\n",
       "    }\n",
       "\n",
       "    .dataframe thead th {\n",
       "        text-align: right;\n",
       "    }\n",
       "</style>\n",
       "<table border=\"1\" class=\"dataframe\">\n",
       "  <thead>\n",
       "    <tr style=\"text-align: right;\">\n",
       "      <th></th>\n",
       "      <th>count</th>\n",
       "      <th>mean</th>\n",
       "      <th>std</th>\n",
       "      <th>min</th>\n",
       "      <th>25%</th>\n",
       "      <th>50%</th>\n",
       "      <th>75%</th>\n",
       "      <th>max</th>\n",
       "    </tr>\n",
       "  </thead>\n",
       "  <tbody>\n",
       "    <tr>\n",
       "      <th>capacity_mw</th>\n",
       "      <td>907.0</td>\n",
       "      <td>326.223755</td>\n",
       "      <td>590.085456</td>\n",
       "      <td>0.0000</td>\n",
       "      <td>16.72500</td>\n",
       "      <td>59.2000</td>\n",
       "      <td>385.25000</td>\n",
       "      <td>4760.000</td>\n",
       "    </tr>\n",
       "    <tr>\n",
       "      <th>longitude</th>\n",
       "      <td>907.0</td>\n",
       "      <td>77.172109</td>\n",
       "      <td>4.976401</td>\n",
       "      <td>68.6447</td>\n",
       "      <td>73.81155</td>\n",
       "      <td>76.4938</td>\n",
       "      <td>79.20610</td>\n",
       "      <td>95.408</td>\n",
       "    </tr>\n",
       "    <tr>\n",
       "      <th>latitude</th>\n",
       "      <td>907.0</td>\n",
       "      <td>21.086467</td>\n",
       "      <td>6.098262</td>\n",
       "      <td>8.1689</td>\n",
       "      <td>17.07200</td>\n",
       "      <td>21.2818</td>\n",
       "      <td>25.17645</td>\n",
       "      <td>34.649</td>\n",
       "    </tr>\n",
       "    <tr>\n",
       "      <th>primary_fuel</th>\n",
       "      <td>907.0</td>\n",
       "      <td>3.206174</td>\n",
       "      <td>2.280652</td>\n",
       "      <td>0.0000</td>\n",
       "      <td>1.00000</td>\n",
       "      <td>3.0000</td>\n",
       "      <td>6.00000</td>\n",
       "      <td>7.000</td>\n",
       "    </tr>\n",
       "    <tr>\n",
       "      <th>commissioning_year</th>\n",
       "      <td>907.0</td>\n",
       "      <td>2004.594267</td>\n",
       "      <td>15.734928</td>\n",
       "      <td>1927.0000</td>\n",
       "      <td>1998.00000</td>\n",
       "      <td>2014.0000</td>\n",
       "      <td>2015.00000</td>\n",
       "      <td>2018.000</td>\n",
       "    </tr>\n",
       "    <tr>\n",
       "      <th>geolocation_source</th>\n",
       "      <td>907.0</td>\n",
       "      <td>1.733186</td>\n",
       "      <td>0.677151</td>\n",
       "      <td>0.0000</td>\n",
       "      <td>2.00000</td>\n",
       "      <td>2.0000</td>\n",
       "      <td>2.00000</td>\n",
       "      <td>2.000</td>\n",
       "    </tr>\n",
       "  </tbody>\n",
       "</table>\n",
       "</div>"
      ],
      "text/plain": [
       "                    count         mean         std        min         25%  \\\n",
       "capacity_mw         907.0   326.223755  590.085456     0.0000    16.72500   \n",
       "longitude           907.0    77.172109    4.976401    68.6447    73.81155   \n",
       "latitude            907.0    21.086467    6.098262     8.1689    17.07200   \n",
       "primary_fuel        907.0     3.206174    2.280652     0.0000     1.00000   \n",
       "commissioning_year  907.0  2004.594267   15.734928  1927.0000  1998.00000   \n",
       "geolocation_source  907.0     1.733186    0.677151     0.0000     2.00000   \n",
       "\n",
       "                          50%         75%       max  \n",
       "capacity_mw           59.2000   385.25000  4760.000  \n",
       "longitude             76.4938    79.20610    95.408  \n",
       "latitude              21.2818    25.17645    34.649  \n",
       "primary_fuel           3.0000     6.00000     7.000  \n",
       "commissioning_year  2014.0000  2015.00000  2018.000  \n",
       "geolocation_source     2.0000     2.00000     2.000  "
      ]
     },
     "execution_count": 37,
     "metadata": {},
     "output_type": "execute_result"
    }
   ],
   "source": [
    "data.describe().T"
   ]
  },
  {
   "cell_type": "code",
   "execution_count": 38,
   "id": "d6e64f2b",
   "metadata": {},
   "outputs": [
    {
     "name": "stdout",
     "output_type": "stream",
     "text": [
      "\n",
      "--Correated Features with target variable--\n",
      "\n",
      "geolocation_source    0.483217\n",
      "capacity_mw           0.380395\n",
      "longitude             0.368766\n",
      "commissioning_year    0.164947\n",
      "latitude              0.020203\n",
      "dtype: float64\n"
     ]
    }
   ],
   "source": [
    "from sklearn.preprocessing import LabelEncoder\n",
    "temp_data = data.copy()\n",
    "for col in temp_data.columns:\n",
    "    if temp_data[col].dtypes == 'object':\n",
    "        encoder = LabelEncoder()\n",
    "        temp_data[col] = encoder.fit_transform(temp_data[col])\n",
    "        \n",
    "# Correated Features with target variable\n",
    "print('\\n--Correated Features with target variable--\\n')\n",
    "print(abs(temp_data.corrwith(temp_data['primary_fuel'])).sort_values(ascending=False)[1:])"
   ]
  },
  {
   "cell_type": "code",
   "execution_count": 39,
   "id": "76088bba",
   "metadata": {},
   "outputs": [
    {
     "data": {
      "image/png": "[encoded data removed]",
      "text/plain": [
       "<Figure size 1008x576 with 2 Axes>"
      ]
     },
     "metadata": {
      "needs_background": "light"
     },
     "output_type": "display_data"
    }
   ],
   "source": [
    "# Correlation Heatmap\n",
    "plt.figure(figsize=[14,8])\n",
    "sns.heatmap(temp_data.corr(), annot=True, cmap='RdYlGn', vmax=.5)\n",
    "plt.show()"
   ]
  },
  {
   "cell_type": "markdown",
   "id": "f5c6e2bd",
   "metadata": {},
   "source": [
    "                 "
   ]
  },
  {
   "cell_type": "markdown",
   "id": "658e580a",
   "metadata": {},
   "source": [
    "          "
   ]
  },
  {
   "cell_type": "markdown",
   "id": "e75e0c96",
   "metadata": {},
   "source": [
    "# Feature Selection"
   ]
  },
  {
   "cell_type": "code",
   "execution_count": 40,
   "id": "1e3fd628",
   "metadata": {},
   "outputs": [],
   "source": [
    "from sklearn.metrics import r2_score,mean_absolute_error,mean_squared_error\n",
    "from sklearn.linear_model import LogisticRegression,Lasso,LinearRegression\n",
    "from sklearn.neighbors import KNeighborsRegressor\n",
    "from sklearn.svm import SVR\n",
    "from sklearn.tree import DecisionTreeRegressor\n",
    "from sklearn.ensemble import AdaBoostRegressor,GradientBoostingRegressor\n",
    "from sklearn.preprocessing import LabelEncoder,StandardScaler\n",
    "from sklearn.model_selection import train_test_split,GridSearchCV\n",
    "from sklearn.decomposition import PCA\n",
    "from scipy.stats import zscore\n",
    "from sklearn.model_selection import cross_val_score"
   ]
  },
  {
   "cell_type": "code",
   "execution_count": 41,
   "id": "99d11f08",
   "metadata": {},
   "outputs": [],
   "source": [
    "#importing library for classification prediction\n",
    "from sklearn.metrics import accuracy_score,classification_report,confusion_matrix,roc_auc_score,roc_curve\n",
    "from sklearn.linear_model import LogisticRegression\n",
    "from sklearn.naive_bayes import MultinomialNB\n",
    "from sklearn.neighbors import KNeighborsClassifier\n",
    "from sklearn.svm import SVC\n",
    "from sklearn.tree import DecisionTreeClassifier\n",
    "from sklearn.ensemble import AdaBoostClassifier,GradientBoostingClassifier"
   ]
  },
  {
   "cell_type": "code",
   "execution_count": 42,
   "id": "8e36437f",
   "metadata": {},
   "outputs": [],
   "source": [
    "# Load libraries\n",
    "import pandas as pd\n",
    "from sklearn.tree import DecisionTreeClassifier # Import Decision Tree Classifier\n",
    "from sklearn.model_selection import train_test_split # Import train_test_split function\n",
    "from sklearn import metrics #Import scikit-learn metrics module for accuracy calculation"
   ]
  },
  {
   "cell_type": "code",
   "execution_count": 43,
   "id": "5a529ecb",
   "metadata": {},
   "outputs": [
    {
     "name": "stdout",
     "output_type": "stream",
     "text": [
      "(907, 5)\n",
      "(907, 1)\n"
     ]
    }
   ],
   "source": [
    "#assign the value of x and y for training and testing phase\n",
    "x = data[['capacity_mw','longitude','latitude','commissioning_year','geolocation_source']]\n",
    "y = data[[\"primary_fuel\"]]\n",
    "print(x.shape)\n",
    "print(y.shape)"
   ]
  },
  {
   "cell_type": "code",
   "execution_count": 44,
   "id": "fa67c507",
   "metadata": {},
   "outputs": [],
   "source": [
    "#Standardize the value of x so that mean will 0 and SD will become 1 , and make the data as normal distributed\n",
    "sc = StandardScaler()\n",
    "sc.fit_transform(x)\n",
    "x = pd.DataFrame(x,columns=x.columns)"
   ]
  },
  {
   "cell_type": "markdown",
   "id": "6a0c7dbd",
   "metadata": {},
   "source": [
    "              "
   ]
  },
  {
   "cell_type": "markdown",
   "id": "a22ba71c",
   "metadata": {},
   "source": [
    "# Prediction with Primary Fuel:"
   ]
  },
  {
   "cell_type": "code",
   "execution_count": 45,
   "id": "85da4502",
   "metadata": {},
   "outputs": [
    {
     "name": "stdout",
     "output_type": "stream",
     "text": [
      "(907, 5)\n",
      "(907, 1)\n"
     ]
    }
   ],
   "source": [
    "#assign the value of x and y for training and testing phase\n",
    "x_c = data[['capacity_mw','longitude','latitude','commissioning_year','geolocation_source']]\n",
    "y_c = data[[\"primary_fuel\"]]\n",
    "print(x_c.shape)\n",
    "print(y_c.shape)"
   ]
  },
  {
   "cell_type": "code",
   "execution_count": 46,
   "id": "cb3536bd",
   "metadata": {},
   "outputs": [],
   "source": [
    "#Standardize the value of x so that mean will 0 and SD will become 1 , and make the data as normal distributed\n",
    "sc = StandardScaler()\n",
    "sc.fit_transform(x_c)\n",
    "x_c = pd.DataFrame(x_c,columns=x_c.columns)"
   ]
  },
  {
   "cell_type": "code",
   "execution_count": 47,
   "id": "29576c51",
   "metadata": {
    "scrolled": false
   },
   "outputs": [
    {
     "name": "stdout",
     "output_type": "stream",
     "text": [
      "accuracy score correspond to random state  0 is 0.7433333333333333\n",
      "accuracy score correspond to random state  0 is 0.65\n",
      "accuracy score correspond to random state  1 is 0.7733333333333333\n",
      "accuracy score correspond to random state  1 is 0.6366666666666667\n",
      "accuracy score correspond to random state  2 is 0.7066666666666667\n",
      "accuracy score correspond to random state  2 is 0.63\n",
      "accuracy score correspond to random state  3 is 0.7133333333333334\n",
      "accuracy score correspond to random state  3 is 0.6033333333333334\n",
      "accuracy score correspond to random state  4 is 0.76\n",
      "accuracy score correspond to random state  4 is 0.6366666666666667\n",
      "accuracy score correspond to random state  5 is 0.7333333333333333\n",
      "accuracy score correspond to random state  5 is 0.62\n",
      "accuracy score correspond to random state  6 is 0.7533333333333333\n",
      "accuracy score correspond to random state  6 is 0.6266666666666667\n",
      "accuracy score correspond to random state  7 is 0.7366666666666667\n",
      "accuracy score correspond to random state  7 is 0.66\n",
      "accuracy score correspond to random state  8 is 0.7333333333333333\n",
      "accuracy score correspond to random state  8 is 0.5633333333333334\n",
      "accuracy score correspond to random state  9 is 0.74\n",
      "accuracy score correspond to random state  9 is 0.63\n",
      "accuracy score correspond to random state  10 is 0.74\n",
      "accuracy score correspond to random state  10 is 0.6166666666666667\n",
      "accuracy score correspond to random state  11 is 0.75\n",
      "accuracy score correspond to random state  11 is 0.61\n",
      "accuracy score correspond to random state  12 is 0.73\n",
      "accuracy score correspond to random state  12 is 0.5966666666666667\n",
      "accuracy score correspond to random state  13 is 0.7133333333333334\n",
      "accuracy score correspond to random state  13 is 0.6266666666666667\n",
      "accuracy score correspond to random state  14 is 0.77\n",
      "accuracy score correspond to random state  14 is 0.66\n",
      "accuracy score correspond to random state  15 is 0.7933333333333333\n",
      "accuracy score correspond to random state  15 is 0.6466666666666666\n",
      "accuracy score correspond to random state  16 is 0.74\n",
      "accuracy score correspond to random state  16 is 0.6133333333333333\n",
      "accuracy score correspond to random state  17 is 0.78\n",
      "accuracy score correspond to random state  17 is 0.6533333333333333\n",
      "accuracy score correspond to random state  18 is 0.7666666666666667\n",
      "accuracy score correspond to random state  18 is 0.64\n",
      "accuracy score correspond to random state  19 is 0.7433333333333333\n",
      "accuracy score correspond to random state  19 is 0.61\n",
      "accuracy score correspond to random state  20 is 0.7033333333333334\n",
      "accuracy score correspond to random state  20 is 0.63\n",
      "accuracy score correspond to random state  21 is 0.7533333333333333\n",
      "accuracy score correspond to random state  21 is 0.6466666666666666\n",
      "accuracy score correspond to random state  22 is 0.73\n",
      "accuracy score correspond to random state  22 is 0.5933333333333334\n",
      "accuracy score correspond to random state  23 is 0.7833333333333333\n",
      "accuracy score correspond to random state  23 is 0.6033333333333334\n",
      "accuracy score correspond to random state  24 is 0.7366666666666667\n",
      "accuracy score correspond to random state  24 is 0.6233333333333333\n",
      "accuracy score correspond to random state  25 is 0.7566666666666667\n",
      "accuracy score correspond to random state  25 is 0.61\n",
      "accuracy score correspond to random state  26 is 0.6766666666666666\n",
      "accuracy score correspond to random state  26 is 0.6333333333333333\n",
      "accuracy score correspond to random state  27 is 0.7633333333333333\n",
      "accuracy score correspond to random state  27 is 0.6533333333333333\n",
      "accuracy score correspond to random state  28 is 0.7533333333333333\n",
      "accuracy score correspond to random state  28 is 0.63\n",
      "accuracy score correspond to random state  29 is 0.7333333333333333\n",
      "accuracy score correspond to random state  29 is 0.5733333333333334\n",
      "accuracy score correspond to random state  30 is 0.7433333333333333\n",
      "accuracy score correspond to random state  30 is 0.6133333333333333\n",
      "accuracy score correspond to random state  31 is 0.7433333333333333\n",
      "accuracy score correspond to random state  31 is 0.59\n",
      "accuracy score correspond to random state  32 is 0.7533333333333333\n",
      "accuracy score correspond to random state  32 is 0.65\n",
      "accuracy score correspond to random state  33 is 0.7566666666666667\n",
      "accuracy score correspond to random state  33 is 0.5766666666666667\n",
      "accuracy score correspond to random state  34 is 0.77\n",
      "accuracy score correspond to random state  34 is 0.61\n",
      "accuracy score correspond to random state  35 is 0.7566666666666667\n",
      "accuracy score correspond to random state  35 is 0.6166666666666667\n",
      "accuracy score correspond to random state  36 is 0.7033333333333334\n",
      "accuracy score correspond to random state  36 is 0.6133333333333333\n",
      "accuracy score correspond to random state  37 is 0.7866666666666666\n",
      "accuracy score correspond to random state  37 is 0.6133333333333333\n",
      "accuracy score correspond to random state  38 is 0.7566666666666667\n",
      "accuracy score correspond to random state  38 is 0.6233333333333333\n",
      "accuracy score correspond to random state  39 is 0.7533333333333333\n",
      "accuracy score correspond to random state  39 is 0.6233333333333333\n",
      "accuracy score correspond to random state  40 is 0.7433333333333333\n",
      "accuracy score correspond to random state  40 is 0.64\n",
      "accuracy score correspond to random state  41 is 0.75\n",
      "accuracy score correspond to random state  41 is 0.6433333333333333\n",
      "accuracy score correspond to random state  42 is 0.76\n",
      "accuracy score correspond to random state  42 is 0.6166666666666667\n",
      "accuracy score correspond to random state  43 is 0.72\n",
      "accuracy score correspond to random state  43 is 0.6233333333333333\n",
      "accuracy score correspond to random state  44 is 0.7666666666666667\n",
      "accuracy score correspond to random state  44 is 0.6433333333333333\n",
      "accuracy score correspond to random state  45 is 0.7366666666666667\n",
      "accuracy score correspond to random state  45 is 0.6366666666666667\n",
      "accuracy score correspond to random state  46 is 0.76\n",
      "accuracy score correspond to random state  46 is 0.6366666666666667\n",
      "accuracy score correspond to random state  47 is 0.7333333333333333\n",
      "accuracy score correspond to random state  47 is 0.58\n",
      "accuracy score correspond to random state  48 is 0.78\n",
      "accuracy score correspond to random state  48 is 0.6433333333333333\n",
      "accuracy score correspond to random state  49 is 0.7733333333333333\n",
      "accuracy score correspond to random state  49 is 0.6533333333333333\n",
      "accuracy score correspond to random state  50 is 0.71\n",
      "accuracy score correspond to random state  50 is 0.6433333333333333\n",
      "accuracy score correspond to random state  51 is 0.76\n",
      "accuracy score correspond to random state  51 is 0.6666666666666666\n",
      "accuracy score correspond to random state  52 is 0.7333333333333333\n",
      "accuracy score correspond to random state  52 is 0.63\n",
      "accuracy score correspond to random state  53 is 0.7566666666666667\n",
      "accuracy score correspond to random state  53 is 0.6066666666666667\n",
      "accuracy score correspond to random state  54 is 0.7766666666666666\n",
      "accuracy score correspond to random state  54 is 0.6333333333333333\n",
      "accuracy score correspond to random state  55 is 0.7666666666666667\n",
      "accuracy score correspond to random state  55 is 0.6066666666666667\n",
      "accuracy score correspond to random state  56 is 0.7666666666666667\n",
      "accuracy score correspond to random state  56 is 0.56\n",
      "accuracy score correspond to random state  57 is 0.7666666666666667\n",
      "accuracy score correspond to random state  57 is 0.6166666666666667\n",
      "accuracy score correspond to random state  58 is 0.78\n",
      "accuracy score correspond to random state  58 is 0.6533333333333333\n",
      "accuracy score correspond to random state  59 is 0.77\n",
      "accuracy score correspond to random state  59 is 0.6233333333333333\n",
      "accuracy score correspond to random state  60 is 0.7166666666666667\n",
      "accuracy score correspond to random state  60 is 0.65\n",
      "accuracy score correspond to random state  61 is 0.78\n",
      "accuracy score correspond to random state  61 is 0.6366666666666667\n",
      "accuracy score correspond to random state  62 is 0.78\n",
      "accuracy score correspond to random state  62 is 0.6333333333333333\n",
      "accuracy score correspond to random state  63 is 0.7633333333333333\n",
      "accuracy score correspond to random state  63 is 0.6333333333333333\n",
      "accuracy score correspond to random state  64 is 0.7466666666666667\n",
      "accuracy score correspond to random state  64 is 0.6366666666666667\n"
     ]
    },
    {
     "name": "stdout",
     "output_type": "stream",
     "text": [
      "accuracy score correspond to random state  65 is 0.7666666666666667\n",
      "accuracy score correspond to random state  65 is 0.64\n",
      "accuracy score correspond to random state  66 is 0.7733333333333333\n",
      "accuracy score correspond to random state  66 is 0.6433333333333333\n",
      "accuracy score correspond to random state  67 is 0.74\n",
      "accuracy score correspond to random state  67 is 0.6366666666666667\n",
      "accuracy score correspond to random state  68 is 0.73\n",
      "accuracy score correspond to random state  68 is 0.6366666666666667\n",
      "accuracy score correspond to random state  69 is 0.7433333333333333\n",
      "accuracy score correspond to random state  69 is 0.6433333333333333\n",
      "accuracy score correspond to random state  70 is 0.7466666666666667\n",
      "accuracy score correspond to random state  70 is 0.6166666666666667\n",
      "accuracy score correspond to random state  71 is 0.74\n",
      "accuracy score correspond to random state  71 is 0.63\n",
      "accuracy score correspond to random state  72 is 0.7466666666666667\n",
      "accuracy score correspond to random state  72 is 0.63\n",
      "accuracy score correspond to random state  73 is 0.73\n",
      "accuracy score correspond to random state  73 is 0.6033333333333334\n",
      "accuracy score correspond to random state  74 is 0.7533333333333333\n",
      "accuracy score correspond to random state  74 is 0.62\n",
      "accuracy score correspond to random state  75 is 0.73\n",
      "accuracy score correspond to random state  75 is 0.6033333333333334\n",
      "accuracy score correspond to random state  76 is 0.7166666666666667\n",
      "accuracy score correspond to random state  76 is 0.6\n",
      "accuracy score correspond to random state  77 is 0.75\n",
      "accuracy score correspond to random state  77 is 0.65\n",
      "accuracy score correspond to random state  78 is 0.7466666666666667\n",
      "accuracy score correspond to random state  78 is 0.6666666666666666\n",
      "accuracy score correspond to random state  79 is 0.7233333333333334\n",
      "accuracy score correspond to random state  79 is 0.62\n",
      "accuracy score correspond to random state  80 is 0.72\n",
      "accuracy score correspond to random state  80 is 0.64\n",
      "accuracy score correspond to random state  81 is 0.8\n",
      "accuracy score correspond to random state  81 is 0.6566666666666666\n",
      "accuracy score correspond to random state  82 is 0.7166666666666667\n",
      "accuracy score correspond to random state  82 is 0.6333333333333333\n",
      "accuracy score correspond to random state  83 is 0.75\n",
      "accuracy score correspond to random state  83 is 0.6233333333333333\n",
      "accuracy score correspond to random state  84 is 0.7533333333333333\n",
      "accuracy score correspond to random state  84 is 0.5933333333333334\n",
      "accuracy score correspond to random state  85 is 0.7233333333333334\n",
      "accuracy score correspond to random state  85 is 0.61\n",
      "accuracy score correspond to random state  86 is 0.74\n",
      "accuracy score correspond to random state  86 is 0.5766666666666667\n",
      "accuracy score correspond to random state  87 is 0.78\n",
      "accuracy score correspond to random state  87 is 0.6033333333333334\n",
      "accuracy score correspond to random state  88 is 0.71\n",
      "accuracy score correspond to random state  88 is 0.66\n",
      "accuracy score correspond to random state  89 is 0.76\n",
      "accuracy score correspond to random state  89 is 0.6433333333333333\n",
      "accuracy score correspond to random state  90 is 0.7733333333333333\n",
      "accuracy score correspond to random state  90 is 0.6233333333333333\n",
      "accuracy score correspond to random state  91 is 0.71\n",
      "accuracy score correspond to random state  91 is 0.5933333333333334\n",
      "accuracy score correspond to random state  92 is 0.7566666666666667\n",
      "accuracy score correspond to random state  92 is 0.6466666666666666\n",
      "accuracy score correspond to random state  93 is 0.7533333333333333\n",
      "accuracy score correspond to random state  93 is 0.66\n",
      "accuracy score correspond to random state  94 is 0.7566666666666667\n",
      "accuracy score correspond to random state  94 is 0.6233333333333333\n",
      "accuracy score correspond to random state  95 is 0.7766666666666666\n",
      "accuracy score correspond to random state  95 is 0.64\n",
      "accuracy score correspond to random state  96 is 0.7433333333333333\n",
      "accuracy score correspond to random state  96 is 0.6466666666666666\n",
      "accuracy score correspond to random state  97 is 0.7466666666666667\n",
      "accuracy score correspond to random state  97 is 0.6133333333333333\n",
      "accuracy score correspond to random state  98 is 0.7133333333333334\n",
      "accuracy score correspond to random state  98 is 0.6566666666666666\n",
      "accuracy score correspond to random state  99 is 0.71\n",
      "accuracy score correspond to random state  99 is 0.6166666666666667\n",
      "\n",
      "\n",
      "\n",
      "\n",
      "max accuracy score correspond to random state  81 is 0.8 and model is DecisionTreeClassifier()\n"
     ]
    }
   ],
   "source": [
    "#Now by using multiple Algorithms we are calculating the best Algo which suit best for our data set \n",
    "\n",
    "model = [DecisionTreeClassifier(),KNeighborsClassifier()]\n",
    "max_accuracy_score = 0\n",
    "for r_state in range(0,100):\n",
    "    train_xc,test_xc,train_yc,test_yc = train_test_split(x_c,y_c,random_state = r_state,test_size = 0.33)\n",
    "    for i_c in model:\n",
    "        i_c.fit(train_xc,train_yc)\n",
    "        pre_c = i_c.predict(test_xc)\n",
    "        ac_score = accuracy_score(test_yc,pre_c)\n",
    "        print(\"accuracy score correspond to random state \" ,r_state ,\"is\", ac_score)\n",
    "        if ac_score> max_accuracy_score:\n",
    "            max_accuracy_score=ac_score\n",
    "            final_state = r_state\n",
    "            final_model = i_c\n",
    "            \n",
    "print()\n",
    "print()\n",
    "print()\n",
    "print()\n",
    "\n",
    "print(\"max accuracy score correspond to random state \" ,final_state , \"is\" , max_accuracy_score ,\"and model is\",final_model)"
   ]
  },
  {
   "cell_type": "code",
   "execution_count": 48,
   "id": "e33dff60",
   "metadata": {},
   "outputs": [],
   "source": [
    "# Split dataset into training set and test set\n",
    "X_train, X_test, y_train, y_test = train_test_split(x_c,y_c, test_size=0.2, random_state=15) # 80% training and 20% test\n",
    "\n",
    "# Create Decision Tree classifer object\n",
    "clf = DecisionTreeClassifier()\n",
    "\n",
    "# Train Decision Tree Classifer\n",
    "clf = clf.fit(X_train,y_train)\n",
    "\n",
    "#Predict the response for test dataset\n",
    "y_pred = clf.predict(X_test)"
   ]
  },
  {
   "cell_type": "code",
   "execution_count": 49,
   "id": "56ce76b5",
   "metadata": {
    "scrolled": true
   },
   "outputs": [
    {
     "name": "stdout",
     "output_type": "stream",
     "text": [
      "Accuracy: 0.7747252747252747\n"
     ]
    }
   ],
   "source": [
    "# Model Accuracy, how often is the classifier correct?\n",
    "print(\"Accuracy:\",metrics.accuracy_score(y_test, y_pred))"
   ]
  },
  {
   "cell_type": "code",
   "execution_count": 50,
   "id": "5fcab49e",
   "metadata": {},
   "outputs": [
    {
     "name": "stdout",
     "output_type": "stream",
     "text": [
      "Cross_val_score :  76.84444444444443\n",
      "Mean Score      :  76.84444444444443\n",
      "STD score       :  0.0\n"
     ]
    }
   ],
   "source": [
    "#Calculating the scores of different parameters\n",
    "score = cross_val_score(clf,x_c,y_c,cv = 100,scoring='accuracy').mean()\n",
    "print('Cross_val_score : ', score*100)\n",
    "print('Mean Score      : ' , score.mean()*100)\n",
    "print('STD score       : ' , score.std())"
   ]
  },
  {
   "cell_type": "code",
   "execution_count": 51,
   "id": "6ed460b5",
   "metadata": {},
   "outputs": [
    {
     "data": {
      "text/plain": [
       "array([0., 0., 0., 0., 0., 0., 1., 1., 0., 0., 0., 0., 1., 1., 0., 0., 0.,\n",
       "       0., 0., 0., 0., 0., 0., 0., 0., 1., 1., 0., 1., 0., 0., 0., 1., 0.,\n",
       "       0., 1., 0., 0., 1., 0., 1., 0., 0., 1., 0., 1., 0., 0., 1., 0., 0.,\n",
       "       0., 0., 0., 0., 1., 1., 0., 1., 0., 0., 1., 0., 0., 1., 1., 1., 1.,\n",
       "       1., 0., 0., 0., 0., 1., 1., 1., 0., 0., 0., 1., 0., 0., 0., 0., 0.,\n",
       "       0., 0., 1., 0., 0., 0., 0., 1., 1., 0., 0., 0., 0., 0., 0., 0., 0.,\n",
       "       1., 0., 0., 0., 0., 0., 0., 1., 1., 0., 0., 1., 0., 1., 1., 1., 0.,\n",
       "       1., 0., 1., 0., 0., 0., 1., 0., 1., 1., 0., 0., 1., 0., 0., 0., 0.,\n",
       "       0., 0., 0., 0., 0., 0., 1., 0., 0., 0., 1., 0., 0., 1., 0., 0., 1.,\n",
       "       1., 1., 1., 0., 0., 1., 0., 0., 0., 0., 1., 0., 0., 0., 1., 0., 1.,\n",
       "       0., 0., 0., 0., 1., 1., 0., 0., 0., 0., 1., 1., 1., 0., 0., 0., 0.,\n",
       "       0., 0., 0., 0., 0., 0., 0., 0., 0., 0., 0., 0., 0., 0., 0., 0., 1.,\n",
       "       0., 0., 0., 1., 1., 1., 0., 0., 0., 0., 0., 0., 0., 0., 0., 0., 1.,\n",
       "       1., 0., 0., 0., 0., 0., 0., 0., 0., 0., 0., 1., 1., 0., 0., 0., 0.,\n",
       "       1., 0., 1., 0., 0., 0., 1., 0., 1., 1., 1., 0., 0., 0., 1., 0., 0.,\n",
       "       0., 0., 0., 1., 1., 0., 1., 0., 0., 0., 0., 0., 0., 0., 1., 0., 0.,\n",
       "       0., 0., 0., 0., 0., 0., 1., 0., 0., 0., 0., 0., 0., 0., 1., 0., 0.,\n",
       "       1., 0., 0., 1., 0., 0., 0., 1., 0., 0., 1.])"
      ]
     },
     "execution_count": 51,
     "metadata": {},
     "output_type": "execute_result"
    }
   ],
   "source": [
    "pred_prob = clf.predict_proba(test_xc)[:,1]\n",
    "pred_prob"
   ]
  },
  {
   "cell_type": "code",
   "execution_count": 52,
   "id": "203e8e69",
   "metadata": {},
   "outputs": [],
   "source": [
    "fpr,tpr,thresholds = roc_curve(test_yc,pred_prob,pos_label=True)"
   ]
  },
  {
   "cell_type": "code",
   "execution_count": 53,
   "id": "77f94831",
   "metadata": {},
   "outputs": [
    {
     "name": "stdout",
     "output_type": "stream",
     "text": [
      "[0.         0.02727273 1.        ]\n",
      "\n",
      "\n",
      "[0.    0.975 1.   ]\n",
      "\n",
      "\n",
      "[2. 1. 0.]\n"
     ]
    }
   ],
   "source": [
    "print(fpr)\n",
    "print(\"\\n\")\n",
    "print(tpr)\n",
    "print(\"\\n\")\n",
    "print(thresholds)"
   ]
  },
  {
   "cell_type": "code",
   "execution_count": 54,
   "id": "ce9adb0b",
   "metadata": {},
   "outputs": [
    {
     "data": {
      "image/png": "[encoded data removed]",
      "text/plain": [
       "<Figure size 432x288 with 1 Axes>"
      ]
     },
     "metadata": {
      "needs_background": "light"
     },
     "output_type": "display_data"
    }
   ],
   "source": [
    "#Plotting the graph which tells us about the area under curve , more the area under curve more will be the better prediction\n",
    "\n",
    "plt.plot([0,1],[1,0],'k--')\n",
    "plt.plot(fpr,tpr,label = 'DecisionTreeClassifier')\n",
    "plt.xlabel('False positive rate')\n",
    "plt.ylabel('True positive rate')\n",
    "plt.title('DecisionTreeClassifier')\n",
    "plt.show()"
   ]
  },
  {
   "cell_type": "markdown",
   "id": "33d639d0",
   "metadata": {},
   "source": [
    "              "
   ]
  },
  {
   "cell_type": "markdown",
   "id": "d56c8fb1",
   "metadata": {},
   "source": [
    "             "
   ]
  },
  {
   "cell_type": "markdown",
   "id": "eb844846",
   "metadata": {},
   "source": [
    "         "
   ]
  },
  {
   "cell_type": "markdown",
   "id": "70d3b0ac",
   "metadata": {},
   "source": [
    "# Prediction with Capacity in MegaWatt:"
   ]
  },
  {
   "cell_type": "code",
   "execution_count": 55,
   "id": "a185f1c5",
   "metadata": {},
   "outputs": [
    {
     "name": "stdout",
     "output_type": "stream",
     "text": [
      "\n",
      "--Correated Features with target variable--\n",
      "\n",
      "primary_fuel          0.380395\n",
      "longitude             0.215875\n",
      "geolocation_source    0.204865\n",
      "latitude              0.059041\n",
      "commissioning_year    0.004072\n",
      "dtype: float64\n"
     ]
    }
   ],
   "source": [
    "from sklearn.preprocessing import LabelEncoder\n",
    "temp_data = data.copy()\n",
    "for col in temp_data.columns:\n",
    "    if temp_data[col].dtypes == 'object':\n",
    "        encoder = LabelEncoder()\n",
    "        temp_data[col] = encoder.fit_transform(temp_data[col])\n",
    "        \n",
    "# Correated Features with target variable\n",
    "print('\\n--Correated Features with target variable--\\n')\n",
    "print(abs(temp_data.corrwith(temp_data['capacity_mw'])).sort_values(ascending=False)[1:])"
   ]
  },
  {
   "cell_type": "code",
   "execution_count": 56,
   "id": "d9ef2854",
   "metadata": {},
   "outputs": [
    {
     "data": {
      "image/png": "[encoded data removed]",
      "text/plain": [
       "<Figure size 1008x576 with 2 Axes>"
      ]
     },
     "metadata": {
      "needs_background": "light"
     },
     "output_type": "display_data"
    }
   ],
   "source": [
    "# Correlation Heatmap\n",
    "plt.figure(figsize=[14,8])\n",
    "sns.heatmap(temp_data.corr(), annot=True, cmap='RdYlGn', vmax=.5)\n",
    "plt.show()"
   ]
  },
  {
   "cell_type": "code",
   "execution_count": 57,
   "id": "f3ee60d0",
   "metadata": {},
   "outputs": [
    {
     "data": {
      "text/plain": [
       "capacity_mw           3.123576\n",
       "longitude             1.130252\n",
       "latitude             -0.095721\n",
       "primary_fuel          0.472251\n",
       "commissioning_year   -1.714873\n",
       "geolocation_source   -2.159841\n",
       "dtype: float64"
      ]
     },
     "execution_count": 57,
     "metadata": {},
     "output_type": "execute_result"
    }
   ],
   "source": [
    "data.skew()"
   ]
  },
  {
   "cell_type": "code",
   "execution_count": 58,
   "id": "e55b54ca",
   "metadata": {},
   "outputs": [
    {
     "data": {
      "text/plain": [
       "capacity_mw                NaN\n",
       "longitude             0.914173\n",
       "latitude             -0.095721\n",
       "primary_fuel               NaN\n",
       "commissioning_year   -1.734977\n",
       "geolocation_source   -2.176473\n",
       "dtype: float64"
      ]
     },
     "execution_count": 58,
     "metadata": {},
     "output_type": "execute_result"
    }
   ],
   "source": [
    "from scipy import stats\n",
    "data['capacity_mw'] = np.log(data['capacity_mw'])\n",
    "data['longitude']=np.log(data['longitude'])\n",
    "data['commissioning_year']=np.log(data['commissioning_year'])\n",
    "data['geolocation_source']=np.sqrt(data['geolocation_source'])\n",
    "data['longitude']=np.sqrt(data['longitude'])\n",
    "data['primary_fuel']=np.log(data['primary_fuel'])\n",
    "data.skew()"
   ]
  },
  {
   "cell_type": "code",
   "execution_count": 59,
   "id": "eed54ad9",
   "metadata": {},
   "outputs": [],
   "source": [
    "data1 = data[np.isfinite(data).all(1)]"
   ]
  },
  {
   "cell_type": "code",
   "execution_count": 60,
   "id": "d207aaf6",
   "metadata": {},
   "outputs": [
    {
     "data": {
      "text/plain": [
       "capacity_mw           0\n",
       "longitude             0\n",
       "latitude              0\n",
       "primary_fuel          0\n",
       "commissioning_year    0\n",
       "geolocation_source    0\n",
       "dtype: int64"
      ]
     },
     "execution_count": 60,
     "metadata": {},
     "output_type": "execute_result"
    }
   ],
   "source": [
    "data1.isnull().sum()"
   ]
  },
  {
   "cell_type": "code",
   "execution_count": 61,
   "id": "aae25623",
   "metadata": {},
   "outputs": [
    {
     "data": {
      "text/plain": [
       "capacity_mw          -0.074563\n",
       "longitude             0.859066\n",
       "latitude             -0.174579\n",
       "primary_fuel         -0.150098\n",
       "commissioning_year   -1.653397\n",
       "geolocation_source   -2.092892\n",
       "dtype: float64"
      ]
     },
     "execution_count": 61,
     "metadata": {},
     "output_type": "execute_result"
    }
   ],
   "source": [
    "data1.skew()"
   ]
  },
  {
   "cell_type": "code",
   "execution_count": 62,
   "id": "14bc4692",
   "metadata": {},
   "outputs": [
    {
     "name": "stdout",
     "output_type": "stream",
     "text": [
      "(856, 5)\n",
      "(856, 1)\n"
     ]
    }
   ],
   "source": [
    "#assign the value of x and y for training and testing phase\n",
    "x = data1[[\"primary_fuel\",'geolocation_source','longitude','latitude','commissioning_year']]\n",
    "y = data1[['capacity_mw']]\n",
    "print(x.shape)\n",
    "print(y.shape)"
   ]
  },
  {
   "cell_type": "code",
   "execution_count": 63,
   "id": "ac94f4f0",
   "metadata": {},
   "outputs": [],
   "source": [
    "#Standardize the value of x so that mean will 0 and SD will become 1 , and make the data as normal distributed\n",
    "sc = StandardScaler()\n",
    "sc.fit_transform(x)\n",
    "x = pd.DataFrame(x,columns=x.columns)"
   ]
  },
  {
   "cell_type": "code",
   "execution_count": 64,
   "id": "666faabc",
   "metadata": {
    "scrolled": false
   },
   "outputs": [
    {
     "name": "stdout",
     "output_type": "stream",
     "text": [
      "R2 score correspond to random state  0 is 0.4078930481581937\n",
      "R2 score correspond to random state  0 is 0.46403129804317633\n",
      "R2 score correspond to random state  0 is 0.5672908852283947\n",
      "R2 score correspond to random state  0 is 0.4837899826603018\n",
      "R2 score correspond to random state  0 is 0.625401821550423\n",
      "R2 score correspond to random state  1 is 0.3229044572295977\n",
      "R2 score correspond to random state  1 is 0.44255343414662474\n",
      "R2 score correspond to random state  1 is 0.5653985845860874\n",
      "R2 score correspond to random state  1 is 0.5098251962102631\n",
      "R2 score correspond to random state  1 is 0.6054448573795641\n",
      "R2 score correspond to random state  2 is 0.40557375465538303\n",
      "R2 score correspond to random state  2 is 0.4358574900758746\n",
      "R2 score correspond to random state  2 is 0.5482067420550827\n",
      "R2 score correspond to random state  2 is 0.4875312100942627\n",
      "R2 score correspond to random state  2 is 0.6390822001084804\n",
      "R2 score correspond to random state  3 is 0.3302102813204587\n",
      "R2 score correspond to random state  3 is 0.48345035052917595\n",
      "R2 score correspond to random state  3 is 0.5252606581651837\n",
      "R2 score correspond to random state  3 is 0.4883905070207355\n",
      "R2 score correspond to random state  3 is 0.5482243413430765\n",
      "R2 score correspond to random state  4 is 0.4459678933394362\n",
      "R2 score correspond to random state  4 is 0.40646452212183004\n",
      "R2 score correspond to random state  4 is 0.5249777242672715\n",
      "R2 score correspond to random state  4 is 0.4858617268858373\n",
      "R2 score correspond to random state  4 is 0.5824276679029934\n",
      "R2 score correspond to random state  5 is 0.3785287400947217\n",
      "R2 score correspond to random state  5 is 0.42015624483768366\n",
      "R2 score correspond to random state  5 is 0.5626945236145431\n",
      "R2 score correspond to random state  5 is 0.4915773288089055\n",
      "R2 score correspond to random state  5 is 0.631170502136791\n",
      "R2 score correspond to random state  6 is 0.3449719093300512\n",
      "R2 score correspond to random state  6 is 0.43635491194536313\n",
      "R2 score correspond to random state  6 is 0.546587866464838\n",
      "R2 score correspond to random state  6 is 0.46342767638431726\n",
      "R2 score correspond to random state  6 is 0.583018972164685\n",
      "R2 score correspond to random state  7 is 0.20030459592503524\n",
      "R2 score correspond to random state  7 is 0.366216155526238\n",
      "R2 score correspond to random state  7 is 0.5355839334613852\n",
      "R2 score correspond to random state  7 is 0.4392293506163645\n",
      "R2 score correspond to random state  7 is 0.5887739463391939\n",
      "R2 score correspond to random state  8 is 0.35582250280372596\n",
      "R2 score correspond to random state  8 is 0.4210827318985917\n",
      "R2 score correspond to random state  8 is 0.4755832156090465\n",
      "R2 score correspond to random state  8 is 0.42799699637204036\n",
      "R2 score correspond to random state  8 is 0.5772985109964162\n",
      "R2 score correspond to random state  9 is 0.26613641822135914\n",
      "R2 score correspond to random state  9 is 0.41472024471668234\n",
      "R2 score correspond to random state  9 is 0.49509814252531814\n",
      "R2 score correspond to random state  9 is 0.43364451528489667\n",
      "R2 score correspond to random state  9 is 0.6113183534978854\n",
      "R2 score correspond to random state  10 is 0.41173093138168637\n",
      "R2 score correspond to random state  10 is 0.43390825540113376\n",
      "R2 score correspond to random state  10 is 0.5452412567086333\n",
      "R2 score correspond to random state  10 is 0.45979571712364653\n",
      "R2 score correspond to random state  10 is 0.6281594344429342\n",
      "R2 score correspond to random state  11 is 0.37673486984562354\n",
      "R2 score correspond to random state  11 is 0.46958848107172113\n",
      "R2 score correspond to random state  11 is 0.5563383430154627\n",
      "R2 score correspond to random state  11 is 0.4836041043116964\n",
      "R2 score correspond to random state  11 is 0.611676248535229\n",
      "R2 score correspond to random state  12 is 0.376842685631925\n",
      "R2 score correspond to random state  12 is 0.4341880503716994\n",
      "R2 score correspond to random state  12 is 0.5684038075622637\n",
      "R2 score correspond to random state  12 is 0.4271343810984619\n",
      "R2 score correspond to random state  12 is 0.5963027294543632\n",
      "R2 score correspond to random state  13 is 0.39130554025870445\n",
      "R2 score correspond to random state  13 is 0.42176474996335656\n",
      "R2 score correspond to random state  13 is 0.5230255689782279\n",
      "R2 score correspond to random state  13 is 0.47237902877665416\n",
      "R2 score correspond to random state  13 is 0.5378200197782321\n",
      "R2 score correspond to random state  14 is 0.4614885658669924\n",
      "R2 score correspond to random state  14 is 0.44082717422371565\n",
      "R2 score correspond to random state  14 is 0.524376690982801\n",
      "R2 score correspond to random state  14 is 0.4514206489894982\n",
      "R2 score correspond to random state  14 is 0.586937206697607\n",
      "R2 score correspond to random state  15 is 0.33302197443259973\n",
      "R2 score correspond to random state  15 is 0.33908903579849003\n",
      "R2 score correspond to random state  15 is 0.46742508871268773\n",
      "R2 score correspond to random state  15 is 0.3948813560385386\n",
      "R2 score correspond to random state  15 is 0.49830167831645644\n",
      "R2 score correspond to random state  16 is 0.34794907844530365\n",
      "R2 score correspond to random state  16 is 0.3999459299048971\n",
      "R2 score correspond to random state  16 is 0.5205647623180417\n",
      "R2 score correspond to random state  16 is 0.43838431913787146\n",
      "R2 score correspond to random state  16 is 0.5872797213390687\n",
      "R2 score correspond to random state  17 is 0.42516590862981973\n",
      "R2 score correspond to random state  17 is 0.3860127658427178\n",
      "R2 score correspond to random state  17 is 0.5541496928994428\n",
      "R2 score correspond to random state  17 is 0.44888076861107795\n",
      "R2 score correspond to random state  17 is 0.6003369905841897\n",
      "R2 score correspond to random state  18 is 0.3558231520330677\n",
      "R2 score correspond to random state  18 is 0.45314579542203515\n",
      "R2 score correspond to random state  18 is 0.5684432889232802\n",
      "R2 score correspond to random state  18 is 0.4951184865731093\n",
      "R2 score correspond to random state  18 is 0.6250325005432155\n",
      "R2 score correspond to random state  19 is 0.2652688334331291\n",
      "R2 score correspond to random state  19 is 0.41134788984303816\n",
      "R2 score correspond to random state  19 is 0.5257151320456239\n",
      "R2 score correspond to random state  19 is 0.44376609116298826\n",
      "R2 score correspond to random state  19 is 0.576277270611119\n",
      "R2 score correspond to random state  20 is 0.3492578921556174\n",
      "R2 score correspond to random state  20 is 0.35884308445163804\n",
      "R2 score correspond to random state  20 is 0.5598582606431346\n",
      "R2 score correspond to random state  20 is 0.4332302841711231\n",
      "R2 score correspond to random state  20 is 0.6004001144422527\n",
      "R2 score correspond to random state  21 is 0.4476877416289483\n",
      "R2 score correspond to random state  21 is 0.4077592621084525\n",
      "R2 score correspond to random state  21 is 0.5394040724027337\n",
      "R2 score correspond to random state  21 is 0.4717350134613043\n",
      "R2 score correspond to random state  21 is 0.6147694534377309\n",
      "R2 score correspond to random state  22 is 0.31976432253743226\n",
      "R2 score correspond to random state  22 is 0.3969021829066409\n",
      "R2 score correspond to random state  22 is 0.4860857761448387\n",
      "R2 score correspond to random state  22 is 0.42673329026171813\n",
      "R2 score correspond to random state  22 is 0.6101740236122284\n",
      "R2 score correspond to random state  23 is 0.3750404016717106\n",
      "R2 score correspond to random state  23 is 0.45291172186302264\n",
      "R2 score correspond to random state  23 is 0.5462558404141098\n",
      "R2 score correspond to random state  23 is 0.4649468830343435\n",
      "R2 score correspond to random state  23 is 0.5866886534969233\n",
      "R2 score correspond to random state  24 is 0.47513429463923496\n",
      "R2 score correspond to random state  24 is 0.4676893240244028\n",
      "R2 score correspond to random state  24 is 0.561814439163399\n",
      "R2 score correspond to random state  24 is 0.481172744004963\n",
      "R2 score correspond to random state  24 is 0.6352256590054153\n",
      "R2 score correspond to random state  25 is 0.32459828491298404\n",
      "R2 score correspond to random state  25 is 0.43131857826864284\n",
      "R2 score correspond to random state  25 is 0.5190997625402116\n",
      "R2 score correspond to random state  25 is 0.4923060336402312\n",
      "R2 score correspond to random state  25 is 0.6132087181543543\n",
      "R2 score correspond to random state  26 is 0.36207738736349804\n",
      "R2 score correspond to random state  26 is 0.5137401184345423\n",
      "R2 score correspond to random state  26 is 0.5190599268257312\n",
      "R2 score correspond to random state  26 is 0.46319517531023735\n"
     ]
    },
    {
     "name": "stdout",
     "output_type": "stream",
     "text": [
      "R2 score correspond to random state  26 is 0.6037472325910398\n",
      "R2 score correspond to random state  27 is 0.45758825059357466\n",
      "R2 score correspond to random state  27 is 0.4063543914100205\n",
      "R2 score correspond to random state  27 is 0.5531604305294596\n",
      "R2 score correspond to random state  27 is 0.493761320218139\n",
      "R2 score correspond to random state  27 is 0.636819506544028\n",
      "R2 score correspond to random state  28 is 0.38508767371331454\n",
      "R2 score correspond to random state  28 is 0.45278210783236617\n",
      "R2 score correspond to random state  28 is 0.5170700212929071\n",
      "R2 score correspond to random state  28 is 0.42543827195315886\n",
      "R2 score correspond to random state  28 is 0.5758903701789089\n",
      "R2 score correspond to random state  29 is 0.2851431201669765\n",
      "R2 score correspond to random state  29 is 0.38405997926238644\n",
      "R2 score correspond to random state  29 is 0.4963490315690623\n",
      "R2 score correspond to random state  29 is 0.4403958486790307\n",
      "R2 score correspond to random state  29 is 0.5866015916636096\n",
      "R2 score correspond to random state  30 is 0.33862860369964365\n",
      "R2 score correspond to random state  30 is 0.4444693828868401\n",
      "R2 score correspond to random state  30 is 0.5682492341380099\n",
      "R2 score correspond to random state  30 is 0.5010699030627757\n",
      "R2 score correspond to random state  30 is 0.6409211616519608\n",
      "R2 score correspond to random state  31 is 0.3181334315591976\n",
      "R2 score correspond to random state  31 is 0.3583207986246635\n",
      "R2 score correspond to random state  31 is 0.5232102377634344\n",
      "R2 score correspond to random state  31 is 0.45641186902148034\n",
      "R2 score correspond to random state  31 is 0.5905677358633862\n",
      "R2 score correspond to random state  32 is 0.3936783195705712\n",
      "R2 score correspond to random state  32 is 0.3415873237119874\n",
      "R2 score correspond to random state  32 is 0.5252213846901717\n",
      "R2 score correspond to random state  32 is 0.41710439855186154\n",
      "R2 score correspond to random state  32 is 0.5852409073808407\n",
      "R2 score correspond to random state  33 is 0.3384254259256335\n",
      "R2 score correspond to random state  33 is 0.4195159447959925\n",
      "R2 score correspond to random state  33 is 0.5044704266723421\n",
      "R2 score correspond to random state  33 is 0.41614461623038246\n",
      "R2 score correspond to random state  33 is 0.5627780110787972\n",
      "R2 score correspond to random state  34 is 0.3104721053188646\n",
      "R2 score correspond to random state  34 is 0.4306251988896176\n",
      "R2 score correspond to random state  34 is 0.5365054616372977\n",
      "R2 score correspond to random state  34 is 0.45477955975254314\n",
      "R2 score correspond to random state  34 is 0.6233424454255994\n",
      "R2 score correspond to random state  35 is 0.4104515791625145\n",
      "R2 score correspond to random state  35 is 0.40316789351572335\n",
      "R2 score correspond to random state  35 is 0.5329919248782511\n",
      "R2 score correspond to random state  35 is 0.4422239338813009\n",
      "R2 score correspond to random state  35 is 0.5792571213531779\n",
      "R2 score correspond to random state  36 is 0.36662339599459026\n",
      "R2 score correspond to random state  36 is 0.3990053504516957\n",
      "R2 score correspond to random state  36 is 0.5728390931025908\n",
      "R2 score correspond to random state  36 is 0.4961019676956453\n",
      "R2 score correspond to random state  36 is 0.601784547532839\n",
      "R2 score correspond to random state  37 is 0.3003365622796632\n",
      "R2 score correspond to random state  37 is 0.411019423133098\n",
      "R2 score correspond to random state  37 is 0.5281999472683787\n",
      "R2 score correspond to random state  37 is 0.47896671545949854\n",
      "R2 score correspond to random state  37 is 0.5683870507483575\n",
      "R2 score correspond to random state  38 is 0.2618807418769027\n",
      "R2 score correspond to random state  38 is 0.31975617976176496\n",
      "R2 score correspond to random state  38 is 0.5006521256679295\n",
      "R2 score correspond to random state  38 is 0.3736500899749676\n",
      "R2 score correspond to random state  38 is 0.5497265195421719\n",
      "R2 score correspond to random state  39 is 0.333998378429624\n",
      "R2 score correspond to random state  39 is 0.3658046551268803\n",
      "R2 score correspond to random state  39 is 0.5128071800700573\n",
      "R2 score correspond to random state  39 is 0.43081240412841704\n",
      "R2 score correspond to random state  39 is 0.5722888206778369\n",
      "R2 score correspond to random state  40 is 0.36391601877174784\n",
      "R2 score correspond to random state  40 is 0.40089198403433257\n",
      "R2 score correspond to random state  40 is 0.546945332310883\n",
      "R2 score correspond to random state  40 is 0.4406273897197194\n",
      "R2 score correspond to random state  40 is 0.6006693004939871\n",
      "R2 score correspond to random state  41 is 0.3054123650970312\n",
      "R2 score correspond to random state  41 is 0.3076883789198065\n",
      "R2 score correspond to random state  41 is 0.4355938447325285\n",
      "R2 score correspond to random state  41 is 0.3690268918604932\n",
      "R2 score correspond to random state  41 is 0.4908093581614822\n",
      "R2 score correspond to random state  42 is 0.3372308584671645\n",
      "R2 score correspond to random state  42 is 0.3780670541110356\n",
      "R2 score correspond to random state  42 is 0.45498383912422125\n",
      "R2 score correspond to random state  42 is 0.4121039350500769\n",
      "R2 score correspond to random state  42 is 0.5552293081383404\n",
      "R2 score correspond to random state  43 is 0.37158196137875155\n",
      "R2 score correspond to random state  43 is 0.4319064559854253\n",
      "R2 score correspond to random state  43 is 0.565503992986111\n",
      "R2 score correspond to random state  43 is 0.49753036053782806\n",
      "R2 score correspond to random state  43 is 0.6318078659831223\n",
      "R2 score correspond to random state  44 is 0.3660280425763033\n",
      "R2 score correspond to random state  44 is 0.3884069044678127\n",
      "R2 score correspond to random state  44 is 0.5447069105702471\n",
      "R2 score correspond to random state  44 is 0.47477183496594577\n",
      "R2 score correspond to random state  44 is 0.5694189029760834\n",
      "R2 score correspond to random state  45 is 0.31055650585092376\n",
      "R2 score correspond to random state  45 is 0.3813648503798647\n",
      "R2 score correspond to random state  45 is 0.5043769360471935\n",
      "R2 score correspond to random state  45 is 0.40605581368828103\n",
      "R2 score correspond to random state  45 is 0.5297342595282655\n",
      "R2 score correspond to random state  46 is 0.3701602552082357\n",
      "R2 score correspond to random state  46 is 0.39970886470121014\n",
      "R2 score correspond to random state  46 is 0.4723190408546132\n",
      "R2 score correspond to random state  46 is 0.38426838732333113\n",
      "R2 score correspond to random state  46 is 0.5752342072424445\n",
      "R2 score correspond to random state  47 is 0.3993879042088019\n",
      "R2 score correspond to random state  47 is 0.3839709550492789\n",
      "R2 score correspond to random state  47 is 0.5228523232196466\n",
      "R2 score correspond to random state  47 is 0.45065163558845034\n",
      "R2 score correspond to random state  47 is 0.5960396946636866\n",
      "R2 score correspond to random state  48 is 0.35232132678639105\n",
      "R2 score correspond to random state  48 is 0.37496838011657174\n",
      "R2 score correspond to random state  48 is 0.5267337315403331\n",
      "R2 score correspond to random state  48 is 0.4274773228630523\n",
      "R2 score correspond to random state  48 is 0.5581420162461266\n",
      "R2 score correspond to random state  49 is 0.3054671028334891\n",
      "R2 score correspond to random state  49 is 0.4278617621464289\n",
      "R2 score correspond to random state  49 is 0.5619873467634796\n",
      "R2 score correspond to random state  49 is 0.4847661219230175\n",
      "R2 score correspond to random state  49 is 0.6142241781984148\n",
      "R2 score correspond to random state  50 is 0.3051128434984419\n",
      "R2 score correspond to random state  50 is 0.41987393975468557\n",
      "R2 score correspond to random state  50 is 0.5819591274888586\n",
      "R2 score correspond to random state  50 is 0.5408280948389643\n",
      "R2 score correspond to random state  50 is 0.5916604289155409\n",
      "R2 score correspond to random state  51 is 0.43613362355883134\n",
      "R2 score correspond to random state  51 is 0.41683534301960945\n",
      "R2 score correspond to random state  51 is 0.5095615628101066\n",
      "R2 score correspond to random state  51 is 0.4689579123108987\n",
      "R2 score correspond to random state  51 is 0.5999260451836723\n",
      "R2 score correspond to random state  52 is 0.4071364629283596\n",
      "R2 score correspond to random state  52 is 0.45664034651278473\n",
      "R2 score correspond to random state  52 is 0.5467740213280531\n",
      "R2 score correspond to random state  52 is 0.47929717575165154\n",
      "R2 score correspond to random state  52 is 0.6310736642704846\n",
      "R2 score correspond to random state  53 is 0.41642928179332184\n",
      "R2 score correspond to random state  53 is 0.4350829175028007\n",
      "R2 score correspond to random state  53 is 0.5586758407259795\n",
      "R2 score correspond to random state  53 is 0.5047717913066784\n"
     ]
    },
    {
     "name": "stdout",
     "output_type": "stream",
     "text": [
      "R2 score correspond to random state  53 is 0.628128830171532\n",
      "R2 score correspond to random state  54 is 0.3681385952899253\n",
      "R2 score correspond to random state  54 is 0.42507605214889066\n",
      "R2 score correspond to random state  54 is 0.5570325257528024\n",
      "R2 score correspond to random state  54 is 0.47073220826071527\n",
      "R2 score correspond to random state  54 is 0.6009510560261933\n",
      "R2 score correspond to random state  55 is 0.38893133534670843\n",
      "R2 score correspond to random state  55 is 0.4421455466277906\n",
      "R2 score correspond to random state  55 is 0.523128962137376\n",
      "R2 score correspond to random state  55 is 0.4327783591480736\n",
      "R2 score correspond to random state  55 is 0.5953802401556375\n",
      "R2 score correspond to random state  56 is 0.24404825205848157\n",
      "R2 score correspond to random state  56 is 0.3215464373460798\n",
      "R2 score correspond to random state  56 is 0.5013803798157281\n",
      "R2 score correspond to random state  56 is 0.4221679398648497\n",
      "R2 score correspond to random state  56 is 0.5650669946006577\n",
      "R2 score correspond to random state  57 is 0.32627747321251555\n",
      "R2 score correspond to random state  57 is 0.36388735240613834\n",
      "R2 score correspond to random state  57 is 0.5222700195019991\n",
      "R2 score correspond to random state  57 is 0.41902474459462413\n",
      "R2 score correspond to random state  57 is 0.5573506832265755\n",
      "R2 score correspond to random state  58 is 0.43503351715983973\n",
      "R2 score correspond to random state  58 is 0.4064176395303706\n",
      "R2 score correspond to random state  58 is 0.5684872507942327\n",
      "R2 score correspond to random state  58 is 0.47084591559424116\n",
      "R2 score correspond to random state  58 is 0.607033984248315\n",
      "R2 score correspond to random state  59 is 0.40704883723997265\n",
      "R2 score correspond to random state  59 is 0.4802347261212835\n",
      "R2 score correspond to random state  59 is 0.5708723234711551\n",
      "R2 score correspond to random state  59 is 0.5036810561453021\n",
      "R2 score correspond to random state  59 is 0.6332881931419436\n",
      "R2 score correspond to random state  60 is 0.30764699145443086\n",
      "R2 score correspond to random state  60 is 0.3044621626276548\n",
      "R2 score correspond to random state  60 is 0.5170989912355644\n",
      "R2 score correspond to random state  60 is 0.4043505400055424\n",
      "R2 score correspond to random state  60 is 0.5353200329341189\n",
      "R2 score correspond to random state  61 is 0.24758118110256877\n",
      "R2 score correspond to random state  61 is 0.4104393951113494\n",
      "R2 score correspond to random state  61 is 0.5239283595996398\n",
      "R2 score correspond to random state  61 is 0.4543753670188493\n",
      "R2 score correspond to random state  61 is 0.550121493089296\n",
      "R2 score correspond to random state  62 is 0.3300793956430105\n",
      "R2 score correspond to random state  62 is 0.4258231788753001\n",
      "R2 score correspond to random state  62 is 0.5459395417579684\n",
      "R2 score correspond to random state  62 is 0.4428371811071493\n",
      "R2 score correspond to random state  62 is 0.6015026349572661\n",
      "R2 score correspond to random state  63 is 0.4646908695218457\n",
      "R2 score correspond to random state  63 is 0.443127982045583\n",
      "R2 score correspond to random state  63 is 0.5380035329715724\n",
      "R2 score correspond to random state  63 is 0.47961959505011165\n",
      "R2 score correspond to random state  63 is 0.6331539205502232\n",
      "R2 score correspond to random state  64 is 0.37653792536607955\n",
      "R2 score correspond to random state  64 is 0.42391631325235846\n",
      "R2 score correspond to random state  64 is 0.49375504136025683\n",
      "R2 score correspond to random state  64 is 0.47227971527938206\n",
      "R2 score correspond to random state  64 is 0.5658431514731714\n",
      "R2 score correspond to random state  65 is 0.30207083860739636\n",
      "R2 score correspond to random state  65 is 0.41425583478573447\n",
      "R2 score correspond to random state  65 is 0.5001042531530582\n",
      "R2 score correspond to random state  65 is 0.44986487625576\n",
      "R2 score correspond to random state  65 is 0.5755797670954272\n",
      "R2 score correspond to random state  66 is 0.427717602151209\n",
      "R2 score correspond to random state  66 is 0.399440743101514\n",
      "R2 score correspond to random state  66 is 0.5475698383849191\n",
      "R2 score correspond to random state  66 is 0.4463812564289137\n",
      "R2 score correspond to random state  66 is 0.5976964788441488\n",
      "R2 score correspond to random state  67 is 0.3672976347773561\n",
      "R2 score correspond to random state  67 is 0.3748931313247562\n",
      "R2 score correspond to random state  67 is 0.4697519838568093\n",
      "R2 score correspond to random state  67 is 0.41898744374026464\n",
      "R2 score correspond to random state  67 is 0.5480998804938314\n",
      "R2 score correspond to random state  68 is 0.4056410653013337\n",
      "R2 score correspond to random state  68 is 0.4708700251627186\n",
      "R2 score correspond to random state  68 is 0.5676667193578622\n",
      "R2 score correspond to random state  68 is 0.500796193681853\n",
      "R2 score correspond to random state  68 is 0.6199517072152474\n",
      "R2 score correspond to random state  69 is 0.37364425393507894\n",
      "R2 score correspond to random state  69 is 0.4856751697236248\n",
      "R2 score correspond to random state  69 is 0.5381477342926657\n",
      "R2 score correspond to random state  69 is 0.49055170283105165\n",
      "R2 score correspond to random state  69 is 0.6079074278367074\n",
      "R2 score correspond to random state  70 is 0.35951715148112917\n",
      "R2 score correspond to random state  70 is 0.4486317530175411\n",
      "R2 score correspond to random state  70 is 0.5565152789136703\n",
      "R2 score correspond to random state  70 is 0.4724810020607173\n",
      "R2 score correspond to random state  70 is 0.6264692081639869\n",
      "R2 score correspond to random state  71 is 0.37378910775051444\n",
      "R2 score correspond to random state  71 is 0.42366561360081745\n",
      "R2 score correspond to random state  71 is 0.48691529490771257\n",
      "R2 score correspond to random state  71 is 0.43365187377867065\n",
      "R2 score correspond to random state  71 is 0.581126473942869\n",
      "R2 score correspond to random state  72 is 0.369334641160427\n",
      "R2 score correspond to random state  72 is 0.343326292088467\n",
      "R2 score correspond to random state  72 is 0.5072624074390721\n",
      "R2 score correspond to random state  72 is 0.4234671121506398\n",
      "R2 score correspond to random state  72 is 0.5502902079848526\n",
      "R2 score correspond to random state  73 is 0.36879169759719077\n",
      "R2 score correspond to random state  73 is 0.4254802779238184\n",
      "R2 score correspond to random state  73 is 0.5400949415120107\n",
      "R2 score correspond to random state  73 is 0.46384493701658047\n",
      "R2 score correspond to random state  73 is 0.622589401492615\n",
      "R2 score correspond to random state  74 is 0.35733674066904697\n",
      "R2 score correspond to random state  74 is 0.3912211116662023\n",
      "R2 score correspond to random state  74 is 0.4998079218716108\n",
      "R2 score correspond to random state  74 is 0.43298059556551605\n",
      "R2 score correspond to random state  74 is 0.5957834577475122\n",
      "R2 score correspond to random state  75 is 0.2589086955150911\n",
      "R2 score correspond to random state  75 is 0.4094672415901629\n",
      "R2 score correspond to random state  75 is 0.5221178165365636\n",
      "R2 score correspond to random state  75 is 0.4371424708016832\n",
      "R2 score correspond to random state  75 is 0.6014897674330593\n",
      "R2 score correspond to random state  76 is 0.31673773845387965\n",
      "R2 score correspond to random state  76 is 0.3397513971365852\n",
      "R2 score correspond to random state  76 is 0.43442385253613136\n",
      "R2 score correspond to random state  76 is 0.35413841232859433\n",
      "R2 score correspond to random state  76 is 0.5211708976240724\n",
      "R2 score correspond to random state  77 is 0.3761920672659512\n",
      "R2 score correspond to random state  77 is 0.40911895028650325\n",
      "R2 score correspond to random state  77 is 0.5277573455000377\n",
      "R2 score correspond to random state  77 is 0.46533973772022696\n",
      "R2 score correspond to random state  77 is 0.5740887975346192\n",
      "R2 score correspond to random state  78 is 0.34726256845038417\n",
      "R2 score correspond to random state  78 is 0.4013162231146784\n",
      "R2 score correspond to random state  78 is 0.5559842807573644\n",
      "R2 score correspond to random state  78 is 0.4822550642084401\n",
      "R2 score correspond to random state  78 is 0.5745212480584847\n",
      "R2 score correspond to random state  79 is 0.3451839270683347\n",
      "R2 score correspond to random state  79 is 0.38905252195263185\n",
      "R2 score correspond to random state  79 is 0.5263951544502261\n",
      "R2 score correspond to random state  79 is 0.4550913731841506\n",
      "R2 score correspond to random state  79 is 0.5864142380446791\n",
      "R2 score correspond to random state  80 is 0.41166926458675934\n",
      "R2 score correspond to random state  80 is 0.40357753024012\n",
      "R2 score correspond to random state  80 is 0.5320391886990312\n",
      "R2 score correspond to random state  80 is 0.49698660015872853\n",
      "R2 score correspond to random state  80 is 0.6078065032104444\n",
      "R2 score correspond to random state  81 is 0.43504796828846704\n",
      "R2 score correspond to random state  81 is 0.464424290592495\n",
      "R2 score correspond to random state  81 is 0.5119480363142176\n",
      "R2 score correspond to random state  81 is 0.490395329026291\n"
     ]
    },
    {
     "name": "stdout",
     "output_type": "stream",
     "text": [
      "R2 score correspond to random state  81 is 0.5754193124132159\n",
      "R2 score correspond to random state  82 is 0.46687493636252897\n",
      "R2 score correspond to random state  82 is 0.40513809315003735\n",
      "R2 score correspond to random state  82 is 0.5274925268161579\n",
      "R2 score correspond to random state  82 is 0.45389772851689225\n",
      "R2 score correspond to random state  82 is 0.6338539496923943\n",
      "R2 score correspond to random state  83 is 0.3392478365362137\n",
      "R2 score correspond to random state  83 is 0.4054889744590171\n",
      "R2 score correspond to random state  83 is 0.5096387640833959\n",
      "R2 score correspond to random state  83 is 0.45572165491590777\n",
      "R2 score correspond to random state  83 is 0.5612485463850296\n",
      "R2 score correspond to random state  84 is 0.2967357513888431\n",
      "R2 score correspond to random state  84 is 0.3807117680775397\n",
      "R2 score correspond to random state  84 is 0.5392302999641616\n",
      "R2 score correspond to random state  84 is 0.423325084075999\n",
      "R2 score correspond to random state  84 is 0.5944558595239796\n",
      "R2 score correspond to random state  85 is 0.5219855581249945\n",
      "R2 score correspond to random state  85 is 0.4433766449630614\n",
      "R2 score correspond to random state  85 is 0.5304427388639201\n",
      "R2 score correspond to random state  85 is 0.4530617842736262\n",
      "R2 score correspond to random state  85 is 0.5961552643434527\n",
      "R2 score correspond to random state  86 is 0.3437396242112589\n",
      "R2 score correspond to random state  86 is 0.40493669788660824\n",
      "R2 score correspond to random state  86 is 0.5339273408465419\n",
      "R2 score correspond to random state  86 is 0.4683575029526378\n",
      "R2 score correspond to random state  86 is 0.5651591514174659\n",
      "R2 score correspond to random state  87 is 0.3635926259615375\n",
      "R2 score correspond to random state  87 is 0.3630911162264132\n",
      "R2 score correspond to random state  87 is 0.49725312623240325\n",
      "R2 score correspond to random state  87 is 0.4581740427621295\n",
      "R2 score correspond to random state  87 is 0.5745570785748794\n",
      "R2 score correspond to random state  88 is 0.3319130046377714\n",
      "R2 score correspond to random state  88 is 0.2990475832498005\n",
      "R2 score correspond to random state  88 is 0.4981778165027292\n",
      "R2 score correspond to random state  88 is 0.4371255959949769\n",
      "R2 score correspond to random state  88 is 0.5583535517342035\n",
      "R2 score correspond to random state  89 is 0.23157159996513355\n",
      "R2 score correspond to random state  89 is 0.3678327594626277\n",
      "R2 score correspond to random state  89 is 0.4539118542265914\n",
      "R2 score correspond to random state  89 is 0.3570455318947967\n",
      "R2 score correspond to random state  89 is 0.5564996928574824\n",
      "R2 score correspond to random state  90 is 0.41906226222951914\n",
      "R2 score correspond to random state  90 is 0.4369587192747879\n",
      "R2 score correspond to random state  90 is 0.5728861314087066\n",
      "R2 score correspond to random state  90 is 0.5203724538633285\n",
      "R2 score correspond to random state  90 is 0.6028999942020223\n",
      "R2 score correspond to random state  91 is 0.2960518972977262\n",
      "R2 score correspond to random state  91 is 0.5096970602732127\n",
      "R2 score correspond to random state  91 is 0.5808437427135543\n",
      "R2 score correspond to random state  91 is 0.5176864252338815\n",
      "R2 score correspond to random state  91 is 0.6147479771224231\n",
      "R2 score correspond to random state  92 is 0.38179829931323117\n",
      "R2 score correspond to random state  92 is 0.44414152339723556\n",
      "R2 score correspond to random state  92 is 0.528770779639835\n",
      "R2 score correspond to random state  92 is 0.47105068128570915\n",
      "R2 score correspond to random state  92 is 0.6036884591977811\n",
      "R2 score correspond to random state  93 is 0.3903338072506545\n",
      "R2 score correspond to random state  93 is 0.47430370149373435\n",
      "R2 score correspond to random state  93 is 0.5770973700192334\n",
      "R2 score correspond to random state  93 is 0.5034256218575627\n",
      "R2 score correspond to random state  93 is 0.6486910415527891\n",
      "R2 score correspond to random state  94 is 0.49743054140121556\n",
      "R2 score correspond to random state  94 is 0.40989304326800635\n",
      "R2 score correspond to random state  94 is 0.5076777024852182\n",
      "R2 score correspond to random state  94 is 0.4467813152861869\n",
      "R2 score correspond to random state  94 is 0.6193946112115429\n",
      "R2 score correspond to random state  95 is 0.424691266814468\n",
      "R2 score correspond to random state  95 is 0.37522354991456497\n",
      "R2 score correspond to random state  95 is 0.5559417643009733\n",
      "R2 score correspond to random state  95 is 0.48414289309488423\n",
      "R2 score correspond to random state  95 is 0.6138519332766135\n",
      "R2 score correspond to random state  96 is 0.3571413949875808\n",
      "R2 score correspond to random state  96 is 0.35383520670228474\n",
      "R2 score correspond to random state  96 is 0.5131471259855251\n",
      "R2 score correspond to random state  96 is 0.4266598755667619\n",
      "R2 score correspond to random state  96 is 0.5349374625558625\n",
      "R2 score correspond to random state  97 is 0.2848982726390563\n",
      "R2 score correspond to random state  97 is 0.33574856654768526\n",
      "R2 score correspond to random state  97 is 0.49433340540855664\n",
      "R2 score correspond to random state  97 is 0.4087129215622549\n",
      "R2 score correspond to random state  97 is 0.5086423358952361\n",
      "R2 score correspond to random state  98 is 0.4826401386210283\n",
      "R2 score correspond to random state  98 is 0.4312999458704262\n",
      "R2 score correspond to random state  98 is 0.545218194480581\n",
      "R2 score correspond to random state  98 is 0.4799572974887911\n",
      "R2 score correspond to random state  98 is 0.6466400061233366\n",
      "R2 score correspond to random state  99 is 0.28673790072312766\n",
      "R2 score correspond to random state  99 is 0.46321488367871655\n",
      "R2 score correspond to random state  99 is 0.5438414272979097\n",
      "R2 score correspond to random state  99 is 0.46265949669416506\n",
      "R2 score correspond to random state  99 is 0.6164319760271408\n",
      "R2 score correspond to random state  100 is 0.3924486968368608\n",
      "R2 score correspond to random state  100 is 0.4190013093002559\n",
      "R2 score correspond to random state  100 is 0.5237430217419086\n",
      "R2 score correspond to random state  100 is 0.4297455251699417\n",
      "R2 score correspond to random state  100 is 0.5947728439822244\n",
      "R2 score correspond to random state  101 is 0.4561026608323472\n",
      "R2 score correspond to random state  101 is 0.43709546864482196\n",
      "R2 score correspond to random state  101 is 0.53273004507397\n",
      "R2 score correspond to random state  101 is 0.45857531236782456\n",
      "R2 score correspond to random state  101 is 0.6020563111321237\n",
      "R2 score correspond to random state  102 is 0.4048324384690909\n",
      "R2 score correspond to random state  102 is 0.36847181422275377\n",
      "R2 score correspond to random state  102 is 0.5218626736120053\n",
      "R2 score correspond to random state  102 is 0.45975772474859267\n",
      "R2 score correspond to random state  102 is 0.6071735212382638\n",
      "R2 score correspond to random state  103 is 0.42114975577170444\n",
      "R2 score correspond to random state  103 is 0.43698502396936845\n",
      "R2 score correspond to random state  103 is 0.5117940520391779\n",
      "R2 score correspond to random state  103 is 0.43219477959562735\n",
      "R2 score correspond to random state  103 is 0.6107551105082889\n",
      "R2 score correspond to random state  104 is 0.3285462890269818\n",
      "R2 score correspond to random state  104 is 0.4303898537719264\n",
      "R2 score correspond to random state  104 is 0.4818432597019753\n",
      "R2 score correspond to random state  104 is 0.41354121180329817\n",
      "R2 score correspond to random state  104 is 0.5507042984710194\n",
      "R2 score correspond to random state  105 is 0.4103596057259359\n",
      "R2 score correspond to random state  105 is 0.4289587126141726\n",
      "R2 score correspond to random state  105 is 0.564876494173708\n",
      "R2 score correspond to random state  105 is 0.4814686918454991\n",
      "R2 score correspond to random state  105 is 0.6262802963607449\n",
      "R2 score correspond to random state  106 is 0.2012340960812583\n",
      "R2 score correspond to random state  106 is 0.2994520565968294\n",
      "R2 score correspond to random state  106 is 0.5114266911508358\n",
      "R2 score correspond to random state  106 is 0.4310711247104463\n",
      "R2 score correspond to random state  106 is 0.5759146562762383\n",
      "R2 score correspond to random state  107 is 0.37744899760778927\n",
      "R2 score correspond to random state  107 is 0.356189786955328\n",
      "R2 score correspond to random state  107 is 0.5153332154477515\n",
      "R2 score correspond to random state  107 is 0.4461197650568236\n",
      "R2 score correspond to random state  107 is 0.6018097784782324\n",
      "R2 score correspond to random state  108 is 0.3871806512255156\n",
      "R2 score correspond to random state  108 is 0.41237417900612516\n"
     ]
    },
    {
     "name": "stdout",
     "output_type": "stream",
     "text": [
      "R2 score correspond to random state  108 is 0.5706232119725074\n",
      "R2 score correspond to random state  108 is 0.5030110932685209\n",
      "R2 score correspond to random state  108 is 0.6134543335318601\n",
      "R2 score correspond to random state  109 is 0.39052797682699125\n",
      "R2 score correspond to random state  109 is 0.4234159409954177\n",
      "R2 score correspond to random state  109 is 0.553519042036887\n",
      "R2 score correspond to random state  109 is 0.47257403726938796\n",
      "R2 score correspond to random state  109 is 0.6127790877347565\n",
      "R2 score correspond to random state  110 is 0.4139995703152205\n",
      "R2 score correspond to random state  110 is 0.42417216562275717\n",
      "R2 score correspond to random state  110 is 0.5352575931216383\n",
      "R2 score correspond to random state  110 is 0.46957540368671224\n",
      "R2 score correspond to random state  110 is 0.5854013439157879\n",
      "R2 score correspond to random state  111 is 0.37985138798707463\n",
      "R2 score correspond to random state  111 is 0.40076491392044034\n",
      "R2 score correspond to random state  111 is 0.5214817854487236\n",
      "R2 score correspond to random state  111 is 0.418222843364377\n",
      "R2 score correspond to random state  111 is 0.5651122389558519\n",
      "R2 score correspond to random state  112 is 0.3607193931924968\n",
      "R2 score correspond to random state  112 is 0.45767177413923665\n",
      "R2 score correspond to random state  112 is 0.5267343468435222\n",
      "R2 score correspond to random state  112 is 0.4496232465053902\n",
      "R2 score correspond to random state  112 is 0.5773266832739476\n",
      "R2 score correspond to random state  113 is 0.4379684802117676\n",
      "R2 score correspond to random state  113 is 0.39005474670720897\n",
      "R2 score correspond to random state  113 is 0.5292983662811136\n",
      "R2 score correspond to random state  113 is 0.42824656890527846\n",
      "R2 score correspond to random state  113 is 0.5803996368125128\n",
      "R2 score correspond to random state  114 is 0.47663559683564394\n",
      "R2 score correspond to random state  114 is 0.35248639899772694\n",
      "R2 score correspond to random state  114 is 0.526307216540397\n",
      "R2 score correspond to random state  114 is 0.4445758262154116\n",
      "R2 score correspond to random state  114 is 0.5743793483304784\n",
      "R2 score correspond to random state  115 is 0.3790034180226314\n",
      "R2 score correspond to random state  115 is 0.3881016814586563\n",
      "R2 score correspond to random state  115 is 0.49118196927368873\n",
      "R2 score correspond to random state  115 is 0.4304743423532179\n",
      "R2 score correspond to random state  115 is 0.57927753801832\n",
      "R2 score correspond to random state  116 is 0.3160648345899624\n",
      "R2 score correspond to random state  116 is 0.41693194085527696\n",
      "R2 score correspond to random state  116 is 0.5472410366345395\n",
      "R2 score correspond to random state  116 is 0.48147700037089336\n",
      "R2 score correspond to random state  116 is 0.6022303596471748\n",
      "R2 score correspond to random state  117 is 0.4008719438164452\n",
      "R2 score correspond to random state  117 is 0.4826991595301058\n",
      "R2 score correspond to random state  117 is 0.5496247700942553\n",
      "R2 score correspond to random state  117 is 0.4849139444001678\n",
      "R2 score correspond to random state  117 is 0.6151925626209422\n",
      "R2 score correspond to random state  118 is 0.3730207806369701\n",
      "R2 score correspond to random state  118 is 0.43891138984272404\n",
      "R2 score correspond to random state  118 is 0.5632252559614059\n",
      "R2 score correspond to random state  118 is 0.49017109816081117\n",
      "R2 score correspond to random state  118 is 0.5876181069410205\n",
      "R2 score correspond to random state  119 is 0.4145451896795642\n",
      "R2 score correspond to random state  119 is 0.3810026919407672\n",
      "R2 score correspond to random state  119 is 0.5313453744516892\n",
      "R2 score correspond to random state  119 is 0.4326548302870764\n",
      "R2 score correspond to random state  119 is 0.5699344111710571\n",
      "R2 score correspond to random state  120 is 0.3682592656311148\n",
      "R2 score correspond to random state  120 is 0.4030132851131105\n",
      "R2 score correspond to random state  120 is 0.5212144654842406\n",
      "R2 score correspond to random state  120 is 0.4554071841231252\n",
      "R2 score correspond to random state  120 is 0.5927895233210021\n",
      "R2 score correspond to random state  121 is 0.44968282076654065\n",
      "R2 score correspond to random state  121 is 0.4685117653520414\n",
      "R2 score correspond to random state  121 is 0.6017673671005597\n",
      "R2 score correspond to random state  121 is 0.5452712116769532\n",
      "R2 score correspond to random state  121 is 0.6397032737278002\n",
      "R2 score correspond to random state  122 is 0.4326324800492293\n",
      "R2 score correspond to random state  122 is 0.47456746937056105\n",
      "R2 score correspond to random state  122 is 0.5565982029364923\n",
      "R2 score correspond to random state  122 is 0.4930677595974736\n",
      "R2 score correspond to random state  122 is 0.6220820550405368\n",
      "R2 score correspond to random state  123 is 0.29552918678679163\n",
      "R2 score correspond to random state  123 is 0.4793253604889064\n",
      "R2 score correspond to random state  123 is 0.5606866223205531\n",
      "R2 score correspond to random state  123 is 0.5174744291506252\n",
      "R2 score correspond to random state  123 is 0.6028852822131019\n",
      "R2 score correspond to random state  124 is 0.34390651701257446\n",
      "R2 score correspond to random state  124 is 0.4396985258469379\n",
      "R2 score correspond to random state  124 is 0.5378559410403732\n",
      "R2 score correspond to random state  124 is 0.47978542012394365\n",
      "R2 score correspond to random state  124 is 0.5959725781162865\n",
      "R2 score correspond to random state  125 is 0.3042921950456243\n",
      "R2 score correspond to random state  125 is 0.3823409504854913\n",
      "R2 score correspond to random state  125 is 0.5187601827732373\n",
      "R2 score correspond to random state  125 is 0.42823662901868165\n",
      "R2 score correspond to random state  125 is 0.5416508687493253\n",
      "R2 score correspond to random state  126 is 0.2909792357133163\n",
      "R2 score correspond to random state  126 is 0.4444526788136324\n",
      "R2 score correspond to random state  126 is 0.5317684650353445\n",
      "R2 score correspond to random state  126 is 0.4450481167774746\n",
      "R2 score correspond to random state  126 is 0.5783378240258481\n",
      "R2 score correspond to random state  127 is 0.382488040650553\n",
      "R2 score correspond to random state  127 is 0.4381608990242549\n",
      "R2 score correspond to random state  127 is 0.5414547415955782\n",
      "R2 score correspond to random state  127 is 0.46783343164185665\n",
      "R2 score correspond to random state  127 is 0.6258168313502137\n",
      "R2 score correspond to random state  128 is 0.37814180269058295\n",
      "R2 score correspond to random state  128 is 0.47387518976499365\n",
      "R2 score correspond to random state  128 is 0.5652651215660622\n",
      "R2 score correspond to random state  128 is 0.49541708188427924\n",
      "R2 score correspond to random state  128 is 0.6140713584363096\n",
      "R2 score correspond to random state  129 is 0.23389784449499973\n",
      "R2 score correspond to random state  129 is 0.39178437869982186\n",
      "R2 score correspond to random state  129 is 0.4880684480604883\n",
      "R2 score correspond to random state  129 is 0.4042119385057532\n",
      "R2 score correspond to random state  129 is 0.5731793101235356\n",
      "R2 score correspond to random state  130 is 0.46258353128022556\n",
      "R2 score correspond to random state  130 is 0.39301743264673006\n",
      "R2 score correspond to random state  130 is 0.5724222308442314\n",
      "R2 score correspond to random state  130 is 0.5021270036296985\n",
      "R2 score correspond to random state  130 is 0.6301539789206971\n",
      "R2 score correspond to random state  131 is 0.2953653785291699\n",
      "R2 score correspond to random state  131 is 0.3725799594458745\n",
      "R2 score correspond to random state  131 is 0.484919086222105\n",
      "R2 score correspond to random state  131 is 0.42196615456375064\n",
      "R2 score correspond to random state  131 is 0.5456824028380491\n",
      "R2 score correspond to random state  132 is 0.3868408049433476\n",
      "R2 score correspond to random state  132 is 0.47308114645748056\n",
      "R2 score correspond to random state  132 is 0.5358558233813737\n",
      "R2 score correspond to random state  132 is 0.4858834704617593\n",
      "R2 score correspond to random state  132 is 0.5837634091751729\n",
      "R2 score correspond to random state  133 is 0.4244860220144041\n",
      "R2 score correspond to random state  133 is 0.4430198506426344\n",
      "R2 score correspond to random state  133 is 0.540198573270785\n",
      "R2 score correspond to random state  133 is 0.4583444173517298\n",
      "R2 score correspond to random state  133 is 0.6252630446296916\n",
      "R2 score correspond to random state  134 is 0.2784458760540791\n",
      "R2 score correspond to random state  134 is 0.4622387269970425\n",
      "R2 score correspond to random state  134 is 0.5342197900542125\n",
      "R2 score correspond to random state  134 is 0.4532902228080744\n",
      "R2 score correspond to random state  134 is 0.581552093701154\n",
      "R2 score correspond to random state  135 is 0.4717858420753124\n"
     ]
    },
    {
     "name": "stdout",
     "output_type": "stream",
     "text": [
      "R2 score correspond to random state  135 is 0.5060942696360269\n",
      "R2 score correspond to random state  135 is 0.581584021319288\n",
      "R2 score correspond to random state  135 is 0.5307302023616431\n",
      "R2 score correspond to random state  135 is 0.6389635596931519\n",
      "R2 score correspond to random state  136 is 0.22604128002202095\n",
      "R2 score correspond to random state  136 is 0.40873433457877273\n",
      "R2 score correspond to random state  136 is 0.5104528507272619\n",
      "R2 score correspond to random state  136 is 0.45265587167564225\n",
      "R2 score correspond to random state  136 is 0.5700077421085764\n",
      "R2 score correspond to random state  137 is 0.2898309903798859\n",
      "R2 score correspond to random state  137 is 0.4474955582476722\n",
      "R2 score correspond to random state  137 is 0.4825911796003357\n",
      "R2 score correspond to random state  137 is 0.40754696319714456\n",
      "R2 score correspond to random state  137 is 0.5514106578684892\n",
      "R2 score correspond to random state  138 is 0.30207907427149916\n",
      "R2 score correspond to random state  138 is 0.35892619809377213\n",
      "R2 score correspond to random state  138 is 0.5683203956192748\n",
      "R2 score correspond to random state  138 is 0.4630323300297686\n",
      "R2 score correspond to random state  138 is 0.5917015683266631\n",
      "R2 score correspond to random state  139 is 0.3848178564173925\n",
      "R2 score correspond to random state  139 is 0.4366116194577634\n",
      "R2 score correspond to random state  139 is 0.538608369819194\n",
      "R2 score correspond to random state  139 is 0.4786502404137708\n",
      "R2 score correspond to random state  139 is 0.6141372643668968\n",
      "R2 score correspond to random state  140 is 0.40435555256052436\n",
      "R2 score correspond to random state  140 is 0.41541651015146586\n",
      "R2 score correspond to random state  140 is 0.5251694682056995\n",
      "R2 score correspond to random state  140 is 0.4477932997128753\n",
      "R2 score correspond to random state  140 is 0.6029239696366581\n",
      "R2 score correspond to random state  141 is 0.5024001579545962\n",
      "R2 score correspond to random state  141 is 0.40908785828546557\n",
      "R2 score correspond to random state  141 is 0.5462429919128323\n",
      "R2 score correspond to random state  141 is 0.4742532968771813\n",
      "R2 score correspond to random state  141 is 0.5909208295047949\n",
      "R2 score correspond to random state  142 is 0.3905617311589351\n",
      "R2 score correspond to random state  142 is 0.4111391504392399\n",
      "R2 score correspond to random state  142 is 0.5253101783363299\n",
      "R2 score correspond to random state  142 is 0.42575869144082246\n",
      "R2 score correspond to random state  142 is 0.5673631726967194\n",
      "R2 score correspond to random state  143 is 0.3846195579619536\n",
      "R2 score correspond to random state  143 is 0.3601741775667525\n",
      "R2 score correspond to random state  143 is 0.5282564652630103\n",
      "R2 score correspond to random state  143 is 0.4149635759541672\n",
      "R2 score correspond to random state  143 is 0.5871785341617053\n",
      "R2 score correspond to random state  144 is 0.4806898516602034\n",
      "R2 score correspond to random state  144 is 0.5018355095866049\n",
      "R2 score correspond to random state  144 is 0.5735509384121232\n",
      "R2 score correspond to random state  144 is 0.49692703968487195\n",
      "R2 score correspond to random state  144 is 0.6612616530491222\n",
      "R2 score correspond to random state  145 is 0.3133483216593479\n",
      "R2 score correspond to random state  145 is 0.4788360343347803\n",
      "R2 score correspond to random state  145 is 0.5528034302685975\n",
      "R2 score correspond to random state  145 is 0.49970638360669195\n",
      "R2 score correspond to random state  145 is 0.6205772049671661\n",
      "R2 score correspond to random state  146 is 0.46613437459008367\n",
      "R2 score correspond to random state  146 is 0.4247276374126635\n",
      "R2 score correspond to random state  146 is 0.5938484508044863\n",
      "R2 score correspond to random state  146 is 0.5079090848688985\n",
      "R2 score correspond to random state  146 is 0.6344128430060907\n",
      "R2 score correspond to random state  147 is 0.33753167356797864\n",
      "R2 score correspond to random state  147 is 0.35765985133737255\n",
      "R2 score correspond to random state  147 is 0.49928861908956135\n",
      "R2 score correspond to random state  147 is 0.42860179372806373\n",
      "R2 score correspond to random state  147 is 0.5482338791974006\n",
      "R2 score correspond to random state  148 is 0.4500081662480958\n",
      "R2 score correspond to random state  148 is 0.42397595287113465\n",
      "R2 score correspond to random state  148 is 0.552568528204556\n",
      "R2 score correspond to random state  148 is 0.4541510507849841\n",
      "R2 score correspond to random state  148 is 0.6138078857506613\n",
      "R2 score correspond to random state  149 is 0.40305818776634583\n",
      "R2 score correspond to random state  149 is 0.47690865206437627\n",
      "R2 score correspond to random state  149 is 0.5730435690292616\n",
      "R2 score correspond to random state  149 is 0.4855269429706459\n",
      "R2 score correspond to random state  149 is 0.6505138887806068\n",
      "R2 score correspond to random state  150 is 0.38755729323118504\n",
      "R2 score correspond to random state  150 is 0.4666184021929386\n",
      "R2 score correspond to random state  150 is 0.5635657340472062\n",
      "R2 score correspond to random state  150 is 0.53794024257907\n",
      "R2 score correspond to random state  150 is 0.6358855785819844\n",
      "R2 score correspond to random state  151 is 0.3791574582840692\n",
      "R2 score correspond to random state  151 is 0.4177437639395102\n",
      "R2 score correspond to random state  151 is 0.5610851508566632\n",
      "R2 score correspond to random state  151 is 0.4847166948950463\n",
      "R2 score correspond to random state  151 is 0.6194061950405336\n",
      "R2 score correspond to random state  152 is 0.34526379494406256\n",
      "R2 score correspond to random state  152 is 0.4276777091801238\n",
      "R2 score correspond to random state  152 is 0.5455305657846482\n",
      "R2 score correspond to random state  152 is 0.4801939460046879\n",
      "R2 score correspond to random state  152 is 0.6162825164798362\n",
      "R2 score correspond to random state  153 is 0.3075325327877467\n",
      "R2 score correspond to random state  153 is 0.4073229427954612\n",
      "R2 score correspond to random state  153 is 0.5515182180239127\n",
      "R2 score correspond to random state  153 is 0.46915373271807803\n",
      "R2 score correspond to random state  153 is 0.6324905317357128\n",
      "R2 score correspond to random state  154 is 0.30247446952203416\n",
      "R2 score correspond to random state  154 is 0.36358113084011023\n",
      "R2 score correspond to random state  154 is 0.46578424973688437\n",
      "R2 score correspond to random state  154 is 0.4015536628556041\n",
      "R2 score correspond to random state  154 is 0.573815981240624\n",
      "R2 score correspond to random state  155 is 0.4244585926052481\n",
      "R2 score correspond to random state  155 is 0.49818765614817684\n",
      "R2 score correspond to random state  155 is 0.5445790836311217\n",
      "R2 score correspond to random state  155 is 0.4746102042600837\n",
      "R2 score correspond to random state  155 is 0.6242446199947581\n",
      "R2 score correspond to random state  156 is 0.28244685115090784\n",
      "R2 score correspond to random state  156 is 0.42348875516293416\n",
      "R2 score correspond to random state  156 is 0.5432504611832777\n",
      "R2 score correspond to random state  156 is 0.4772910064840159\n",
      "R2 score correspond to random state  156 is 0.6276288391680948\n",
      "R2 score correspond to random state  157 is 0.29965797891262\n",
      "R2 score correspond to random state  157 is 0.4255166024119169\n",
      "R2 score correspond to random state  157 is 0.543304279626929\n",
      "R2 score correspond to random state  157 is 0.4588005358865228\n",
      "R2 score correspond to random state  157 is 0.5989993327088182\n",
      "R2 score correspond to random state  158 is 0.2733108128960825\n",
      "R2 score correspond to random state  158 is 0.3086417726931745\n",
      "R2 score correspond to random state  158 is 0.47951457001952\n",
      "R2 score correspond to random state  158 is 0.380916628355483\n",
      "R2 score correspond to random state  158 is 0.5035897086848289\n",
      "R2 score correspond to random state  159 is 0.39373384516140164\n",
      "R2 score correspond to random state  159 is 0.39597300135657343\n",
      "R2 score correspond to random state  159 is 0.5120392492079096\n",
      "R2 score correspond to random state  159 is 0.42184244158639406\n",
      "R2 score correspond to random state  159 is 0.5725077081710603\n",
      "R2 score correspond to random state  160 is 0.48496803029533264\n",
      "R2 score correspond to random state  160 is 0.40199919837190434\n",
      "R2 score correspond to random state  160 is 0.5256393541141112\n",
      "R2 score correspond to random state  160 is 0.46072587012304245\n",
      "R2 score correspond to random state  160 is 0.6143037562586975\n",
      "R2 score correspond to random state  161 is 0.41290087099089645\n",
      "R2 score correspond to random state  161 is 0.477964088489213\n",
      "R2 score correspond to random state  161 is 0.5901375218046114\n",
      "R2 score correspond to random state  161 is 0.5138324828332155\n"
     ]
    },
    {
     "name": "stdout",
     "output_type": "stream",
     "text": [
      "R2 score correspond to random state  161 is 0.6281075170374804\n",
      "R2 score correspond to random state  162 is 0.3870678523634272\n",
      "R2 score correspond to random state  162 is 0.4368557486676403\n",
      "R2 score correspond to random state  162 is 0.5101328378762098\n",
      "R2 score correspond to random state  162 is 0.43842602934469965\n",
      "R2 score correspond to random state  162 is 0.5801837390171838\n",
      "R2 score correspond to random state  163 is 0.3012129568829168\n",
      "R2 score correspond to random state  163 is 0.4387211498317777\n",
      "R2 score correspond to random state  163 is 0.5288654594116973\n",
      "R2 score correspond to random state  163 is 0.4688155626279954\n",
      "R2 score correspond to random state  163 is 0.5800531664499138\n",
      "R2 score correspond to random state  164 is 0.4389126273065531\n",
      "R2 score correspond to random state  164 is 0.444263157999899\n",
      "R2 score correspond to random state  164 is 0.5355173216732174\n",
      "R2 score correspond to random state  164 is 0.4576784611861343\n",
      "R2 score correspond to random state  164 is 0.6237303446159538\n",
      "R2 score correspond to random state  165 is 0.3144081247841056\n",
      "R2 score correspond to random state  165 is 0.4290594369931441\n",
      "R2 score correspond to random state  165 is 0.5304641995204377\n",
      "R2 score correspond to random state  165 is 0.47326097530039046\n",
      "R2 score correspond to random state  165 is 0.5664357292922686\n",
      "R2 score correspond to random state  166 is 0.45630044965033834\n",
      "R2 score correspond to random state  166 is 0.4612963031345261\n",
      "R2 score correspond to random state  166 is 0.529137750039697\n",
      "R2 score correspond to random state  166 is 0.45782206233910006\n",
      "R2 score correspond to random state  166 is 0.6064922458929871\n",
      "R2 score correspond to random state  167 is 0.4860688792019705\n",
      "R2 score correspond to random state  167 is 0.4568341208950909\n",
      "R2 score correspond to random state  167 is 0.5437180717541341\n",
      "R2 score correspond to random state  167 is 0.4907203677822507\n",
      "R2 score correspond to random state  167 is 0.5980872925214442\n",
      "R2 score correspond to random state  168 is 0.40357272515827436\n",
      "R2 score correspond to random state  168 is 0.46186420879707146\n",
      "R2 score correspond to random state  168 is 0.5110123170716848\n",
      "R2 score correspond to random state  168 is 0.4941524546258982\n",
      "R2 score correspond to random state  168 is 0.6216458714301372\n",
      "R2 score correspond to random state  169 is 0.2799571103596413\n",
      "R2 score correspond to random state  169 is 0.38929172751219476\n",
      "R2 score correspond to random state  169 is 0.5455496765906802\n",
      "R2 score correspond to random state  169 is 0.47300641948994515\n",
      "R2 score correspond to random state  169 is 0.5915689212540511\n",
      "R2 score correspond to random state  170 is 0.3072419220064099\n",
      "R2 score correspond to random state  170 is 0.449406230386562\n",
      "R2 score correspond to random state  170 is 0.5422108393779155\n",
      "R2 score correspond to random state  170 is 0.44177865744364175\n",
      "R2 score correspond to random state  170 is 0.6031009899129012\n",
      "R2 score correspond to random state  171 is 0.32703059881530705\n",
      "R2 score correspond to random state  171 is 0.4039183908965168\n",
      "R2 score correspond to random state  171 is 0.5288173695834952\n",
      "R2 score correspond to random state  171 is 0.4494381562379105\n",
      "R2 score correspond to random state  171 is 0.608203144616587\n",
      "R2 score correspond to random state  172 is 0.43773299974486646\n",
      "R2 score correspond to random state  172 is 0.4318478394418618\n",
      "R2 score correspond to random state  172 is 0.548173827224631\n",
      "R2 score correspond to random state  172 is 0.4557448623676257\n",
      "R2 score correspond to random state  172 is 0.6168998626920705\n",
      "R2 score correspond to random state  173 is 0.4533986514846262\n",
      "R2 score correspond to random state  173 is 0.42798546873785326\n",
      "R2 score correspond to random state  173 is 0.5412802804738572\n",
      "R2 score correspond to random state  173 is 0.4696822525684885\n",
      "R2 score correspond to random state  173 is 0.6318854065190149\n",
      "R2 score correspond to random state  174 is 0.42359521853721926\n",
      "R2 score correspond to random state  174 is 0.48004478676931406\n",
      "R2 score correspond to random state  174 is 0.6084148908430342\n",
      "R2 score correspond to random state  174 is 0.542407390809057\n",
      "R2 score correspond to random state  174 is 0.66712622676359\n",
      "R2 score correspond to random state  175 is 0.30575753215444335\n",
      "R2 score correspond to random state  175 is 0.44751334314957736\n",
      "R2 score correspond to random state  175 is 0.4877026404299102\n",
      "R2 score correspond to random state  175 is 0.44850420922007705\n",
      "R2 score correspond to random state  175 is 0.5564956216720671\n",
      "R2 score correspond to random state  176 is 0.35038510706141224\n",
      "R2 score correspond to random state  176 is 0.42555009472890915\n",
      "R2 score correspond to random state  176 is 0.5355829167472699\n",
      "R2 score correspond to random state  176 is 0.4827653138885415\n",
      "R2 score correspond to random state  176 is 0.609377977602249\n",
      "R2 score correspond to random state  177 is 0.38288145060595236\n",
      "R2 score correspond to random state  177 is 0.46801657485244996\n",
      "R2 score correspond to random state  177 is 0.5510180269355103\n",
      "R2 score correspond to random state  177 is 0.4633062067820861\n",
      "R2 score correspond to random state  177 is 0.5953263919864343\n",
      "R2 score correspond to random state  178 is 0.3490743568464755\n",
      "R2 score correspond to random state  178 is 0.33508213992091906\n",
      "R2 score correspond to random state  178 is 0.5119458368864447\n",
      "R2 score correspond to random state  178 is 0.4222970593938219\n",
      "R2 score correspond to random state  178 is 0.5953275685515464\n",
      "R2 score correspond to random state  179 is 0.45643128964081303\n",
      "R2 score correspond to random state  179 is 0.4480595949658672\n",
      "R2 score correspond to random state  179 is 0.4864206398006652\n",
      "R2 score correspond to random state  179 is 0.46484246870520685\n",
      "R2 score correspond to random state  179 is 0.5542177456528603\n",
      "R2 score correspond to random state  180 is 0.32286276556711524\n",
      "R2 score correspond to random state  180 is 0.4432264101640857\n",
      "R2 score correspond to random state  180 is 0.5368680192675186\n",
      "R2 score correspond to random state  180 is 0.48514140177577114\n",
      "R2 score correspond to random state  180 is 0.6057549167845577\n",
      "R2 score correspond to random state  181 is 0.22978631402413008\n",
      "R2 score correspond to random state  181 is 0.39312842804832904\n",
      "R2 score correspond to random state  181 is 0.47597429502914934\n",
      "R2 score correspond to random state  181 is 0.40014571370527796\n",
      "R2 score correspond to random state  181 is 0.5388039881361234\n",
      "R2 score correspond to random state  182 is 0.2837929600365129\n",
      "R2 score correspond to random state  182 is 0.35823984614118765\n",
      "R2 score correspond to random state  182 is 0.48722713091644654\n",
      "R2 score correspond to random state  182 is 0.3961684509316189\n",
      "R2 score correspond to random state  182 is 0.5453283776131967\n",
      "R2 score correspond to random state  183 is 0.36524996480921945\n",
      "R2 score correspond to random state  183 is 0.4451769114065971\n",
      "R2 score correspond to random state  183 is 0.5721510217654457\n",
      "R2 score correspond to random state  183 is 0.5558176190060675\n",
      "R2 score correspond to random state  183 is 0.6170613466219212\n",
      "R2 score correspond to random state  184 is 0.2918323494036327\n",
      "R2 score correspond to random state  184 is 0.399230730740019\n",
      "R2 score correspond to random state  184 is 0.4930580863600581\n",
      "R2 score correspond to random state  184 is 0.37733308484619477\n",
      "R2 score correspond to random state  184 is 0.578965175291946\n",
      "R2 score correspond to random state  185 is 0.23712428382616368\n",
      "R2 score correspond to random state  185 is 0.3695573081076847\n",
      "R2 score correspond to random state  185 is 0.4917126410658996\n",
      "R2 score correspond to random state  185 is 0.4358675529910787\n",
      "R2 score correspond to random state  185 is 0.5617783187743957\n",
      "R2 score correspond to random state  186 is 0.37452103389308977\n",
      "R2 score correspond to random state  186 is 0.47007744988292266\n",
      "R2 score correspond to random state  186 is 0.5258422006402104\n",
      "R2 score correspond to random state  186 is 0.45853750983341224\n",
      "R2 score correspond to random state  186 is 0.5545517862499842\n",
      "R2 score correspond to random state  187 is 0.2506434942838124\n",
      "R2 score correspond to random state  187 is 0.43926769861988435\n",
      "R2 score correspond to random state  187 is 0.5100474893450706\n",
      "R2 score correspond to random state  187 is 0.4514297787318391\n"
     ]
    },
    {
     "name": "stdout",
     "output_type": "stream",
     "text": [
      "R2 score correspond to random state  187 is 0.5926661663118806\n",
      "R2 score correspond to random state  188 is 0.34657184276139974\n",
      "R2 score correspond to random state  188 is 0.35613255820028944\n",
      "R2 score correspond to random state  188 is 0.5396207488638769\n",
      "R2 score correspond to random state  188 is 0.45435331884354724\n",
      "R2 score correspond to random state  188 is 0.5731746519725168\n",
      "R2 score correspond to random state  189 is 0.46030036584897194\n",
      "R2 score correspond to random state  189 is 0.4407257651113151\n",
      "R2 score correspond to random state  189 is 0.5431810932556844\n",
      "R2 score correspond to random state  189 is 0.46522219245102325\n",
      "R2 score correspond to random state  189 is 0.5994872871611094\n",
      "R2 score correspond to random state  190 is 0.33910472690030125\n",
      "R2 score correspond to random state  190 is 0.3949327089147212\n",
      "R2 score correspond to random state  190 is 0.5169093585648239\n",
      "R2 score correspond to random state  190 is 0.4257198744203078\n",
      "R2 score correspond to random state  190 is 0.5440999171166739\n",
      "R2 score correspond to random state  191 is 0.34999533667721183\n",
      "R2 score correspond to random state  191 is 0.41761819197211636\n",
      "R2 score correspond to random state  191 is 0.5126444364435487\n",
      "R2 score correspond to random state  191 is 0.4691607874589633\n",
      "R2 score correspond to random state  191 is 0.5891731156575897\n",
      "R2 score correspond to random state  192 is 0.3290238336061879\n",
      "R2 score correspond to random state  192 is 0.4526320990047975\n",
      "R2 score correspond to random state  192 is 0.5299508730636395\n",
      "R2 score correspond to random state  192 is 0.47737056171815806\n",
      "R2 score correspond to random state  192 is 0.5668181497474525\n",
      "R2 score correspond to random state  193 is 0.34136753360139094\n",
      "R2 score correspond to random state  193 is 0.4234298389310879\n",
      "R2 score correspond to random state  193 is 0.5345740946131164\n",
      "R2 score correspond to random state  193 is 0.47211447503325443\n",
      "R2 score correspond to random state  193 is 0.5904489929286634\n",
      "R2 score correspond to random state  194 is 0.4126545270356139\n",
      "R2 score correspond to random state  194 is 0.4771090518839717\n",
      "R2 score correspond to random state  194 is 0.559186656658921\n",
      "R2 score correspond to random state  194 is 0.49403057308777276\n",
      "R2 score correspond to random state  194 is 0.6211928453746468\n",
      "R2 score correspond to random state  195 is 0.1505464385691102\n",
      "R2 score correspond to random state  195 is 0.27851708677786247\n",
      "R2 score correspond to random state  195 is 0.4891665788040884\n",
      "R2 score correspond to random state  195 is 0.4113705851926688\n",
      "R2 score correspond to random state  195 is 0.5430130016269313\n",
      "R2 score correspond to random state  196 is 0.4241743869876169\n",
      "R2 score correspond to random state  196 is 0.3812301012727254\n",
      "R2 score correspond to random state  196 is 0.540262788042174\n",
      "R2 score correspond to random state  196 is 0.467770647408293\n",
      "R2 score correspond to random state  196 is 0.614104570312856\n",
      "R2 score correspond to random state  197 is 0.44098564281843966\n",
      "R2 score correspond to random state  197 is 0.4516462659539372\n",
      "R2 score correspond to random state  197 is 0.5886923328039979\n",
      "R2 score correspond to random state  197 is 0.5238057166174075\n",
      "R2 score correspond to random state  197 is 0.6454739904950919\n",
      "R2 score correspond to random state  198 is 0.458831451015846\n",
      "R2 score correspond to random state  198 is 0.4148210824890618\n",
      "R2 score correspond to random state  198 is 0.5469337742110112\n",
      "R2 score correspond to random state  198 is 0.46846723377996535\n",
      "R2 score correspond to random state  198 is 0.624211478216901\n",
      "R2 score correspond to random state  199 is 0.29709182925810207\n",
      "R2 score correspond to random state  199 is 0.43178469526672403\n",
      "R2 score correspond to random state  199 is 0.5188330447015119\n",
      "R2 score correspond to random state  199 is 0.4533462616841566\n",
      "R2 score correspond to random state  199 is 0.5710683861398294\n",
      "\n",
      "\n",
      "\n",
      "\n",
      "max R2 score correspond to random state  174 is 0.66712622676359 and model is GradientBoostingRegressor()\n"
     ]
    }
   ],
   "source": [
    "#Now by using multiple Algorithms we are calculating the best Algo which suit best for our data set \n",
    "\n",
    "model = [DecisionTreeRegressor(),KNeighborsRegressor(),AdaBoostRegressor(),LinearRegression(),GradientBoostingRegressor()]\n",
    "max_r2_score = 0\n",
    "for r_state in range(0,200):\n",
    "    train_x,test_x,train_y,test_y = train_test_split(x,y,random_state = r_state,test_size = 0.33)\n",
    "    for i in model:\n",
    "        i.fit(train_x,train_y)\n",
    "        pre = i.predict(test_x)\n",
    "        r2_sc = r2_score(test_y,pre)\n",
    "        print(\"R2 score correspond to random state \" ,r_state ,\"is\", r2_sc)\n",
    "        if r2_sc> max_r2_score:\n",
    "            max_r2_score=r2_sc\n",
    "            final_state = r_state\n",
    "            final_model = i\n",
    "            \n",
    "print()\n",
    "print()\n",
    "print()\n",
    "print()\n",
    "print(\"max R2 score correspond to random state \" ,final_state , \"is\" , max_r2_score ,\"and model is\",final_model)"
   ]
  },
  {
   "cell_type": "code",
   "execution_count": 65,
   "id": "ecfd2229",
   "metadata": {},
   "outputs": [],
   "source": [
    "from sklearn import datasets\n",
    "from sklearn.preprocessing import StandardScaler\n",
    "from sklearn.model_selection import train_test_split\n",
    "from sklearn.pipeline import make_pipeline\n",
    "from sklearn.ensemble import GradientBoostingRegressor\n",
    "from sklearn.decomposition import PCA\n",
    "from sklearn.metrics import mean_squared_error"
   ]
  },
  {
   "cell_type": "code",
   "execution_count": 66,
   "id": "d31b006f",
   "metadata": {},
   "outputs": [],
   "source": [
    "# Create Training and Test Split\n",
    "X_train, X_test, y_train, y_test = train_test_split(x, y, random_state=174, test_size=0.2)"
   ]
  },
  {
   "cell_type": "code",
   "execution_count": 67,
   "id": "30a69291",
   "metadata": {},
   "outputs": [],
   "source": [
    "# Standardize the dataset\n",
    "sc = StandardScaler()\n",
    "X_train_std = sc.fit_transform(X_train)\n",
    "X_test_std = sc.transform(X_test)"
   ]
  },
  {
   "cell_type": "code",
   "execution_count": 68,
   "id": "b798ddd3",
   "metadata": {},
   "outputs": [],
   "source": [
    "# Hyperparameters for GradientBoostingRegressor\n",
    "gbr_params = {'n_estimators': 1000,\n",
    "          'max_depth': 3,\n",
    "          'min_samples_split': 5,\n",
    "          'learning_rate': 0.01,\n",
    "          'loss': 'ls'}"
   ]
  },
  {
   "cell_type": "code",
   "execution_count": 69,
   "id": "9e1812be",
   "metadata": {},
   "outputs": [
    {
     "data": {
      "text/html": [
       "<style>#sk-container-id-1 {color: black;background-color: white;}#sk-container-id-1 pre{padding: 0;}#sk-container-id-1 div.sk-toggleable {background-color: white;}#sk-container-id-1 label.sk-toggleable__label {cursor: pointer;display: block;width: 100%;margin-bottom: 0;padding: 0.3em;box-sizing: border-box;text-align: center;}#sk-container-id-1 label.sk-toggleable__label-arrow:before {content: \"▸\";float: left;margin-right: 0.25em;color: #696969;}#sk-container-id-1 label.sk-toggleable__label-arrow:hover:before {color: black;}#sk-container-id-1 div.sk-estimator:hover label.sk-toggleable__label-arrow:before {color: black;}#sk-container-id-1 div.sk-toggleable__content {max-height: 0;max-width: 0;overflow: hidden;text-align: left;background-color: #f0f8ff;}#sk-container-id-1 div.sk-toggleable__content pre {margin: 0.2em;color: black;border-radius: 0.25em;background-color: #f0f8ff;}#sk-container-id-1 input.sk-toggleable__control:checked~div.sk-toggleable__content {max-height: 200px;max-width: 100%;overflow: auto;}#sk-container-id-1 input.sk-toggleable__control:checked~label.sk-toggleable__label-arrow:before {content: \"▾\";}#sk-container-id-1 div.sk-estimator input.sk-toggleable__control:checked~label.sk-toggleable__label {background-color: #d4ebff;}#sk-container-id-1 div.sk-label input.sk-toggleable__control:checked~label.sk-toggleable__label {background-color: #d4ebff;}#sk-container-id-1 input.sk-hidden--visually {border: 0;clip: rect(1px 1px 1px 1px);clip: rect(1px, 1px, 1px, 1px);height: 1px;margin: -1px;overflow: hidden;padding: 0;position: absolute;width: 1px;}#sk-container-id-1 div.sk-estimator {font-family: monospace;background-color: #f0f8ff;border: 1px dotted black;border-radius: 0.25em;box-sizing: border-box;margin-bottom: 0.5em;}#sk-container-id-1 div.sk-estimator:hover {background-color: #d4ebff;}#sk-container-id-1 div.sk-parallel-item::after {content: \"\";width: 100%;border-bottom: 1px solid gray;flex-grow: 1;}#sk-container-id-1 div.sk-label:hover label.sk-toggleable__label {background-color: #d4ebff;}#sk-container-id-1 div.sk-serial::before {content: \"\";position: absolute;border-left: 1px solid gray;box-sizing: border-box;top: 0;bottom: 0;left: 50%;z-index: 0;}#sk-container-id-1 div.sk-serial {display: flex;flex-direction: column;align-items: center;background-color: white;padding-right: 0.2em;padding-left: 0.2em;position: relative;}#sk-container-id-1 div.sk-item {position: relative;z-index: 1;}#sk-container-id-1 div.sk-parallel {display: flex;align-items: stretch;justify-content: center;background-color: white;position: relative;}#sk-container-id-1 div.sk-item::before, #sk-container-id-1 div.sk-parallel-item::before {content: \"\";position: absolute;border-left: 1px solid gray;box-sizing: border-box;top: 0;bottom: 0;left: 50%;z-index: -1;}#sk-container-id-1 div.sk-parallel-item {display: flex;flex-direction: column;z-index: 1;position: relative;background-color: white;}#sk-container-id-1 div.sk-parallel-item:first-child::after {align-self: flex-end;width: 50%;}#sk-container-id-1 div.sk-parallel-item:last-child::after {align-self: flex-start;width: 50%;}#sk-container-id-1 div.sk-parallel-item:only-child::after {width: 0;}#sk-container-id-1 div.sk-dashed-wrapped {border: 1px dashed gray;margin: 0 0.4em 0.5em 0.4em;box-sizing: border-box;padding-bottom: 0.4em;background-color: white;}#sk-container-id-1 div.sk-label label {font-family: monospace;font-weight: bold;display: inline-block;line-height: 1.2em;}#sk-container-id-1 div.sk-label-container {text-align: center;}#sk-container-id-1 div.sk-container {/* jupyter's `normalize.less` sets `[hidden] { display: none; }` but bootstrap.min.css set `[hidden] { display: none !important; }` so we also need the `!important` here to be able to override the default hidden behavior on the sphinx rendered scikit-learn.org. See: https://github.com/scikit-learn/scikit-learn/issues/21755 */display: inline-block !important;position: relative;}#sk-container-id-1 div.sk-text-repr-fallback {display: none;}</style><div id=\"sk-container-id-1\" class=\"sk-top-container\"><div class=\"sk-text-repr-fallback\"><pre>GradientBoostingRegressor(learning_rate=0.01, loss=&#x27;ls&#x27;, min_samples_split=5,\n",
       "                          n_estimators=1000)</pre><b>In a Jupyter environment, please rerun this cell to show the HTML representation or trust the notebook. <br />On GitHub, the HTML representation is unable to render, please try loading this page with nbviewer.org.</b></div><div class=\"sk-container\" hidden><div class=\"sk-item\"><div class=\"sk-estimator sk-toggleable\"><input class=\"sk-toggleable__control sk-hidden--visually\" id=\"sk-estimator-id-1\" type=\"checkbox\" checked><label for=\"sk-estimator-id-1\" class=\"sk-toggleable__label sk-toggleable__label-arrow\">GradientBoostingRegressor</label><div class=\"sk-toggleable__content\"><pre>GradientBoostingRegressor(learning_rate=0.01, loss=&#x27;ls&#x27;, min_samples_split=5,\n",
       "                          n_estimators=1000)</pre></div></div></div></div></div>"
      ],
      "text/plain": [
       "GradientBoostingRegressor(learning_rate=0.01, loss='ls', min_samples_split=5,\n",
       "                          n_estimators=1000)"
      ]
     },
     "execution_count": 69,
     "metadata": {},
     "output_type": "execute_result"
    }
   ],
   "source": [
    "# Create an instance of gradient boosting regressor\n",
    "gbr = GradientBoostingRegressor(**gbr_params)\n",
    "\n",
    "# Fit the model\n",
    "gbr.fit(X_train_std, y_train)"
   ]
  },
  {
   "cell_type": "code",
   "execution_count": 70,
   "id": "537f9ec0",
   "metadata": {},
   "outputs": [
    {
     "name": "stdout",
     "output_type": "stream",
     "text": [
      "Model Accuracy: 0.718\n",
      "The mean squared error (MSE) on test set: 1.1807\n"
     ]
    }
   ],
   "source": [
    "# Print Coefficient of determination R^2\n",
    "\n",
    "print(\"Model Accuracy: %.3f\" % gbr.score(X_test_std, y_test))\n",
    "\n",
    "# Create the mean squared error\n",
    "\n",
    "mse = mean_squared_error(y_test, gbr.predict(X_test_std))\n",
    "print(\"The mean squared error (MSE) on test set: {:.4f}\".format(mse))"
   ]
  },
  {
   "cell_type": "code",
   "execution_count": 100,
   "id": "7c6fe77e",
   "metadata": {},
   "outputs": [
    {
     "data": {
      "image/png": "[encoded data removed]",
      "text/plain": [
       "<Figure size 576x576 with 1 Axes>"
      ]
     },
     "metadata": {
      "needs_background": "light"
     },
     "output_type": "display_data"
    }
   ],
   "source": [
    "test_score = np.zeros((gbr_params['n_estimators'],), dtype=np.float64)\n",
    "for i, y_pred in enumerate(gbr.staged_predict(X_test_std)):\n",
    "    test_score[i] = gbr.loss_(y_test['capacity_mw'] , y_pred)\n",
    "\n",
    "fig = plt.figure(figsize=(8, 8))\n",
    "plt.subplot(1, 1, 1)\n",
    "plt.title('Deviance')\n",
    "plt.plot(np.arange(gbr_params['n_estimators']) + 1, gbr.train_score_, 'b-',label='Training Set Deviance')\n",
    "plt.plot(np.arange(gbr_params['n_estimators']) + 1, test_score, 'r-',label='Test Set Deviance')\n",
    "plt.legend(loc='upper right')\n",
    "plt.xlabel('Boosting Iterations')\n",
    "plt.ylabel('Deviance')\n",
    "fig.tight_layout()\n",
    "plt.show()"
   ]
  },
  {
   "cell_type": "code",
   "execution_count": null,
   "id": "0f94b679",
   "metadata": {},
   "outputs": [],
   "source": []
  }
 ],
 "metadata": {
  "kernelspec": {
   "display_name": "Python 3 (ipykernel)",
   "language": "python",
   "name": "python3"
  },
  "language_info": {
   "codemirror_mode": {
    "name": "ipython",
    "version": 3
   },
   "file_extension": ".py",
   "mimetype": "text/x-python",
   "name": "python",
   "nbconvert_exporter": "python",
   "pygments_lexer": "ipython3",
   "version": "3.9.7"
  }
 },
 "nbformat": 4,
 "nbformat_minor": 5
}
